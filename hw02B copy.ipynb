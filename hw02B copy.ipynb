{
 "cells": [
  {
   "cell_type": "code",
   "execution_count": 109,
   "metadata": {
    "deletable": false,
    "editable": false
   },
   "outputs": [],
   "source": [
    "# Initialize Otter\n",
    "import otter\n",
    "grader = otter.Notebook(\"hw02B.ipynb\")"
   ]
  },
  {
   "cell_type": "markdown",
   "metadata": {
    "nbgrader": {
     "grade": false,
     "grade_id": "intro-hw2",
     "locked": true,
     "schema_version": 2,
     "solution": false
    }
   },
   "source": [
    "# Homework 2B: Food Safety (Continued)\n",
    "\n",
    "## Cleaning and Exploring Data with `pandas`\n",
    "\n",
    "## Due Date: Thursday, Sep 14, 11:59 PM\n",
    "You must submit this assignment to Gradescope by the on-time deadline, Thursday, Sep 14, 11:59 PM. Please read the syllabus for the grace period policy. No late submissions beyond the grace period will be accepted. **We strongly encourage you to plan to submit your work to Gradescope several hours before the stated deadline.** This way, you will have ample time to reach out to staff for support if you encounter difficulties with submission. While course staff is happy to help guide you with submitting your assignment ahead of the deadline, we will not respond to last-minute requests for assistance (TAs need to sleep, after all!).\n",
    "\n",
    "Please read the instructions carefully to submit your work to both the coding and written portals of Gradescope.\n",
    "\n",
    "## Collaboration Policy\n",
    "\n",
    "Data science is a collaborative activity. While you may talk with others about the homework, we ask that you **write your solutions individually**. If you do discuss the assignments with others, please **include their names** at the top of your notebook."
   ]
  },
  {
   "cell_type": "markdown",
   "metadata": {},
   "source": [
    "**Collaborators**: *list collaborators here*"
   ]
  },
  {
   "cell_type": "markdown",
   "metadata": {},
   "source": [
    "\n",
    "## This Assignment\n",
    "\n",
    "In this homework, we will continue our exploration of restaurant food safety scores for restaurants in San Francisco. The main goal for this assignment is to focus more on the analysis of the dataset, building on the data cleaning we have done earlier in HW 2A. \n",
    "\n",
    "\n",
    "After this homework, you should be comfortable with:\n",
    "* Reading `pandas` documentation and using `pandas` methods,\n",
    "* Working with data at different levels of granularity,\n",
    "* Using `groupby` with different aggregation functions,\n",
    "* Chaining different `pandas` functions and methods to find answers to exploratory questions.\n",
    "\n",
    "\n",
    "## Score Breakdown \n",
    "Question | Manual | Points\n",
    "--- | --- | ---\n",
    "1a | no | 2\n",
    "1b | no | 3\n",
    "1c | no | 3\n",
    "2a | no | 2\n",
    "2b | no | 3\n",
    "2c | no | 1\n",
    "2d | no | 1\n",
    "3a | no | 1\n",
    "3b | no | 2\n",
    "3c | yes | 3\n",
    "3d | no | 3\n",
    "3e | yes | 3\n",
    "4 | no | 3\n",
    "Total | 2 | 30\n"
   ]
  },
  {
   "cell_type": "markdown",
   "metadata": {},
   "source": [
    "## Before You Start\n",
    "\n",
    "For each question in the assignment, please write down your answer in the answer cell(s) right below the question. \n",
    "\n",
    "We understand that it is helpful to have extra cells breaking down the process towards reaching your final answer. If you happen to create new cells below your answer to run code, **NEVER** add cells between a question cell and the answer cell below it. It will cause errors when we run the autograder, and it will sometimes cause a failure to generate the PDF file.\n",
    "\n",
    "**Important note: The local autograder tests will not be comprehensive. You can pass the automated tests in your notebook but still fail tests in the autograder.** Please be sure to check your results carefully.\n",
    "\n",
    "Finally, unless we state otherwise, **do not use for loops or list comprehensions**. The majority of this assignment can be done using built-in commands in `pandas` and `NumPy`.  Our autograder isn't smart enough to check, but you're depriving yourself of key learning objectives if you write loops / comprehensions, and you also won't be ready for the midterm.\n"
   ]
  },
  {
   "cell_type": "code",
   "execution_count": 110,
   "metadata": {
    "nbgrader": {
     "grade": false,
     "grade_id": "import",
     "locked": true,
     "schema_version": 2,
     "solution": false
    }
   },
   "outputs": [],
   "source": [
    "import numpy as np\n",
    "import pandas as pd"
   ]
  },
  {
   "cell_type": "markdown",
   "metadata": {},
   "source": [
    "<hr style=\"border: 5px solid #003262;\" />\n",
    "<hr style=\"border: 1px solid #fdb515;\" />"
   ]
  },
  {
   "cell_type": "markdown",
   "metadata": {},
   "source": [
    "In HW 2A, we took you through the entire process of reading data from a file to perform some exploration of the data. Here, we again load the dataset that we will be using in HW 2B along with some of the columns we had added in HW 2A. For any additional context regarding the dataset, feel free to revisit HW 2A."
   ]
  },
  {
   "cell_type": "code",
   "execution_count": 111,
   "metadata": {},
   "outputs": [],
   "source": [
    "bus = pd.read_csv('data/bus.csv', encoding='ISO-8859-1').rename(columns={\"business id column\": \"bid\"})\n",
    "bus['postal5'] = bus['postal_code'].str[:5]\n",
    "ins = pd.read_csv('data/ins.csv')\n",
    "ins['timestamp'] = pd.to_datetime(ins['date'], format='%m/%d/%Y %I:%M:%S %p')\n",
    "ins['bid'] = ins['iid'].str.split(\"_\", expand=True)[0].astype(int) \n",
    "\n",
    "# This code is essential for the autograder to function properly. Do not edit.\n",
    "ins_test = ins"
   ]
  },
  {
   "cell_type": "markdown",
   "metadata": {
    "nbgrader": {
     "grade": false,
     "grade_id": "business-data",
     "locked": true,
     "schema_version": 2,
     "solution": false
    },
    "tags": []
   },
   "source": [
    "<br/><br/>\n",
    "\n",
    "---\n",
    "\n",
    "\n",
    "# Question 1: Inspecting the Inspections\n",
    "\n",
    "\n",
    "## Question 1a"
   ]
  },
  {
   "cell_type": "markdown",
   "metadata": {
    "deletable": false,
    "editable": false,
    "nbgrader": {
     "grade": false,
     "grade_id": "cell-174ed23c543ad9da",
     "locked": true,
     "schema_version": 2,
     "solution": false
    }
   },
   "source": [
    "Let's start by looking again at the first 5 rows of `ins` to see what we're working with."
   ]
  },
  {
   "cell_type": "code",
   "execution_count": 112,
   "metadata": {
    "deletable": false,
    "editable": false,
    "nbgrader": {
     "grade": false,
     "grade_id": "cell-f0fbe724a2783e33",
     "locked": true,
     "schema_version": 2,
     "solution": false
    }
   },
   "outputs": [
    {
     "data": {
      "text/html": [
       "<div>\n",
       "<style scoped>\n",
       "    .dataframe tbody tr th:only-of-type {\n",
       "        vertical-align: middle;\n",
       "    }\n",
       "\n",
       "    .dataframe tbody tr th {\n",
       "        vertical-align: top;\n",
       "    }\n",
       "\n",
       "    .dataframe thead th {\n",
       "        text-align: right;\n",
       "    }\n",
       "</style>\n",
       "<table border=\"1\" class=\"dataframe\">\n",
       "  <thead>\n",
       "    <tr style=\"text-align: right;\">\n",
       "      <th></th>\n",
       "      <th>iid</th>\n",
       "      <th>date</th>\n",
       "      <th>score</th>\n",
       "      <th>type</th>\n",
       "      <th>timestamp</th>\n",
       "      <th>bid</th>\n",
       "    </tr>\n",
       "  </thead>\n",
       "  <tbody>\n",
       "    <tr>\n",
       "      <th>0</th>\n",
       "      <td>100010_20190329</td>\n",
       "      <td>03/29/2019 12:00:00 AM</td>\n",
       "      <td>-1</td>\n",
       "      <td>New Construction</td>\n",
       "      <td>2019-03-29</td>\n",
       "      <td>100010</td>\n",
       "    </tr>\n",
       "    <tr>\n",
       "      <th>1</th>\n",
       "      <td>100010_20190403</td>\n",
       "      <td>04/03/2019 12:00:00 AM</td>\n",
       "      <td>100</td>\n",
       "      <td>Routine - Unscheduled</td>\n",
       "      <td>2019-04-03</td>\n",
       "      <td>100010</td>\n",
       "    </tr>\n",
       "    <tr>\n",
       "      <th>2</th>\n",
       "      <td>100017_20190417</td>\n",
       "      <td>04/17/2019 12:00:00 AM</td>\n",
       "      <td>-1</td>\n",
       "      <td>New Ownership</td>\n",
       "      <td>2019-04-17</td>\n",
       "      <td>100017</td>\n",
       "    </tr>\n",
       "    <tr>\n",
       "      <th>3</th>\n",
       "      <td>100017_20190816</td>\n",
       "      <td>08/16/2019 12:00:00 AM</td>\n",
       "      <td>91</td>\n",
       "      <td>Routine - Unscheduled</td>\n",
       "      <td>2019-08-16</td>\n",
       "      <td>100017</td>\n",
       "    </tr>\n",
       "    <tr>\n",
       "      <th>4</th>\n",
       "      <td>100017_20190826</td>\n",
       "      <td>08/26/2019 12:00:00 AM</td>\n",
       "      <td>-1</td>\n",
       "      <td>Reinspection/Followup</td>\n",
       "      <td>2019-08-26</td>\n",
       "      <td>100017</td>\n",
       "    </tr>\n",
       "  </tbody>\n",
       "</table>\n",
       "</div>"
      ],
      "text/plain": [
       "               iid                    date  score                   type  \\\n",
       "0  100010_20190329  03/29/2019 12:00:00 AM     -1       New Construction   \n",
       "1  100010_20190403  04/03/2019 12:00:00 AM    100  Routine - Unscheduled   \n",
       "2  100017_20190417  04/17/2019 12:00:00 AM     -1          New Ownership   \n",
       "3  100017_20190816  08/16/2019 12:00:00 AM     91  Routine - Unscheduled   \n",
       "4  100017_20190826  08/26/2019 12:00:00 AM     -1  Reinspection/Followup   \n",
       "\n",
       "   timestamp     bid  \n",
       "0 2019-03-29  100010  \n",
       "1 2019-04-03  100010  \n",
       "2 2019-04-17  100017  \n",
       "3 2019-08-16  100017  \n",
       "4 2019-08-26  100017  "
      ]
     },
     "execution_count": 112,
     "metadata": {},
     "output_type": "execute_result"
    }
   ],
   "source": [
    "ins.head(5)"
   ]
  },
  {
   "cell_type": "markdown",
   "metadata": {
    "deletable": false,
    "editable": false
   },
   "source": [
    "To better understand how the scores have been allocated, examine how the maximum score varies for each type of inspection. Create a `DataFrame` object `ins_score_by_type`, indexed by all the inspection types (e.g., New Construction, Routine - Unscheduled, etc.), with a single column named `max_score` containing the highest score received. You may find `pd.rename()` to be useful!"
   ]
  },
  {
   "cell_type": "code",
   "execution_count": 113,
   "metadata": {
    "tags": []
   },
   "outputs": [
    {
     "data": {
      "text/html": [
       "<div>\n",
       "<style scoped>\n",
       "    .dataframe tbody tr th:only-of-type {\n",
       "        vertical-align: middle;\n",
       "    }\n",
       "\n",
       "    .dataframe tbody tr th {\n",
       "        vertical-align: top;\n",
       "    }\n",
       "\n",
       "    .dataframe thead th {\n",
       "        text-align: right;\n",
       "    }\n",
       "</style>\n",
       "<table border=\"1\" class=\"dataframe\">\n",
       "  <thead>\n",
       "    <tr style=\"text-align: right;\">\n",
       "      <th></th>\n",
       "      <th>max_score</th>\n",
       "    </tr>\n",
       "    <tr>\n",
       "      <th>type</th>\n",
       "      <th></th>\n",
       "    </tr>\n",
       "  </thead>\n",
       "  <tbody>\n",
       "    <tr>\n",
       "      <th>Administrative or Document Review</th>\n",
       "      <td>-1</td>\n",
       "    </tr>\n",
       "    <tr>\n",
       "      <th>Community Health Assessment</th>\n",
       "      <td>-1</td>\n",
       "    </tr>\n",
       "    <tr>\n",
       "      <th>Complaint</th>\n",
       "      <td>-1</td>\n",
       "    </tr>\n",
       "    <tr>\n",
       "      <th>Complaint Reinspection/Followup</th>\n",
       "      <td>-1</td>\n",
       "    </tr>\n",
       "    <tr>\n",
       "      <th>Foodborne Illness Investigation</th>\n",
       "      <td>-1</td>\n",
       "    </tr>\n",
       "    <tr>\n",
       "      <th>Multi-agency Investigation</th>\n",
       "      <td>-1</td>\n",
       "    </tr>\n",
       "    <tr>\n",
       "      <th>New Construction</th>\n",
       "      <td>-1</td>\n",
       "    </tr>\n",
       "    <tr>\n",
       "      <th>New Ownership</th>\n",
       "      <td>-1</td>\n",
       "    </tr>\n",
       "    <tr>\n",
       "      <th>New Ownership - Followup</th>\n",
       "      <td>-1</td>\n",
       "    </tr>\n",
       "    <tr>\n",
       "      <th>Non-inspection site visit</th>\n",
       "      <td>-1</td>\n",
       "    </tr>\n",
       "    <tr>\n",
       "      <th>Reinspection/Followup</th>\n",
       "      <td>-1</td>\n",
       "    </tr>\n",
       "    <tr>\n",
       "      <th>Routine - Scheduled</th>\n",
       "      <td>-1</td>\n",
       "    </tr>\n",
       "    <tr>\n",
       "      <th>Routine - Unscheduled</th>\n",
       "      <td>100</td>\n",
       "    </tr>\n",
       "    <tr>\n",
       "      <th>Special Event</th>\n",
       "      <td>-1</td>\n",
       "    </tr>\n",
       "    <tr>\n",
       "      <th>Structural Inspection</th>\n",
       "      <td>-1</td>\n",
       "    </tr>\n",
       "  </tbody>\n",
       "</table>\n",
       "</div>"
      ],
      "text/plain": [
       "                                   max_score\n",
       "type                                        \n",
       "Administrative or Document Review         -1\n",
       "Community Health Assessment               -1\n",
       "Complaint                                 -1\n",
       "Complaint Reinspection/Followup           -1\n",
       "Foodborne Illness Investigation           -1\n",
       "Multi-agency Investigation                -1\n",
       "New Construction                          -1\n",
       "New Ownership                             -1\n",
       "New Ownership - Followup                  -1\n",
       "Non-inspection site visit                 -1\n",
       "Reinspection/Followup                     -1\n",
       "Routine - Scheduled                       -1\n",
       "Routine - Unscheduled                    100\n",
       "Special Event                             -1\n",
       "Structural Inspection                     -1"
      ]
     },
     "execution_count": 113,
     "metadata": {},
     "output_type": "execute_result"
    }
   ],
   "source": [
    "max_score_table = ins.groupby(\"type\")['score'].max().reset_index()\n",
    "ins_score_by_type = max_score_table.rename(columns={'score': 'max_score'})\n",
    "ins_score_by_type = ins_score_by_type.set_index(['type'])\n",
    "ins_score_by_type"
   ]
  },
  {
   "cell_type": "code",
   "execution_count": 114,
   "metadata": {
    "deletable": false,
    "editable": false
   },
   "outputs": [
    {
     "data": {
      "text/html": [
       "<p><strong><pre style='display: inline;'>q1a</pre></strong> passed! 🌟</p>"
      ],
      "text/plain": [
       "q1a results: All test cases passed!"
      ]
     },
     "execution_count": 114,
     "metadata": {},
     "output_type": "execute_result"
    }
   ],
   "source": [
    "grader.check(\"q1a\")"
   ]
  },
  {
   "cell_type": "markdown",
   "metadata": {
    "deletable": false,
    "editable": false
   },
   "source": [
    "<br/>\n",
    "\n",
    "---\n",
    "\n",
    "## Question 1b\n"
   ]
  },
  {
   "cell_type": "markdown",
   "metadata": {
    "deletable": false,
    "editable": false
   },
   "source": [
    "Given the variability of `ins['score']` observed in 1.a, let's examine the inspection scores `ins['score']` further."
   ]
  },
  {
   "cell_type": "code",
   "execution_count": 115,
   "metadata": {
    "deletable": false,
    "editable": false
   },
   "outputs": [
    {
     "data": {
      "text/plain": [
       "score\n",
       "-1      12632\n",
       " 100     1993\n",
       " 96      1681\n",
       " 92      1260\n",
       " 94      1250\n",
       "Name: count, dtype: int64"
      ]
     },
     "execution_count": 115,
     "metadata": {},
     "output_type": "execute_result"
    }
   ],
   "source": [
    "ins['score'].value_counts().head()"
   ]
  },
  {
   "cell_type": "markdown",
   "metadata": {
    "deletable": false,
    "editable": false
   },
   "source": [
    "There are a large number of inspections with a `score` of `-1`. These are probably missing values. Let's see what types of inspections have scores and which do not (score of -1).  We have defined for you a new column `'Missing Score'` that shows `True` if the score for that business is `-1` to help you out with the analysis. \n",
    "\n",
    "Use `.groupby` to find out the number of scores that every combination of `type` and `Missing Score` can take on. The result should be a **`DataFrame`** that should look **exactly** as shown below:\n",
    "\n",
    "<center> <img src=\"pics/1b.png\" width=\"400\"/> \n"
   ]
  },
  {
   "cell_type": "code",
   "execution_count": 116,
   "metadata": {
    "tags": []
   },
   "outputs": [
    {
     "data": {
      "text/html": [
       "<div>\n",
       "<style scoped>\n",
       "    .dataframe tbody tr th:only-of-type {\n",
       "        vertical-align: middle;\n",
       "    }\n",
       "\n",
       "    .dataframe tbody tr th {\n",
       "        vertical-align: top;\n",
       "    }\n",
       "\n",
       "    .dataframe thead th {\n",
       "        text-align: right;\n",
       "    }\n",
       "</style>\n",
       "<table border=\"1\" class=\"dataframe\">\n",
       "  <thead>\n",
       "    <tr style=\"text-align: right;\">\n",
       "      <th></th>\n",
       "      <th></th>\n",
       "      <th>Count</th>\n",
       "    </tr>\n",
       "    <tr>\n",
       "      <th>type</th>\n",
       "      <th>Missing Score</th>\n",
       "      <th></th>\n",
       "    </tr>\n",
       "  </thead>\n",
       "  <tbody>\n",
       "    <tr>\n",
       "      <th>Administrative or Document Review</th>\n",
       "      <th>True</th>\n",
       "      <td>4</td>\n",
       "    </tr>\n",
       "    <tr>\n",
       "      <th>Community Health Assessment</th>\n",
       "      <th>True</th>\n",
       "      <td>1</td>\n",
       "    </tr>\n",
       "    <tr>\n",
       "      <th>Complaint</th>\n",
       "      <th>True</th>\n",
       "      <td>1458</td>\n",
       "    </tr>\n",
       "    <tr>\n",
       "      <th>Complaint Reinspection/Followup</th>\n",
       "      <th>True</th>\n",
       "      <td>227</td>\n",
       "    </tr>\n",
       "    <tr>\n",
       "      <th>Foodborne Illness Investigation</th>\n",
       "      <th>True</th>\n",
       "      <td>115</td>\n",
       "    </tr>\n",
       "    <tr>\n",
       "      <th>Multi-agency Investigation</th>\n",
       "      <th>True</th>\n",
       "      <td>3</td>\n",
       "    </tr>\n",
       "    <tr>\n",
       "      <th>New Construction</th>\n",
       "      <th>True</th>\n",
       "      <td>994</td>\n",
       "    </tr>\n",
       "    <tr>\n",
       "      <th>New Ownership</th>\n",
       "      <th>True</th>\n",
       "      <td>1592</td>\n",
       "    </tr>\n",
       "    <tr>\n",
       "      <th>New Ownership - Followup</th>\n",
       "      <th>True</th>\n",
       "      <td>499</td>\n",
       "    </tr>\n",
       "    <tr>\n",
       "      <th>Non-inspection site visit</th>\n",
       "      <th>True</th>\n",
       "      <td>811</td>\n",
       "    </tr>\n",
       "    <tr>\n",
       "      <th>Reinspection/Followup</th>\n",
       "      <th>True</th>\n",
       "      <td>6439</td>\n",
       "    </tr>\n",
       "    <tr>\n",
       "      <th>Routine - Scheduled</th>\n",
       "      <th>True</th>\n",
       "      <td>46</td>\n",
       "    </tr>\n",
       "    <tr>\n",
       "      <th rowspan=\"2\" valign=\"top\">Routine - Unscheduled</th>\n",
       "      <th>False</th>\n",
       "      <td>14031</td>\n",
       "    </tr>\n",
       "    <tr>\n",
       "      <th>True</th>\n",
       "      <td>46</td>\n",
       "    </tr>\n",
       "    <tr>\n",
       "      <th>Special Event</th>\n",
       "      <th>True</th>\n",
       "      <td>3</td>\n",
       "    </tr>\n",
       "    <tr>\n",
       "      <th>Structural Inspection</th>\n",
       "      <th>True</th>\n",
       "      <td>394</td>\n",
       "    </tr>\n",
       "  </tbody>\n",
       "</table>\n",
       "</div>"
      ],
      "text/plain": [
       "                                                 Count\n",
       "type                              Missing Score       \n",
       "Administrative or Document Review True               4\n",
       "Community Health Assessment       True               1\n",
       "Complaint                         True            1458\n",
       "Complaint Reinspection/Followup   True             227\n",
       "Foodborne Illness Investigation   True             115\n",
       "Multi-agency Investigation        True               3\n",
       "New Construction                  True             994\n",
       "New Ownership                     True            1592\n",
       "New Ownership - Followup          True             499\n",
       "Non-inspection site visit         True             811\n",
       "Reinspection/Followup             True            6439\n",
       "Routine - Scheduled               True              46\n",
       "Routine - Unscheduled             False          14031\n",
       "                                  True              46\n",
       "Special Event                     True               3\n",
       "Structural Inspection             True             394"
      ]
     },
     "execution_count": 116,
     "metadata": {},
     "output_type": "execute_result"
    }
   ],
   "source": [
    "ins['Missing Score'] = (ins['score'] == -1).astype(\"str\")\n",
    "ins_missing_score_group = (ins.groupby([\"type\", \"Missing Score\"])\n",
    "                           .size()\n",
    "                           .reset_index(name = \"Count\")\n",
    "                           .set_index([\"type\", \"Missing Score\"]))\n",
    "ins_missing_score_group"
   ]
  },
  {
   "cell_type": "code",
   "execution_count": 117,
   "metadata": {
    "deletable": false,
    "editable": false
   },
   "outputs": [
    {
     "data": {
      "text/html": [
       "<p><strong><pre style='display: inline;'>q1b</pre></strong> passed! 🙌</p>"
      ],
      "text/plain": [
       "q1b results: All test cases passed!"
      ]
     },
     "execution_count": 117,
     "metadata": {},
     "output_type": "execute_result"
    }
   ],
   "source": [
    "grader.check(\"q1b\")"
   ]
  },
  {
   "cell_type": "markdown",
   "metadata": {},
   "source": [
    "<br/>\n",
    "\n",
    "---\n",
    "\n",
    "## Question 1c\n"
   ]
  },
  {
   "cell_type": "markdown",
   "metadata": {},
   "source": [
    "Using `groupby` to perform the above analysis gave us a `DataFrame` that wasn't the most readable at first glance. There are better ways to represent the above information that take advantage of the fact that we are looking at combinations of two variables. It's time to pivot (pun intended)!\n",
    "\n",
    "Create the following `DataFrame`, and assign it to to the variable `ins_missing_score_pivot`. You'll want to use the `pivot_table` method of the `DataFrame` class, which you can read about in the pivot_table [documentation](https://pandas.pydata.org/docs/reference/api/pandas.DataFrame.pivot_table.html). Once you create `ins_missing_score_pivot`, add another column titled `'Total'`, which contains the total number of inspections of that `type`. Sort the table by descending order of `'Total'`.\n",
    "\n",
    "**Hint:** Consider what happens if there are no values that correspond to a particular combination of `'Missing Score'` and `'type'`. Looking at the documentation for `pivot_table`, is there any function argument that allows you to specify what value to fill in?\n",
    "\n",
    "If you've done everything right, you should observe that inspection scores appear only to be assigned to `Routine - Unscheduled` inspections and that `ins_missing_score_pivot` looks exactly like below:\n",
    "\n",
    "\n",
    "<table border=\"1\" class=\"dataframe\" >  <thead>    \n",
    "    <tr style=\"text-align: right;\">      <th>Missing Score</th>      <th>False</th>      <th>True</th>      <th>Total</th>    </tr>    <tr align=\"right\">      <th>type</th>      <th></th>      <th></th>      <th></th>    </tr>  </thead>  <tbody>    \n",
    "    <tr  align=\"right\">      <th>Routine - Unscheduled</th>      <td>14031</td>      <td>46</td>      <td>14077</td>    </tr>    \n",
    "    <tr  align=\"right\">      <th>Reinspection/Followup</th>      <td>0</td>      <td>6439</td>      <td>6439</td>    </tr>    \n",
    "    <tr  align=\"right\">      <th>New Ownership</th>      <td>0</td>      <td>1592</td>      <td>1592</td>    </tr>    \n",
    "    <tr  align=\"right\">      <th>Complaint</th>      <td>0</td>      <td>1458</td>      <td>1458</td>    </tr>    \n",
    "    <tr  align=\"right\">      <th>New Construction</th>      <td>0</td>      <td>994</td>      <td>994</td>    </tr>    \n",
    "    <tr  align=\"right\">      <th>Non-inspection site visit</th>      <td>0</td>      <td>811</td>      <td>811</td>    </tr>    \n",
    "    <tr  align=\"right\">      <th>New Ownership - Followup</th>      <td>0</td>      <td>499</td>      <td>499</td>    </tr>    \n",
    "    <tr  align=\"right\">      <th>Structural Inspection</th>      <td>0</td>      <td>394</td>      <td>394</td>    </tr>    \n",
    "    <tr  align=\"right\">      <th>Complaint Reinspection/Followup</th>      <td>0</td>      <td>227</td>      <td>227</td>    </tr>    \n",
    "    <tr  align=\"right\">      <th>Foodborne Illness Investigation</th>      <td>0</td>      <td>115</td>      <td>115</td>    </tr>    \n",
    "    <tr  align=\"right\">      <th>Routine - Scheduled</th>      <td>0</td>      <td>46</td>      <td>46</td>    </tr>    \n",
    "    <tr  align=\"right\">      <th>Administrative or Document Review</th>      <td>0</td>      <td>4</td>      <td>4</td>    </tr>    \n",
    "    <tr  align=\"right\">      <th>Multi-agency Investigation</th>      <td>0</td>      <td>3</td>      <td>3</td>    </tr>    \n",
    "    <tr  align=\"right\">      <th>Special Event</th>      <td>0</td>      <td>3</td>      <td>3</td>    </tr>    \n",
    "    <tr  align=\"right\">      <th>Community Health Assessment</th>      <td>0</td>      <td>1</td>      <td>1</td>    </tr>  </tbody></table>\n"
   ]
  },
  {
   "cell_type": "code",
   "execution_count": 118,
   "metadata": {
    "tags": []
   },
   "outputs": [
    {
     "data": {
      "text/html": [
       "<div>\n",
       "<style scoped>\n",
       "    .dataframe tbody tr th:only-of-type {\n",
       "        vertical-align: middle;\n",
       "    }\n",
       "\n",
       "    .dataframe tbody tr th {\n",
       "        vertical-align: top;\n",
       "    }\n",
       "\n",
       "    .dataframe thead th {\n",
       "        text-align: right;\n",
       "    }\n",
       "</style>\n",
       "<table border=\"1\" class=\"dataframe\">\n",
       "  <thead>\n",
       "    <tr style=\"text-align: right;\">\n",
       "      <th>Missing Score</th>\n",
       "      <th>False</th>\n",
       "      <th>True</th>\n",
       "      <th>Total</th>\n",
       "    </tr>\n",
       "    <tr>\n",
       "      <th>type</th>\n",
       "      <th></th>\n",
       "      <th></th>\n",
       "      <th></th>\n",
       "    </tr>\n",
       "  </thead>\n",
       "  <tbody>\n",
       "    <tr>\n",
       "      <th>Routine - Unscheduled</th>\n",
       "      <td>14031</td>\n",
       "      <td>46</td>\n",
       "      <td>14077</td>\n",
       "    </tr>\n",
       "    <tr>\n",
       "      <th>Reinspection/Followup</th>\n",
       "      <td>0</td>\n",
       "      <td>6439</td>\n",
       "      <td>6439</td>\n",
       "    </tr>\n",
       "    <tr>\n",
       "      <th>New Ownership</th>\n",
       "      <td>0</td>\n",
       "      <td>1592</td>\n",
       "      <td>1592</td>\n",
       "    </tr>\n",
       "    <tr>\n",
       "      <th>Complaint</th>\n",
       "      <td>0</td>\n",
       "      <td>1458</td>\n",
       "      <td>1458</td>\n",
       "    </tr>\n",
       "    <tr>\n",
       "      <th>New Construction</th>\n",
       "      <td>0</td>\n",
       "      <td>994</td>\n",
       "      <td>994</td>\n",
       "    </tr>\n",
       "    <tr>\n",
       "      <th>Non-inspection site visit</th>\n",
       "      <td>0</td>\n",
       "      <td>811</td>\n",
       "      <td>811</td>\n",
       "    </tr>\n",
       "    <tr>\n",
       "      <th>New Ownership - Followup</th>\n",
       "      <td>0</td>\n",
       "      <td>499</td>\n",
       "      <td>499</td>\n",
       "    </tr>\n",
       "    <tr>\n",
       "      <th>Structural Inspection</th>\n",
       "      <td>0</td>\n",
       "      <td>394</td>\n",
       "      <td>394</td>\n",
       "    </tr>\n",
       "    <tr>\n",
       "      <th>Complaint Reinspection/Followup</th>\n",
       "      <td>0</td>\n",
       "      <td>227</td>\n",
       "      <td>227</td>\n",
       "    </tr>\n",
       "    <tr>\n",
       "      <th>Foodborne Illness Investigation</th>\n",
       "      <td>0</td>\n",
       "      <td>115</td>\n",
       "      <td>115</td>\n",
       "    </tr>\n",
       "    <tr>\n",
       "      <th>Routine - Scheduled</th>\n",
       "      <td>0</td>\n",
       "      <td>46</td>\n",
       "      <td>46</td>\n",
       "    </tr>\n",
       "    <tr>\n",
       "      <th>Administrative or Document Review</th>\n",
       "      <td>0</td>\n",
       "      <td>4</td>\n",
       "      <td>4</td>\n",
       "    </tr>\n",
       "    <tr>\n",
       "      <th>Multi-agency Investigation</th>\n",
       "      <td>0</td>\n",
       "      <td>3</td>\n",
       "      <td>3</td>\n",
       "    </tr>\n",
       "    <tr>\n",
       "      <th>Special Event</th>\n",
       "      <td>0</td>\n",
       "      <td>3</td>\n",
       "      <td>3</td>\n",
       "    </tr>\n",
       "    <tr>\n",
       "      <th>Community Health Assessment</th>\n",
       "      <td>0</td>\n",
       "      <td>1</td>\n",
       "      <td>1</td>\n",
       "    </tr>\n",
       "  </tbody>\n",
       "</table>\n",
       "</div>"
      ],
      "text/plain": [
       "Missing Score                      False  True  Total\n",
       "type                                                 \n",
       "Routine - Unscheduled              14031    46  14077\n",
       "Reinspection/Followup                  0  6439   6439\n",
       "New Ownership                          0  1592   1592\n",
       "Complaint                              0  1458   1458\n",
       "New Construction                       0   994    994\n",
       "Non-inspection site visit              0   811    811\n",
       "New Ownership - Followup               0   499    499\n",
       "Structural Inspection                  0   394    394\n",
       "Complaint Reinspection/Followup        0   227    227\n",
       "Foodborne Illness Investigation        0   115    115\n",
       "Routine - Scheduled                    0    46     46\n",
       "Administrative or Document Review      0     4      4\n",
       "Multi-agency Investigation             0     3      3\n",
       "Special Event                          0     3      3\n",
       "Community Health Assessment            0     1      1"
      ]
     },
     "execution_count": 118,
     "metadata": {},
     "output_type": "execute_result"
    }
   ],
   "source": [
    "ins['Missing Score'] = (ins['score'] == -1).astype(\"str\")\n",
    "ins_missing_score_pivot_1 = ins.pivot_table(index = \"type\", columns = \"Missing Score\", values = \"score\", aggfunc = \"count\", fill_value = 0)\n",
    "ins_missing_score_pivot_1[\"Total\"] = ins_missing_score_pivot_1[\"False\"] + ins_missing_score_pivot_1[\"True\"]\n",
    "ins_missing_score_pivot = ins_missing_score_pivot_1.sort_values(\"Total\", ascending = False)\n",
    "ins_missing_score_pivot"
   ]
  },
  {
   "cell_type": "code",
   "execution_count": 119,
   "metadata": {
    "deletable": false,
    "editable": false
   },
   "outputs": [
    {
     "data": {
      "text/html": [
       "<p><strong><pre style='display: inline;'>q1c</pre></strong> passed! 🚀</p>"
      ],
      "text/plain": [
       "q1c results: All test cases passed!"
      ]
     },
     "execution_count": 119,
     "metadata": {},
     "output_type": "execute_result"
    }
   ],
   "source": [
    "grader.check(\"q1c\")"
   ]
  },
  {
   "cell_type": "markdown",
   "metadata": {},
   "source": [
    "Notice that inspection scores appear only to be assigned to `Routine - Unscheduled` inspections. It is reasonable for inspection types such as `New Ownership` and `Complaint` to have no associated inspection scores, but we might be curious why there are no inspection scores for the `Reinspection/Followup` inspection type."
   ]
  },
  {
   "cell_type": "markdown",
   "metadata": {
    "nbgrader": {
     "grade": false,
     "grade_id": "business-data",
     "locked": true,
     "schema_version": 2,
     "solution": false
    },
    "tags": []
   },
   "source": [
    "<br/><br/>\n",
    "\n",
    "---\n",
    "\n",
    "# Question 2: Joining Data Across Tables\n",
    "\n",
    "In this question, we will start to connect data across multiple tables. We will be using the `merge` function. "
   ]
  },
  {
   "cell_type": "markdown",
   "metadata": {},
   "source": [
    "<br/>\n",
    "\n",
    "--- \n",
    "\n",
    "## Question 2a\n",
    "\n",
    "Let's figure out which restaurants had the lowest scores. Before we proceed, let's filter out missing scores from `ins` so that negative scores don't influence our results. \n",
    "\n",
    "Note that there might be something interesting we could learn from businesses with missing scores, but we are omitting such analysis from this homework. You might consider exploring this for the optional question at the end. \n",
    "\n",
    "Note: We have no idea if there is actually anything interesting to learn as we have not attempted this ourselves."
   ]
  },
  {
   "cell_type": "code",
   "execution_count": 120,
   "metadata": {},
   "outputs": [],
   "source": [
    "ins = ins[ins[\"score\"] > 0]"
   ]
  },
  {
   "cell_type": "markdown",
   "metadata": {
    "deletable": false,
    "editable": false
   },
   "source": [
    "We'll start by creating a new `DataFrame` called `ins_named`. It should be exactly the same as `ins`, except that it should have the name and address of every business, as determined by the `bus` DataFrame. \n",
    "\n",
    "**Hint**: Use the `merge` method to join the `ins` DataFrame with the appropriate portion of the `bus` DataFrame. See the official [documentation](https://pandas.pydata.org/pandas-docs/stable/user_guide/merging.html) on how to use `merge`. The first few rows of the resulting `DataFrame` you create are shown below:\n",
    "\n",
    "<img src=\"pics/2a.png\" width=\"1080\"/>"
   ]
  },
  {
   "cell_type": "code",
   "execution_count": 121,
   "metadata": {
    "tags": []
   },
   "outputs": [
    {
     "data": {
      "text/html": [
       "<div>\n",
       "<style scoped>\n",
       "    .dataframe tbody tr th:only-of-type {\n",
       "        vertical-align: middle;\n",
       "    }\n",
       "\n",
       "    .dataframe tbody tr th {\n",
       "        vertical-align: top;\n",
       "    }\n",
       "\n",
       "    .dataframe thead th {\n",
       "        text-align: right;\n",
       "    }\n",
       "</style>\n",
       "<table border=\"1\" class=\"dataframe\">\n",
       "  <thead>\n",
       "    <tr style=\"text-align: right;\">\n",
       "      <th></th>\n",
       "      <th>iid</th>\n",
       "      <th>date</th>\n",
       "      <th>score</th>\n",
       "      <th>type</th>\n",
       "      <th>timestamp</th>\n",
       "      <th>bid</th>\n",
       "      <th>Missing Score</th>\n",
       "      <th>name</th>\n",
       "      <th>address</th>\n",
       "    </tr>\n",
       "  </thead>\n",
       "  <tbody>\n",
       "    <tr>\n",
       "      <th>0</th>\n",
       "      <td>100010_20190403</td>\n",
       "      <td>04/03/2019 12:00:00 AM</td>\n",
       "      <td>100</td>\n",
       "      <td>Routine - Unscheduled</td>\n",
       "      <td>2019-04-03</td>\n",
       "      <td>100010</td>\n",
       "      <td>False</td>\n",
       "      <td>ILLY CAFFE SF_PIER 39</td>\n",
       "      <td>PIER 39  K-106-B</td>\n",
       "    </tr>\n",
       "    <tr>\n",
       "      <th>1</th>\n",
       "      <td>100017_20190816</td>\n",
       "      <td>08/16/2019 12:00:00 AM</td>\n",
       "      <td>91</td>\n",
       "      <td>Routine - Unscheduled</td>\n",
       "      <td>2019-08-16</td>\n",
       "      <td>100017</td>\n",
       "      <td>False</td>\n",
       "      <td>AMICI'S EAST COAST PIZZERIA</td>\n",
       "      <td>475 06th St</td>\n",
       "    </tr>\n",
       "    <tr>\n",
       "      <th>2</th>\n",
       "      <td>100041_20190520</td>\n",
       "      <td>05/20/2019 12:00:00 AM</td>\n",
       "      <td>83</td>\n",
       "      <td>Routine - Unscheduled</td>\n",
       "      <td>2019-05-20</td>\n",
       "      <td>100041</td>\n",
       "      <td>False</td>\n",
       "      <td>UNCLE LEE CAFE</td>\n",
       "      <td>3608 BALBOA ST</td>\n",
       "    </tr>\n",
       "    <tr>\n",
       "      <th>3</th>\n",
       "      <td>100055_20190425</td>\n",
       "      <td>04/25/2019 12:00:00 AM</td>\n",
       "      <td>98</td>\n",
       "      <td>Routine - Unscheduled</td>\n",
       "      <td>2019-04-25</td>\n",
       "      <td>100055</td>\n",
       "      <td>False</td>\n",
       "      <td>Twirl and Dip</td>\n",
       "      <td>335 Martin Luther King Jr. Dr</td>\n",
       "    </tr>\n",
       "    <tr>\n",
       "      <th>4</th>\n",
       "      <td>100055_20190912</td>\n",
       "      <td>09/12/2019 12:00:00 AM</td>\n",
       "      <td>82</td>\n",
       "      <td>Routine - Unscheduled</td>\n",
       "      <td>2019-09-12</td>\n",
       "      <td>100055</td>\n",
       "      <td>False</td>\n",
       "      <td>Twirl and Dip</td>\n",
       "      <td>335 Martin Luther King Jr. Dr</td>\n",
       "    </tr>\n",
       "  </tbody>\n",
       "</table>\n",
       "</div>"
      ],
      "text/plain": [
       "               iid                    date  score                   type  \\\n",
       "0  100010_20190403  04/03/2019 12:00:00 AM    100  Routine - Unscheduled   \n",
       "1  100017_20190816  08/16/2019 12:00:00 AM     91  Routine - Unscheduled   \n",
       "2  100041_20190520  05/20/2019 12:00:00 AM     83  Routine - Unscheduled   \n",
       "3  100055_20190425  04/25/2019 12:00:00 AM     98  Routine - Unscheduled   \n",
       "4  100055_20190912  09/12/2019 12:00:00 AM     82  Routine - Unscheduled   \n",
       "\n",
       "   timestamp     bid Missing Score                         name  \\\n",
       "0 2019-04-03  100010         False        ILLY CAFFE SF_PIER 39   \n",
       "1 2019-08-16  100017         False  AMICI'S EAST COAST PIZZERIA   \n",
       "2 2019-05-20  100041         False               UNCLE LEE CAFE   \n",
       "3 2019-04-25  100055         False                Twirl and Dip   \n",
       "4 2019-09-12  100055         False                Twirl and Dip   \n",
       "\n",
       "                         address  \n",
       "0               PIER 39  K-106-B  \n",
       "1                    475 06th St  \n",
       "2                 3608 BALBOA ST  \n",
       "3  335 Martin Luther King Jr. Dr  \n",
       "4  335 Martin Luther King Jr. Dr  "
      ]
     },
     "execution_count": 121,
     "metadata": {},
     "output_type": "execute_result"
    }
   ],
   "source": [
    "ins_named = ins.merge(bus[[\"bid\", \"name\", \"address\"]], left_on = \"bid\", right_on = \"bid\")\n",
    "ins_named.head()"
   ]
  },
  {
   "cell_type": "code",
   "execution_count": 122,
   "metadata": {
    "deletable": false,
    "editable": false
   },
   "outputs": [
    {
     "data": {
      "text/html": [
       "<p><strong><pre style='display: inline;'>q2a</pre></strong> passed! 💯</p>"
      ],
      "text/plain": [
       "q2a results: All test cases passed!"
      ]
     },
     "execution_count": 122,
     "metadata": {},
     "output_type": "execute_result"
    }
   ],
   "source": [
    "grader.check(\"q2a\")"
   ]
  },
  {
   "cell_type": "markdown",
   "metadata": {},
   "source": [
    "<br/>\n",
    "\n",
    "--- \n",
    "\n",
    "## Question 2b\n",
    "\n",
    "Let's look at the 20 businesses in `ins_named` with the lowest **median** score. Order your results by the median score followed by the business name to break ties. The resulting table should look like the table below.\n",
    "\n",
    "This one is pretty challenging! Don't forget to rename the `score` column. \n",
    "\n",
    "**Hint**: The `agg` function can accept a dictionary as an input. See the [agg documentation](https://pandas.pydata.org/pandas-docs/version/0.22/generated/pandas.core.groupby.DataFrameGroupBy.agg.html). Additionally, when thinking about what aggregation functions to use, ask yourself what value would be in the `\"name\"` column for each entry across the group? Can we select just one of these values to represent the whole group?\n",
    "\n",
    "As usual, **YOU SHOULD NOT USE LOOPS OR LIST COMPREHENSIONS**. Try and break down the problem piece by piece instead, gradually chaining together different `pandas` functions. Feel free to use more than one line!\n",
    "\n",
    "<table border=\"1\" class=\"dataframe\">  <thead>    \n",
    "    <tr style=\"text-align: right;\">      <th></th>      <th>name</th>      <th>median score</th>    </tr> \n",
    "    <tr  align=\"right\">  <th align=\"right\">bid</th>      <th></th>      <th></th>    </tr> </thead>  <tbody>    \n",
    "    <tr  align=\"right\">      <th>84590</th>      <td>Chaat Corner</td>      <td>54.0</td>    </tr>    \n",
    "    <tr  align=\"right\">        <th>90622</th>      <td>Taqueria Lolita</td>      <td>57.0</td>    </tr>    \n",
    "    <tr  align=\"right\">         <th>94351</th>      <td>VBowls LLC</td>      <td>58.0</td>    </tr>    \n",
    "    <tr  align=\"right\">          <th>69282</th>      <td>New Jumbo Seafood Restaurant</td>      <td>60.5</td>    </tr>    \n",
    "    <tr  align=\"right\">         <th>1154</th>      <td>SUNFLOWER RESTAURANT</td>      <td>63.5</td>    </tr>  \n",
    "    <tr  align=\"right\">          <th>93150</th>      <td>Chez Beesen</td>      <td>64.0</td>    </tr>   \n",
    "    <tr  align=\"right\">     <th>39776</th>      <td>Duc Loi Supermarket</td>      <td>64.0</td>    </tr>  \n",
    "    <tr  align=\"right\">         <th>78328</th>      <td>Golden Wok</td>      <td>64.0</td>    </tr>  \n",
    "    <tr  align=\"right\">          <th>69397</th>      <td>Minna SF Group LLC</td>      <td>64.0</td>    </tr>     \n",
    "    <tr  align=\"right\">        <th>93502</th>      <td>Smoky Man</td>      <td>64.0</td>    </tr>    \n",
    "    <tr  align=\"right\">           <th>98995</th>      <td>Vallarta's Taco Bar</td>      <td>64.0</td>    </tr>    \n",
    "    <tr  align=\"right\">         <th>10877</th>      <td>CHINA FIRST INC.</td>      <td>64.5</td>    </tr>    \n",
    "    <tr  align=\"right\">        <th>71310</th>      <td>Golden King Vietnamese Restaurant</td>      <td>64.5</td>    </tr>     \n",
    "    <tr  align=\"right\">          <th>89070</th>      <td>Lafayette Coffee Shop</td>      <td>64.5</td>    </tr>\n",
    "    <tr  align=\"right\">          <th>71008</th>      <td>House of Pancakes</td>      <td>65.0</td>    </tr> \n",
    "    <tr  align=\"right\">         <th>2542</th>      <td>PETER D'S RESTAURANT</td>      <td>65.0</td>    </tr>           \n",
    "    <tr  align=\"right\">        <th>3862</th>      <td>IMPERIAL GARDEN SEAFOOD RESTAURANT</td>      <td>66.0</td>    </tr>   \n",
    "    <tr  align=\"right\">         <th>61427</th>      <td>Nick's Foods</td>      <td>66.0</td>    </tr>    \n",
    "    <tr  align=\"right\">          <th>72176</th>      <td>Wolfes Lunch</td>      <td>66.0</td>    </tr>    \n",
    "    <tr  align=\"right\">        <th>89141</th>      <td>Cha Cha Cha on Mission</td>      <td>66.5</td>    </tr>  </tbody></table>"
   ]
  },
  {
   "cell_type": "code",
   "execution_count": 123,
   "metadata": {
    "tags": []
   },
   "outputs": [
    {
     "data": {
      "text/html": [
       "<div>\n",
       "<style scoped>\n",
       "    .dataframe tbody tr th:only-of-type {\n",
       "        vertical-align: middle;\n",
       "    }\n",
       "\n",
       "    .dataframe tbody tr th {\n",
       "        vertical-align: top;\n",
       "    }\n",
       "\n",
       "    .dataframe thead th {\n",
       "        text-align: right;\n",
       "    }\n",
       "</style>\n",
       "<table border=\"1\" class=\"dataframe\">\n",
       "  <thead>\n",
       "    <tr style=\"text-align: right;\">\n",
       "      <th></th>\n",
       "      <th>name</th>\n",
       "      <th>median score</th>\n",
       "    </tr>\n",
       "    <tr>\n",
       "      <th>bid</th>\n",
       "      <th></th>\n",
       "      <th></th>\n",
       "    </tr>\n",
       "  </thead>\n",
       "  <tbody>\n",
       "    <tr>\n",
       "      <th>84590</th>\n",
       "      <td>Chaat Corner</td>\n",
       "      <td>54.0</td>\n",
       "    </tr>\n",
       "    <tr>\n",
       "      <th>90622</th>\n",
       "      <td>Taqueria Lolita</td>\n",
       "      <td>57.0</td>\n",
       "    </tr>\n",
       "    <tr>\n",
       "      <th>94351</th>\n",
       "      <td>VBowls LLC</td>\n",
       "      <td>58.0</td>\n",
       "    </tr>\n",
       "    <tr>\n",
       "      <th>69282</th>\n",
       "      <td>New Jumbo Seafood Restaurant</td>\n",
       "      <td>60.5</td>\n",
       "    </tr>\n",
       "    <tr>\n",
       "      <th>1154</th>\n",
       "      <td>SUNFLOWER RESTAURANT</td>\n",
       "      <td>63.5</td>\n",
       "    </tr>\n",
       "    <tr>\n",
       "      <th>93150</th>\n",
       "      <td>Chez Beesen</td>\n",
       "      <td>64.0</td>\n",
       "    </tr>\n",
       "    <tr>\n",
       "      <th>39776</th>\n",
       "      <td>Duc Loi Supermarket</td>\n",
       "      <td>64.0</td>\n",
       "    </tr>\n",
       "    <tr>\n",
       "      <th>78328</th>\n",
       "      <td>Golden Wok</td>\n",
       "      <td>64.0</td>\n",
       "    </tr>\n",
       "    <tr>\n",
       "      <th>69397</th>\n",
       "      <td>Minna SF Group LLC</td>\n",
       "      <td>64.0</td>\n",
       "    </tr>\n",
       "    <tr>\n",
       "      <th>93502</th>\n",
       "      <td>Smoky Man</td>\n",
       "      <td>64.0</td>\n",
       "    </tr>\n",
       "    <tr>\n",
       "      <th>98995</th>\n",
       "      <td>Vallarta's Taco Bar</td>\n",
       "      <td>64.0</td>\n",
       "    </tr>\n",
       "    <tr>\n",
       "      <th>10877</th>\n",
       "      <td>CHINA FIRST INC.</td>\n",
       "      <td>64.5</td>\n",
       "    </tr>\n",
       "    <tr>\n",
       "      <th>71310</th>\n",
       "      <td>Golden King Vietnamese Restaurant</td>\n",
       "      <td>64.5</td>\n",
       "    </tr>\n",
       "    <tr>\n",
       "      <th>89070</th>\n",
       "      <td>Lafayette Coffee Shop</td>\n",
       "      <td>64.5</td>\n",
       "    </tr>\n",
       "    <tr>\n",
       "      <th>71008</th>\n",
       "      <td>House of Pancakes</td>\n",
       "      <td>65.0</td>\n",
       "    </tr>\n",
       "    <tr>\n",
       "      <th>2542</th>\n",
       "      <td>PETER D'S RESTAURANT</td>\n",
       "      <td>65.0</td>\n",
       "    </tr>\n",
       "    <tr>\n",
       "      <th>3862</th>\n",
       "      <td>IMPERIAL GARDEN SEAFOOD RESTAURANT</td>\n",
       "      <td>66.0</td>\n",
       "    </tr>\n",
       "    <tr>\n",
       "      <th>61427</th>\n",
       "      <td>Nick's Foods</td>\n",
       "      <td>66.0</td>\n",
       "    </tr>\n",
       "    <tr>\n",
       "      <th>72176</th>\n",
       "      <td>Wolfes Lunch</td>\n",
       "      <td>66.0</td>\n",
       "    </tr>\n",
       "    <tr>\n",
       "      <th>91843</th>\n",
       "      <td>Hello Sandwich &amp; Noodle</td>\n",
       "      <td>66.5</td>\n",
       "    </tr>\n",
       "  </tbody>\n",
       "</table>\n",
       "</div>"
      ],
      "text/plain": [
       "                                     name  median score\n",
       "bid                                                    \n",
       "84590                        Chaat Corner          54.0\n",
       "90622                     Taqueria Lolita          57.0\n",
       "94351                          VBowls LLC          58.0\n",
       "69282        New Jumbo Seafood Restaurant          60.5\n",
       "1154                 SUNFLOWER RESTAURANT          63.5\n",
       "93150                         Chez Beesen          64.0\n",
       "39776                 Duc Loi Supermarket          64.0\n",
       "78328                          Golden Wok          64.0\n",
       "69397                  Minna SF Group LLC          64.0\n",
       "93502                           Smoky Man          64.0\n",
       "98995                 Vallarta's Taco Bar          64.0\n",
       "10877                    CHINA FIRST INC.          64.5\n",
       "71310   Golden King Vietnamese Restaurant          64.5\n",
       "89070               Lafayette Coffee Shop          64.5\n",
       "71008                   House of Pancakes          65.0\n",
       "2542                 PETER D'S RESTAURANT          65.0\n",
       "3862   IMPERIAL GARDEN SEAFOOD RESTAURANT          66.0\n",
       "61427                        Nick's Foods          66.0\n",
       "72176                        Wolfes Lunch          66.0\n",
       "91843             Hello Sandwich & Noodle          66.5"
      ]
     },
     "execution_count": 123,
     "metadata": {},
     "output_type": "execute_result"
    }
   ],
   "source": [
    "step1 = ins_named.groupby(\"bid\").agg({'name': 'first', \"score\": 'median'})\n",
    "step2 = step1.rename(columns = {\"score\": \"median score\"})\n",
    "step3 = step2.sort_values(\"median score\", ascending = False).tail(20)\n",
    "twenty_lowest_scoring = step3.sort_values(by = [\"median score\", 'name'], ascending = [True, True])\n",
    "twenty_lowest_scoring"
   ]
  },
  {
   "cell_type": "code",
   "execution_count": 124,
   "metadata": {
    "deletable": false,
    "editable": false
   },
   "outputs": [
    {
     "data": {
      "text/html": [
       "<p><strong><pre style='display: inline;'>q2b</pre></strong> passed! 🚀</p>"
      ],
      "text/plain": [
       "q2b results: All test cases passed!"
      ]
     },
     "execution_count": 124,
     "metadata": {},
     "output_type": "execute_result"
    }
   ],
   "source": [
    "grader.check(\"q2b\")"
   ]
  },
  {
   "cell_type": "markdown",
   "metadata": {
    "deletable": false,
    "editable": false
   },
   "source": [
    "<br/>\n",
    "\n",
    "--- \n",
    "## Question 2c\n",
    "\n",
    "Let's figure out which restaurant had the worst score ever (single lowest score). \n",
    "\n",
    "In the cell below, assign `worst_restaurant` to the name of the restaurant with the **lowest inspection score ever**. We should not be considering restaurants with missing scores, so this should not be a retaurant that has a score of `-1`. For fun: Look up the reviews for this restaurant on Yelp. Do you see any reviews that indicate this restaurant had health inspection issues?\n"
   ]
  },
  {
   "cell_type": "code",
   "execution_count": 125,
   "metadata": {
    "tags": []
   },
   "outputs": [
    {
     "data": {
      "text/plain": [
       "'Lollipot'"
      ]
     },
     "execution_count": 125,
     "metadata": {},
     "output_type": "execute_result"
    }
   ],
   "source": [
    "worst_restaurant = (ins_named[ins_named[\"score\"]!= -1]\n",
    "                    .sort_values(\"score\", ascending = True)\n",
    "                    .reset_index()[\"name\"][0])\n",
    "worst_restaurant"
   ]
  },
  {
   "cell_type": "code",
   "execution_count": 126,
   "metadata": {
    "deletable": false,
    "editable": false
   },
   "outputs": [
    {
     "data": {
      "text/html": [
       "<p><strong><pre style='display: inline;'>q2c</pre></strong> passed! 🙌</p>"
      ],
      "text/plain": [
       "q2c results: All test cases passed!"
      ]
     },
     "execution_count": 126,
     "metadata": {},
     "output_type": "execute_result"
    }
   ],
   "source": [
    "grader.check(\"q2c\")"
   ]
  },
  {
   "cell_type": "markdown",
   "metadata": {
    "deletable": false,
    "editable": false
   },
   "source": [
    "<br/>\n",
    "\n",
    "--- \n",
    "## Question 2d\n",
    "\n",
    "Did this restaurant clean up its act? Look in the database to see if it scored better on its next inspection. Assign `cleaned_up` to `True` or `False`, depending on whether it performed better or not."
   ]
  },
  {
   "cell_type": "code",
   "execution_count": 127,
   "metadata": {
    "tags": []
   },
   "outputs": [
    {
     "data": {
      "text/html": [
       "<div>\n",
       "<style scoped>\n",
       "    .dataframe tbody tr th:only-of-type {\n",
       "        vertical-align: middle;\n",
       "    }\n",
       "\n",
       "    .dataframe tbody tr th {\n",
       "        vertical-align: top;\n",
       "    }\n",
       "\n",
       "    .dataframe thead th {\n",
       "        text-align: right;\n",
       "    }\n",
       "</style>\n",
       "<table border=\"1\" class=\"dataframe\">\n",
       "  <thead>\n",
       "    <tr style=\"text-align: right;\">\n",
       "      <th></th>\n",
       "      <th>iid</th>\n",
       "      <th>date</th>\n",
       "      <th>score</th>\n",
       "      <th>type</th>\n",
       "      <th>timestamp</th>\n",
       "      <th>bid</th>\n",
       "      <th>Missing Score</th>\n",
       "      <th>name</th>\n",
       "      <th>address</th>\n",
       "    </tr>\n",
       "  </thead>\n",
       "  <tbody>\n",
       "    <tr>\n",
       "      <th>10898</th>\n",
       "      <td>86718_20180522</td>\n",
       "      <td>05/22/2018 12:00:00 AM</td>\n",
       "      <td>45</td>\n",
       "      <td>Routine - Unscheduled</td>\n",
       "      <td>2018-05-22</td>\n",
       "      <td>86718</td>\n",
       "      <td>False</td>\n",
       "      <td>Lollipot</td>\n",
       "      <td>890 Taraval St</td>\n",
       "    </tr>\n",
       "    <tr>\n",
       "      <th>10899</th>\n",
       "      <td>86718_20181005</td>\n",
       "      <td>10/05/2018 12:00:00 AM</td>\n",
       "      <td>90</td>\n",
       "      <td>Routine - Unscheduled</td>\n",
       "      <td>2018-10-05</td>\n",
       "      <td>86718</td>\n",
       "      <td>False</td>\n",
       "      <td>Lollipot</td>\n",
       "      <td>890 Taraval St</td>\n",
       "    </tr>\n",
       "    <tr>\n",
       "      <th>10897</th>\n",
       "      <td>86718_20161116</td>\n",
       "      <td>11/16/2016 12:00:00 AM</td>\n",
       "      <td>90</td>\n",
       "      <td>Routine - Unscheduled</td>\n",
       "      <td>2016-11-16</td>\n",
       "      <td>86718</td>\n",
       "      <td>False</td>\n",
       "      <td>Lollipot</td>\n",
       "      <td>890 Taraval St</td>\n",
       "    </tr>\n",
       "  </tbody>\n",
       "</table>\n",
       "</div>"
      ],
      "text/plain": [
       "                  iid                    date  score                   type  \\\n",
       "10898  86718_20180522  05/22/2018 12:00:00 AM     45  Routine - Unscheduled   \n",
       "10899  86718_20181005  10/05/2018 12:00:00 AM     90  Routine - Unscheduled   \n",
       "10897  86718_20161116  11/16/2016 12:00:00 AM     90  Routine - Unscheduled   \n",
       "\n",
       "       timestamp    bid Missing Score      name         address  \n",
       "10898 2018-05-22  86718         False  Lollipot  890 Taraval St  \n",
       "10899 2018-10-05  86718         False  Lollipot  890 Taraval St  \n",
       "10897 2016-11-16  86718         False  Lollipot  890 Taraval St  "
      ]
     },
     "execution_count": 127,
     "metadata": {},
     "output_type": "execute_result"
    }
   ],
   "source": [
    "# SCRATCH WORK\n",
    "ins_named[ins_named[\"name\"] == \"Lollipot\"].sort_values(\"date\")"
   ]
  },
  {
   "cell_type": "code",
   "execution_count": 128,
   "metadata": {
    "tags": []
   },
   "outputs": [],
   "source": [
    "cleaned_up = True"
   ]
  },
  {
   "cell_type": "code",
   "execution_count": 129,
   "metadata": {
    "deletable": false,
    "editable": false
   },
   "outputs": [
    {
     "data": {
      "text/html": [
       "<p><strong><pre style='display: inline;'>q2d</pre></strong> passed! ✨</p>"
      ],
      "text/plain": [
       "q2d results: All test cases passed!"
      ]
     },
     "execution_count": 129,
     "metadata": {},
     "output_type": "execute_result"
    }
   ],
   "source": [
    "grader.check(\"q2d\")"
   ]
  },
  {
   "cell_type": "markdown",
   "metadata": {},
   "source": [
    "<br/><br/>\n",
    "\n",
    "---\n",
    "# Question 3: I Scream, You Scream \n",
    "\n",
    "Now that you've analyzed and found out which restaurants to avoid in SF, we can turn toward the more interesting question of what dessert places are the best! For the purposes of this question, we assume that ice cream is the best dessert (and rightfully so!)"
   ]
  },
  {
   "cell_type": "markdown",
   "metadata": {
    "deletable": false,
    "editable": false
   },
   "source": [
    "<br/>\n",
    "\n",
    "--- \n",
    "## Question 3a\n",
    "\n",
    "In your quest to find the best ice cream shop, the first step is to find all the businesses in `ins_named` that **contain the word 'ice cream'** in their `name`, and assign the resulting `DataFrame` to `ice_cream_shops`. To help you out, we created the `lowercase_name` column so you do not need to worry about checking for capitalized letters when checking if `name` contains 'ice cream'.\n",
    "\n",
    "**Hint:** You might find the `.str` accessors useful yet again!"
   ]
  },
  {
   "cell_type": "code",
   "execution_count": 130,
   "metadata": {
    "tags": []
   },
   "outputs": [
    {
     "data": {
      "text/html": [
       "<div>\n",
       "<style scoped>\n",
       "    .dataframe tbody tr th:only-of-type {\n",
       "        vertical-align: middle;\n",
       "    }\n",
       "\n",
       "    .dataframe tbody tr th {\n",
       "        vertical-align: top;\n",
       "    }\n",
       "\n",
       "    .dataframe thead th {\n",
       "        text-align: right;\n",
       "    }\n",
       "</style>\n",
       "<table border=\"1\" class=\"dataframe\">\n",
       "  <thead>\n",
       "    <tr style=\"text-align: right;\">\n",
       "      <th></th>\n",
       "      <th>iid</th>\n",
       "      <th>date</th>\n",
       "      <th>score</th>\n",
       "      <th>type</th>\n",
       "      <th>timestamp</th>\n",
       "      <th>bid</th>\n",
       "      <th>Missing Score</th>\n",
       "      <th>name</th>\n",
       "      <th>address</th>\n",
       "      <th>lowercase_name</th>\n",
       "    </tr>\n",
       "  </thead>\n",
       "  <tbody>\n",
       "    <tr>\n",
       "      <th>152</th>\n",
       "      <td>102067_20190911</td>\n",
       "      <td>09/11/2019 12:00:00 AM</td>\n",
       "      <td>100</td>\n",
       "      <td>Routine - Unscheduled</td>\n",
       "      <td>2019-09-11</td>\n",
       "      <td>102067</td>\n",
       "      <td>False</td>\n",
       "      <td>Humphry Slocombe Ice Cream</td>\n",
       "      <td>1 Ferry Building Plaza</td>\n",
       "      <td>humphry slocombe ice cream</td>\n",
       "    </tr>\n",
       "    <tr>\n",
       "      <th>559</th>\n",
       "      <td>14743_20161103</td>\n",
       "      <td>11/03/2016 12:00:00 AM</td>\n",
       "      <td>100</td>\n",
       "      <td>Routine - Unscheduled</td>\n",
       "      <td>2016-11-03</td>\n",
       "      <td>14743</td>\n",
       "      <td>False</td>\n",
       "      <td>Polly Ann Ice Cream</td>\n",
       "      <td>3138 Noriega St.</td>\n",
       "      <td>polly ann ice cream</td>\n",
       "    </tr>\n",
       "    <tr>\n",
       "      <th>560</th>\n",
       "      <td>14743_20170928</td>\n",
       "      <td>09/28/2017 12:00:00 AM</td>\n",
       "      <td>98</td>\n",
       "      <td>Routine - Unscheduled</td>\n",
       "      <td>2017-09-28</td>\n",
       "      <td>14743</td>\n",
       "      <td>False</td>\n",
       "      <td>Polly Ann Ice Cream</td>\n",
       "      <td>3138 Noriega St.</td>\n",
       "      <td>polly ann ice cream</td>\n",
       "    </tr>\n",
       "    <tr>\n",
       "      <th>561</th>\n",
       "      <td>14743_20180716</td>\n",
       "      <td>07/16/2018 12:00:00 AM</td>\n",
       "      <td>100</td>\n",
       "      <td>Routine - Unscheduled</td>\n",
       "      <td>2018-07-16</td>\n",
       "      <td>14743</td>\n",
       "      <td>False</td>\n",
       "      <td>Polly Ann Ice Cream</td>\n",
       "      <td>3138 Noriega St.</td>\n",
       "      <td>polly ann ice cream</td>\n",
       "    </tr>\n",
       "    <tr>\n",
       "      <th>562</th>\n",
       "      <td>14743_20190920</td>\n",
       "      <td>09/20/2019 12:00:00 AM</td>\n",
       "      <td>96</td>\n",
       "      <td>Routine - Unscheduled</td>\n",
       "      <td>2019-09-20</td>\n",
       "      <td>14743</td>\n",
       "      <td>False</td>\n",
       "      <td>Polly Ann Ice Cream</td>\n",
       "      <td>3138 Noriega St.</td>\n",
       "      <td>polly ann ice cream</td>\n",
       "    </tr>\n",
       "    <tr>\n",
       "      <th>2158</th>\n",
       "      <td>31_20180615</td>\n",
       "      <td>06/15/2018 12:00:00 AM</td>\n",
       "      <td>96</td>\n",
       "      <td>Routine - Unscheduled</td>\n",
       "      <td>2018-06-15</td>\n",
       "      <td>31</td>\n",
       "      <td>False</td>\n",
       "      <td>Norman's Ice Cream and Freezes</td>\n",
       "      <td>2801 Leavenworth St</td>\n",
       "      <td>norman's ice cream and freezes</td>\n",
       "    </tr>\n",
       "    <tr>\n",
       "      <th>2159</th>\n",
       "      <td>31_20190702</td>\n",
       "      <td>07/02/2019 12:00:00 AM</td>\n",
       "      <td>94</td>\n",
       "      <td>Routine - Unscheduled</td>\n",
       "      <td>2019-07-02</td>\n",
       "      <td>31</td>\n",
       "      <td>False</td>\n",
       "      <td>Norman's Ice Cream and Freezes</td>\n",
       "      <td>2801 Leavenworth St</td>\n",
       "      <td>norman's ice cream and freezes</td>\n",
       "    </tr>\n",
       "    <tr>\n",
       "      <th>2267</th>\n",
       "      <td>32733_20161020</td>\n",
       "      <td>10/20/2016 12:00:00 AM</td>\n",
       "      <td>96</td>\n",
       "      <td>Routine - Unscheduled</td>\n",
       "      <td>2016-10-20</td>\n",
       "      <td>32733</td>\n",
       "      <td>False</td>\n",
       "      <td>Xanath Ice Cream</td>\n",
       "      <td>951 Valencia St</td>\n",
       "      <td>xanath ice cream</td>\n",
       "    </tr>\n",
       "    <tr>\n",
       "      <th>2268</th>\n",
       "      <td>32733_20170808</td>\n",
       "      <td>08/08/2017 12:00:00 AM</td>\n",
       "      <td>96</td>\n",
       "      <td>Routine - Unscheduled</td>\n",
       "      <td>2017-08-08</td>\n",
       "      <td>32733</td>\n",
       "      <td>False</td>\n",
       "      <td>Xanath Ice Cream</td>\n",
       "      <td>951 Valencia St</td>\n",
       "      <td>xanath ice cream</td>\n",
       "    </tr>\n",
       "    <tr>\n",
       "      <th>2269</th>\n",
       "      <td>32733_20180214</td>\n",
       "      <td>02/14/2018 12:00:00 AM</td>\n",
       "      <td>94</td>\n",
       "      <td>Routine - Unscheduled</td>\n",
       "      <td>2018-02-14</td>\n",
       "      <td>32733</td>\n",
       "      <td>False</td>\n",
       "      <td>Xanath Ice Cream</td>\n",
       "      <td>951 Valencia St</td>\n",
       "      <td>xanath ice cream</td>\n",
       "    </tr>\n",
       "  </tbody>\n",
       "</table>\n",
       "</div>"
      ],
      "text/plain": [
       "                  iid                    date  score                   type  \\\n",
       "152   102067_20190911  09/11/2019 12:00:00 AM    100  Routine - Unscheduled   \n",
       "559    14743_20161103  11/03/2016 12:00:00 AM    100  Routine - Unscheduled   \n",
       "560    14743_20170928  09/28/2017 12:00:00 AM     98  Routine - Unscheduled   \n",
       "561    14743_20180716  07/16/2018 12:00:00 AM    100  Routine - Unscheduled   \n",
       "562    14743_20190920  09/20/2019 12:00:00 AM     96  Routine - Unscheduled   \n",
       "2158      31_20180615  06/15/2018 12:00:00 AM     96  Routine - Unscheduled   \n",
       "2159      31_20190702  07/02/2019 12:00:00 AM     94  Routine - Unscheduled   \n",
       "2267   32733_20161020  10/20/2016 12:00:00 AM     96  Routine - Unscheduled   \n",
       "2268   32733_20170808  08/08/2017 12:00:00 AM     96  Routine - Unscheduled   \n",
       "2269   32733_20180214  02/14/2018 12:00:00 AM     94  Routine - Unscheduled   \n",
       "\n",
       "      timestamp     bid Missing Score                            name  \\\n",
       "152  2019-09-11  102067         False      Humphry Slocombe Ice Cream   \n",
       "559  2016-11-03   14743         False             Polly Ann Ice Cream   \n",
       "560  2017-09-28   14743         False             Polly Ann Ice Cream   \n",
       "561  2018-07-16   14743         False             Polly Ann Ice Cream   \n",
       "562  2019-09-20   14743         False             Polly Ann Ice Cream   \n",
       "2158 2018-06-15      31         False  Norman's Ice Cream and Freezes   \n",
       "2159 2019-07-02      31         False  Norman's Ice Cream and Freezes   \n",
       "2267 2016-10-20   32733         False                Xanath Ice Cream   \n",
       "2268 2017-08-08   32733         False                Xanath Ice Cream   \n",
       "2269 2018-02-14   32733         False                Xanath Ice Cream   \n",
       "\n",
       "                     address                  lowercase_name  \n",
       "152   1 Ferry Building Plaza      humphry slocombe ice cream  \n",
       "559         3138 Noriega St.             polly ann ice cream  \n",
       "560         3138 Noriega St.             polly ann ice cream  \n",
       "561         3138 Noriega St.             polly ann ice cream  \n",
       "562         3138 Noriega St.             polly ann ice cream  \n",
       "2158     2801 Leavenworth St  norman's ice cream and freezes  \n",
       "2159     2801 Leavenworth St  norman's ice cream and freezes  \n",
       "2267         951 Valencia St                xanath ice cream  \n",
       "2268         951 Valencia St                xanath ice cream  \n",
       "2269         951 Valencia St                xanath ice cream  "
      ]
     },
     "execution_count": 130,
     "metadata": {},
     "output_type": "execute_result"
    }
   ],
   "source": [
    "ins_named['lowercase_name'] = ins_named['name'].str.lower()\n",
    "ice_cream_shops = ins_named[ins_named[\"lowercase_name\"].str.contains('ice cream')]\n",
    "ice_cream_shops.head(10)"
   ]
  },
  {
   "cell_type": "code",
   "execution_count": 131,
   "metadata": {
    "deletable": false,
    "editable": false
   },
   "outputs": [
    {
     "data": {
      "text/html": [
       "<p><strong><pre style='display: inline;'>q3a</pre></strong> passed! 🚀</p>"
      ],
      "text/plain": [
       "q3a results: All test cases passed!"
      ]
     },
     "execution_count": 131,
     "metadata": {},
     "output_type": "execute_result"
    }
   ],
   "source": [
    "grader.check(\"q3a\")"
   ]
  },
  {
   "cell_type": "markdown",
   "metadata": {
    "deletable": false,
    "editable": false
   },
   "source": [
    "<br/>\n",
    "\n",
    "--- \n",
    "## Question 3b\n",
    "\n",
    "Assign to `ice_cream_at_least_3` a `DataFrame` consisting of only those ice cream shops that have had at least 3 inspections. Remember, the `bid` uniquely defines an ice cream shop at a particular location, not its `name`!"
   ]
  },
  {
   "cell_type": "code",
   "execution_count": 132,
   "metadata": {
    "tags": []
   },
   "outputs": [
    {
     "data": {
      "text/html": [
       "<div>\n",
       "<style scoped>\n",
       "    .dataframe tbody tr th:only-of-type {\n",
       "        vertical-align: middle;\n",
       "    }\n",
       "\n",
       "    .dataframe tbody tr th {\n",
       "        vertical-align: top;\n",
       "    }\n",
       "\n",
       "    .dataframe thead th {\n",
       "        text-align: right;\n",
       "    }\n",
       "</style>\n",
       "<table border=\"1\" class=\"dataframe\">\n",
       "  <thead>\n",
       "    <tr style=\"text-align: right;\">\n",
       "      <th></th>\n",
       "      <th>iid</th>\n",
       "      <th>date</th>\n",
       "      <th>score</th>\n",
       "      <th>type</th>\n",
       "      <th>timestamp</th>\n",
       "      <th>bid</th>\n",
       "      <th>Missing Score</th>\n",
       "      <th>name</th>\n",
       "      <th>address</th>\n",
       "      <th>lowercase_name</th>\n",
       "    </tr>\n",
       "  </thead>\n",
       "  <tbody>\n",
       "    <tr>\n",
       "      <th>559</th>\n",
       "      <td>14743_20161103</td>\n",
       "      <td>11/03/2016 12:00:00 AM</td>\n",
       "      <td>100</td>\n",
       "      <td>Routine - Unscheduled</td>\n",
       "      <td>2016-11-03</td>\n",
       "      <td>14743</td>\n",
       "      <td>False</td>\n",
       "      <td>Polly Ann Ice Cream</td>\n",
       "      <td>3138 Noriega St.</td>\n",
       "      <td>polly ann ice cream</td>\n",
       "    </tr>\n",
       "    <tr>\n",
       "      <th>560</th>\n",
       "      <td>14743_20170928</td>\n",
       "      <td>09/28/2017 12:00:00 AM</td>\n",
       "      <td>98</td>\n",
       "      <td>Routine - Unscheduled</td>\n",
       "      <td>2017-09-28</td>\n",
       "      <td>14743</td>\n",
       "      <td>False</td>\n",
       "      <td>Polly Ann Ice Cream</td>\n",
       "      <td>3138 Noriega St.</td>\n",
       "      <td>polly ann ice cream</td>\n",
       "    </tr>\n",
       "    <tr>\n",
       "      <th>561</th>\n",
       "      <td>14743_20180716</td>\n",
       "      <td>07/16/2018 12:00:00 AM</td>\n",
       "      <td>100</td>\n",
       "      <td>Routine - Unscheduled</td>\n",
       "      <td>2018-07-16</td>\n",
       "      <td>14743</td>\n",
       "      <td>False</td>\n",
       "      <td>Polly Ann Ice Cream</td>\n",
       "      <td>3138 Noriega St.</td>\n",
       "      <td>polly ann ice cream</td>\n",
       "    </tr>\n",
       "    <tr>\n",
       "      <th>562</th>\n",
       "      <td>14743_20190920</td>\n",
       "      <td>09/20/2019 12:00:00 AM</td>\n",
       "      <td>96</td>\n",
       "      <td>Routine - Unscheduled</td>\n",
       "      <td>2019-09-20</td>\n",
       "      <td>14743</td>\n",
       "      <td>False</td>\n",
       "      <td>Polly Ann Ice Cream</td>\n",
       "      <td>3138 Noriega St.</td>\n",
       "      <td>polly ann ice cream</td>\n",
       "    </tr>\n",
       "    <tr>\n",
       "      <th>2267</th>\n",
       "      <td>32733_20161020</td>\n",
       "      <td>10/20/2016 12:00:00 AM</td>\n",
       "      <td>96</td>\n",
       "      <td>Routine - Unscheduled</td>\n",
       "      <td>2016-10-20</td>\n",
       "      <td>32733</td>\n",
       "      <td>False</td>\n",
       "      <td>Xanath Ice Cream</td>\n",
       "      <td>951 Valencia St</td>\n",
       "      <td>xanath ice cream</td>\n",
       "    </tr>\n",
       "  </tbody>\n",
       "</table>\n",
       "</div>"
      ],
      "text/plain": [
       "                 iid                    date  score                   type  \\\n",
       "559   14743_20161103  11/03/2016 12:00:00 AM    100  Routine - Unscheduled   \n",
       "560   14743_20170928  09/28/2017 12:00:00 AM     98  Routine - Unscheduled   \n",
       "561   14743_20180716  07/16/2018 12:00:00 AM    100  Routine - Unscheduled   \n",
       "562   14743_20190920  09/20/2019 12:00:00 AM     96  Routine - Unscheduled   \n",
       "2267  32733_20161020  10/20/2016 12:00:00 AM     96  Routine - Unscheduled   \n",
       "\n",
       "      timestamp    bid Missing Score                 name           address  \\\n",
       "559  2016-11-03  14743         False  Polly Ann Ice Cream  3138 Noriega St.   \n",
       "560  2017-09-28  14743         False  Polly Ann Ice Cream  3138 Noriega St.   \n",
       "561  2018-07-16  14743         False  Polly Ann Ice Cream  3138 Noriega St.   \n",
       "562  2019-09-20  14743         False  Polly Ann Ice Cream  3138 Noriega St.   \n",
       "2267 2016-10-20  32733         False     Xanath Ice Cream   951 Valencia St   \n",
       "\n",
       "           lowercase_name  \n",
       "559   polly ann ice cream  \n",
       "560   polly ann ice cream  \n",
       "561   polly ann ice cream  \n",
       "562   polly ann ice cream  \n",
       "2267     xanath ice cream  "
      ]
     },
     "execution_count": 132,
     "metadata": {},
     "output_type": "execute_result"
    }
   ],
   "source": [
    "ice_cream_at_least_3 = ice_cream_shops.groupby(\"bid\").filter(lambda x: len(x)>= 3)\n",
    "ice_cream_at_least_3.head()"
   ]
  },
  {
   "cell_type": "code",
   "execution_count": 133,
   "metadata": {
    "deletable": false,
    "editable": false
   },
   "outputs": [
    {
     "data": {
      "text/html": [
       "<p><strong><pre style='display: inline;'>q3b</pre></strong> passed! 💯</p>"
      ],
      "text/plain": [
       "q3b results: All test cases passed!"
      ]
     },
     "execution_count": 133,
     "metadata": {},
     "output_type": "execute_result"
    }
   ],
   "source": [
    "grader.check(\"q3b\")"
   ]
  },
  {
   "cell_type": "markdown",
   "metadata": {
    "deletable": false,
    "editable": false
   },
   "source": [
    "<!-- BEGIN QUESTION -->\n",
    "\n",
    "<br/>\n",
    "\n",
    "---\n",
    "## Question 3c\n",
    "\n",
    "In the cell below, run the following line of code: `q3c_df = ice_cream_shops.sort_values('timestamp').groupby('bid').agg('first')`\n",
    "\n",
    "Is the granularity of `ice_cream_at_least_3` the same as the granularity of `q3c_df`? In other words, what does a single row of `q3c_df` represent, and what does a single row in ice_cream_at_least_3 represent? Explain the granularity of each `DataFrame`. Your answer does not need to be more than 2-3 lines, but you should be specific."
   ]
  },
  {
   "cell_type": "code",
   "execution_count": 134,
   "metadata": {
    "deletable": false,
    "editable": false
   },
   "outputs": [
    {
     "data": {
      "text/html": [
       "<div>\n",
       "<style scoped>\n",
       "    .dataframe tbody tr th:only-of-type {\n",
       "        vertical-align: middle;\n",
       "    }\n",
       "\n",
       "    .dataframe tbody tr th {\n",
       "        vertical-align: top;\n",
       "    }\n",
       "\n",
       "    .dataframe thead th {\n",
       "        text-align: right;\n",
       "    }\n",
       "</style>\n",
       "<table border=\"1\" class=\"dataframe\">\n",
       "  <thead>\n",
       "    <tr style=\"text-align: right;\">\n",
       "      <th></th>\n",
       "      <th>iid</th>\n",
       "      <th>date</th>\n",
       "      <th>score</th>\n",
       "      <th>type</th>\n",
       "      <th>timestamp</th>\n",
       "      <th>Missing Score</th>\n",
       "      <th>name</th>\n",
       "      <th>address</th>\n",
       "      <th>lowercase_name</th>\n",
       "    </tr>\n",
       "    <tr>\n",
       "      <th>bid</th>\n",
       "      <th></th>\n",
       "      <th></th>\n",
       "      <th></th>\n",
       "      <th></th>\n",
       "      <th></th>\n",
       "      <th></th>\n",
       "      <th></th>\n",
       "      <th></th>\n",
       "      <th></th>\n",
       "    </tr>\n",
       "  </thead>\n",
       "  <tbody>\n",
       "    <tr>\n",
       "      <th>31</th>\n",
       "      <td>31_20180615</td>\n",
       "      <td>06/15/2018 12:00:00 AM</td>\n",
       "      <td>96</td>\n",
       "      <td>Routine - Unscheduled</td>\n",
       "      <td>2018-06-15</td>\n",
       "      <td>False</td>\n",
       "      <td>Norman's Ice Cream and Freezes</td>\n",
       "      <td>2801 Leavenworth St</td>\n",
       "      <td>norman's ice cream and freezes</td>\n",
       "    </tr>\n",
       "    <tr>\n",
       "      <th>758</th>\n",
       "      <td>758_20171212</td>\n",
       "      <td>12/12/2017 12:00:00 AM</td>\n",
       "      <td>94</td>\n",
       "      <td>Routine - Unscheduled</td>\n",
       "      <td>2017-12-12</td>\n",
       "      <td>False</td>\n",
       "      <td>BAKERY/ICE CREAM/STOREROOM</td>\n",
       "      <td>2 New Montgomery St</td>\n",
       "      <td>bakery/ice cream/storeroom</td>\n",
       "    </tr>\n",
       "    <tr>\n",
       "      <th>4671</th>\n",
       "      <td>4671_20170117</td>\n",
       "      <td>01/17/2017 12:00:00 AM</td>\n",
       "      <td>98</td>\n",
       "      <td>Routine - Unscheduled</td>\n",
       "      <td>2017-01-17</td>\n",
       "      <td>False</td>\n",
       "      <td>MARCO POLO ITALIAN ICE CREAM</td>\n",
       "      <td>1447 TARAVAL St</td>\n",
       "      <td>marco polo italian ice cream</td>\n",
       "    </tr>\n",
       "    <tr>\n",
       "      <th>5032</th>\n",
       "      <td>5032_20170627</td>\n",
       "      <td>06/27/2017 12:00:00 AM</td>\n",
       "      <td>94</td>\n",
       "      <td>Routine - Unscheduled</td>\n",
       "      <td>2017-06-27</td>\n",
       "      <td>False</td>\n",
       "      <td>MITCHELLS ICE CREAM</td>\n",
       "      <td>688 SAN JOSE Ave</td>\n",
       "      <td>mitchells ice cream</td>\n",
       "    </tr>\n",
       "    <tr>\n",
       "      <th>5524</th>\n",
       "      <td>5524_20161011</td>\n",
       "      <td>10/11/2016 12:00:00 AM</td>\n",
       "      <td>98</td>\n",
       "      <td>Routine - Unscheduled</td>\n",
       "      <td>2016-10-11</td>\n",
       "      <td>False</td>\n",
       "      <td>AT&amp;T Park - Coffee and Ice Cream (4A+4B)</td>\n",
       "      <td>24 WILLIE MAYS PLAZA</td>\n",
       "      <td>at&amp;t park - coffee and ice cream (4a+4b)</td>\n",
       "    </tr>\n",
       "  </tbody>\n",
       "</table>\n",
       "</div>"
      ],
      "text/plain": [
       "                iid                    date  score                   type  \\\n",
       "bid                                                                         \n",
       "31      31_20180615  06/15/2018 12:00:00 AM     96  Routine - Unscheduled   \n",
       "758    758_20171212  12/12/2017 12:00:00 AM     94  Routine - Unscheduled   \n",
       "4671  4671_20170117  01/17/2017 12:00:00 AM     98  Routine - Unscheduled   \n",
       "5032  5032_20170627  06/27/2017 12:00:00 AM     94  Routine - Unscheduled   \n",
       "5524  5524_20161011  10/11/2016 12:00:00 AM     98  Routine - Unscheduled   \n",
       "\n",
       "      timestamp Missing Score                                      name  \\\n",
       "bid                                                                       \n",
       "31   2018-06-15         False            Norman's Ice Cream and Freezes   \n",
       "758  2017-12-12         False                BAKERY/ICE CREAM/STOREROOM   \n",
       "4671 2017-01-17         False              MARCO POLO ITALIAN ICE CREAM   \n",
       "5032 2017-06-27         False                       MITCHELLS ICE CREAM   \n",
       "5524 2016-10-11         False  AT&T Park - Coffee and Ice Cream (4A+4B)   \n",
       "\n",
       "                   address                            lowercase_name  \n",
       "bid                                                                   \n",
       "31     2801 Leavenworth St            norman's ice cream and freezes  \n",
       "758    2 New Montgomery St                bakery/ice cream/storeroom  \n",
       "4671       1447 TARAVAL St              marco polo italian ice cream  \n",
       "5032      688 SAN JOSE Ave                       mitchells ice cream  \n",
       "5524  24 WILLIE MAYS PLAZA  at&t park - coffee and ice cream (4a+4b)  "
      ]
     },
     "execution_count": 134,
     "metadata": {},
     "output_type": "execute_result"
    }
   ],
   "source": [
    "q3c_df = ice_cream_shops.sort_values('timestamp').groupby('bid').agg('first')\n",
    "q3c_df.head()"
   ]
  },
  {
   "cell_type": "markdown",
   "metadata": {},
   "source": [
    "_The q3c_df is at the level of inspecting each individual bid. Each row is a bid level that is sorted and represents the earliest timestamp of this ice cream shop. A single row is one inspection for one bid that is the earliest inspection for that bid shop. The ice_cream_at_least_3 is at the ice cream shop level too, because it shows ice cream shops that have at least 3 inspections. Each row in the ice_cream_at_least_3 represents on unique ice cream shop that has had at least 3 inspections._"
   ]
  },
  {
   "cell_type": "markdown",
   "metadata": {
    "deletable": false,
    "editable": false
   },
   "source": [
    "<!-- END QUESTION -->\n",
    "\n",
    "<br/>\n",
    "\n",
    "---\n",
    "## Question 3d"
   ]
  },
  {
   "cell_type": "markdown",
   "metadata": {
    "deletable": false,
    "editable": false
   },
   "source": [
    "Rather than the inspection scores, you find that the number of vowels present in the business `name` is a better indicator of how good the ice cream is when it comes to the shops in `ice_cream_at_least_3`. Using the helper function `count_vowels` we have defined for you, sort all the ice cream shops in `ice_cream_at_least_3` based on this metric in descending order. Then, return a **Python `list`** consisting of the top 2 **uniquely named** ice cream shops using this sorted `DataFrame`. You should break ties using alphabetical ordering. You do not need to stick to the skeleton code provided, but you are **not allowed to do not add any new columns!**\n",
    "\n",
    "This is pretty challenging, but rest assured, the price of knowing the best ice cream shops is well worth it! \n"
   ]
  },
  {
   "cell_type": "code",
   "execution_count": 135,
   "metadata": {
    "deletable": false,
    "editable": false
   },
   "outputs": [],
   "source": [
    "def count_vowels(name):\n",
    "    vowels = 'aeiouAEIOU'\n",
    "    count = 0\n",
    "    return sum([letter in vowels for letter in name])"
   ]
  },
  {
   "cell_type": "code",
   "execution_count": 136,
   "metadata": {
    "tags": []
   },
   "outputs": [
    {
     "data": {
      "text/plain": [
       "['MARCO POLO ITALIAN ICE CREAM', 'AT&T Park - Coffee and Ice Cream (4A+4B)']"
      ]
     },
     "execution_count": 136,
     "metadata": {},
     "output_type": "execute_result"
    }
   ],
   "source": [
    "sorted_by_vowel_count = ice_cream_at_least_3.sort_values([\"name\", \"name\"], key = lambda x: x.apply(count_vowels), ascending = [False, True])\n",
    "finding_unique_vals = sorted_by_vowel_count.drop_duplicates(\"name\", keep = 'first')\n",
    "top_2_ice_cream = finding_unique_vals.head(2)[\"name\"].tolist()\n",
    "top_2_ice_cream"
   ]
  },
  {
   "cell_type": "code",
   "execution_count": 137,
   "metadata": {
    "deletable": false,
    "editable": false
   },
   "outputs": [
    {
     "data": {
      "text/html": [
       "<p><strong><pre style='display: inline;'>q3d</pre></strong> passed! 🎉</p>"
      ],
      "text/plain": [
       "q3d results: All test cases passed!"
      ]
     },
     "execution_count": 137,
     "metadata": {},
     "output_type": "execute_result"
    }
   ],
   "source": [
    "grader.check(\"q3d\")"
   ]
  },
  {
   "cell_type": "markdown",
   "metadata": {
    "deletable": false,
    "editable": false
   },
   "source": [
    "<!-- BEGIN QUESTION -->\n",
    "\n",
    "<br/>\n",
    "\n",
    "---\n",
    "## Question 3e\n",
    "\n",
    "Finally, to examine different parts of a chained pandas statement, describe the purpose of each of the functions used (`.loc`, `.groupby`, `idxmax()`) in words. \n",
    "\n",
    "Secondly, share what you think this line of code accomplishes. In other words, write a question that could be answered using this statement.\n",
    "\n",
    "While the first part of this question will be graded for correctness, the second part of this question is a bit more open-ended. Answers demonstrating your understanding will get full credit."
   ]
  },
  {
   "cell_type": "code",
   "execution_count": 138,
   "metadata": {
    "deletable": false,
    "editable": false,
    "scrolled": true
   },
   "outputs": [
    {
     "data": {
      "text/html": [
       "<div>\n",
       "<style scoped>\n",
       "    .dataframe tbody tr th:only-of-type {\n",
       "        vertical-align: middle;\n",
       "    }\n",
       "\n",
       "    .dataframe tbody tr th {\n",
       "        vertical-align: top;\n",
       "    }\n",
       "\n",
       "    .dataframe thead th {\n",
       "        text-align: right;\n",
       "    }\n",
       "</style>\n",
       "<table border=\"1\" class=\"dataframe\">\n",
       "  <thead>\n",
       "    <tr style=\"text-align: right;\">\n",
       "      <th></th>\n",
       "      <th>iid</th>\n",
       "      <th>date</th>\n",
       "      <th>score</th>\n",
       "      <th>type</th>\n",
       "      <th>timestamp</th>\n",
       "      <th>bid</th>\n",
       "      <th>Missing Score</th>\n",
       "      <th>name</th>\n",
       "      <th>address</th>\n",
       "      <th>lowercase_name</th>\n",
       "    </tr>\n",
       "  </thead>\n",
       "  <tbody>\n",
       "    <tr>\n",
       "      <th>3704</th>\n",
       "      <td>4671_20171130</td>\n",
       "      <td>11/30/2017 12:00:00 AM</td>\n",
       "      <td>100</td>\n",
       "      <td>Routine - Unscheduled</td>\n",
       "      <td>2017-11-30</td>\n",
       "      <td>4671</td>\n",
       "      <td>False</td>\n",
       "      <td>MARCO POLO ITALIAN ICE CREAM</td>\n",
       "      <td>1447 TARAVAL St</td>\n",
       "      <td>marco polo italian ice cream</td>\n",
       "    </tr>\n",
       "    <tr>\n",
       "      <th>3972</th>\n",
       "      <td>5032_20190718</td>\n",
       "      <td>07/18/2019 12:00:00 AM</td>\n",
       "      <td>100</td>\n",
       "      <td>Routine - Unscheduled</td>\n",
       "      <td>2019-07-18</td>\n",
       "      <td>5032</td>\n",
       "      <td>False</td>\n",
       "      <td>MITCHELLS ICE CREAM</td>\n",
       "      <td>688 SAN JOSE Ave</td>\n",
       "      <td>mitchells ice cream</td>\n",
       "    </tr>\n",
       "    <tr>\n",
       "      <th>4182</th>\n",
       "      <td>5524_20170919</td>\n",
       "      <td>09/19/2017 12:00:00 AM</td>\n",
       "      <td>100</td>\n",
       "      <td>Routine - Unscheduled</td>\n",
       "      <td>2017-09-19</td>\n",
       "      <td>5524</td>\n",
       "      <td>False</td>\n",
       "      <td>AT&amp;T Park - Coffee and Ice Cream (4A+4B)</td>\n",
       "      <td>24 WILLIE MAYS PLAZA</td>\n",
       "      <td>at&amp;t park - coffee and ice cream (4a+4b)</td>\n",
       "    </tr>\n",
       "    <tr>\n",
       "      <th>4186</th>\n",
       "      <td>5528_20170424</td>\n",
       "      <td>04/24/2017 12:00:00 AM</td>\n",
       "      <td>100</td>\n",
       "      <td>Routine - Unscheduled</td>\n",
       "      <td>2017-04-24</td>\n",
       "      <td>5528</td>\n",
       "      <td>False</td>\n",
       "      <td>AT&amp;T - Juma Cart 1 - Ice Cream</td>\n",
       "      <td>24 WILLIE MAYS PLAZA</td>\n",
       "      <td>at&amp;t - juma cart 1 - ice cream</td>\n",
       "    </tr>\n",
       "    <tr>\n",
       "      <th>559</th>\n",
       "      <td>14743_20161103</td>\n",
       "      <td>11/03/2016 12:00:00 AM</td>\n",
       "      <td>100</td>\n",
       "      <td>Routine - Unscheduled</td>\n",
       "      <td>2016-11-03</td>\n",
       "      <td>14743</td>\n",
       "      <td>False</td>\n",
       "      <td>Polly Ann Ice Cream</td>\n",
       "      <td>3138 Noriega St.</td>\n",
       "      <td>polly ann ice cream</td>\n",
       "    </tr>\n",
       "  </tbody>\n",
       "</table>\n",
       "</div>"
      ],
      "text/plain": [
       "                 iid                    date  score                   type  \\\n",
       "3704   4671_20171130  11/30/2017 12:00:00 AM    100  Routine - Unscheduled   \n",
       "3972   5032_20190718  07/18/2019 12:00:00 AM    100  Routine - Unscheduled   \n",
       "4182   5524_20170919  09/19/2017 12:00:00 AM    100  Routine - Unscheduled   \n",
       "4186   5528_20170424  04/24/2017 12:00:00 AM    100  Routine - Unscheduled   \n",
       "559   14743_20161103  11/03/2016 12:00:00 AM    100  Routine - Unscheduled   \n",
       "\n",
       "      timestamp    bid Missing Score  \\\n",
       "3704 2017-11-30   4671         False   \n",
       "3972 2019-07-18   5032         False   \n",
       "4182 2017-09-19   5524         False   \n",
       "4186 2017-04-24   5528         False   \n",
       "559  2016-11-03  14743         False   \n",
       "\n",
       "                                          name               address  \\\n",
       "3704              MARCO POLO ITALIAN ICE CREAM       1447 TARAVAL St   \n",
       "3972                       MITCHELLS ICE CREAM      688 SAN JOSE Ave   \n",
       "4182  AT&T Park - Coffee and Ice Cream (4A+4B)  24 WILLIE MAYS PLAZA   \n",
       "4186            AT&T - Juma Cart 1 - Ice Cream  24 WILLIE MAYS PLAZA   \n",
       "559                        Polly Ann Ice Cream      3138 Noriega St.   \n",
       "\n",
       "                                lowercase_name  \n",
       "3704              marco polo italian ice cream  \n",
       "3972                       mitchells ice cream  \n",
       "4182  at&t park - coffee and ice cream (4a+4b)  \n",
       "4186            at&t - juma cart 1 - ice cream  \n",
       "559                        polly ann ice cream  "
      ]
     },
     "execution_count": 138,
     "metadata": {},
     "output_type": "execute_result"
    }
   ],
   "source": [
    "ice_cream_at_least_3.loc[ice_cream_at_least_3.groupby(\"bid\")[\"score\"].idxmax()].head()"
   ]
  },
  {
   "cell_type": "markdown",
   "metadata": {},
   "source": [
    "_The .groupby(\"bid\") portion of the function is grouping the df (ice_cream_at_least_3) by the bid column. It will create group in the df where the rows of each group is those with the same \"bid\" value. The [\"score\"] part right after this will select the \"score \" column of each group and return a series._\n",
    "\n",
    "_The .idxmax() then comes in and takes the maximum score for each of these grouped bids and returns the row label (index) where the highest score is. The function with return a series with the index of the maximum scores for each of these grouped bids._\n",
    "\n",
    "_Then the .loc function takes in these row values and selects them from the ice_cream_at_least_3 dataframe. It filters ice_cream_at_least_3 to get the rows that correspond to the maximum scores for each bid group. The .loc function then returns a new dataframe containing all the columns from the ice_cream_at_least_3 dataframe, but filtered to only show the rows with the maximum score for those particular bids._\n",
    "\n",
    "_For the second part:\n",
    "A question I would ask would be: Please return a new dataframe that contains the maximum score achieved by each unique bid in the ice_cream_at_least_3 dataframe._"
   ]
  },
  {
   "cell_type": "code",
   "execution_count": 139,
   "metadata": {
    "tags": []
   },
   "outputs": [],
   "source": [
    "# You may do some scratch work in this cell, however, only your written answer will be graded. \n",
    "#ice_cream_at_least_3.loc[ice_cream_at_least_3.groupby(\"bid\")[\"score\"].idxmax()].head()"
   ]
  },
  {
   "cell_type": "markdown",
   "metadata": {
    "deletable": false,
    "editable": false
   },
   "source": [
    "<!-- END QUESTION -->\n",
    "\n",
    "<br/><br/>\n",
    "\n",
    "---\n",
    "\n",
    "# Question 4: Restaurant Ratings Over Time\n",
    "\n",
    "As a final challenge, we consider a scenario involving restaurants with multiple ratings over time.\n",
    "\n",
    "Let's see which restaurant location has had the most extreme improvement in its scores. Let the \"swing\" of a restaurant location be defined as the difference between its highest-ever and lowest-ever score. **Only consider restaurant locations with at least 3 scores—that is, restaurants that were rated at least 3 times.** Assign `max_swing` to the name of the restaurant that has the maximum swing. \n",
    "\n",
    "We have not provided any skeleton, as there are many paths to getting the correct answer. The recommended approach to solving this problem is to break it down into smaller chunks (e.g., first, ensure all restaurants have at least 3 scores; second, compute ... ). This will likely require more than one line, so feel free to add/remove columns and define new temporary variables. Remember to assign your solution - a string containing the `name` of the restaurant location that experienced the most extreme improvement - to `max_swing` after you do so. \n",
    "\n",
    "**Note**: The \"swing\" is of a specific restaurant location. There might be some restaurants with multiple locations; we are focusing on the swing of a particular restaurant as specified by its `name` and `address`.\n",
    "\n"
   ]
  },
  {
   "cell_type": "code",
   "execution_count": 140,
   "metadata": {
    "tags": []
   },
   "outputs": [
    {
     "data": {
      "text/plain": [
       "'Smitten Ice Cream'"
      ]
     },
     "execution_count": 140,
     "metadata": {},
     "output_type": "execute_result"
    }
   ],
   "source": [
    "#swing = high - low score\n",
    "#restaurant locations with at least 3 scores (rated 3 times)\n",
    "#solution = string containing the name of the restaurant location \n",
    "#the swing is considering name & address\n",
    "at_least_3_scores = ice_cream_shops.groupby([\"name\", \"address\"]). filter(lambda x: len(x) >= 3)\n",
    "sorted_locations = at_least_3_scores.sort_values([\"name\", \"address\", \"score\"], ascending = False)\n",
    "sorted_locations_high_score = sorted_locations.groupby([\"name\", \"address\"]).agg('first')\n",
    "sorted_locations_low_score = sorted_locations.groupby([\"name\", \"address\"]).agg('last')\n",
    "difference = sorted_locations_high_score[\"score\"] - sorted_locations_low_score[\"score\"]\n",
    "max_swing = difference.sort_values(ascending = False).index[0][0]\n",
    "max_swing"
   ]
  },
  {
   "cell_type": "code",
   "execution_count": 141,
   "metadata": {
    "deletable": false,
    "editable": false
   },
   "outputs": [
    {
     "data": {
      "text/html": [
       "<p><strong><pre style='display: inline;'>q4</pre></strong> passed! ✨</p>"
      ],
      "text/plain": [
       "q4 results: All test cases passed!"
      ]
     },
     "execution_count": 141,
     "metadata": {},
     "output_type": "execute_result"
    }
   ],
   "source": [
    "grader.check(\"q4\")"
   ]
  },
  {
   "cell_type": "markdown",
   "metadata": {},
   "source": [
    "## Summary of Inspections Data\n",
    "\n",
    "We have done a lot in this homework! \n",
    " \n",
    "- Broke down the inspection scores in detail using `.groupby` and `.pivot_table`,\n",
    "- Joined the business and inspection data and identified the name of the restaurant with the worst rating,\n",
    "- Took a deep dive into the sweet world of ice cream and found the best spots under varying metrics,\n",
    "- Took a swing at analyzing how restaurant inspection scores change over time!\n",
    "\n",
    "Over the course of this 2-part homework, we hope you have become more familiar with `pandas` - in terms of identifying when to use particular functions, how they work, when they can support EDA - as well as about EDA and Data Cleaning, as part of the broader Data Science Lifecycle. These tools will serve you well as a data scientist!"
   ]
  },
  {
   "cell_type": "markdown",
   "metadata": {},
   "source": [
    "<hr style=\"border: 5px solid #003262;\" />\n",
    "<hr style=\"border: 1px solid #fdb515;\" />"
   ]
  },
  {
   "cell_type": "markdown",
   "metadata": {},
   "source": [
    "## Congratulations! You have finished Homework 2B! ##"
   ]
  },
  {
   "cell_type": "markdown",
   "metadata": {},
   "source": [
    "### Submission Instructions\n",
    "\n",
    "Below, you will see two cells.\n",
    "* Running the very last cell will automatically generate a zip with your autograded answers.\n",
    "* Only after you run the very last cell, you can press button on the second last cell to automatically generate a PDF of all manually graded questions in Homework 2B. Clicking on the link should open up the pdf in Jupyer and allow you to download it from there. If the link does not work, please check `File Browser` tab on the left panel and download hw02B.pdf from there.\n",
    "\n",
    "To receive credit on this assignment, **you must submit both your coding and written portions to their respective Gradescope portals.** Your written submission (a single\n",
    "PDF) can be generated as follows:\n",
    "\n",
    "1. Access your answers to manually graded Homework 2B  questions in one of three ways:\n",
    "      * <b>*Automatically create PDF (recommended)*</b>: Run the first cell below and download the generated PDF. This function will extract your response to the manually graded questions and put them on a separate page. This process may fail if your answer is not properly formatted; if this is the case, check out common errors and solutions described on Ed or follow either of the two ways described below.\n",
    "      * *Manually download PDF*: If there are issues with automatically generating the PDF in the first cell, you can try downloading the notebook as a PDF by clicking on `File -> Save and Export Notebook As... -> PDF`. If you choose to go this route, you must take special care to ensure all appropriate pages are chosen for each question on Gradescope.\n",
    "      * *Take screenshots*: If that doesn't work either, you can take screenshots of your answers (and your code if present) to manually graded questions and include them as images in a PDF. The manually graded questions are listed at the top of the Homework 2B notebook.\n",
    "    \n",
    "1. **Important**: When submitting on Gradescope, you **must tag pages to each question correctly** (it prompts you to do this after submitting your work). This significantly streamlines the grading process for our readers. Failure to do this may result in a score of 0 for untagged questions.\n",
    "\n",
    "**You are responsible for ensuring your submission follows our requirements. We will not be granting regrade requests nor extensions to submissions that don't follow instructions.** If you encounter any difficulties with submission, please don't hesitate to reach out to staff prior to the deadline."
   ]
  },
  {
   "cell_type": "markdown",
   "metadata": {
    "deletable": false,
    "editable": false
   },
   "source": [
    "## Submission\n",
    "\n",
    "Make sure you have run all cells in your notebook in order before running the cell below, so that all images/graphs appear in the output. The cell below will generate a zip file for you to submit. **Please save before exporting!**\n",
    "\n",
    "After you have run the cell below and generated the zip file, you can open the PDF <a href='hw02B.pdf' download>here</a>."
   ]
  },
  {
   "cell_type": "code",
   "execution_count": null,
   "metadata": {
    "deletable": false,
    "editable": false
   },
   "outputs": [],
   "source": [
    "# Save your notebook first, then run this cell to export your submission.\n",
    "grader.export(run_tests=True)"
   ]
  },
  {
   "cell_type": "markdown",
   "metadata": {},
   "source": [
    " "
   ]
  }
 ],
 "metadata": {
  "celltoolbar": "Create Assignment",
  "kernelspec": {
   "display_name": "Python 3 (ipykernel)",
   "language": "python",
   "name": "python3"
  },
  "language_info": {
   "codemirror_mode": {
    "name": "ipython",
    "version": 3
   },
   "file_extension": ".py",
   "mimetype": "text/x-python",
   "name": "python",
   "nbconvert_exporter": "python",
   "pygments_lexer": "ipython3",
   "version": "3.11.0"
  },
  "otter": {
   "OK_FORMAT": true,
   "tests": {
    "q1a": {
     "name": "q1a",
     "points": 2,
     "suites": [
      {
       "cases": [
        {
         "code": ">>> len(ins_score_by_type.columns) == 1\nTrue",
         "hidden": false,
         "locked": false
        },
        {
         "code": ">>> ins_score_by_type.columns[0] == 'max_score'\nTrue",
         "hidden": false,
         "locked": false
        },
        {
         "code": ">>> set(ins_score_by_type.index) == set(ins['type'].unique())\nTrue",
         "hidden": false,
         "locked": false
        }
       ],
       "scored": true,
       "setup": "",
       "teardown": "",
       "type": "doctest"
      }
     ]
    },
    "q1b": {
     "name": "q1b",
     "points": 3,
     "suites": [
      {
       "cases": [
        {
         "code": ">>> ins_missing_score_group.columns[0] == 'Count'\nTrue",
         "hidden": false,
         "locked": false
        },
        {
         "code": ">>> len(ins_missing_score_group) == 16\nTrue",
         "hidden": false,
         "locked": false
        }
       ],
       "scored": true,
       "setup": "",
       "teardown": "",
       "type": "doctest"
      }
     ]
    },
    "q1c": {
     "name": "q1c",
     "points": 3,
     "suites": [
      {
       "cases": [
        {
         "code": ">>> type(ins_missing_score_pivot) == pd.DataFrame\nTrue",
         "hidden": false,
         "locked": false
        }
       ],
       "scored": true,
       "setup": "",
       "teardown": "",
       "type": "doctest"
      }
     ]
    },
    "q2a": {
     "name": "q2a",
     "points": 2,
     "suites": [
      {
       "cases": [
        {
         "code": ">>> \"name\" in ins_named and \"address\" in ins_named\nTrue",
         "hidden": false,
         "locked": false
        },
        {
         "code": ">>> ins_named[ins_named[\"Missing Score\"] == True].shape[0] == 0\nTrue",
         "hidden": false,
         "locked": false
        },
        {
         "code": ">>> ins_named.reset_index()['date'].equals(ins[ins['score'] > 0].reset_index()['date'])\nTrue",
         "hidden": false,
         "locked": false
        }
       ],
       "scored": true,
       "setup": "",
       "teardown": "",
       "type": "doctest"
      }
     ]
    },
    "q2b": {
     "name": "q2b",
     "points": 3,
     "suites": [
      {
       "cases": [
        {
         "code": ">>> assert  twenty_lowest_scoring.shape == (20, 2) # two columns\n>>> assert len(twenty_lowest_scoring.index.names) == 1 # single index\n",
         "hidden": false,
         "locked": false
        },
        {
         "code": ">>> twenty_lowest_scoring.iloc[0][0] == 'Chaat Corner'\nTrue",
         "hidden": false,
         "locked": false
        }
       ],
       "scored": true,
       "setup": "",
       "teardown": "",
       "type": "doctest"
      }
     ]
    },
    "q2c": {
     "name": "q2c",
     "points": 1,
     "suites": [
      {
       "cases": [
        {
         "code": ">>> (type(worst_restaurant) == str) and (len(worst_restaurant) > 0) \nTrue",
         "hidden": false,
         "locked": false
        },
        {
         "code": ">>> ins_named[ins_named['name'] == worst_restaurant]['score'].min() != -1\nTrue",
         "hidden": false,
         "locked": false
        }
       ],
       "scored": true,
       "setup": "",
       "teardown": "",
       "type": "doctest"
      }
     ]
    },
    "q2d": {
     "name": "q2d",
     "points": 1,
     "suites": [
      {
       "cases": [
        {
         "code": ">>> cleaned_up in [True, False]\nTrue",
         "hidden": false,
         "locked": false
        }
       ],
       "scored": true,
       "setup": "",
       "teardown": "",
       "type": "doctest"
      }
     ]
    },
    "q3a": {
     "name": "q3a",
     "points": 1,
     "suites": [
      {
       "cases": [
        {
         "code": ">>> len(ice_cream_shops) == 65\nTrue",
         "hidden": false,
         "locked": false
        },
        {
         "code": ">>> type(ice_cream_shops) == pd.DataFrame\nTrue",
         "hidden": false,
         "locked": false
        }
       ],
       "scored": true,
       "setup": "",
       "teardown": "",
       "type": "doctest"
      }
     ]
    },
    "q3b": {
     "name": "q3b",
     "points": 2,
     "suites": [
      {
       "cases": [
        {
         "code": ">>> ice_cream_at_least_3.shape[0] > 40 and ice_cream_at_least_3.shape[0] < 60\nTrue",
         "hidden": false,
         "locked": false
        }
       ],
       "scored": true,
       "setup": "",
       "teardown": "",
       "type": "doctest"
      }
     ]
    },
    "q3d": {
     "name": "q3d",
     "points": 3,
     "suites": [
      {
       "cases": [
        {
         "code": ">>> len(ice_cream_at_least_3.columns) == 10\nTrue",
         "hidden": false,
         "locked": false
        },
        {
         "code": ">>> type(top_2_ice_cream) == list and len(top_2_ice_cream) == 2\nTrue",
         "hidden": false,
         "locked": false
        },
        {
         "code": ">>> count_vowels(top_2_ice_cream[0]) >= 8\nTrue",
         "hidden": false,
         "locked": false
        }
       ],
       "scored": true,
       "setup": "",
       "teardown": "",
       "type": "doctest"
      }
     ]
    },
    "q4": {
     "name": "q4",
     "points": 3,
     "suites": [
      {
       "cases": [
        {
         "code": ">>> max_swing in set(bus['name'])\nTrue",
         "hidden": false,
         "locked": false
        }
       ],
       "scored": true,
       "setup": "",
       "teardown": "",
       "type": "doctest"
      }
     ]
    }
   }
  }
 },
 "nbformat": 4,
 "nbformat_minor": 4
}
