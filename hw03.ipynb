{
 "cells": [
  {
   "cell_type": "code",
   "execution_count": 168,
   "metadata": {
    "deletable": false,
    "editable": false,
    "slideshow": {
     "slide_type": ""
    },
    "tags": []
   },
   "outputs": [],
   "source": [
    "# Initialize Otter\n",
    "import otter\n",
    "grader = otter.Notebook(\"hw03.ipynb\")"
   ]
  },
  {
   "cell_type": "markdown",
   "metadata": {
    "nbgrader": {
     "grade": false,
     "grade_id": "intro",
     "locked": true,
     "schema_version": 2,
     "solution": false
    }
   },
   "source": [
    "# Homework 3: Text Analysis Using Twitter ($\\mathbb{X}$)\n",
    "\n",
    "## Cleaning and Exploring Twitter Data using RegEx\n",
    "\n",
    "### Due Date: Thursday, September 21, 11:59 PM\n",
    "You must submit this assignment to Gradescope by the on-time deadline, Thursday, September 21, at 11:59 PM. Please read the syllabus for the grace period policy. No late submissions beyond the grace period will be accepted. **We strongly encourage you to submit your work to Gradescope several hours before the stated deadline.** This way, you will have ample time to reach out to staff for support if you encounter difficulties with submission. While course staff is happy to help guide you with submitting your assignment ahead of the deadline, we will not respond to last-minute requests for assistance (TAs need to sleep, after all!).\n",
    "\n",
    "Please read the instructions carefully to submit your work to both the coding and written portals of Gradescope.\n",
    "\n",
    "## Collaboration Policy\n",
    "\n",
    "Data science is a collaborative activity. While you may talk with others about the homework, we ask that you **write your solutions individually**. If you do discuss the assignments with others, please **include their names** at the top of your notebook."
   ]
  },
  {
   "cell_type": "markdown",
   "metadata": {},
   "source": [
    "**Collaborators**: *list collaborators here*"
   ]
  },
  {
   "cell_type": "markdown",
   "metadata": {},
   "source": [
    "## This Assignment\n",
    "\n",
    "Welcome to Homework 3! In this assignment, we will be exploring tweets from several high-profile Twitter users.  \n",
    "\n",
    "In this assignment, you will gain practice with:\n",
    "* Conducting data cleaning and EDA on a text-based dataset,\n",
    "* Manipulating data in `pandas` with the `datetime` and `string` accessors,\n",
    "* Writing regular expressions and using `pandas` RegEx methods, and\n",
    "* Performing sentiment analysis on social media using VADER."
   ]
  },
  {
   "cell_type": "code",
   "execution_count": 169,
   "metadata": {
    "nbgrader": {
     "grade": false,
     "grade_id": "import",
     "locked": true,
     "schema_version": 2,
     "solution": false
    }
   },
   "outputs": [],
   "source": [
    "# Run this cell to set up your notebook.\n",
    "import numpy as np\n",
    "import pandas as pd\n",
    "import matplotlib.pyplot as plt\n",
    "import seaborn as sns\n",
    "import re\n",
    "\n",
    "from ds100_utils import *\n",
    "\n",
    "# Ensure that pandas shows at least 280 characters in columns, so we can see full tweets.\n",
    "pd.set_option('max_colwidth', 280)\n",
    "plt.style.use('fivethirtyeight')\n",
    "sns.set()\n",
    "sns.set_context(\"talk\")\n",
    "\n",
    "def horiz_concat_df(dict_of_df, head=None):\n",
    "    \"\"\"\n",
    "    Horizontally concatenante multiple DataFrames for easier visualization. \n",
    "    Each DataFrame must have the same columns.\n",
    "    \"\"\"\n",
    "    df = pd.concat([df.reset_index(drop=True) for df in dict_of_df.values()], axis=1, keys=dict_of_df.keys())\n",
    "    if head is None:\n",
    "        return df\n",
    "    return df.head(head)"
   ]
  },
  {
   "cell_type": "markdown",
   "metadata": {},
   "source": [
    "### Score Breakdown\n",
    "\n",
    "Question | Manual| Points\n",
    "--- |---| ---\n",
    "1a |No| 1\n",
    "1b |No| 1\n",
    "1c |No| 3\n",
    "1d |Yes| 1\n",
    "2a |No| 2\n",
    "2b |No| 2\n",
    "2c |No| 2\n",
    "2d |No| 2\n",
    "2e |Yes| 2\n",
    "2f |Yes| 1\n",
    "3a |No| 1\n",
    "3b |Yes| 1\n",
    "3c |No| 1\n",
    "4a |Yes| 1\n",
    "4b |No| 1\n",
    "4ci |No| 1\n",
    "4cii |No| 1\n",
    "4d |No| 1\n",
    "4e |No| 2\n",
    "4f |No| 2\n",
    "4g |Yes| 2\n",
    "5a |Yes| 2\n",
    "5b |Yes| 2\n",
    "**Total** | **8** | **35**"
   ]
  },
  {
   "cell_type": "markdown",
   "metadata": {
    "nbgrader": {
     "grade": false,
     "grade_id": "q3",
     "locked": true,
     "schema_version": 2,
     "solution": false
    }
   },
   "source": [
    "<hr style=\"border: 5px solid #003262;\" />\n",
    "<hr style=\"border: 1px solid #fdb515;\" />\n",
    "\n",
    "## Question 1: Importing the Data\n",
    "\n",
    "The data for this assignment was obtained using the [Twitter APIs](https://developer.twitter.com/en/docs/twitter-api). To ensure that everyone has the same data and to eliminate the need for every student to apply for a Twitter developer account, we have collected a sample of tweets from several high-profile public figures. The data is stored in the folder `data`. Run the following cell to list the contents of the directory:"
   ]
  },
  {
   "cell_type": "code",
   "execution_count": 170,
   "metadata": {},
   "outputs": [
    {
     "name": "stdout",
     "output_type": "stream",
     "text": [
      "elonmusk_recent_tweets.txt\n",
      "Cristiano_recent_tweets.txt\n",
      "EmmanuelMacron_recent_tweets.txt\n",
      "BernieSanders_recent_tweets.txt\n",
      "AOC_recent_tweets.txt\n",
      "BillGates_recent_tweets.txt\n"
     ]
    }
   ],
   "source": [
    "# Run this cell to list the content, no further action is needed.\n",
    "from os import listdir\n",
    "for f in listdir(\"data\"):\n",
    "    print(f)"
   ]
  },
  {
   "cell_type": "markdown",
   "metadata": {
    "deletable": false,
    "editable": false
   },
   "source": [
    "<br>\n",
    "\n",
    "--- \n",
    "\n",
    "### Question 1a\n",
    "\n",
    "Let's examine the contents of one of these files. Using the [`open` function](https://docs.python.org/3/library/functions.html#open) and [`read` operation](https://docs.python.org/3/tutorial/inputoutput.html#methods-of-file-objects) on a `python` file object, read the first 1000 **characters** in `data/BernieSanders_recent_tweets.txt` and store your result in the variable `q1a`.  Then display the result so you can read it.\n",
    "\n",
    "**CAUTION: Viewing the contents of large files in a Jupyter Notebook could crash your browser! Be careful not to print the entire contents of the file.**\n",
    "\n",
    "**Hint1:** You might want to try to use `with`:\n",
    "\n",
    "```python\n",
    "with open(\"filename\", \"r\") as f:\n",
    "    f.read(2)\n",
    "```\n",
    "**Hint2:** Since your data is stored in the `data` directory, your datapath should start with `data/...`. Absolute paths (i.e., paths that start from the root directory) will not be accepted."
   ]
  },
  {
   "cell_type": "code",
   "execution_count": 171,
   "metadata": {
    "tags": []
   },
   "outputs": [
    {
     "name": "stdout",
     "output_type": "stream",
     "text": [
      "[{\"created_at\": \"Sat Feb 06 22:43:03 +0000 2021\", \"id\": 1358184460794163202, \"id_str\": \"1358184460794163202\", \"full_text\": \"Why would we want to impeach and convict Donald Trump \\u2013 a president who is now out of office? Because it must be made clear that no president, now or in the future, can lead an insurrection against the government he or she is sworn to protect.\", \"truncated\": false, \"display_text_range\": [0, 243], \"entities\": {\"hashtags\": [], \"symbols\": [], \"user_mentions\": [], \"urls\": []}, \"source\": \"<a href=\\\"http://twitter.com/download/iphone\\\" rel=\\\"nofollow\\\">Twitter for iPhone</a>\", \"in_reply_to_status_id\": null, \"in_reply_to_status_id_str\": null, \"in_reply_to_user_id\": null, \"in_reply_to_user_id_str\": null, \"in_reply_to_screen_name\": null, \"user\": {\"id\": 216776631, \"id_str\": \"216776631\", \"name\": \"Bernie Sanders\", \"screen_name\": \"BernieSanders\", \"location\": \"Vermont\", \"description\": \"U.S. Senator for Vermont. Not me, us.\", \"url\": \"https://t.co/jpg8Sp1GhR\", \"entities\": {\"\n"
     ]
    }
   ],
   "source": [
    "with open(\"data/BernieSanders_recent_tweets.txt\", \"r\") as f:\n",
    "    q1a = f.read(1000)\n",
    "print(q1a)"
   ]
  },
  {
   "cell_type": "code",
   "execution_count": 172,
   "metadata": {
    "deletable": false,
    "editable": false
   },
   "outputs": [
    {
     "data": {
      "text/html": [
       "<p><strong><pre style='display: inline;'>q1a</pre></strong> passed! 🙌</p>"
      ],
      "text/plain": [
       "q1a results: All test cases passed!"
      ]
     },
     "execution_count": 172,
     "metadata": {},
     "output_type": "execute_result"
    }
   ],
   "source": [
    "grader.check(\"q1a\")"
   ]
  },
  {
   "cell_type": "markdown",
   "metadata": {
    "deletable": false,
    "editable": false
   },
   "source": [
    "<br>\n",
    "\n",
    "--- \n",
    "### Question 1b\n",
    "\n",
    "Based on the printed output you got from `q1a`, what format is the data in? Answer this question by entering the letter corresponding to the right format in the variable `q1b` below.\n",
    "\n",
    "**CAUTION: As a reminder, viewing the contents of large files in a Jupyter Notebook could crash your browser. Be careful not to print the entire contents of the file, and do not use the file explorer to open data files directly.**\n",
    "\n",
    "  **A.** CSV<br/>\n",
    "  **B.** HTML<br/>\n",
    "  **C.** JavaScript Object Notation (JSON)<br/>\n",
    "  **D.** Excel XML\n",
    "\n",
    "Answer in the following cell. Your answer should be a string, either `\"A\"`, `\"B\"`, `\"C\"`, or `\"D\"`."
   ]
  },
  {
   "cell_type": "code",
   "execution_count": 173,
   "metadata": {
    "tags": []
   },
   "outputs": [],
   "source": [
    "q1b = \"C\""
   ]
  },
  {
   "cell_type": "code",
   "execution_count": 174,
   "metadata": {
    "deletable": false,
    "editable": false
   },
   "outputs": [
    {
     "data": {
      "text/html": [
       "<p><strong><pre style='display: inline;'>q1b</pre></strong> passed! 🚀</p>"
      ],
      "text/plain": [
       "q1b results: All test cases passed!"
      ]
     },
     "execution_count": 174,
     "metadata": {},
     "output_type": "execute_result"
    }
   ],
   "source": [
    "grader.check(\"q1b\")"
   ]
  },
  {
   "cell_type": "markdown",
   "metadata": {
    "deletable": false,
    "editable": false
   },
   "source": [
    "<br>\n",
    "\n",
    "--- \n",
    "\n",
    "### Question 1c\n",
    "\n",
    "`pandas` has built-in readers for many different file formats, including the file format used here to store tweets.  To learn more about these, check out the documentation for `pd.read_csv` [(docs)](https://pandas.pydata.org/pandas-docs/stable/reference/api/pandas.read_csv.html), `pd.read_html`[(docs)](https://pandas.pydata.org/pandas-docs/stable/reference/api/pandas.read_html.html), `pd.read_json`[(docs)](https://pandas.pydata.org/docs/reference/api/pandas.read_json.html), and `pd.read_excel`[(docs)](https://pandas.pydata.org/pandas-docs/stable/reference/api/pandas.read_excel.html).  \n",
    "\n",
    "1. Use one of these functions to populate the `tweets` dictionary with the tweets for: `AOC`, `Cristiano`, and `elonmusk`. Check out the blurb above Q1a for more information on where this data is stored. The keys of `tweets` should be the handles of the users (i.e., username) --`AOC`, `Cristiano`, and `elonmusk` -- and the values should be the `DataFrames`.\n",
    "2. Set the index of each `DataFrame` to correspond to the `id` of each tweet.  \n",
    "\n",
    "**Hint1:** You might want to first try loading one of the `DataFrames` before trying to complete the entire question.\n",
    "\n",
    "**Hint2:** This is one of the rare instances in which a `for` loop may come in handy (although it's not required to answer this question)!\n",
    "\n",
    "**Hint3:** If your code is taking more than a few seconds to run, you should review your answers to `q1a` and `q1b`; you may have used the incorrect data loading function for the file types in this assignment."
   ]
  },
  {
   "cell_type": "code",
   "execution_count": 175,
   "metadata": {
    "tags": []
   },
   "outputs": [
    {
     "data": {
      "text/plain": [
       "{'AOC':                                    created_at               id_str  \\\n",
       " id                                                                   \n",
       " 1358149122264563712 2021-02-06 20:22:38+00:00  1358149122264563712   \n",
       " 1358147616400408576 2021-02-06 20:16:39+00:00  1358147616400408576   \n",
       " 1358145332316667909 2021-02-06 20:07:35+00:00  1358145332316667904   \n",
       " 1358145218407759875 2021-02-06 20:07:07+00:00  1358145218407759872   \n",
       " 1358144207333036040 2021-02-06 20:03:06+00:00  1358144207333036032   \n",
       " ...                                       ...                  ...   \n",
       " 1181935928249606146 2019-10-09 14:14:19+00:00  1181935928249606144   \n",
       " 1181932554552827905 2019-10-09 14:00:54+00:00  1181932554552827904   \n",
       " 1181932460516478976 2019-10-09 14:00:32+00:00  1181932460516478976   \n",
       " 1181927615340453899 2019-10-09 13:41:17+00:00  1181927615340453888   \n",
       " 1181804625588051968 2019-10-09 05:32:34+00:00  1181804625588051968   \n",
       " \n",
       "                                                                                                                                                                                                                                                                                                    full_text  \\\n",
       " id                                                                                                                                                                                                                                                                                                             \n",
       " 1358149122264563712                                                                                                                                           RT @RepEscobar: Our country has the moral obligation and responsibility to reunite every single family separated at the southern border.\\n\\nT…   \n",
       " 1358147616400408576                                                                                                                                          RT @RoKhanna: What happens when we guarantee $15/hour?\\n\\n💰 31% of Black workers and 26% of Latinx workers get raises.\\n😷 A majority of essent…   \n",
       " 1358145332316667909                                                                                                                                                                                                                                                        (Source: https://t.co/3o5JEr6zpd)   \n",
       " 1358145218407759875                                                                                                     Joe Cunningham pledged to never take corporate PAC money, and he never did. Mace said she’ll cash every check she gets. Yet another way this is a downgrade. https://t.co/DytsQXKXgU   \n",
       " 1358144207333036040                                                        What’s even more gross is that Mace takes corporate PAC money.\\n\\nShe’s already funded by corporations. Now she’s choosing to swindle working people on top of it.\\n\\nPeak scam artistry. Caps for cash 💰 https://t.co/CcVxgDF6id   \n",
       " ...                                                                                                                                                                                                                                                                                                      ...   \n",
       " 1181935928249606146                                                                                                                                                                                                             Autocrats: “Jump!”\\nTrump: “How high?”\\n\\n- Trump admin foreign policy, 2019   \n",
       " 1181932554552827905                                                                                                                                             RT @HeidiNBC: NEW: Donald Trump's decision to remove troops from Northern Syria has put renewed focus on his business and personal relation…   \n",
       " 1181932460516478976  Trump decision isn’t about drawing down US military involvement at all. \\n\\nRemember that earlier this year, Trump VETOED Congress’ attempt to end US involvement in the Yemen War.\\n\\nHe has significant personal financial conflicts of interest in this situation, among other co...   \n",
       " 1181927615340453899  Federal govs are failing to act on the climate crisis.\\n\\nWe can’t wait for others to lead.\\n\\nThat’s why I’m in Copenhagen w/ C40 mayors, trade unions, youth climate strikers, business &amp; citizen reps from around the world to rally for a Global #GreenNewDeal. https://t.co...   \n",
       " 1181804625588051968                                                                                                                                             RT @LeanInOrg: Thank you @AOC for highlighting the #genderbias that women face *every day.* And for the record, not hiring or firing a woma…   \n",
       " \n",
       "                      truncated display_text_range  \\\n",
       " id                                                  \n",
       " 1358149122264563712      False           [0, 140]   \n",
       " 1358147616400408576      False           [0, 140]   \n",
       " 1358145332316667909      False            [0, 33]   \n",
       " 1358145218407759875      False           [0, 156]   \n",
       " 1358144207333036040      False           [0, 197]   \n",
       " ...                        ...                ...   \n",
       " 1181935928249606146      False            [0, 73]   \n",
       " 1181932554552827905      False           [0, 140]   \n",
       " 1181932460516478976      False           [0, 279]   \n",
       " 1181927615340453899      False           [0, 283]   \n",
       " 1181804625588051968      False           [0, 140]   \n",
       " \n",
       "                                                                                                                                                                                                                                                                                                     entities  \\\n",
       " id                                                                                                                                                                                                                                                                                                             \n",
       " 1358149122264563712                                                                           {'hashtags': [], 'symbols': [], 'user_mentions': [{'screen_name': 'RepEscobar', 'name': 'Rep. Veronica Escobar', 'id': 1075517806551154689, 'id_str': '1075517806551154689', 'indices': [3, 14]}], 'urls': []}   \n",
       " 1358147616400408576                                                                                                             {'hashtags': [], 'symbols': [], 'user_mentions': [{'screen_name': 'RoKhanna', 'name': 'Ro Khanna', 'id': 771152516, 'id_str': '771152516', 'indices': [3, 12]}], 'urls': []}   \n",
       " 1358145332316667909                {'hashtags': [], 'symbols': [], 'user_mentions': [], 'urls': [{'url': 'https://t.co/3o5JEr6zpd', 'expanded_url': 'https://www.thestate.com/news/politics-government/election/article246484780.html', 'display_url': 'thestate.com/news/politics-…', 'indices': [9, 32]}]}   \n",
       " 1358145218407759875  {'hashtags': [], 'symbols': [], 'user_mentions': [], 'urls': [], 'media': [{'id': 1358145216155426825, 'id_str': '1358145216155426825', 'indices': [157, 180], 'media_url': 'http://pbs.twimg.com/media/EtkZ4NpXIAknoPV.jpg', 'media_url_https': 'https://pbs.twimg.com/media/EtkZ4N...   \n",
       " 1358144207333036040                                         {'hashtags': [], 'symbols': [], 'user_mentions': [], 'urls': [{'url': 'https://t.co/CcVxgDF6id', 'expanded_url': 'https://twitter.com/ddale8/status/1358113234885234689', 'display_url': 'twitter.com/ddale8/status/…', 'indices': [198, 221]}]}   \n",
       " ...                                                                                                                                                                                                                                                                                                      ...   \n",
       " 1181935928249606146                                                                                                                                                                                                                         {'hashtags': [], 'symbols': [], 'user_mentions': [], 'urls': []}   \n",
       " 1181932554552827905                                                                                                        {'hashtags': [], 'symbols': [], 'user_mentions': [{'screen_name': 'HeidiNBC', 'name': 'Heidi Przybyla', 'id': 234186830, 'id_str': '234186830', 'indices': [3, 12]}], 'urls': []}   \n",
       " 1181932460516478976                                 {'hashtags': [], 'symbols': [], 'user_mentions': [], 'urls': [{'url': 'https://t.co/ODpoyZI83r', 'expanded_url': 'https://twitter.com/washingtonpost/status/1181922793451065345', 'display_url': 'twitter.com/washingtonpost…', 'indices': [280, 303]}]}   \n",
       " 1181927615340453899  {'hashtags': [{'text': 'GreenNewDeal', 'indices': [245, 258]}], 'symbols': [], 'user_mentions': [], 'urls': [{'url': 'https://t.co/uJjcrkjbTH', 'expanded_url': 'https://urldefense.proofpoint.com/v2/url?u=http-3A__bit.ly_global-2DGND&d=DwIFaQ&c=L93KkjKsAC98uTvC4KvQDdTDRzAeWDDR...   \n",
       " 1181804625588051968  {'hashtags': [{'text': 'genderbias', 'indices': [51, 62]}], 'symbols': [], 'user_mentions': [{'screen_name': 'LeanInOrg', 'name': 'Lean In', 'id': 743585142, 'id_str': '743585142', 'indices': [3, 13]}, {'screen_name': 'AOC', 'name': 'Alexandria Ocasio-Cortez', 'id': 138203134...   \n",
       " \n",
       "                                                                                                  source  \\\n",
       " id                                                                                                        \n",
       " 1358149122264563712  <a href=\"http://twitter.com/download/iphone\" rel=\"nofollow\">Twitter for iPhone</a>   \n",
       " 1358147616400408576  <a href=\"http://twitter.com/download/iphone\" rel=\"nofollow\">Twitter for iPhone</a>   \n",
       " 1358145332316667909  <a href=\"http://twitter.com/download/iphone\" rel=\"nofollow\">Twitter for iPhone</a>   \n",
       " 1358145218407759875  <a href=\"http://twitter.com/download/iphone\" rel=\"nofollow\">Twitter for iPhone</a>   \n",
       " 1358144207333036040  <a href=\"http://twitter.com/download/iphone\" rel=\"nofollow\">Twitter for iPhone</a>   \n",
       " ...                                                                                                 ...   \n",
       " 1181935928249606146  <a href=\"http://twitter.com/download/iphone\" rel=\"nofollow\">Twitter for iPhone</a>   \n",
       " 1181932554552827905  <a href=\"http://twitter.com/download/iphone\" rel=\"nofollow\">Twitter for iPhone</a>   \n",
       " 1181932460516478976  <a href=\"http://twitter.com/download/iphone\" rel=\"nofollow\">Twitter for iPhone</a>   \n",
       " 1181927615340453899  <a href=\"http://twitter.com/download/iphone\" rel=\"nofollow\">Twitter for iPhone</a>   \n",
       " 1181804625588051968  <a href=\"http://twitter.com/download/iphone\" rel=\"nofollow\">Twitter for iPhone</a>   \n",
       " \n",
       "                      in_reply_to_status_id  in_reply_to_status_id_str  \\\n",
       " id                                                                      \n",
       " 1358149122264563712                    NaN                        NaN   \n",
       " 1358147616400408576                    NaN                        NaN   \n",
       " 1358145332316667909           1.358145e+18               1.358145e+18   \n",
       " 1358145218407759875           1.358144e+18               1.358144e+18   \n",
       " 1358144207333036040                    NaN                        NaN   \n",
       " ...                                    ...                        ...   \n",
       " 1181935928249606146                    NaN                        NaN   \n",
       " 1181932554552827905                    NaN                        NaN   \n",
       " 1181932460516478976                    NaN                        NaN   \n",
       " 1181927615340453899                    NaN                        NaN   \n",
       " 1181804625588051968                    NaN                        NaN   \n",
       " \n",
       "                      in_reply_to_user_id  ...  favorite_count favorited  \\\n",
       " id                                        ...                             \n",
       " 1358149122264563712                  NaN  ...               0     False   \n",
       " 1358147616400408576                  NaN  ...               0     False   \n",
       " 1358145332316667909          138203134.0  ...            1026     False   \n",
       " 1358145218407759875          138203134.0  ...            2880     False   \n",
       " 1358144207333036040                  NaN  ...            7765     False   \n",
       " ...                                  ...  ...             ...       ...   \n",
       " 1181935928249606146                  NaN  ...           75938     False   \n",
       " 1181932554552827905                  NaN  ...               0     False   \n",
       " 1181932460516478976                  NaN  ...           32256     False   \n",
       " 1181927615340453899                  NaN  ...            7733     False   \n",
       " 1181804625588051968                  NaN  ...               0     False   \n",
       " \n",
       "                     retweeted  lang  possibly_sensitive  \\\n",
       " id                                                        \n",
       " 1358149122264563712     False    en                 NaN   \n",
       " 1358147616400408576     False    en                 NaN   \n",
       " 1358145332316667909     False    en                 0.0   \n",
       " 1358145218407759875     False    en                 0.0   \n",
       " 1358144207333036040     False    en                 0.0   \n",
       " ...                       ...   ...                 ...   \n",
       " 1181935928249606146     False    en                 NaN   \n",
       " 1181932554552827905     False    en                 NaN   \n",
       " 1181932460516478976     False    en                 0.0   \n",
       " 1181927615340453899     False    en                 0.0   \n",
       " 1181804625588051968     False    en                 NaN   \n",
       " \n",
       "                                                                                                                                                                                                                                                                                            extended_entities  \\\n",
       " id                                                                                                                                                                                                                                                                                                             \n",
       " 1358149122264563712                                                                                                                                                                                                                                                                                      NaN   \n",
       " 1358147616400408576                                                                                                                                                                                                                                                                                      NaN   \n",
       " 1358145332316667909                                                                                                                                                                                                                                                                                      NaN   \n",
       " 1358145218407759875  {'media': [{'id': 1358145216155426825, 'id_str': '1358145216155426825', 'indices': [157, 180], 'media_url': 'http://pbs.twimg.com/media/EtkZ4NpXIAknoPV.jpg', 'media_url_https': 'https://pbs.twimg.com/media/EtkZ4NpXIAknoPV.jpg', 'url': 'https://t.co/DytsQXKXgU', 'display_url':...   \n",
       " 1358144207333036040                                                                                                                                                                                                                                                                                      NaN   \n",
       " ...                                                                                                                                                                                                                                                                                                      ...   \n",
       " 1181935928249606146                                                                                                                                                                                                                                                                                      NaN   \n",
       " 1181932554552827905                                                                                                                                                                                                                                                                                      NaN   \n",
       " 1181932460516478976                                                                                                                                                                                                                                                                                      NaN   \n",
       " 1181927615340453899                                                                                                                                                                                                                                                                                      NaN   \n",
       " 1181804625588051968                                                                                                                                                                                                                                                                                      NaN   \n",
       " \n",
       "                      quoted_status_id quoted_status_id_str  \\\n",
       " id                                                           \n",
       " 1358149122264563712               NaN                  NaN   \n",
       " 1358147616400408576               NaN                  NaN   \n",
       " 1358145332316667909               NaN                  NaN   \n",
       " 1358145218407759875               NaN                  NaN   \n",
       " 1358144207333036040      1.358113e+18         1.358113e+18   \n",
       " ...                               ...                  ...   \n",
       " 1181935928249606146               NaN                  NaN   \n",
       " 1181932554552827905               NaN                  NaN   \n",
       " 1181932460516478976      1.181923e+18         1.181923e+18   \n",
       " 1181927615340453899               NaN                  NaN   \n",
       " 1181804625588051968      1.181696e+18         1.181696e+18   \n",
       " \n",
       "                                                                                                                                                        quoted_status_permalink  \\\n",
       " id                                                                                                                                                                               \n",
       " 1358149122264563712                                                                                                                                                        NaN   \n",
       " 1358147616400408576                                                                                                                                                        NaN   \n",
       " 1358145332316667909                                                                                                                                                        NaN   \n",
       " 1358145218407759875                                                                                                                                                        NaN   \n",
       " 1358144207333036040          {'url': 'https://t.co/CcVxgDF6id', 'expanded': 'https://twitter.com/ddale8/status/1358113234885234689', 'display': 'twitter.com/ddale8/status/…'}   \n",
       " ...                                                                                                                                                                        ...   \n",
       " 1181935928249606146                                                                                                                                                        NaN   \n",
       " 1181932554552827905                                                                                                                                                        NaN   \n",
       " 1181932460516478976  {'url': 'https://t.co/ODpoyZI83r', 'expanded': 'https://twitter.com/washingtonpost/status/1181922793451065345', 'display': 'twitter.com/washingtonpost…'}   \n",
       " 1181927615340453899                                                                                                                                                        NaN   \n",
       " 1181804625588051968             {'url': 'https://t.co/S9q3D4wGcb', 'expanded': 'https://twitter.com/AOC/status/1181695574803931136', 'display': 'twitter.com/AOC/status/118…'}   \n",
       " \n",
       "                                                                                                                                                                                                                                                                                                quoted_status  \n",
       " id                                                                                                                                                                                                                                                                                                            \n",
       " 1358149122264563712                                                                                                                                                                                                                                                                                      NaN  \n",
       " 1358147616400408576                                                                                                                                                                                                                                                                                      NaN  \n",
       " 1358145332316667909                                                                                                                                                                                                                                                                                      NaN  \n",
       " 1358145218407759875                                                                                                                                                                                                                                                                                      NaN  \n",
       " 1358144207333036040  {'created_at': 'Sat Feb 06 18:00:02 +0000 2021', 'id': 1358113234885234689, 'id_str': '1358113234885234689', 'full_text': 'Rep. Nancy Mace is now fundraising off of her false insinuation that Rep. Alexandria Ocasio-Cortez falsely said there were insurrectionists in their offi...  \n",
       " ...                                                                                                                                                                                                                                                                                                      ...  \n",
       " 1181935928249606146                                                                                                                                                                                                                                                                                      NaN  \n",
       " 1181932554552827905                                                                                                                                                                                                                                                                                      NaN  \n",
       " 1181932460516478976  {'created_at': 'Wed Oct 09 13:22:07 +0000 2019', 'id': 1181922793451065345, 'id_str': '1181922793451065345', 'full_text': 'Turkey's Erdogan announces start of military offensive in northern Syria after Trump's decision to withdraw U.S. troops https://t.co/PjbMduxLzt', 'trunca...  \n",
       " 1181927615340453899                                                                                                                                                                                                                                                                                      NaN  \n",
       " 1181804625588051968                                                                                                                                                                                                                                                                                      NaN  \n",
       " \n",
       " [3247 rows x 30 columns],\n",
       " 'elonmusk':                                    created_at               id_str  \\\n",
       " id                                                                   \n",
       " 1357991946082418690 2021-02-06 09:58:04+00:00  1357991946082418688   \n",
       " 1357973565413367808 2021-02-06 08:45:02+00:00  1357973565413367808   \n",
       " 1357972904663687173 2021-02-06 08:42:25+00:00  1357972904663687168   \n",
       " 1357970517165182979 2021-02-06 08:32:55+00:00  1357970517165182976   \n",
       " 1357964347813687296 2021-02-06 08:08:24+00:00  1357964347813687296   \n",
       " ...                                       ...                  ...   \n",
       " 1242900612897005571 2020-03-25 19:46:12+00:00  1242900612897005568   \n",
       " 1242899515268648962 2020-03-25 19:41:51+00:00  1242899515268648960   \n",
       " 1242893395338674176 2020-03-25 19:17:31+00:00  1242893395338674176   \n",
       " 1242881868426612736 2020-03-25 18:31:43+00:00  1242881868426612736   \n",
       " 1242881125049085956 2020-03-25 18:28:46+00:00  1242881125049085952   \n",
       " \n",
       "                                                                                                                                                                                                                                    full_text  \\\n",
       " id                                                                                                                                                                                                                                             \n",
       " 1357991946082418690                                                                                                                                                                          The Second Last Kingdom https://t.co/Je4EI88HmV   \n",
       " 1357973565413367808                                                                                                                                                                    @DumDin7 @Grimezsz Haven’t heard that name in years …   \n",
       " 1357972904663687173                                                                                                                                                                                                       @Grimezsz Dogecake   \n",
       " 1357970517165182979                                                                                                                                                                                          YOLT\\n\\nhttps://t.co/cnOf9yjpF1   \n",
       " 1357964347813687296                                                                                                                                                                                             @Kristennetten That’s Damian   \n",
       " ...                                                                                                                                                                                                                                      ...   \n",
       " 1242900612897005571                                                      @flcnhvy @Tesla Giga New York will reopen for ventilator production as soon as humanly possible. We will do anything in our power to help the citizens of New York.   \n",
       " 1242899515268648962  @enscand @PPathole @flcnhvy @Tesla Something weird happened at CDC yesterday. They changed the graph to include “estimated illness onset date”. This is a significantly less rigorous standard. https://t.co/Dz2Nio5ddi   \n",
       " 1242893395338674176                   @PPathole @flcnhvy @Tesla C19 testing in the US over the past week has grown much faster than C19 positive cases. I think we may have passed the inflection point for US cases (excluding NY) already.   \n",
       " 1242881868426612736                                                                                                                                            @PPathole @flcnhvy @Tesla Yes. Is there more? Should be a lot of data by now.   \n",
       " 1242881125049085956                                                                                                                    @flcnhvy @Tesla Making good progress. We will do whatever is needed to help in these difficult times.   \n",
       " \n",
       "                      truncated display_text_range  \\\n",
       " id                                                  \n",
       " 1357991946082418690      False            [0, 23]   \n",
       " 1357973565413367808      False           [19, 53]   \n",
       " 1357972904663687173      False           [10, 18]   \n",
       " 1357970517165182979      False            [0, 29]   \n",
       " 1357964347813687296      False           [15, 28]   \n",
       " ...                        ...                ...   \n",
       " 1242900612897005571      False          [16, 163]   \n",
       " 1242899515268648962      False          [35, 191]   \n",
       " 1242893395338674176      False          [26, 198]   \n",
       " 1242881868426612736      False           [26, 77]   \n",
       " 1242881125049085956      False          [16, 101]   \n",
       " \n",
       "                                                                                                                                                                                                                                                                                                     entities  \\\n",
       " id                                                                                                                                                                                                                                                                                                             \n",
       " 1357991946082418690  {'hashtags': [], 'symbols': [], 'user_mentions': [], 'urls': [], 'media': [{'id': 1357991942471094275, 'id_str': '1357991942471094275', 'indices': [24, 47], 'media_url': 'http://pbs.twimg.com/media/EtiOegrVEAMCgZE.jpg', 'media_url_https': 'https://pbs.twimg.com/media/EtiOegrV...   \n",
       " 1357973565413367808  {'hashtags': [], 'symbols': [], 'user_mentions': [{'screen_name': 'DumDin7', 'name': 'Dum Din', 'id': 1279896279733145601, 'id_str': '1279896279733145601', 'indices': [0, 8]}, {'screen_name': 'Grimezsz', 'name': '𝑪𝒍𝒂𝒊𝒓𝒆 𝒅𝒆 𝑳𝒖𝒏𝒆࿎', 'id': 276540738, 'id_str': '276540738', 'indi...   \n",
       " 1357972904663687173                                                                                                        {'hashtags': [], 'symbols': [], 'user_mentions': [{'screen_name': 'Grimezsz', 'name': '𝑪𝒍𝒂𝒊𝒓𝒆 𝒅𝒆 𝑳𝒖𝒏𝒆࿎', 'id': 276540738, 'id_str': '276540738', 'indices': [0, 9]}], 'urls': []}   \n",
       " 1357970517165182979                                                      {'hashtags': [], 'symbols': [], 'user_mentions': [], 'urls': [{'url': 'https://t.co/cnOf9yjpF1', 'expanded_url': 'https://m.youtube.com/watch?v=05QJlF06F4s', 'display_url': 'm.youtube.com/watch?v=05QJlF…', 'indices': [6, 29]}]}   \n",
       " 1357964347813687296                                                                                           {'hashtags': [], 'symbols': [], 'user_mentions': [{'screen_name': 'Kristennetten', 'name': 'K10✨', 'id': 985686123123949568, 'id_str': '985686123123949568', 'indices': [0, 14]}], 'urls': []}   \n",
       " ...                                                                                                                                                                                                                                                                                                      ...   \n",
       " 1242900612897005571  {'hashtags': [], 'symbols': [], 'user_mentions': [{'screen_name': 'flcnhvy', 'name': 'Viv 🐉', 'id': 1060180551544528897, 'id_str': '1060180551544528897', 'indices': [0, 8]}, {'screen_name': 'Tesla', 'name': 'Tesla', 'id': 13298072, 'id_str': '13298072', 'indices': [9, 15]}], ...   \n",
       " 1242899515268648962  {'hashtags': [], 'symbols': [], 'user_mentions': [{'screen_name': 'enscand', 'name': 'Nathan Scandella', 'id': 3190128704, 'id_str': '3190128704', 'indices': [0, 8]}, {'screen_name': 'PPathole', 'name': 'Pranay Pathole', 'id': 1291945442, 'id_str': '1291945442', 'indices': [9...   \n",
       " 1242893395338674176  {'hashtags': [], 'symbols': [], 'user_mentions': [{'screen_name': 'PPathole', 'name': 'Pranay Pathole', 'id': 1291945442, 'id_str': '1291945442', 'indices': [0, 9]}, {'screen_name': 'flcnhvy', 'name': 'Viv 🐉', 'id': 1060180551544528897, 'id_str': '1060180551544528897', 'indic...   \n",
       " 1242881868426612736  {'hashtags': [], 'symbols': [], 'user_mentions': [{'screen_name': 'PPathole', 'name': 'Pranay Pathole', 'id': 1291945442, 'id_str': '1291945442', 'indices': [0, 9]}, {'screen_name': 'flcnhvy', 'name': 'Viv 🐉', 'id': 1060180551544528897, 'id_str': '1060180551544528897', 'indic...   \n",
       " 1242881125049085956  {'hashtags': [], 'symbols': [], 'user_mentions': [{'screen_name': 'flcnhvy', 'name': 'Viv 🐉', 'id': 1060180551544528897, 'id_str': '1060180551544528897', 'indices': [0, 8]}, {'screen_name': 'Tesla', 'name': 'Tesla', 'id': 13298072, 'id_str': '13298072', 'indices': [9, 15]}], ...   \n",
       " \n",
       "                                                                                                                                                                                                                                                                                            extended_entities  \\\n",
       " id                                                                                                                                                                                                                                                                                                             \n",
       " 1357991946082418690  {'media': [{'id': 1357991942471094275, 'id_str': '1357991942471094275', 'indices': [24, 47], 'media_url': 'http://pbs.twimg.com/media/EtiOegrVEAMCgZE.jpg', 'media_url_https': 'https://pbs.twimg.com/media/EtiOegrVEAMCgZE.jpg', 'url': 'https://t.co/Je4EI88HmV', 'display_url': '...   \n",
       " 1357973565413367808                                                                                                                                                                                                                                                                                      NaN   \n",
       " 1357972904663687173                                                                                                                                                                                                                                                                                      NaN   \n",
       " 1357970517165182979                                                                                                                                                                                                                                                                                      NaN   \n",
       " 1357964347813687296                                                                                                                                                                                                                                                                                      NaN   \n",
       " ...                                                                                                                                                                                                                                                                                                      ...   \n",
       " 1242900612897005571                                                                                                                                                                                                                                                                                      NaN   \n",
       " 1242899515268648962  {'media': [{'id': 1242899508071104515, 'id_str': '1242899508071104515', 'indices': [192, 215], 'media_url': 'http://pbs.twimg.com/media/ET-qhHYWAAMgJYP.jpg', 'media_url_https': 'https://pbs.twimg.com/media/ET-qhHYWAAMgJYP.jpg', 'url': 'https://t.co/Dz2Nio5ddi', 'display_url':...   \n",
       " 1242893395338674176                                                                                                                                                                                                                                                                                      NaN   \n",
       " 1242881868426612736                                                                                                                                                                                                                                                                                      NaN   \n",
       " 1242881125049085956                                                                                                                                                                                                                                                                                      NaN   \n",
       " \n",
       "                                                                                                  source  \\\n",
       " id                                                                                                        \n",
       " 1357991946082418690  <a href=\"http://twitter.com/download/iphone\" rel=\"nofollow\">Twitter for iPhone</a>   \n",
       " 1357973565413367808  <a href=\"http://twitter.com/download/iphone\" rel=\"nofollow\">Twitter for iPhone</a>   \n",
       " 1357972904663687173  <a href=\"http://twitter.com/download/iphone\" rel=\"nofollow\">Twitter for iPhone</a>   \n",
       " 1357970517165182979  <a href=\"http://twitter.com/download/iphone\" rel=\"nofollow\">Twitter for iPhone</a>   \n",
       " 1357964347813687296  <a href=\"http://twitter.com/download/iphone\" rel=\"nofollow\">Twitter for iPhone</a>   \n",
       " ...                                                                                                 ...   \n",
       " 1242900612897005571  <a href=\"http://twitter.com/download/iphone\" rel=\"nofollow\">Twitter for iPhone</a>   \n",
       " 1242899515268648962  <a href=\"http://twitter.com/download/iphone\" rel=\"nofollow\">Twitter for iPhone</a>   \n",
       " 1242893395338674176  <a href=\"http://twitter.com/download/iphone\" rel=\"nofollow\">Twitter for iPhone</a>   \n",
       " 1242881868426612736  <a href=\"http://twitter.com/download/iphone\" rel=\"nofollow\">Twitter for iPhone</a>   \n",
       " 1242881125049085956  <a href=\"http://twitter.com/download/iphone\" rel=\"nofollow\">Twitter for iPhone</a>   \n",
       " \n",
       "                      in_reply_to_status_id  in_reply_to_status_id_str  ...  \\\n",
       " id                                                                     ...   \n",
       " 1357991946082418690                    NaN                        NaN  ...   \n",
       " 1357973565413367808           1.357973e+18               1.357973e+18  ...   \n",
       " 1357972904663687173           1.357835e+18               1.357835e+18  ...   \n",
       " 1357970517165182979                    NaN                        NaN  ...   \n",
       " 1357964347813687296           1.357964e+18               1.357964e+18  ...   \n",
       " ...                                    ...                        ...  ...   \n",
       " 1242900612897005571           1.242881e+18               1.242881e+18  ...   \n",
       " 1242899515268648962           1.242897e+18               1.242897e+18  ...   \n",
       " 1242893395338674176           1.242886e+18               1.242886e+18  ...   \n",
       " 1242881868426612736           1.242881e+18               1.242881e+18  ...   \n",
       " 1242881125049085956           1.242873e+18               1.242873e+18  ...   \n",
       " \n",
       "                      favorite_count  favorited retweeted possibly_sensitive  \\\n",
       " id                                                                            \n",
       " 1357991946082418690          352096      False     False                0.0   \n",
       " 1357973565413367808            2155      False     False                NaN   \n",
       " 1357972904663687173            5373      False     False                NaN   \n",
       " 1357970517165182979           62717      False     False                0.0   \n",
       " 1357964347813687296            5726      False     False                NaN   \n",
       " ...                             ...        ...       ...                ...   \n",
       " 1242900612897005571            7445      False     False                NaN   \n",
       " 1242899515268648962             730      False     False                0.0   \n",
       " 1242893395338674176            1577      False     False                NaN   \n",
       " 1242881868426612736             776      False     False                NaN   \n",
       " 1242881125049085956           11280      False     False                NaN   \n",
       " \n",
       "                      lang  retweeted_status  quoted_status_id  \\\n",
       " id                                                              \n",
       " 1357991946082418690    en               NaN               NaN   \n",
       " 1357973565413367808    en               NaN               NaN   \n",
       " 1357972904663687173    en               NaN               NaN   \n",
       " 1357970517165182979    en               NaN               NaN   \n",
       " 1357964347813687296    en               NaN               NaN   \n",
       " ...                   ...               ...               ...   \n",
       " 1242900612897005571    en               NaN               NaN   \n",
       " 1242899515268648962    en               NaN               NaN   \n",
       " 1242893395338674176    en               NaN               NaN   \n",
       " 1242881868426612736    en               NaN               NaN   \n",
       " 1242881125049085956    en               NaN               NaN   \n",
       " \n",
       "                      quoted_status_id_str  quoted_status_permalink  \\\n",
       " id                                                                   \n",
       " 1357991946082418690                   NaN                      NaN   \n",
       " 1357973565413367808                   NaN                      NaN   \n",
       " 1357972904663687173                   NaN                      NaN   \n",
       " 1357970517165182979                   NaN                      NaN   \n",
       " 1357964347813687296                   NaN                      NaN   \n",
       " ...                                   ...                      ...   \n",
       " 1242900612897005571                   NaN                      NaN   \n",
       " 1242899515268648962                   NaN                      NaN   \n",
       " 1242893395338674176                   NaN                      NaN   \n",
       " 1242881868426612736                   NaN                      NaN   \n",
       " 1242881125049085956                   NaN                      NaN   \n",
       " \n",
       "                      quoted_status  \n",
       " id                                  \n",
       " 1357991946082418690            NaN  \n",
       " 1357973565413367808            NaN  \n",
       " 1357972904663687173            NaN  \n",
       " 1357970517165182979            NaN  \n",
       " 1357964347813687296            NaN  \n",
       " ...                            ...  \n",
       " 1242900612897005571            NaN  \n",
       " 1242899515268648962            NaN  \n",
       " 1242893395338674176            NaN  \n",
       " 1242881868426612736            NaN  \n",
       " 1242881125049085956            NaN  \n",
       " \n",
       " [3239 rows x 30 columns],\n",
       " 'Cristiano':                                    created_at               id_str  \\\n",
       " id                                                                   \n",
       " 1358137564587319299 2021-02-06 19:36:43+00:00  1358137564587319296   \n",
       " 1357379984399212545 2021-02-04 17:26:21+00:00  1357379984399212544   \n",
       " 1356733030962987008 2021-02-02 22:35:36+00:00  1356733030962987008   \n",
       " 1355924395064233986 2021-01-31 17:02:22+00:00  1355924395064233984   \n",
       " 1355599316300292097 2021-01-30 19:30:37+00:00  1355599316300292096   \n",
       " ...                                       ...                  ...   \n",
       " 32514882561638401   2011-02-01 19:05:26+00:00    32514882561638400   \n",
       " 32513604662071296   2011-02-01 19:00:22+00:00    32513604662071296   \n",
       " 32511823722840064   2011-02-01 18:53:17+00:00    32511823722840064   \n",
       " 32510294081146881   2011-02-01 18:47:12+00:00    32510294081146880   \n",
       " 32508748819857410   2011-02-01 18:41:04+00:00    32508748819857408   \n",
       " \n",
       "                                                                                                                                                         full_text  \\\n",
       " id                                                                                                                                                                  \n",
       " 1358137564587319299    Happy to score and help the team against a tough opponent! 3 important points! \\nWell done lads 👏🏽💪🏽 #finoallafine https://t.co/bVHENpx2X6   \n",
       " 1357379984399212545                                                                                        Done ⚽️💪🏽\\nHave a good day!😉👊🏽 https://t.co/DN9lo4gMbS   \n",
       " 1356733030962987008                                     Grande vittoria di squadra! Abbiamo bisogno di questo spirito #finoallafine 🏳️🏴💪🏽 https://t.co/lNyV5hGE2n   \n",
       " 1355924395064233986                                                                                                  Home sweet home! ❤️😍 https://t.co/7MaSXDfTYm   \n",
       " 1355599316300292097                                                       Altri 3 punti importantissimi ! Avanti così 🏳️🏴💪🏽 #finoallafine https://t.co/l5HfUkfLcS   \n",
       " ...                                                                                                                                                           ...   \n",
       " 32514882561638401                                     I like it, yes - @thejocksays @Cristiano are you a fan of The Sopranos? Probably the greatest TV show ever!   \n",
       " 32513604662071296     You will get there. @elgc45 Just did awesome yoga session w/ Lino Miele and finished w/ 100 ab crunches, not quite @cristiano's 3000 a day.   \n",
       " 32511823722840064               Thank you. It's unfortunate, but must focus on next match. @dytrogen @Cristiano what went wrong here? am sorry about the match...   \n",
       " 32510294081146881                      Thank you for your positivity. @realchenchen @Cristiano hope you had a good rest after the game. cheers for the next game!   \n",
       " 32508748819857410    Yes I am. It's been an honor. @Yellow_Pine Are u officially Captain of your national team Portugal? Keep on becoming one of the best player.   \n",
       " \n",
       "                      truncated display_text_range  \\\n",
       " id                                                  \n",
       " 1358137564587319299      False           [0, 113]   \n",
       " 1357379984399212545      False            [0, 29]   \n",
       " 1356733030962987008      False            [0, 81]   \n",
       " 1355924395064233986      False            [0, 20]   \n",
       " 1355599316300292097      False            [0, 63]   \n",
       " ...                        ...                ...   \n",
       " 32514882561638401        False           [0, 107]   \n",
       " 32513604662071296        False           [0, 139]   \n",
       " 32511823722840064        False           [0, 129]   \n",
       " 32510294081146881        False           [0, 122]   \n",
       " 32508748819857410        False           [0, 140]   \n",
       " \n",
       "                                                                                                                                                                                                                                                                                                     entities  \\\n",
       " id                                                                                                                                                                                                                                                                                                             \n",
       " 1358137564587319299  {'hashtags': [{'text': 'finoallafine', 'indices': [100, 113]}], 'symbols': [], 'user_mentions': [], 'urls': [], 'media': [{'id': 1358137559772246023, 'id_str': '1358137559772246023', 'indices': [114, 137], 'media_url': 'http://pbs.twimg.com/media/EtkS6jZXMAcdl-P.jpg', 'media_...   \n",
       " 1357379984399212545  {'hashtags': [], 'symbols': [], 'user_mentions': [], 'urls': [], 'media': [{'id': 1357379979147964421, 'id_str': '1357379979147964421', 'indices': [30, 53], 'media_url': 'http://pbs.twimg.com/media/EtZh5jpXcAUg0BM.jpg', 'media_url_https': 'https://pbs.twimg.com/media/EtZh5jpX...   \n",
       " 1356733030962987008  {'hashtags': [{'text': 'finoallafine', 'indices': [62, 75]}], 'symbols': [], 'user_mentions': [], 'urls': [], 'media': [{'id': 1356733026261225473, 'id_str': '1356733026261225473', 'indices': [82, 105], 'media_url': 'http://pbs.twimg.com/media/EtQVf8VXUAE7nJj.jpg', 'media_url...   \n",
       " 1355924395064233986  {'hashtags': [], 'symbols': [], 'user_mentions': [], 'urls': [], 'media': [{'id': 1355924390752505857, 'id_str': '1355924390752505857', 'indices': [21, 44], 'media_url': 'http://pbs.twimg.com/media/EtE2DKUXUAE0tyN.jpg', 'media_url_https': 'https://pbs.twimg.com/media/EtE2DKUX...   \n",
       " 1355599316300292097  {'hashtags': [{'text': 'finoallafine', 'indices': [50, 63]}], 'symbols': [], 'user_mentions': [], 'urls': [], 'media': [{'id': 1355599311493607430, 'id_str': '1355599311493607430', 'indices': [64, 87], 'media_url': 'http://pbs.twimg.com/media/EtAOZDtXMAYYJSv.jpg', 'media_url_...   \n",
       " ...                                                                                                                                                                                                                                                                                                      ...   \n",
       " 32514882561638401    {'hashtags': [], 'symbols': [], 'user_mentions': [{'screen_name': 'thejocksays', 'name': 'Eazy E', 'id': 212025813, 'id_str': '212025813', 'indices': [17, 29]}, {'screen_name': 'Cristiano', 'name': 'Cristiano Ronaldo', 'id': 155659213, 'id_str': '155659213', 'indices': [30, 4...   \n",
       " 32513604662071296                                                                                                   {'hashtags': [], 'symbols': [], 'user_mentions': [{'screen_name': 'Cristiano', 'name': 'Cristiano Ronaldo', 'id': 155659213, 'id_str': '155659213', 'indices': [115, 125]}], 'urls': []}   \n",
       " 32511823722840064                                                                                                     {'hashtags': [], 'symbols': [], 'user_mentions': [{'screen_name': 'Cristiano', 'name': 'Cristiano Ronaldo', 'id': 155659213, 'id_str': '155659213', 'indices': [69, 79]}], 'urls': []}   \n",
       " 32510294081146881    {'hashtags': [], 'symbols': [], 'user_mentions': [{'screen_name': 'realchenchen', 'name': 'chenchen', 'id': 161115537, 'id_str': '161115537', 'indices': [31, 44]}, {'screen_name': 'Cristiano', 'name': 'Cristiano Ronaldo', 'id': 155659213, 'id_str': '155659213', 'indices': [45...   \n",
       " 32508748819857410                                                                                                   {'hashtags': [], 'symbols': [], 'user_mentions': [{'screen_name': 'Yellow_Pine', 'name': 'Innocentia Tseole', 'id': 212327600, 'id_str': '212327600', 'indices': [30, 42]}], 'urls': []}   \n",
       " \n",
       "                                                                                                                                                                                                                                                                                            extended_entities  \\\n",
       " id                                                                                                                                                                                                                                                                                                             \n",
       " 1358137564587319299  {'media': [{'id': 1358137559772246023, 'id_str': '1358137559772246023', 'indices': [114, 137], 'media_url': 'http://pbs.twimg.com/media/EtkS6jZXMAcdl-P.jpg', 'media_url_https': 'https://pbs.twimg.com/media/EtkS6jZXMAcdl-P.jpg', 'url': 'https://t.co/bVHENpx2X6', 'display_url':...   \n",
       " 1357379984399212545  {'media': [{'id': 1357379979147964421, 'id_str': '1357379979147964421', 'indices': [30, 53], 'media_url': 'http://pbs.twimg.com/media/EtZh5jpXcAUg0BM.jpg', 'media_url_https': 'https://pbs.twimg.com/media/EtZh5jpXcAUg0BM.jpg', 'url': 'https://t.co/DN9lo4gMbS', 'display_url': '...   \n",
       " 1356733030962987008  {'media': [{'id': 1356733026261225473, 'id_str': '1356733026261225473', 'indices': [82, 105], 'media_url': 'http://pbs.twimg.com/media/EtQVf8VXUAE7nJj.jpg', 'media_url_https': 'https://pbs.twimg.com/media/EtQVf8VXUAE7nJj.jpg', 'url': 'https://t.co/lNyV5hGE2n', 'display_url': ...   \n",
       " 1355924395064233986  {'media': [{'id': 1355924390752505857, 'id_str': '1355924390752505857', 'indices': [21, 44], 'media_url': 'http://pbs.twimg.com/media/EtE2DKUXUAE0tyN.jpg', 'media_url_https': 'https://pbs.twimg.com/media/EtE2DKUXUAE0tyN.jpg', 'url': 'https://t.co/7MaSXDfTYm', 'display_url': '...   \n",
       " 1355599316300292097  {'media': [{'id': 1355599311493607430, 'id_str': '1355599311493607430', 'indices': [64, 87], 'media_url': 'http://pbs.twimg.com/media/EtAOZDtXMAYYJSv.jpg', 'media_url_https': 'https://pbs.twimg.com/media/EtAOZDtXMAYYJSv.jpg', 'url': 'https://t.co/l5HfUkfLcS', 'display_url': '...   \n",
       " ...                                                                                                                                                                                                                                                                                                      ...   \n",
       " 32514882561638401                                                                                                                                                                                                                                                                                        NaN   \n",
       " 32513604662071296                                                                                                                                                                                                                                                                                        NaN   \n",
       " 32511823722840064                                                                                                                                                                                                                                                                                        NaN   \n",
       " 32510294081146881                                                                                                                                                                                                                                                                                        NaN   \n",
       " 32508748819857410                                                                                                                                                                                                                                                                                        NaN   \n",
       " \n",
       "                                                                                                  source  \\\n",
       " id                                                                                                        \n",
       " 1358137564587319299  <a href=\"http://twitter.com/download/iphone\" rel=\"nofollow\">Twitter for iPhone</a>   \n",
       " 1357379984399212545  <a href=\"http://twitter.com/download/iphone\" rel=\"nofollow\">Twitter for iPhone</a>   \n",
       " 1356733030962987008  <a href=\"http://twitter.com/download/iphone\" rel=\"nofollow\">Twitter for iPhone</a>   \n",
       " 1355924395064233986  <a href=\"http://twitter.com/download/iphone\" rel=\"nofollow\">Twitter for iPhone</a>   \n",
       " 1355599316300292097  <a href=\"http://twitter.com/download/iphone\" rel=\"nofollow\">Twitter for iPhone</a>   \n",
       " ...                                                                                                 ...   \n",
       " 32514882561638401                             <a href=\"http://www.whosay.com\" rel=\"nofollow\">WhoSay</a>   \n",
       " 32513604662071296                             <a href=\"http://www.whosay.com\" rel=\"nofollow\">WhoSay</a>   \n",
       " 32511823722840064                             <a href=\"http://www.whosay.com\" rel=\"nofollow\">WhoSay</a>   \n",
       " 32510294081146881                             <a href=\"http://www.whosay.com\" rel=\"nofollow\">WhoSay</a>   \n",
       " 32508748819857410                             <a href=\"http://www.whosay.com\" rel=\"nofollow\">WhoSay</a>   \n",
       " \n",
       "                      in_reply_to_status_id  in_reply_to_status_id_str  ...  \\\n",
       " id                                                                     ...   \n",
       " 1358137564587319299                    NaN                        NaN  ...   \n",
       " 1357379984399212545                    NaN                        NaN  ...   \n",
       " 1356733030962987008                    NaN                        NaN  ...   \n",
       " 1355924395064233986                    NaN                        NaN  ...   \n",
       " 1355599316300292097                    NaN                        NaN  ...   \n",
       " ...                                    ...                        ...  ...   \n",
       " 32514882561638401                      NaN                        NaN  ...   \n",
       " 32513604662071296                      NaN                        NaN  ...   \n",
       " 32511823722840064                      NaN                        NaN  ...   \n",
       " 32510294081146881                      NaN                        NaN  ...   \n",
       " 32508748819857410                      NaN                        NaN  ...   \n",
       " \n",
       "                      favorite_count  favorited retweeted possibly_sensitive  \\\n",
       " id                                                                            \n",
       " 1358137564587319299           78113      False     False                0.0   \n",
       " 1357379984399212545          237692      False     False                0.0   \n",
       " 1356733030962987008          236063      False     False                0.0   \n",
       " 1355924395064233986          511862      False     False                0.0   \n",
       " 1355599316300292097          148451      False     False                0.0   \n",
       " ...                             ...        ...       ...                ...   \n",
       " 32514882561638401               572      False     False                NaN   \n",
       " 32513604662071296                39      False     False                NaN   \n",
       " 32511823722840064                34      False     False                NaN   \n",
       " 32510294081146881                83      False     False                NaN   \n",
       " 32508748819857410                62      False     False                NaN   \n",
       " \n",
       "                      lang  quoted_status_id quoted_status_id_str  \\\n",
       " id                                                                 \n",
       " 1358137564587319299    en               NaN                  NaN   \n",
       " 1357379984399212545    en               NaN                  NaN   \n",
       " 1356733030962987008    it               NaN                  NaN   \n",
       " 1355924395064233986    en               NaN                  NaN   \n",
       " 1355599316300292097    it               NaN                  NaN   \n",
       " ...                   ...               ...                  ...   \n",
       " 32514882561638401      en               NaN                  NaN   \n",
       " 32513604662071296      en               NaN                  NaN   \n",
       " 32511823722840064      en               NaN                  NaN   \n",
       " 32510294081146881      en               NaN                  NaN   \n",
       " 32508748819857410      en               NaN                  NaN   \n",
       " \n",
       "                      quoted_status_permalink  quoted_status  retweeted_status  \n",
       " id                                                                             \n",
       " 1358137564587319299                      NaN            NaN               NaN  \n",
       " 1357379984399212545                      NaN            NaN               NaN  \n",
       " 1356733030962987008                      NaN            NaN               NaN  \n",
       " 1355924395064233986                      NaN            NaN               NaN  \n",
       " 1355599316300292097                      NaN            NaN               NaN  \n",
       " ...                                      ...            ...               ...  \n",
       " 32514882561638401                        NaN            NaN               NaN  \n",
       " 32513604662071296                        NaN            NaN               NaN  \n",
       " 32511823722840064                        NaN            NaN               NaN  \n",
       " 32510294081146881                        NaN            NaN               NaN  \n",
       " 32508748819857410                        NaN            NaN               NaN  \n",
       " \n",
       " [3198 rows x 30 columns]}"
      ]
     },
     "execution_count": 175,
     "metadata": {},
     "output_type": "execute_result"
    }
   ],
   "source": [
    "elonmusk = pd.read_json('data/elonmusk_recent_tweets.txt').set_index('id')\n",
    "Cristiano = pd.read_json('data/Cristiano_recent_tweets.txt').set_index('id')\n",
    "AOC = pd.read_json('data/AOC_recent_tweets.txt').set_index('id')\n",
    "tweets = {'AOC': AOC, 'elonmusk': elonmusk, 'Cristiano': Cristiano}\n",
    "tweets"
   ]
  },
  {
   "cell_type": "code",
   "execution_count": 176,
   "metadata": {
    "deletable": false,
    "editable": false
   },
   "outputs": [
    {
     "data": {
      "text/html": [
       "<p><strong><pre style='display: inline;'>q1c</pre></strong> passed! 💯</p>"
      ],
      "text/plain": [
       "q1c results: All test cases passed!"
      ]
     },
     "execution_count": 176,
     "metadata": {},
     "output_type": "execute_result"
    }
   ],
   "source": [
    "grader.check(\"q1c\")"
   ]
  },
  {
   "cell_type": "markdown",
   "metadata": {},
   "source": [
    "If you did everything correctly, the following cells will show you the first 5 tweets for Elon Musk (and a lot of information about those tweets)."
   ]
  },
  {
   "cell_type": "code",
   "execution_count": 177,
   "metadata": {},
   "outputs": [
    {
     "data": {
      "text/html": [
       "<div>\n",
       "<style scoped>\n",
       "    .dataframe tbody tr th:only-of-type {\n",
       "        vertical-align: middle;\n",
       "    }\n",
       "\n",
       "    .dataframe tbody tr th {\n",
       "        vertical-align: top;\n",
       "    }\n",
       "\n",
       "    .dataframe thead th {\n",
       "        text-align: right;\n",
       "    }\n",
       "</style>\n",
       "<table border=\"1\" class=\"dataframe\">\n",
       "  <thead>\n",
       "    <tr style=\"text-align: right;\">\n",
       "      <th></th>\n",
       "      <th>created_at</th>\n",
       "      <th>id_str</th>\n",
       "      <th>full_text</th>\n",
       "      <th>truncated</th>\n",
       "      <th>display_text_range</th>\n",
       "      <th>entities</th>\n",
       "      <th>extended_entities</th>\n",
       "      <th>source</th>\n",
       "      <th>in_reply_to_status_id</th>\n",
       "      <th>in_reply_to_status_id_str</th>\n",
       "      <th>...</th>\n",
       "      <th>favorite_count</th>\n",
       "      <th>favorited</th>\n",
       "      <th>retweeted</th>\n",
       "      <th>possibly_sensitive</th>\n",
       "      <th>lang</th>\n",
       "      <th>retweeted_status</th>\n",
       "      <th>quoted_status_id</th>\n",
       "      <th>quoted_status_id_str</th>\n",
       "      <th>quoted_status_permalink</th>\n",
       "      <th>quoted_status</th>\n",
       "    </tr>\n",
       "    <tr>\n",
       "      <th>id</th>\n",
       "      <th></th>\n",
       "      <th></th>\n",
       "      <th></th>\n",
       "      <th></th>\n",
       "      <th></th>\n",
       "      <th></th>\n",
       "      <th></th>\n",
       "      <th></th>\n",
       "      <th></th>\n",
       "      <th></th>\n",
       "      <th></th>\n",
       "      <th></th>\n",
       "      <th></th>\n",
       "      <th></th>\n",
       "      <th></th>\n",
       "      <th></th>\n",
       "      <th></th>\n",
       "      <th></th>\n",
       "      <th></th>\n",
       "      <th></th>\n",
       "      <th></th>\n",
       "    </tr>\n",
       "  </thead>\n",
       "  <tbody>\n",
       "    <tr>\n",
       "      <th>1357991946082418690</th>\n",
       "      <td>2021-02-06 09:58:04+00:00</td>\n",
       "      <td>1357991946082418688</td>\n",
       "      <td>The Second Last Kingdom https://t.co/Je4EI88HmV</td>\n",
       "      <td>False</td>\n",
       "      <td>[0, 23]</td>\n",
       "      <td>{'hashtags': [], 'symbols': [], 'user_mentions': [], 'urls': [], 'media': [{'id': 1357991942471094275, 'id_str': '1357991942471094275', 'indices': [24, 47], 'media_url': 'http://pbs.twimg.com/media/EtiOegrVEAMCgZE.jpg', 'media_url_https': 'https://pbs.twimg.com/media/EtiOegrV...</td>\n",
       "      <td>{'media': [{'id': 1357991942471094275, 'id_str': '1357991942471094275', 'indices': [24, 47], 'media_url': 'http://pbs.twimg.com/media/EtiOegrVEAMCgZE.jpg', 'media_url_https': 'https://pbs.twimg.com/media/EtiOegrVEAMCgZE.jpg', 'url': 'https://t.co/Je4EI88HmV', 'display_url': '...</td>\n",
       "      <td>&lt;a href=\"http://twitter.com/download/iphone\" rel=\"nofollow\"&gt;Twitter for iPhone&lt;/a&gt;</td>\n",
       "      <td>NaN</td>\n",
       "      <td>NaN</td>\n",
       "      <td>...</td>\n",
       "      <td>352096</td>\n",
       "      <td>False</td>\n",
       "      <td>False</td>\n",
       "      <td>0.0</td>\n",
       "      <td>en</td>\n",
       "      <td>NaN</td>\n",
       "      <td>NaN</td>\n",
       "      <td>NaN</td>\n",
       "      <td>NaN</td>\n",
       "      <td>NaN</td>\n",
       "    </tr>\n",
       "    <tr>\n",
       "      <th>1357973565413367808</th>\n",
       "      <td>2021-02-06 08:45:02+00:00</td>\n",
       "      <td>1357973565413367808</td>\n",
       "      <td>@DumDin7 @Grimezsz Haven’t heard that name in years …</td>\n",
       "      <td>False</td>\n",
       "      <td>[19, 53]</td>\n",
       "      <td>{'hashtags': [], 'symbols': [], 'user_mentions': [{'screen_name': 'DumDin7', 'name': 'Dum Din', 'id': 1279896279733145601, 'id_str': '1279896279733145601', 'indices': [0, 8]}, {'screen_name': 'Grimezsz', 'name': '𝑪𝒍𝒂𝒊𝒓𝒆 𝒅𝒆 𝑳𝒖𝒏𝒆࿎', 'id': 276540738, 'id_str': '276540738', 'indi...</td>\n",
       "      <td>NaN</td>\n",
       "      <td>&lt;a href=\"http://twitter.com/download/iphone\" rel=\"nofollow\"&gt;Twitter for iPhone&lt;/a&gt;</td>\n",
       "      <td>1.357973e+18</td>\n",
       "      <td>1.357973e+18</td>\n",
       "      <td>...</td>\n",
       "      <td>2155</td>\n",
       "      <td>False</td>\n",
       "      <td>False</td>\n",
       "      <td>NaN</td>\n",
       "      <td>en</td>\n",
       "      <td>NaN</td>\n",
       "      <td>NaN</td>\n",
       "      <td>NaN</td>\n",
       "      <td>NaN</td>\n",
       "      <td>NaN</td>\n",
       "    </tr>\n",
       "    <tr>\n",
       "      <th>1357972904663687173</th>\n",
       "      <td>2021-02-06 08:42:25+00:00</td>\n",
       "      <td>1357972904663687168</td>\n",
       "      <td>@Grimezsz Dogecake</td>\n",
       "      <td>False</td>\n",
       "      <td>[10, 18]</td>\n",
       "      <td>{'hashtags': [], 'symbols': [], 'user_mentions': [{'screen_name': 'Grimezsz', 'name': '𝑪𝒍𝒂𝒊𝒓𝒆 𝒅𝒆 𝑳𝒖𝒏𝒆࿎', 'id': 276540738, 'id_str': '276540738', 'indices': [0, 9]}], 'urls': []}</td>\n",
       "      <td>NaN</td>\n",
       "      <td>&lt;a href=\"http://twitter.com/download/iphone\" rel=\"nofollow\"&gt;Twitter for iPhone&lt;/a&gt;</td>\n",
       "      <td>1.357835e+18</td>\n",
       "      <td>1.357835e+18</td>\n",
       "      <td>...</td>\n",
       "      <td>5373</td>\n",
       "      <td>False</td>\n",
       "      <td>False</td>\n",
       "      <td>NaN</td>\n",
       "      <td>en</td>\n",
       "      <td>NaN</td>\n",
       "      <td>NaN</td>\n",
       "      <td>NaN</td>\n",
       "      <td>NaN</td>\n",
       "      <td>NaN</td>\n",
       "    </tr>\n",
       "    <tr>\n",
       "      <th>1357970517165182979</th>\n",
       "      <td>2021-02-06 08:32:55+00:00</td>\n",
       "      <td>1357970517165182976</td>\n",
       "      <td>YOLT\\n\\nhttps://t.co/cnOf9yjpF1</td>\n",
       "      <td>False</td>\n",
       "      <td>[0, 29]</td>\n",
       "      <td>{'hashtags': [], 'symbols': [], 'user_mentions': [], 'urls': [{'url': 'https://t.co/cnOf9yjpF1', 'expanded_url': 'https://m.youtube.com/watch?v=05QJlF06F4s', 'display_url': 'm.youtube.com/watch?v=05QJlF…', 'indices': [6, 29]}]}</td>\n",
       "      <td>NaN</td>\n",
       "      <td>&lt;a href=\"http://twitter.com/download/iphone\" rel=\"nofollow\"&gt;Twitter for iPhone&lt;/a&gt;</td>\n",
       "      <td>NaN</td>\n",
       "      <td>NaN</td>\n",
       "      <td>...</td>\n",
       "      <td>62717</td>\n",
       "      <td>False</td>\n",
       "      <td>False</td>\n",
       "      <td>0.0</td>\n",
       "      <td>en</td>\n",
       "      <td>NaN</td>\n",
       "      <td>NaN</td>\n",
       "      <td>NaN</td>\n",
       "      <td>NaN</td>\n",
       "      <td>NaN</td>\n",
       "    </tr>\n",
       "    <tr>\n",
       "      <th>1357964347813687296</th>\n",
       "      <td>2021-02-06 08:08:24+00:00</td>\n",
       "      <td>1357964347813687296</td>\n",
       "      <td>@Kristennetten That’s Damian</td>\n",
       "      <td>False</td>\n",
       "      <td>[15, 28]</td>\n",
       "      <td>{'hashtags': [], 'symbols': [], 'user_mentions': [{'screen_name': 'Kristennetten', 'name': 'K10✨', 'id': 985686123123949568, 'id_str': '985686123123949568', 'indices': [0, 14]}], 'urls': []}</td>\n",
       "      <td>NaN</td>\n",
       "      <td>&lt;a href=\"http://twitter.com/download/iphone\" rel=\"nofollow\"&gt;Twitter for iPhone&lt;/a&gt;</td>\n",
       "      <td>1.357964e+18</td>\n",
       "      <td>1.357964e+18</td>\n",
       "      <td>...</td>\n",
       "      <td>5726</td>\n",
       "      <td>False</td>\n",
       "      <td>False</td>\n",
       "      <td>NaN</td>\n",
       "      <td>en</td>\n",
       "      <td>NaN</td>\n",
       "      <td>NaN</td>\n",
       "      <td>NaN</td>\n",
       "      <td>NaN</td>\n",
       "      <td>NaN</td>\n",
       "    </tr>\n",
       "  </tbody>\n",
       "</table>\n",
       "<p>5 rows × 30 columns</p>\n",
       "</div>"
      ],
      "text/plain": [
       "                                   created_at               id_str  \\\n",
       "id                                                                   \n",
       "1357991946082418690 2021-02-06 09:58:04+00:00  1357991946082418688   \n",
       "1357973565413367808 2021-02-06 08:45:02+00:00  1357973565413367808   \n",
       "1357972904663687173 2021-02-06 08:42:25+00:00  1357972904663687168   \n",
       "1357970517165182979 2021-02-06 08:32:55+00:00  1357970517165182976   \n",
       "1357964347813687296 2021-02-06 08:08:24+00:00  1357964347813687296   \n",
       "\n",
       "                                                                 full_text  \\\n",
       "id                                                                           \n",
       "1357991946082418690        The Second Last Kingdom https://t.co/Je4EI88HmV   \n",
       "1357973565413367808  @DumDin7 @Grimezsz Haven’t heard that name in years …   \n",
       "1357972904663687173                                     @Grimezsz Dogecake   \n",
       "1357970517165182979                        YOLT\\n\\nhttps://t.co/cnOf9yjpF1   \n",
       "1357964347813687296                           @Kristennetten That’s Damian   \n",
       "\n",
       "                     truncated display_text_range  \\\n",
       "id                                                  \n",
       "1357991946082418690      False            [0, 23]   \n",
       "1357973565413367808      False           [19, 53]   \n",
       "1357972904663687173      False           [10, 18]   \n",
       "1357970517165182979      False            [0, 29]   \n",
       "1357964347813687296      False           [15, 28]   \n",
       "\n",
       "                                                                                                                                                                                                                                                                                                    entities  \\\n",
       "id                                                                                                                                                                                                                                                                                                             \n",
       "1357991946082418690  {'hashtags': [], 'symbols': [], 'user_mentions': [], 'urls': [], 'media': [{'id': 1357991942471094275, 'id_str': '1357991942471094275', 'indices': [24, 47], 'media_url': 'http://pbs.twimg.com/media/EtiOegrVEAMCgZE.jpg', 'media_url_https': 'https://pbs.twimg.com/media/EtiOegrV...   \n",
       "1357973565413367808  {'hashtags': [], 'symbols': [], 'user_mentions': [{'screen_name': 'DumDin7', 'name': 'Dum Din', 'id': 1279896279733145601, 'id_str': '1279896279733145601', 'indices': [0, 8]}, {'screen_name': 'Grimezsz', 'name': '𝑪𝒍𝒂𝒊𝒓𝒆 𝒅𝒆 𝑳𝒖𝒏𝒆࿎', 'id': 276540738, 'id_str': '276540738', 'indi...   \n",
       "1357972904663687173                                                                                                        {'hashtags': [], 'symbols': [], 'user_mentions': [{'screen_name': 'Grimezsz', 'name': '𝑪𝒍𝒂𝒊𝒓𝒆 𝒅𝒆 𝑳𝒖𝒏𝒆࿎', 'id': 276540738, 'id_str': '276540738', 'indices': [0, 9]}], 'urls': []}   \n",
       "1357970517165182979                                                      {'hashtags': [], 'symbols': [], 'user_mentions': [], 'urls': [{'url': 'https://t.co/cnOf9yjpF1', 'expanded_url': 'https://m.youtube.com/watch?v=05QJlF06F4s', 'display_url': 'm.youtube.com/watch?v=05QJlF…', 'indices': [6, 29]}]}   \n",
       "1357964347813687296                                                                                           {'hashtags': [], 'symbols': [], 'user_mentions': [{'screen_name': 'Kristennetten', 'name': 'K10✨', 'id': 985686123123949568, 'id_str': '985686123123949568', 'indices': [0, 14]}], 'urls': []}   \n",
       "\n",
       "                                                                                                                                                                                                                                                                                           extended_entities  \\\n",
       "id                                                                                                                                                                                                                                                                                                             \n",
       "1357991946082418690  {'media': [{'id': 1357991942471094275, 'id_str': '1357991942471094275', 'indices': [24, 47], 'media_url': 'http://pbs.twimg.com/media/EtiOegrVEAMCgZE.jpg', 'media_url_https': 'https://pbs.twimg.com/media/EtiOegrVEAMCgZE.jpg', 'url': 'https://t.co/Je4EI88HmV', 'display_url': '...   \n",
       "1357973565413367808                                                                                                                                                                                                                                                                                      NaN   \n",
       "1357972904663687173                                                                                                                                                                                                                                                                                      NaN   \n",
       "1357970517165182979                                                                                                                                                                                                                                                                                      NaN   \n",
       "1357964347813687296                                                                                                                                                                                                                                                                                      NaN   \n",
       "\n",
       "                                                                                                 source  \\\n",
       "id                                                                                                        \n",
       "1357991946082418690  <a href=\"http://twitter.com/download/iphone\" rel=\"nofollow\">Twitter for iPhone</a>   \n",
       "1357973565413367808  <a href=\"http://twitter.com/download/iphone\" rel=\"nofollow\">Twitter for iPhone</a>   \n",
       "1357972904663687173  <a href=\"http://twitter.com/download/iphone\" rel=\"nofollow\">Twitter for iPhone</a>   \n",
       "1357970517165182979  <a href=\"http://twitter.com/download/iphone\" rel=\"nofollow\">Twitter for iPhone</a>   \n",
       "1357964347813687296  <a href=\"http://twitter.com/download/iphone\" rel=\"nofollow\">Twitter for iPhone</a>   \n",
       "\n",
       "                     in_reply_to_status_id  in_reply_to_status_id_str  ...  \\\n",
       "id                                                                     ...   \n",
       "1357991946082418690                    NaN                        NaN  ...   \n",
       "1357973565413367808           1.357973e+18               1.357973e+18  ...   \n",
       "1357972904663687173           1.357835e+18               1.357835e+18  ...   \n",
       "1357970517165182979                    NaN                        NaN  ...   \n",
       "1357964347813687296           1.357964e+18               1.357964e+18  ...   \n",
       "\n",
       "                     favorite_count  favorited retweeted possibly_sensitive  \\\n",
       "id                                                                            \n",
       "1357991946082418690          352096      False     False                0.0   \n",
       "1357973565413367808            2155      False     False                NaN   \n",
       "1357972904663687173            5373      False     False                NaN   \n",
       "1357970517165182979           62717      False     False                0.0   \n",
       "1357964347813687296            5726      False     False                NaN   \n",
       "\n",
       "                     lang  retweeted_status  quoted_status_id  \\\n",
       "id                                                              \n",
       "1357991946082418690    en               NaN               NaN   \n",
       "1357973565413367808    en               NaN               NaN   \n",
       "1357972904663687173    en               NaN               NaN   \n",
       "1357970517165182979    en               NaN               NaN   \n",
       "1357964347813687296    en               NaN               NaN   \n",
       "\n",
       "                     quoted_status_id_str  quoted_status_permalink  \\\n",
       "id                                                                   \n",
       "1357991946082418690                   NaN                      NaN   \n",
       "1357973565413367808                   NaN                      NaN   \n",
       "1357972904663687173                   NaN                      NaN   \n",
       "1357970517165182979                   NaN                      NaN   \n",
       "1357964347813687296                   NaN                      NaN   \n",
       "\n",
       "                     quoted_status  \n",
       "id                                  \n",
       "1357991946082418690            NaN  \n",
       "1357973565413367808            NaN  \n",
       "1357972904663687173            NaN  \n",
       "1357970517165182979            NaN  \n",
       "1357964347813687296            NaN  \n",
       "\n",
       "[5 rows x 30 columns]"
      ]
     },
     "execution_count": 177,
     "metadata": {},
     "output_type": "execute_result"
    }
   ],
   "source": [
    "# Run this cell to show the first 5 tweets for Elon Musk, no further action is needed.\n",
    "tweets[\"elonmusk\"].head()"
   ]
  },
  {
   "cell_type": "markdown",
   "metadata": {
    "deletable": false,
    "editable": false
   },
   "source": [
    "<!-- BEGIN QUESTION -->\n",
    "\n",
    "<br>\n",
    "\n",
    "---\n",
    "### Question 1d\n",
    "There are many ways we could choose to read tweets. Why might someone be interested in doing data analysis on tweets? Name a kind of person or institution that might be interested in this kind of analysis. Then, give two reasons why a data analysis of tweets might be interesting or useful for them. Answer in 2-3 sentences."
   ]
  },
  {
   "cell_type": "markdown",
   "metadata": {},
   "source": [
    "_Someone might be interested in doing data analysis on tweets during political elections to see what people are saying about specific candidates or people. Political campaign strategists like the ACLU or Democracy Partners might want to see an analysis of the tweets to see what are common/trending topics regarding elections and then use this information for their reporting and/or broadacasting effort._ \n",
    "\n",
    "_Two reasons they might want a data analysis of the tweets are: understanding voter sentiment on issue or candidates, this will help them report on these issues and help campaign strategists change their messages to address these sentiments (ie. if people on twitter seem to dislike some topics of a candidate or issue, the campaign strategist can address these topics in a more positive light in the future). They also might want data analysis to sell to political parties to receive real-time information regarding debates or campaign events. They can use the Twitter feed to identify the trends post-campaign and use them to influence their planning for the next event or announcement._"
   ]
  },
  {
   "cell_type": "markdown",
   "metadata": {
    "deletable": false,
    "editable": false,
    "nbgrader": {
     "grade": false,
     "grade_id": "q3b",
     "locked": true,
     "schema_version": 2,
     "solution": false
    }
   },
   "source": [
    "<!-- END QUESTION -->\n",
    "\n",
    "<br/>\n",
    "\n",
    "<hr style=\"border: 1px solid #fdb515;\" />\n",
    "\n",
    "\n",
    "## Question 2:  Source Analysis\n",
    "\n",
    "In some cases, the Twitter feed of a public figure may be partially managed by a public relations firm. In these cases, the device used to post the tweet may help reveal whether it was the individual (e.g., from an iPhone) or a public relations firm (e.g., TweetDeck). The tweets we have collected contain the source information, but it is formatted strangely. Let's take a peek."
   ]
  },
  {
   "cell_type": "code",
   "execution_count": 178,
   "metadata": {},
   "outputs": [
    {
     "data": {
      "text/html": [
       "<div>\n",
       "<style scoped>\n",
       "    .dataframe tbody tr th:only-of-type {\n",
       "        vertical-align: middle;\n",
       "    }\n",
       "\n",
       "    .dataframe tbody tr th {\n",
       "        vertical-align: top;\n",
       "    }\n",
       "\n",
       "    .dataframe thead th {\n",
       "        text-align: right;\n",
       "    }\n",
       "</style>\n",
       "<table border=\"1\" class=\"dataframe\">\n",
       "  <thead>\n",
       "    <tr style=\"text-align: right;\">\n",
       "      <th></th>\n",
       "      <th>source</th>\n",
       "    </tr>\n",
       "    <tr>\n",
       "      <th>id</th>\n",
       "      <th></th>\n",
       "    </tr>\n",
       "  </thead>\n",
       "  <tbody>\n",
       "    <tr>\n",
       "      <th>1358137564587319299</th>\n",
       "      <td>&lt;a href=\"http://twitter.com/download/iphone\" rel=\"nofollow\"&gt;Twitter for iPhone&lt;/a&gt;</td>\n",
       "    </tr>\n",
       "    <tr>\n",
       "      <th>1357379984399212545</th>\n",
       "      <td>&lt;a href=\"http://twitter.com/download/iphone\" rel=\"nofollow\"&gt;Twitter for iPhone&lt;/a&gt;</td>\n",
       "    </tr>\n",
       "    <tr>\n",
       "      <th>1356733030962987008</th>\n",
       "      <td>&lt;a href=\"http://twitter.com/download/iphone\" rel=\"nofollow\"&gt;Twitter for iPhone&lt;/a&gt;</td>\n",
       "    </tr>\n",
       "    <tr>\n",
       "      <th>1355924395064233986</th>\n",
       "      <td>&lt;a href=\"http://twitter.com/download/iphone\" rel=\"nofollow\"&gt;Twitter for iPhone&lt;/a&gt;</td>\n",
       "    </tr>\n",
       "    <tr>\n",
       "      <th>1355599316300292097</th>\n",
       "      <td>&lt;a href=\"http://twitter.com/download/iphone\" rel=\"nofollow\"&gt;Twitter for iPhone&lt;/a&gt;</td>\n",
       "    </tr>\n",
       "    <tr>\n",
       "      <th>...</th>\n",
       "      <td>...</td>\n",
       "    </tr>\n",
       "    <tr>\n",
       "      <th>32514882561638401</th>\n",
       "      <td>&lt;a href=\"http://www.whosay.com\" rel=\"nofollow\"&gt;WhoSay&lt;/a&gt;</td>\n",
       "    </tr>\n",
       "    <tr>\n",
       "      <th>32513604662071296</th>\n",
       "      <td>&lt;a href=\"http://www.whosay.com\" rel=\"nofollow\"&gt;WhoSay&lt;/a&gt;</td>\n",
       "    </tr>\n",
       "    <tr>\n",
       "      <th>32511823722840064</th>\n",
       "      <td>&lt;a href=\"http://www.whosay.com\" rel=\"nofollow\"&gt;WhoSay&lt;/a&gt;</td>\n",
       "    </tr>\n",
       "    <tr>\n",
       "      <th>32510294081146881</th>\n",
       "      <td>&lt;a href=\"http://www.whosay.com\" rel=\"nofollow\"&gt;WhoSay&lt;/a&gt;</td>\n",
       "    </tr>\n",
       "    <tr>\n",
       "      <th>32508748819857410</th>\n",
       "      <td>&lt;a href=\"http://www.whosay.com\" rel=\"nofollow\"&gt;WhoSay&lt;/a&gt;</td>\n",
       "    </tr>\n",
       "  </tbody>\n",
       "</table>\n",
       "<p>3198 rows × 1 columns</p>\n",
       "</div>"
      ],
      "text/plain": [
       "                                                                                                 source\n",
       "id                                                                                                     \n",
       "1358137564587319299  <a href=\"http://twitter.com/download/iphone\" rel=\"nofollow\">Twitter for iPhone</a>\n",
       "1357379984399212545  <a href=\"http://twitter.com/download/iphone\" rel=\"nofollow\">Twitter for iPhone</a>\n",
       "1356733030962987008  <a href=\"http://twitter.com/download/iphone\" rel=\"nofollow\">Twitter for iPhone</a>\n",
       "1355924395064233986  <a href=\"http://twitter.com/download/iphone\" rel=\"nofollow\">Twitter for iPhone</a>\n",
       "1355599316300292097  <a href=\"http://twitter.com/download/iphone\" rel=\"nofollow\">Twitter for iPhone</a>\n",
       "...                                                                                                 ...\n",
       "32514882561638401                             <a href=\"http://www.whosay.com\" rel=\"nofollow\">WhoSay</a>\n",
       "32513604662071296                             <a href=\"http://www.whosay.com\" rel=\"nofollow\">WhoSay</a>\n",
       "32511823722840064                             <a href=\"http://www.whosay.com\" rel=\"nofollow\">WhoSay</a>\n",
       "32510294081146881                             <a href=\"http://www.whosay.com\" rel=\"nofollow\">WhoSay</a>\n",
       "32508748819857410                             <a href=\"http://www.whosay.com\" rel=\"nofollow\">WhoSay</a>\n",
       "\n",
       "[3198 rows x 1 columns]"
      ]
     },
     "execution_count": 178,
     "metadata": {},
     "output_type": "execute_result"
    }
   ],
   "source": [
    "# Run this cell to see the source column of Cristano's tweet DataFrame, no further action is needed.\n",
    "tweets[\"Cristiano\"][[\"source\"]]"
   ]
  },
  {
   "cell_type": "markdown",
   "metadata": {},
   "source": [
    "In this question, we will use a regular expression to convert this messy HTML snippet into something more readable.  For example: `<a href=\"http://twitter.com/download/iphone\" rel=\"nofollow\">Twitter for iPhone</a>` should be `Twitter for iPhone`. "
   ]
  },
  {
   "cell_type": "markdown",
   "metadata": {
    "deletable": false,
    "editable": false
   },
   "source": [
    "<br>\n",
    "\n",
    "--- \n",
    "### Question 2a\n",
    "\n",
    "We will first use `python`'s `re` library to clean up the above test string. In the cell below, write a regular expression that will match the **HTML tag** and assign it to the variable `q2a_pattern`. We then use the `re.sub` function to substitute anything that matches the pattern with an empty string `\"\"`.\n",
    "\n",
    "An HTML tag is defined as a `<` character followed by zero or more non-`>` characters, followed by a `>` character. That is, `<a>` and `</a>` are both considered _separate_ HTML tags.\n",
    "\n",
    "**Note:** In this question and in all subsequent questions in this assignment that involve RegEx, the public test cases will run your RegEx pattern on several test strings. If you are failing a public test case, this is likely because your RegEx pattern does not account for a possible way in which text might be structured. See the description of the test case to help you debug your RegEx. Resources like [Regex101](https://regex101.com/) might be helpful!\n",
    "\n",
    "**Hint**: We differentiate RegEx patterns from typical `python` strings by adding an `r` in front of the string. For example, we write `r\"some_pattern\"` to denote a RegEx pattern as opposed to just `\"some_pattern\"`."
   ]
  },
  {
   "cell_type": "code",
   "execution_count": 179,
   "metadata": {
    "tags": []
   },
   "outputs": [
    {
     "data": {
      "text/plain": [
       "'Twitter for iPhone'"
      ]
     },
     "execution_count": 179,
     "metadata": {},
     "output_type": "execute_result"
    }
   ],
   "source": [
    "q2a_pattern = r'<([^>]*)>'\n",
    "test_str = '<a href=\"http://twitter.com/download/iphone\" rel=\"nofollow\">Twitter for iPhone</a>'\n",
    "re.sub(q2a_pattern, \"\", test_str)"
   ]
  },
  {
   "cell_type": "code",
   "execution_count": 180,
   "metadata": {
    "deletable": false,
    "editable": false
   },
   "outputs": [
    {
     "data": {
      "text/html": [
       "<p><strong><pre style='display: inline;'>q2a</pre></strong> passed! 🍀</p>"
      ],
      "text/plain": [
       "q2a results: All test cases passed!"
      ]
     },
     "execution_count": 180,
     "metadata": {},
     "output_type": "execute_result"
    }
   ],
   "source": [
    "grader.check(\"q2a\")"
   ]
  },
  {
   "cell_type": "markdown",
   "metadata": {
    "deletable": false,
    "editable": false
   },
   "source": [
    "<br>\n",
    "\n",
    "--- \n",
    "### Question 2b\n",
    "\n",
    "Rather than writing a regular expression to detect and remove the HTML tags, we could instead write a regular expression to **capture** the device name between the angle brackets. To simplify the problem, you may assume the device name is between a right angle bracket (`>`) and a left angle bracket (`<`). Here we will use [**capturing groups**](https://docs.python.org/3/howto/regex.html#grouping) by placing parenthesis around the part of the regular expression we want to return.\n",
    "\n",
    "\n",
    "**Hint:** The output of the following cell should be `['Twitter for iPhone']`."
   ]
  },
  {
   "cell_type": "code",
   "execution_count": 181,
   "metadata": {
    "tags": []
   },
   "outputs": [
    {
     "data": {
      "text/plain": [
       "['Twitter for iPhone']"
      ]
     },
     "execution_count": 181,
     "metadata": {},
     "output_type": "execute_result"
    }
   ],
   "source": [
    "q2b_pattern = r'>([^>]+)<'\n",
    "test_str = '<a href=\"http://twitter.com/download/iphone\" rel=\"nofollow\">Twitter for iPhone</a>'\n",
    "re.findall(q2b_pattern, test_str)"
   ]
  },
  {
   "cell_type": "code",
   "execution_count": 182,
   "metadata": {
    "deletable": false,
    "editable": false
   },
   "outputs": [
    {
     "data": {
      "text/html": [
       "<p><strong><pre style='display: inline;'>q2b</pre></strong> passed! ✨</p>"
      ],
      "text/plain": [
       "q2b results: All test cases passed!"
      ]
     },
     "execution_count": 182,
     "metadata": {},
     "output_type": "execute_result"
    }
   ],
   "source": [
    "grader.check(\"q2b\")"
   ]
  },
  {
   "cell_type": "markdown",
   "metadata": {
    "deletable": false,
    "editable": false
   },
   "source": [
    "<br>\n",
    "\n",
    "---\n",
    "### Question 2c\n",
    "\n",
    "Using either of the two regular expressions you just created and `Series.str.replace`[(docs)](https://pandas.pydata.org/docs/reference/api/pandas.Series.str.replace.html) or `Series.str.extract`[(docs)](https://pandas.pydata.org/docs/reference/api/pandas.Series.str.extract.html), add a new column called `\"device\"` to **all** of the `DataFrames` in `tweets` containing just the text describing the device (without the HTML tags). You may use one or multiple lines.\n",
    "\n",
    "**Note:** If you choose to use a loop to go through `tweets`, you may also find `DataFrame.assign` helpful; see the documentation [here](https://pandas.pydata.org/docs/reference/api/pandas.DataFrame.assign.html), but this is not necessarily required."
   ]
  },
  {
   "cell_type": "code",
   "execution_count": 183,
   "metadata": {
    "tags": []
   },
   "outputs": [],
   "source": [
    "for person, df in tweets.items():\n",
    "    df_device = df.assign(device = df[\"source\"].str.extract(q2b_pattern))\n",
    "    tweets[person] = df_device"
   ]
  },
  {
   "cell_type": "code",
   "execution_count": 184,
   "metadata": {
    "deletable": false,
    "editable": false
   },
   "outputs": [
    {
     "data": {
      "text/html": [
       "<p><strong><pre style='display: inline;'>q2c</pre></strong> passed! 🚀</p>"
      ],
      "text/plain": [
       "q2c results: All test cases passed!"
      ]
     },
     "execution_count": 184,
     "metadata": {},
     "output_type": "execute_result"
    }
   ],
   "source": [
    "grader.check(\"q2c\")"
   ]
  },
  {
   "cell_type": "markdown",
   "metadata": {
    "deletable": false,
    "editable": false
   },
   "source": [
    "<br>\n",
    "\n",
    "---\n",
    "### Question 2d\n",
    "\n",
    "To examine the most frequently used devices by each individual, implement the `most_freq` function that takes in a `Series` and an integer `k`, and returns a new `Series` containing the `k` most commonly occurring entries in the input Series object, where the values are the counts of the entries and the indices are the entries themselves.\n",
    "\n",
    "For example: \n",
    "```python\n",
    "most_freq(pd.Series([\"A\", \"B\", \"A\", \"C\", \"B\", \"A\"]), k=2)\n",
    "```\n",
    "would return:\n",
    "```\n",
    "A    3\n",
    "B    2\n",
    "dtype: int64\n",
    "```"
   ]
  },
  {
   "cell_type": "code",
   "execution_count": 185,
   "metadata": {
    "tags": []
   },
   "outputs": [
    {
     "data": {
      "text/plain": [
       "device\n",
       "Twitter for iPhone     1183\n",
       "Twitter Web Client      959\n",
       "WhoSay                  453\n",
       "MobioINsider.com        144\n",
       "Twitter for Android     108\n",
       "Name: count, dtype: int64"
      ]
     },
     "execution_count": 185,
     "metadata": {},
     "output_type": "execute_result"
    }
   ],
   "source": [
    "def most_freq(series, k = 5):\n",
    "    entries = series.value_counts()\n",
    "    k_entries = entries.head(k)\n",
    "    return k_entries\n",
    "        \n",
    "most_freq(tweets[\"Cristiano\"]['device'])"
   ]
  },
  {
   "cell_type": "code",
   "execution_count": 186,
   "metadata": {
    "deletable": false,
    "editable": false
   },
   "outputs": [
    {
     "data": {
      "text/html": [
       "<p><strong><pre style='display: inline;'>q2d</pre></strong> passed! 🙌</p>"
      ],
      "text/plain": [
       "q2d results: All test cases passed!"
      ]
     },
     "execution_count": 186,
     "metadata": {},
     "output_type": "execute_result"
    }
   ],
   "source": [
    "grader.check(\"q2d\")"
   ]
  },
  {
   "cell_type": "markdown",
   "metadata": {
    "nbgrader": {
     "grade": false,
     "grade_id": "q4b",
     "locked": true,
     "schema_version": 2,
     "solution": false
    }
   },
   "source": [
    "Run the following two cells to compute a table and plot describing the top 5 most commonly used devices for each user."
   ]
  },
  {
   "cell_type": "code",
   "execution_count": 187,
   "metadata": {},
   "outputs": [
    {
     "data": {
      "text/html": [
       "<div>\n",
       "<style scoped>\n",
       "    .dataframe tbody tr th:only-of-type {\n",
       "        vertical-align: middle;\n",
       "    }\n",
       "\n",
       "    .dataframe tbody tr th {\n",
       "        vertical-align: top;\n",
       "    }\n",
       "\n",
       "    .dataframe thead th {\n",
       "        text-align: right;\n",
       "    }\n",
       "</style>\n",
       "<table border=\"1\" class=\"dataframe\">\n",
       "  <thead>\n",
       "    <tr style=\"text-align: right;\">\n",
       "      <th>device</th>\n",
       "      <th>Twitter for iPhone</th>\n",
       "      <th>Twitter Media Studio</th>\n",
       "      <th>Twitter Web App</th>\n",
       "      <th>Twitter Web Client</th>\n",
       "      <th>WhoSay</th>\n",
       "      <th>MobioINsider.com</th>\n",
       "      <th>Twitter for Android</th>\n",
       "    </tr>\n",
       "  </thead>\n",
       "  <tbody>\n",
       "    <tr>\n",
       "      <th>AOC</th>\n",
       "      <td>3245.0</td>\n",
       "      <td>2.0</td>\n",
       "      <td>0.0</td>\n",
       "      <td>0.0</td>\n",
       "      <td>0.0</td>\n",
       "      <td>0.0</td>\n",
       "      <td>0.0</td>\n",
       "    </tr>\n",
       "    <tr>\n",
       "      <th>elonmusk</th>\n",
       "      <td>3202.0</td>\n",
       "      <td>0.0</td>\n",
       "      <td>37.0</td>\n",
       "      <td>0.0</td>\n",
       "      <td>0.0</td>\n",
       "      <td>0.0</td>\n",
       "      <td>0.0</td>\n",
       "    </tr>\n",
       "    <tr>\n",
       "      <th>Cristiano</th>\n",
       "      <td>1183.0</td>\n",
       "      <td>0.0</td>\n",
       "      <td>0.0</td>\n",
       "      <td>959.0</td>\n",
       "      <td>453.0</td>\n",
       "      <td>144.0</td>\n",
       "      <td>108.0</td>\n",
       "    </tr>\n",
       "  </tbody>\n",
       "</table>\n",
       "</div>"
      ],
      "text/plain": [
       "device     Twitter for iPhone  Twitter Media Studio  Twitter Web App  \\\n",
       "AOC                    3245.0                   2.0              0.0   \n",
       "elonmusk               3202.0                   0.0             37.0   \n",
       "Cristiano              1183.0                   0.0              0.0   \n",
       "\n",
       "device     Twitter Web Client  WhoSay  MobioINsider.com  Twitter for Android  \n",
       "AOC                       0.0     0.0               0.0                  0.0  \n",
       "elonmusk                  0.0     0.0               0.0                  0.0  \n",
       "Cristiano               959.0   453.0             144.0                108.0  "
      ]
     },
     "execution_count": 187,
     "metadata": {},
     "output_type": "execute_result"
    }
   ],
   "source": [
    "# Run this cell to compute a table, no further action needed.\n",
    "device_counts = pd.DataFrame(\n",
    "    [most_freq(tweets[name]['device']).rename(name)\n",
    "     for name in tweets]\n",
    ").fillna(0)\n",
    "device_counts"
   ]
  },
  {
   "cell_type": "code",
   "execution_count": 188,
   "metadata": {},
   "outputs": [
    {
     "data": {
      "image/png": "[encoded data removed]",
      "text/plain": [
       "<Figure size 1500x500 with 1 Axes>"
      ]
     },
     "metadata": {},
     "output_type": "display_data"
    }
   ],
   "source": [
    "# Run this cell to generate the plot, no further action needed.\n",
    "make_bar_plot(device_counts.T, title=\"Count of Tweets by Source\",\n",
    "               xlabel=\"Source\", ylabel=\"Count\")\n",
    "plt.xticks(rotation=45)\n",
    "plt.legend(title=\"Handle\");"
   ]
  },
  {
   "cell_type": "markdown",
   "metadata": {
    "deletable": false,
    "editable": false
   },
   "source": [
    "<!-- BEGIN QUESTION -->\n",
    "\n",
    "<br>\n",
    "\n",
    "---\n",
    "### Question 2e\n",
    "\n",
    "Given the plot above, what might we want to investigate during EDA? Name some possible questions you may have about the dataset in light of the information shown in the plot."
   ]
  },
  {
   "cell_type": "markdown",
   "metadata": {},
   "source": [
    "_During EDA, we might want to investigate the devices commonly used by users and if there are outliers. If we have access to ages, we might want to investigate common devices used for each person by age group. We might also want to look at location, and see where the logins are for these devices and see, for example, if it is more commong to use Twitter for Web Client outside of the U.S. or vice versa. We could also see if there are people who mainly use one form of accessing Twitter, or if they use various forms. This would help us understand if the people using Twitter for web, for example, have access to a phone or if they mainly use Twitter on the web because they lack access to a mobile device._\n",
    "\n",
    "_Some questions we can ask are:\n",
    "1)What device do AOC Twitter engagements normally come from?\n",
    "2)Is there a significant difference in distribution of device engagement from phones and the web for different people (ie. AOC, Elon Musk, and Cristiano)?\n",
    "3) Do users outside of the United States use Web Client more frequently than users in the U.S.?\n",
    "4) Do younger users tend to use Twitter more on the web or their mobile devices?\n",
    "5) Does location impact type of device used?\n",
    "6) Do users use specific devices during particular time periods?_"
   ]
  },
  {
   "cell_type": "markdown",
   "metadata": {
    "deletable": false,
    "editable": false
   },
   "source": [
    "<!-- END QUESTION -->\n",
    "\n",
    "<!-- BEGIN QUESTION -->\n",
    "\n",
    "<br>\n",
    "\n",
    "---\n",
    "### Question 2f\n",
    "\n",
    "We just looked at the top 5 most commonly used devices for each user. However, we used the number of tweets as a measure when it might be better to compare these distributions by comparing _proportions_ of tweets (i.e., what percentage of all tweets for a user were published from each device). Why might the proportions of tweets be better measures than the number of tweets?\n"
   ]
  },
  {
   "cell_type": "markdown",
   "metadata": {},
   "source": [
    "_The proportions of tweets might be better because this raw number could be masking distributional differences. If we were to see proportions, what we, for example, might have seen as a lot of Tweets for Elon Musk through Twitter for the iphone, might not actually be that much compared to the total tweets for that user. Using proportions can essentially help us normalize the data and more easily compare it, because right now it may seem like AOC has many more tweets from Twitter for the iphone but once we use proportions we can really see how that stacks up against other devices. People who tweet a lot might just have more tweets from each device but we still need to see relative to other devices how they verge. Also, using the proportions will let us find outliers and look into if some devices are disproportionately preferred than others._"
   ]
  },
  {
   "cell_type": "markdown",
   "metadata": {
    "deletable": false,
    "editable": false,
    "nbgrader": {
     "grade": false,
     "grade_id": "q4a",
     "locked": true,
     "schema_version": 2,
     "solution": false
    }
   },
   "source": [
    "<!-- END QUESTION -->\n",
    "\n",
    "<br/>\n",
    "\n",
    "<hr style=\"border: 1px solid #fdb515;\" />\n",
    "\n",
    "\n",
    "## Question 3: When?\n",
    "\n",
    "Now that we've explored the sources of each of the tweets, we will perform some time series analysis. A look into the temporal aspect of the data could reveal insights about how a user spends their day, when they eat and sleep, etc. In this question, we will focus on the time at which each tweet was posted.\n"
   ]
  },
  {
   "cell_type": "markdown",
   "metadata": {
    "deletable": false,
    "editable": false
   },
   "source": [
    "<br>\n",
    "\n",
    "---\n",
    "### Question 3a\n",
    "\n",
    "Complete the following function `add_hour` that takes in a tweet `DataFrame` `df`, and two variables `time_col` and `result_col` representing the string names of the associated columns in `df`. Your function should use the timestamps in the `time_col` column to store in a new column, `result_col` the computed hour of the day as a floating point number according to the formula:\n",
    "\n",
    "$$\n",
    "\\text{hour} + \\frac{\\text{minute}}{60} + \\frac{\\text{second}}{60^{2}}\n",
    "$$\n",
    "\n",
    "**Note:** The below code calls your `add_hour` function and updates each tweet `DataFrame` by using the `created_at` timestamp column to calculate and store the `hour` column.\n",
    "\n",
    "**Hint:** See the following link for an example of working with timestamps using the [`dt` accessors](https://pandas.pydata.org/pandas-docs/stable/user_guide/basics.html#dt-accessor). \n"
   ]
  },
  {
   "cell_type": "code",
   "execution_count": 189,
   "metadata": {
    "nbgrader": {
     "grade": false,
     "grade_id": "q4b-answer",
     "locked": false,
     "schema_version": 2,
     "solution": true
    },
    "tags": [
     "student"
    ]
   },
   "outputs": [
    {
     "data": {
      "text/plain": [
       "id\n",
       "1358149122264563712    20.377222\n",
       "1358147616400408576    20.277500\n",
       "1358145332316667909    20.126389\n",
       "1358145218407759875    20.118611\n",
       "1358144207333036040    20.051667\n",
       "Name: hour, dtype: float64"
      ]
     },
     "execution_count": 189,
     "metadata": {},
     "output_type": "execute_result"
    }
   ],
   "source": [
    "def add_hour(df, time_col, result_col):\n",
    "    hour = df[time_col].dt.hour\n",
    "    minute = (df[time_col].dt.minute)/60\n",
    "    second = (df[time_col].dt.second)/(60**2)\n",
    "    df[result_col] = hour + minute + second\n",
    "    return df\n",
    "\n",
    "# Do not modify the below code.\n",
    "tweets = {handle: add_hour(df, \"created_at\", \"hour\") for handle, df in tweets.items()}\n",
    "tweets[\"AOC\"][\"hour\"].head()"
   ]
  },
  {
   "cell_type": "code",
   "execution_count": 190,
   "metadata": {
    "deletable": false,
    "editable": false
   },
   "outputs": [
    {
     "data": {
      "text/html": [
       "<p><strong><pre style='display: inline;'>q3a</pre></strong> passed! 💯</p>"
      ],
      "text/plain": [
       "q3a results: All test cases passed!"
      ]
     },
     "execution_count": 190,
     "metadata": {},
     "output_type": "execute_result"
    }
   ],
   "source": [
    "grader.check(\"q3a\")"
   ]
  },
  {
   "cell_type": "markdown",
   "metadata": {
    "nbgrader": {
     "grade": false,
     "grade_id": "q4c",
     "locked": true,
     "schema_version": 2,
     "solution": false
    }
   },
   "source": [
    "With our new `hour` column, let's take a look at the distribution of tweets for each user by time of day. The following cell helps create a line plot on the number of tweets based on the hour they are posted. \n",
    "\n",
    "The function `bin_df` takes in a `DataFrame`, an array of bins, and a column name; it bins the the values in the specified column, returning a `DataFrame` with the bin lower bound and the number of elements in the bin. This function uses [`pd.cut`](https://pandas.pydata.org/pandas-docs/stable/reference/api/pandas.cut.html), a `pandas` [utility](https://pandas.pydata.org/pandas-docs/stable/reference/api/pandas.cut.html) for binning numerical values that you may find helpful in the distant future.\n",
    "\n",
    "Run the cell and answer the following question about the plot."
   ]
  },
  {
   "cell_type": "code",
   "execution_count": 191,
   "metadata": {},
   "outputs": [
    {
     "data": {
      "image/png": "[encoded data removed]",
      "text/plain": [
       "<Figure size 1000x600 with 1 Axes>"
      ]
     },
     "metadata": {},
     "output_type": "display_data"
    }
   ],
   "source": [
    "# Run this cell to generate the plot, no further action is needed.\n",
    "def bin_df(df, bins, colname):\n",
    "    binned = pd.cut(df[colname], bins).value_counts().sort_index()\n",
    "    return pd.DataFrame({\"counts\": binned, \"bin\": bins[:-1]})\n",
    "\n",
    "hour_bins = np.arange(0, 24.5, .5)\n",
    "binned_hours = {handle: bin_df(df, hour_bins, \"hour\") for handle, df in tweets.items()}\n",
    "\n",
    "make_line_plot(binned_hours, \"bin\", \"counts\", title=\"Distribution of Tweets by Time of Day\",\n",
    "               xlabel=\"Hour\", ylabel=\"Number of Tweets\")"
   ]
  },
  {
   "cell_type": "markdown",
   "metadata": {
    "deletable": false,
    "editable": false
   },
   "source": [
    "<!-- BEGIN QUESTION -->\n",
    "\n",
    "<br>\n",
    "\n",
    "---\n",
    "### Question 3b\n",
    "Compare Cristiano's distribution with those of AOC and Elon Musk. In particular, compare the distributions before and after Hour 6. What differences did you notice? What might be a possible cause of that? Do the data plotted above seem reasonable?\n",
    "\n",
    "**Hint:** If you are not familiar with who Cristiano, AOC, and Elon Musk are, it may be helpful to Google information about these people, their occupations, and where they live."
   ]
  },
  {
   "cell_type": "markdown",
   "metadata": {},
   "source": [
    "_Cristiano's distribution after hour 6 begins to steadily increase and peaks around hour 17. In comparison, AOC and Elon Musk have steady or even declining tweets following hour 6 u until about hour 3 where they start to increase again. This makes sense because people are probably not tweeting about Cristiano unless there is a game or he is playing soccer somewhere, etc. It would make sense that people tweet about him more during the day because he plays his games during the daytime and that is when most people would be watching him and interacting with content related to him. In contrast, AOC as a politician and Elon Musk as an entrepreneur always have stuff going out about them, and often people are tweeting about them when they get off work and read the news. Overall, everyone seems ot have a spike in tweets around 17 hour which makes sense because that is when most people get off work and check their phones._\n",
    "\n",
    "_Overall, the data plotted above seems reasonable based on the times of day and quantity people are tweeting about these three public figures._"
   ]
  },
  {
   "cell_type": "markdown",
   "metadata": {
    "deletable": false,
    "editable": false
   },
   "source": [
    "<!-- END QUESTION -->\n",
    "\n",
    "<br>\n",
    "\n",
    "---\n",
    "### Question 3c\n",
    "\n",
    "To account for the different locations of each user in our analysis, we will next adjust the `\"created_at\"` timestamp for each tweet to the respective timezone of each user. Complete the following function `convert_timezone` that takes in a tweet `DataFrame` `df` and a timezone `new_tz` and adds a new column `\"converted_time\"` that has the adjusted `\"created_at\"` timestamp for each tweet. The provided code at the bottom of the cell will run your `convert_timezone` function to convert the time zones of each user to the appropriate location.\n",
    "\n",
    "**Hint:** Please see the following link for an example of working with [`dt` accessors](https://pandas.pydata.org/pandas-docs/stable/user_guide/basics.html#dt-accessor).\n"
   ]
  },
  {
   "cell_type": "code",
   "execution_count": 192,
   "metadata": {
    "nbgrader": {
     "grade": false,
     "grade_id": "convert-to-est",
     "locked": true,
     "schema_version": 2,
     "solution": false
    },
    "tags": []
   },
   "outputs": [],
   "source": [
    "def convert_timezone(df, new_tz):\n",
    "    df['converted_time'] = df['created_at'].dt.tz_convert(new_tz)\n",
    "    return df\n",
    "\n",
    "timezones = {\"AOC\": \"EST\", \"Cristiano\": \"Europe/Lisbon\", \"elonmusk\": \"America/Los_Angeles\"}\n",
    "\n",
    "tweets = {handle: convert_timezone(tweets[handle], timezones[handle]) for handle in tweets.keys()}"
   ]
  },
  {
   "cell_type": "code",
   "execution_count": 193,
   "metadata": {
    "deletable": false,
    "editable": false
   },
   "outputs": [
    {
     "data": {
      "text/html": [
       "<p><strong><pre style='display: inline;'>q3c</pre></strong> passed! 🙌</p>"
      ],
      "text/plain": [
       "q3c results: All test cases passed!"
      ]
     },
     "execution_count": 193,
     "metadata": {},
     "output_type": "execute_result"
    }
   ],
   "source": [
    "grader.check(\"q3c\")"
   ]
  },
  {
   "cell_type": "markdown",
   "metadata": {
    "nbgrader": {
     "grade": false,
     "grade_id": "q4c",
     "locked": true,
     "schema_version": 2,
     "solution": false
    }
   },
   "source": [
    "With our adjusted timestamps for each user based on their timezone, let's take a look again at the distribution of tweets by time of day."
   ]
  },
  {
   "cell_type": "code",
   "execution_count": 194,
   "metadata": {},
   "outputs": [
    {
     "data": {
      "image/png": "[encoded data removed]",
      "text/plain": [
       "<Figure size 1000x600 with 1 Axes>"
      ]
     },
     "metadata": {},
     "output_type": "display_data"
    }
   ],
   "source": [
    "# Run this cell to generate the plot, no further action is needed.\n",
    "tweets = {handle: add_hour(df, \"converted_time\", \"converted_hour\") for handle, df in tweets.items()}\n",
    "binned_hours = {handle: bin_df(df, hour_bins, \"converted_hour\") for handle, df in tweets.items()}\n",
    "\n",
    "make_line_plot(binned_hours, \"bin\", \"counts\", title=\"Distribution of Tweets by Time of Day (timezone-corrected)\",\n",
    "               xlabel=\"Hour\", ylabel=\"Number of Tweets\")"
   ]
  },
  {
   "cell_type": "markdown",
   "metadata": {
    "nbgrader": {
     "grade": false,
     "grade_id": "q4a",
     "locked": true,
     "schema_version": 2,
     "solution": false
    }
   },
   "source": [
    "<br/>\n",
    "\n",
    "<hr style=\"border: 1px solid #fdb515;\" />\n",
    "\n",
    "\n",
    "## Question 4: Sentiment Analysis\n",
    "\n",
    "\n",
    "In the past few questions, we have explored the sources of the tweets and when they are posted. Although on their own, they might not seem particularly intricate, combined with the power of regular expressions, they could actually help us infer a lot about the users. In this section, we will continue building on our past analysis and specifically look at the **sentiment of each tweet** -- this would lead us to a much more direct and detailed understanding of how users view certain subjects and people. **Sentiment analysis** is generally the computational task of classifying the emotions in a body of text as positively or negatively charged."
   ]
  },
  {
   "cell_type": "markdown",
   "metadata": {
    "nbgrader": {
     "grade": false,
     "grade_id": "q6-header",
     "locked": true,
     "schema_version": 2,
     "solution": false
    }
   },
   "source": [
    "<br/>\n",
    "How do we actually measure the sentiment of each tweet? In our case, we can use the words in the text of a tweet for our calculation! For example, the word \"love\" within the sentence \"I love America!\" has a positive sentiment, whereas the word \"hate\" within the sentence \"I hate taxes!\" has a negative sentiment. In addition, some words have stronger positive/negative sentiments than others: \"I love America.\" is more positive than \"I like America.\"\n",
    "\n",
    "We will use the VADER (Valence Aware Dictionary and sEntiment Reasoner) lexicon ([github](https://github.com/cjhutto/vaderSentiment), [original paper](https://doi.org/10.1609/icwsm.v8i1.14550)) to analyze the sentiment of AOC's tweets. VADER is a lexicon and rule-based sentiment analysis tool that is specifically attuned to sentiments expressed in social media and is great for our usage.\n",
    "\n",
    "The VADER lexicon gives the sentiment of individual words. Run the following cell to show the first few rows of the lexicon:"
   ]
  },
  {
   "cell_type": "code",
   "execution_count": 195,
   "metadata": {
    "nbgrader": {
     "grade": false,
     "grade_id": "head-vader",
     "locked": true,
     "schema_version": 2,
     "solution": false
    }
   },
   "outputs": [
    {
     "name": "stdout",
     "output_type": "stream",
     "text": [
      "$:\t-1.5\t0.80623\t[-1, -1, -1, -1, -3, -1, -3, -1, -2, -1]\n",
      "%)\t-0.4\t1.0198\t[-1, 0, -1, 0, 0, -2, -1, 2, -1, 0]\n",
      "%-)\t-1.5\t1.43178\t[-2, 0, -2, -2, -1, 2, -2, -3, -2, -3]\n",
      "&-:\t-0.4\t1.42829\t[-3, -1, 0, 0, -1, -1, -1, 2, -1, 2]\n",
      "&:\t-0.7\t0.64031\t[0, -1, -1, -1, 1, -1, -1, -1, -1, -1]\n",
      "( '}{' )\t1.6\t0.66332\t[1, 2, 2, 1, 1, 2, 2, 1, 3, 1]\n",
      "(%\t-0.9\t0.9434\t[0, 0, 1, -1, -1, -1, -2, -2, -1, -2]\n",
      "('-:\t2.2\t1.16619\t[4, 1, 4, 3, 1, 2, 3, 1, 2, 1]\n",
      "(':\t2.3\t0.9\t[1, 3, 3, 2, 2, 4, 2, 3, 1, 2]\n",
      "((-:\t2.1\t0.53852\t[2, 2, 2, 1, 2, 3, 2, 2, 3, 2]\n",
      "\n"
     ]
    }
   ],
   "source": [
    "# Run this cell to print the first 10 rows, no further action needed.\n",
    "print(''.join(open(\"vader_lexicon.txt\").readlines()[:10]))"
   ]
  },
  {
   "cell_type": "markdown",
   "metadata": {},
   "source": [
    "As you can see, the lexicon contains emojis too! Each row contains a word (\"token\") and various measures of the **polarity** of that word, measuring how positive or negative the word is, on a scale of -4 (extremely negative) to +4 (extremely positive). We explain more below."
   ]
  },
  {
   "cell_type": "markdown",
   "metadata": {
    "nbgrader": {
     "grade": false,
     "grade_id": "q6a-header",
     "locked": true,
     "schema_version": 2,
     "solution": false
    }
   },
   "source": [
    "### VADER Sentiment Analysis\n",
    "\n",
    "VADER ([github](https://github.com/cjhutto/vaderSentiment), [original paper](https://doi.org/10.1609/icwsm.v8i1.14550)) is a tool that can quantitatively describe the polarity or \"sentiment\" of a word.\n",
    "\n",
    "VADER doesn't \"read\" sentences but works by parsing sentences into words, assigning a preset generalized score from their testing sets to each word separately. \n",
    "\n",
    "VADER relies on humans to stabilize its scoring. The creators use Amazon Mechanical Turk, a crowdsourcing survey platform, to train its model. Its training data consists of a small corpus of tweets, New York Times editorials and news articles, Rotten Tomatoes reviews, and Amazon product reviews, tokenized using the natural language toolkit (NLTK). Each word in each dataset was reviewed and rated on a scale of -4 (extremely negative) to 4 (extremely positive) by at least 10 trained individuals who had signed up to work on these tasks through Mechanical Turk. \n"
   ]
  },
  {
   "cell_type": "markdown",
   "metadata": {
    "deletable": false,
    "editable": false
   },
   "source": [
    "<!-- BEGIN QUESTION -->\n",
    "\n",
    "<br>\n",
    "\n",
    "---\n",
    "### Question 4a\n",
    "Using your own personal interpretation, please score the sentiment of one of the following words using the VADER scale (-4 means the word is extremely negative. +4 means the word is extremely positive). No code is required for this question!\n",
    "\n",
    "- order\n",
    "- dog\n",
    "- cat\n",
    "- technology\n",
    "- TikTok\n",
    "- security\n",
    "- science\n",
    "- climate change\n",
    "\n",
    "What score did you give it and why? Can you describe a situation where this word would carry the opposite sentiment to the one you’ve just assigned? If not, explain why.\n"
   ]
  },
  {
   "cell_type": "markdown",
   "metadata": {},
   "source": [
    "_I gave the word dog a score of +1. I scored it as a +1 because I generally think people refer to dogs in a positive manner, but often the context is pretty neutral. I think sometimes people also use the word dog or dogs in a context outside of its literal meaning, like \"look at those dogs!\" which can literally mean that or mean \"look at those toes!\" I think that the word dog can be construed with the opposite sentiment if someone says, \"that man is a dog!\" In this case, they would be saying that this man is not acting very appropriately. Overall, however, I think the word dog is positive more often than not._"
   ]
  },
  {
   "cell_type": "markdown",
   "metadata": {
    "deletable": false,
    "editable": false
   },
   "source": [
    "<!-- END QUESTION -->\n",
    "\n",
    "**Optional (ungraded):** Are there circumstances (e.g. certain kinds of language or data) when you might not want to use VADER? What features of human speech might VADER misrepresent or fail to capture?"
   ]
  },
  {
   "cell_type": "markdown",
   "metadata": {
    "deletable": false,
    "editable": false
   },
   "source": [
    "_Type your answer here, replacing this text._"
   ]
  },
  {
   "cell_type": "markdown",
   "metadata": {
    "deletable": false,
    "editable": false
   },
   "source": [
    "<br>\n",
    "\n",
    "---\n",
    "### Question 4b\n",
    "\n",
    "Let's first load the data containing all the sentiments. \n",
    "In `vader_lexicon.txt`, each row contains the word (token), average polarity, the standard deviation of polarity, and the \"raw polarity ratings\" of each of the 10 human raters. See the description of `vader_lexicon.txt` given in the documentation [here](https://github.com/cjhutto/vaderSentiment#resources-and-dataset-descriptions) for more information about each of these measures.\n",
    "\n",
    "Read `vader_lexicon.txt` into a new `DataFrame` called `sent`. The index of the `DataFrame` should be the words in the lexicon and should be named `token`. `sent` should have one column named `polarity`, storing the average polarity of each word. We will not incorporate the polarity standard deviation and raw ratings for this exercise. The first five entries of `sent` should look like this:\n",
    "\n",
    "token | polarity\n",
    "--- |---\n",
    "**$:** | -1.5\n",
    "**%)** | -0.4\n",
    "**%-)**| -1.5\n",
    "**&-:**| -0.4\n",
    "**&:** | -0.7\n",
    "\n",
    "**Note:** If you're confused as to why the first few entries of `sent` don't seem to be words, don't worry: it's because VADER also includes the polarities of emoticons as well!\n",
    "\n",
    "**Hint1:** The `pd.read_csv` ([documentation](https://pandas.pydata.org/docs/reference/api/pandas.read_csv.html)) function may help here. \n",
    "\n",
    "**Hint2:** Since the file is tab-separated, be sure to read the documentation on how to set the separator with `pd.read_csv`'s parameter `sep`. To check your work, the first token should be `$:`.\n",
    "\n",
    "**Hint3:** Is there a header (that is, data that can be used as column names) in the CSV file, and how can you account for this?\n"
   ]
  },
  {
   "cell_type": "code",
   "execution_count": 196,
   "metadata": {
    "tags": []
   },
   "outputs": [
    {
     "data": {
      "text/html": [
       "<div>\n",
       "<style scoped>\n",
       "    .dataframe tbody tr th:only-of-type {\n",
       "        vertical-align: middle;\n",
       "    }\n",
       "\n",
       "    .dataframe tbody tr th {\n",
       "        vertical-align: top;\n",
       "    }\n",
       "\n",
       "    .dataframe thead th {\n",
       "        text-align: right;\n",
       "    }\n",
       "</style>\n",
       "<table border=\"1\" class=\"dataframe\">\n",
       "  <thead>\n",
       "    <tr style=\"text-align: right;\">\n",
       "      <th></th>\n",
       "      <th>polarity</th>\n",
       "    </tr>\n",
       "    <tr>\n",
       "      <th>token</th>\n",
       "      <th></th>\n",
       "    </tr>\n",
       "  </thead>\n",
       "  <tbody>\n",
       "    <tr>\n",
       "      <th>$:</th>\n",
       "      <td>-1.5</td>\n",
       "    </tr>\n",
       "    <tr>\n",
       "      <th>%)</th>\n",
       "      <td>-0.4</td>\n",
       "    </tr>\n",
       "    <tr>\n",
       "      <th>%-)</th>\n",
       "      <td>-1.5</td>\n",
       "    </tr>\n",
       "    <tr>\n",
       "      <th>&amp;-:</th>\n",
       "      <td>-0.4</td>\n",
       "    </tr>\n",
       "    <tr>\n",
       "      <th>&amp;:</th>\n",
       "      <td>-0.7</td>\n",
       "    </tr>\n",
       "  </tbody>\n",
       "</table>\n",
       "</div>"
      ],
      "text/plain": [
       "       polarity\n",
       "token          \n",
       "$:         -1.5\n",
       "%)         -0.4\n",
       "%-)        -1.5\n",
       "&-:        -0.4\n",
       "&:         -0.7"
      ]
     },
     "execution_count": 196,
     "metadata": {},
     "output_type": "execute_result"
    }
   ],
   "source": [
    "sent = pd.read_csv('vader_lexicon.txt', sep = '\\t', header = None, names = ['token', 'polarity'], usecols = [0,1])\n",
    "sent.set_index('token', inplace = True)\n",
    "sent.head()"
   ]
  },
  {
   "cell_type": "code",
   "execution_count": 197,
   "metadata": {
    "deletable": false,
    "editable": false
   },
   "outputs": [
    {
     "data": {
      "text/html": [
       "<p><strong><pre style='display: inline;'>q4b</pre></strong> passed! ✨</p>"
      ],
      "text/plain": [
       "q4b results: All test cases passed!"
      ]
     },
     "execution_count": 197,
     "metadata": {},
     "output_type": "execute_result"
    }
   ],
   "source": [
    "grader.check(\"q4b\")"
   ]
  },
  {
   "cell_type": "markdown",
   "metadata": {
    "nbgrader": {
     "grade": false,
     "grade_id": "q6b-header",
     "locked": true,
     "schema_version": 2,
     "solution": false
    }
   },
   "source": [
    "<br>\n",
    "\n",
    "---\n",
    "### Question 4c\n",
    "\n",
    "Before further analysis, we will need some more tools that can help us extract the necessary information and clean our data.\n",
    "\n",
    "Complete the following regular expressions that will help us match part of a tweet that we either (i) want to remove or (ii) are interested in learning more about."
   ]
  },
  {
   "cell_type": "markdown",
   "metadata": {
    "deletable": false,
    "editable": false
   },
   "source": [
    "#### **Question 4c, Part i**\n",
    "Assign a regular expression to a new variable, `punct_re`, that captures all of the punctuations within a tweet. We consider punctuation to be any non-word, non-whitespace character.\n",
    "\n",
    "**Note**: A word character is any character that is alphanumeric or an underscore. A whitespace character is any character that is a space, a tab, a new line, or a carriage return.\n"
   ]
  },
  {
   "cell_type": "code",
   "execution_count": 198,
   "metadata": {
    "tags": []
   },
   "outputs": [
    {
     "data": {
      "text/plain": [
       "'RT  RepEscobar  Our country has the moral obligation and responsibility to reunite every single family separated at the southern border \\n\\nT '"
      ]
     },
     "execution_count": 198,
     "metadata": {},
     "output_type": "execute_result"
    }
   ],
   "source": [
    "punct_re = r'[^\\w\\s]'\n",
    "re.sub(punct_re, \" \", tweets[\"AOC\"].iloc[0][\"full_text\"])"
   ]
  },
  {
   "cell_type": "code",
   "execution_count": 199,
   "metadata": {
    "deletable": false,
    "editable": false
   },
   "outputs": [
    {
     "data": {
      "text/html": [
       "<p><strong><pre style='display: inline;'>q4ci</pre></strong> passed! ✨</p>"
      ],
      "text/plain": [
       "q4ci results: All test cases passed!"
      ]
     },
     "execution_count": 199,
     "metadata": {},
     "output_type": "execute_result"
    }
   ],
   "source": [
    "grader.check(\"q4ci\")"
   ]
  },
  {
   "cell_type": "markdown",
   "metadata": {
    "deletable": false,
    "editable": false
   },
   "source": [
    "#### **Question 4c, Part ii**\n",
    "Assign a regular expression to a new variable, `mentions_re`, that matches any mention in a tweet. Your regular expression should use a capturing group to extract the user's username in a mention. The `@` sign preceding the username should not be extracted from the tweet.\n",
    "\n",
    "**Hint**: a user mention within a tweet always starts with the `@` symbol and is followed by a series of word characters (with no space in between). For more explanations on what a word character is, check out the **Note** section in Question 4c, Part i.\n"
   ]
  },
  {
   "cell_type": "code",
   "execution_count": 200,
   "metadata": {
    "tags": []
   },
   "outputs": [
    {
     "data": {
      "text/plain": [
       "['RepEscobar']"
      ]
     },
     "execution_count": 200,
     "metadata": {},
     "output_type": "execute_result"
    }
   ],
   "source": [
    "mentions_re = r'@(\\w+)'\n",
    "re.findall(mentions_re, tweets[\"AOC\"].iloc[0][\"full_text\"])"
   ]
  },
  {
   "cell_type": "code",
   "execution_count": 201,
   "metadata": {
    "deletable": false,
    "editable": false
   },
   "outputs": [
    {
     "data": {
      "text/html": [
       "<p><strong><pre style='display: inline;'>q4cii</pre></strong> passed! ✨</p>"
      ],
      "text/plain": [
       "q4cii results: All test cases passed!"
      ]
     },
     "execution_count": 201,
     "metadata": {},
     "output_type": "execute_result"
    }
   ],
   "source": [
    "grader.check(\"q4cii\")"
   ]
  },
  {
   "cell_type": "markdown",
   "metadata": {},
   "source": [
    "<br/>\n",
    "\n",
    "### Tweet Sentiments and User Mentions\n",
    "\n",
    "As you have seen in the previous part of this question, there are actually a lot of interesting components that we can extract out of a tweet for further analysis! For the rest of this question though, we will focus on one particular case: the sentiment of each tweet in relation to the users mentioned within it. \n",
    "\n",
    "To calculate the sentiments for a sentence, we will follow this procedure:\n",
    "\n",
    "1. Remove the punctuation from each tweet so we can analyze the words.\n",
    "2. For each tweet, find the sentiment of each word.\n",
    "3. Calculate the sentiment of each tweet by taking the sum of the sentiments of its words."
   ]
  },
  {
   "cell_type": "markdown",
   "metadata": {
    "deletable": false,
    "editable": false
   },
   "source": [
    "<br>\n",
    "\n",
    "---\n",
    "### Question 4d\n",
    "\n",
    "Let's use our `punct_re` regular expression from the previous part to clean up the text a bit more! The goal here is to remove all of the punctuation to ensure words can be properly matched with those from VADER to actually calculate the full sentiment score.\n",
    "\n",
    "Complete the following function `sanitize_texts` that takes in a `DataFrame` `df` and adds a new column `clean_text` by converting all characters in its original `\"full_text\"` column **to lowercase** and **replace all instances of punctuation with a space character**.\n"
   ]
  },
  {
   "cell_type": "code",
   "execution_count": 202,
   "metadata": {
    "tags": []
   },
   "outputs": [
    {
     "data": {
      "text/plain": [
       "id\n",
       "1358149122264563712                                                                                       rt  repescobar  our country has the moral obligation and responsibility to reunite every single family separated at the southern border \\n\\nt \n",
       "1358147616400408576                                                                                      rt  rokhanna  what happens when we guarantee  15 hour \\n\\n  31  of black workers and 26  of latinx workers get raises \\n  a majority of essent \n",
       "1358145332316667909                                                                                                                                                                                                     source  https   t co 3o5jer6zpd \n",
       "1358145218407759875                                                 joe cunningham pledged to never take corporate pac money  and he never did  mace said she ll cash every check she gets  yet another way this is a downgrade  https   t co dytsqxkxgu\n",
       "1358144207333036040    what s even more gross is that mace takes corporate pac money \\n\\nshe s already funded by corporations  now she s choosing to swindle working people on top of it \\n\\npeak scam artistry  caps for cash   https   t co ccvxgdf6id\n",
       "Name: clean_text, dtype: object"
      ]
     },
     "execution_count": 202,
     "metadata": {},
     "output_type": "execute_result"
    }
   ],
   "source": [
    "def sanitize_texts(df):\n",
    "    df[\"clean_text\"] = df[\"full_text\"].str.lower().replace(punct_re, \" \", regex=True)\n",
    "    return df\n",
    "\n",
    "tweets = {handle: sanitize_texts(df) for handle, df in tweets.items()}\n",
    "tweets[\"AOC\"][\"clean_text\"].head()"
   ]
  },
  {
   "cell_type": "code",
   "execution_count": 203,
   "metadata": {
    "deletable": false,
    "editable": false
   },
   "outputs": [
    {
     "data": {
      "text/html": [
       "<p><strong><pre style='display: inline;'>q4d</pre></strong> passed! 🚀</p>"
      ],
      "text/plain": [
       "q4d results: All test cases passed!"
      ]
     },
     "execution_count": 203,
     "metadata": {},
     "output_type": "execute_result"
    }
   ],
   "source": [
    "grader.check(\"q4d\")"
   ]
  },
  {
   "cell_type": "markdown",
   "metadata": {
    "deletable": false,
    "editable": false
   },
   "source": [
    "<br>\n",
    "\n",
    "---\n",
    "### Question 4e\n",
    "With the sanitized texts, we can extract all the user mentions from tweets. \n",
    "\n",
    "Complete the following function `extract_mentions` that takes in a `Series` containing the values stored in the `\"full_text\"` column from a tweet `DataFrame` and uses `mentions_re` to extract all the mentions in a `DataFrame`. The returned `DataFrame` is:\n",
    "* Single-indexed by the IDs of the tweets,\n",
    "* Has one row for each mention, and\n",
    "* Has one column named `twitter_handle`, which contains each mention in all lower-case characters.\n",
    "\n",
    "After filling out the `extract_mentions` function, running the cell below should output three **DataFrames** (not `Series`), each belonging to AOC, Elon Musk, and Cristiano Ronaldo, respectively. As a sanity check, the first `DataFrame` (belonging to AOC) should look like this:\n",
    "\n",
    "id| twitter_handle\n",
    "--- |---\n",
    "**1358149122264563712** | repescobar\n",
    "**1358147616400408576** | rokhanna\n",
    "**1358130063963811840**| jaketapper\n",
    "**1358130063963811840**| repnancymace\n",
    "**1358130063963811840** | aoc\n",
    "\n",
    "**Note:** You may find it helpful to break the problem into multiple subparts and complete this in multiple lines.\n",
    "\n",
    "* Here is a list of documentation for potentially useful functions. You are not expected to use all of them; you may also need additional functions not listed below.\n",
    "    * Extracting valid mentions: `str.extractall` ([link](https://pandas.pydata.org/pandas-docs/stable/reference/api/pandas.Series.str.extractall.html?highlight=extractall)), `str.findall` ([link](https://pandas.pydata.org/pandas-docs/stable/reference/api/pandas.Series.str.findall.html)), `dropna` ([link](https://pandas.pydata.org/pandas-docs/stable/reference/api/pandas.Series.dropna.html))\n",
    "    * Refomatting data: `.reset_index` ([link](https://pandas.pydata.org/docs/reference/api/pandas.DataFrame.reset_index.html)), `.explode` ([link](https://pandas.pydata.org/pandas-docs/stable/reference/api/pandas.Series.explode.html)), `.to_frame`([link](https://pandas.pydata.org/docs/reference/api/pandas.Series.to_frame.html)).\n",
    "    * You can find an example of how to chain `.explode` and `.to_frame` in the *Tidying Up the Data* section following this question. We also encourage you to experiment a little with the examples given in the `.explode` documentation to get a feel for how it works. Pay attention to its behavior when there are empty lists in the input data!"
   ]
  },
  {
   "cell_type": "code",
   "execution_count": 204,
   "metadata": {
    "tags": []
   },
   "outputs": [
    {
     "data": {
      "text/html": [
       "<div>\n",
       "<style scoped>\n",
       "    .dataframe tbody tr th:only-of-type {\n",
       "        vertical-align: middle;\n",
       "    }\n",
       "\n",
       "    .dataframe tbody tr th {\n",
       "        vertical-align: top;\n",
       "    }\n",
       "\n",
       "    .dataframe thead th {\n",
       "        text-align: right;\n",
       "    }\n",
       "</style>\n",
       "<table border=\"1\" class=\"dataframe\">\n",
       "  <thead>\n",
       "    <tr style=\"text-align: right;\">\n",
       "      <th></th>\n",
       "      <th>twitter_handle</th>\n",
       "    </tr>\n",
       "    <tr>\n",
       "      <th>id</th>\n",
       "      <th></th>\n",
       "    </tr>\n",
       "  </thead>\n",
       "  <tbody>\n",
       "    <tr>\n",
       "      <th>1358149122264563712</th>\n",
       "      <td>repescobar</td>\n",
       "    </tr>\n",
       "    <tr>\n",
       "      <th>1358147616400408576</th>\n",
       "      <td>rokhanna</td>\n",
       "    </tr>\n",
       "    <tr>\n",
       "      <th>1358130063963811840</th>\n",
       "      <td>jaketapper</td>\n",
       "    </tr>\n",
       "    <tr>\n",
       "      <th>1358130063963811840</th>\n",
       "      <td>repnancymace</td>\n",
       "    </tr>\n",
       "    <tr>\n",
       "      <th>1358130063963811840</th>\n",
       "      <td>aoc</td>\n",
       "    </tr>\n",
       "  </tbody>\n",
       "</table>\n",
       "</div>"
      ],
      "text/plain": [
       "                    twitter_handle\n",
       "id                                \n",
       "1358149122264563712     repescobar\n",
       "1358147616400408576       rokhanna\n",
       "1358130063963811840     jaketapper\n",
       "1358130063963811840   repnancymace\n",
       "1358130063963811840            aoc"
      ]
     },
     "metadata": {},
     "output_type": "display_data"
    },
    {
     "data": {
      "text/html": [
       "<div>\n",
       "<style scoped>\n",
       "    .dataframe tbody tr th:only-of-type {\n",
       "        vertical-align: middle;\n",
       "    }\n",
       "\n",
       "    .dataframe tbody tr th {\n",
       "        vertical-align: top;\n",
       "    }\n",
       "\n",
       "    .dataframe thead th {\n",
       "        text-align: right;\n",
       "    }\n",
       "</style>\n",
       "<table border=\"1\" class=\"dataframe\">\n",
       "  <thead>\n",
       "    <tr style=\"text-align: right;\">\n",
       "      <th></th>\n",
       "      <th>twitter_handle</th>\n",
       "    </tr>\n",
       "    <tr>\n",
       "      <th>id</th>\n",
       "      <th></th>\n",
       "    </tr>\n",
       "  </thead>\n",
       "  <tbody>\n",
       "    <tr>\n",
       "      <th>1357973565413367808</th>\n",
       "      <td>dumdin7</td>\n",
       "    </tr>\n",
       "    <tr>\n",
       "      <th>1357973565413367808</th>\n",
       "      <td>grimezsz</td>\n",
       "    </tr>\n",
       "    <tr>\n",
       "      <th>1357972904663687173</th>\n",
       "      <td>grimezsz</td>\n",
       "    </tr>\n",
       "    <tr>\n",
       "      <th>1357964347813687296</th>\n",
       "      <td>kristennetten</td>\n",
       "    </tr>\n",
       "    <tr>\n",
       "      <th>1357953080596172800</th>\n",
       "      <td>kristennetten</td>\n",
       "    </tr>\n",
       "  </tbody>\n",
       "</table>\n",
       "</div>"
      ],
      "text/plain": [
       "                    twitter_handle\n",
       "id                                \n",
       "1357973565413367808        dumdin7\n",
       "1357973565413367808       grimezsz\n",
       "1357972904663687173       grimezsz\n",
       "1357964347813687296  kristennetten\n",
       "1357953080596172800  kristennetten"
      ]
     },
     "metadata": {},
     "output_type": "display_data"
    },
    {
     "data": {
      "text/html": [
       "<div>\n",
       "<style scoped>\n",
       "    .dataframe tbody tr th:only-of-type {\n",
       "        vertical-align: middle;\n",
       "    }\n",
       "\n",
       "    .dataframe tbody tr th {\n",
       "        vertical-align: top;\n",
       "    }\n",
       "\n",
       "    .dataframe thead th {\n",
       "        text-align: right;\n",
       "    }\n",
       "</style>\n",
       "<table border=\"1\" class=\"dataframe\">\n",
       "  <thead>\n",
       "    <tr style=\"text-align: right;\">\n",
       "      <th></th>\n",
       "      <th>twitter_handle</th>\n",
       "    </tr>\n",
       "    <tr>\n",
       "      <th>id</th>\n",
       "      <th></th>\n",
       "    </tr>\n",
       "  </thead>\n",
       "  <tbody>\n",
       "    <tr>\n",
       "      <th>1345294475300630535</th>\n",
       "      <td>sixpadhomegym</td>\n",
       "    </tr>\n",
       "    <tr>\n",
       "      <th>1343277423371186178</th>\n",
       "      <td>globe_soccer</td>\n",
       "    </tr>\n",
       "    <tr>\n",
       "      <th>1342772141708562432</th>\n",
       "      <td>pestanacr7</td>\n",
       "    </tr>\n",
       "    <tr>\n",
       "      <th>1340725769518116871</th>\n",
       "      <td>goldenfootofficial</td>\n",
       "    </tr>\n",
       "    <tr>\n",
       "      <th>1339997524841672704</th>\n",
       "      <td>herbalife</td>\n",
       "    </tr>\n",
       "  </tbody>\n",
       "</table>\n",
       "</div>"
      ],
      "text/plain": [
       "                         twitter_handle\n",
       "id                                     \n",
       "1345294475300630535       sixpadhomegym\n",
       "1343277423371186178        globe_soccer\n",
       "1342772141708562432          pestanacr7\n",
       "1340725769518116871  goldenfootofficial\n",
       "1339997524841672704           herbalife"
      ]
     },
     "metadata": {},
     "output_type": "display_data"
    }
   ],
   "source": [
    "def extract_mentions(full_texts):\n",
    "    mentions1 = full_texts.str.lower().str.findall(mentions_re).explode().dropna().to_frame()\n",
    "    mentions = mentions1.rename(columns = {\"full_text\":\"twitter_handle\"})\n",
    "    return mentions[[\"twitter_handle\"]]\n",
    "\n",
    "# Uncomment this line to help you debug.\n",
    "#display(extract_mentions(tweets[\"AOC\"][\"full_text\"]).head())\n",
    "\n",
    "# Do not modify the below code.\n",
    "mentions = {handle: extract_mentions(df[\"full_text\"]) for handle, df in tweets.items()} # for autograder\n",
    "display(extract_mentions(tweets[\"AOC\"][\"full_text\"]).head())\n",
    "display(extract_mentions(tweets[\"elonmusk\"][\"full_text\"]).head())\n",
    "display(extract_mentions(tweets[\"Cristiano\"][\"full_text\"]).head())"
   ]
  },
  {
   "cell_type": "code",
   "execution_count": 205,
   "metadata": {
    "deletable": false,
    "editable": false
   },
   "outputs": [
    {
     "data": {
      "text/html": [
       "<p><strong><pre style='display: inline;'>q4e</pre></strong> passed! 🌟</p>"
      ],
      "text/plain": [
       "q4e results: All test cases passed!"
      ]
     },
     "execution_count": 205,
     "metadata": {},
     "output_type": "execute_result"
    }
   ],
   "source": [
    "grader.check(\"q4e\")"
   ]
  },
  {
   "cell_type": "markdown",
   "metadata": {
    "nbgrader": {
     "grade": false,
     "grade_id": "q6d-header",
     "locked": true,
     "schema_version": 2,
     "solution": false
    }
   },
   "source": [
    "<br/>\n",
    "\n",
    "### Tidying Up the Data\n",
    "\n",
    "Now, let's convert the tweets into what's called a [*tidy format*](https://cran.r-project.org/web/packages/tidyr/vignettes/tidy-data.html) to make the sentiments easier to calculate. The `to_tidy_format` function implemented for you uses the `clean_text` column of each tweet `DataFrame` to create a tidy `DataFrame`, which is:\n",
    "\n",
    "* Single-indexed by the IDs of the tweets for every word in the tweet.\n",
    "* Has one column named `word`, which contains the individual words of each tweet.\n",
    "\n",
    "Run the following cell to convert the table into a tidy format. Take a look at the first 5 rows from the \"tidied\" tweets `DataFrame` for AOC and see if you can find out how the structure has changed.\n"
   ]
  },
  {
   "cell_type": "code",
   "execution_count": 206,
   "metadata": {
    "nbgrader": {
     "grade": false,
     "grade_id": "q6d-answer",
     "locked": false,
     "schema_version": 2,
     "solution": true
    },
    "tags": [
     "student"
    ]
   },
   "outputs": [
    {
     "data": {
      "text/html": [
       "<div>\n",
       "<style scoped>\n",
       "    .dataframe tbody tr th:only-of-type {\n",
       "        vertical-align: middle;\n",
       "    }\n",
       "\n",
       "    .dataframe tbody tr th {\n",
       "        vertical-align: top;\n",
       "    }\n",
       "\n",
       "    .dataframe thead th {\n",
       "        text-align: right;\n",
       "    }\n",
       "</style>\n",
       "<table border=\"1\" class=\"dataframe\">\n",
       "  <thead>\n",
       "    <tr style=\"text-align: right;\">\n",
       "      <th></th>\n",
       "      <th>word</th>\n",
       "    </tr>\n",
       "    <tr>\n",
       "      <th>id</th>\n",
       "      <th></th>\n",
       "    </tr>\n",
       "  </thead>\n",
       "  <tbody>\n",
       "    <tr>\n",
       "      <th>1358149122264563712</th>\n",
       "      <td>rt</td>\n",
       "    </tr>\n",
       "    <tr>\n",
       "      <th>1358149122264563712</th>\n",
       "      <td>repescobar</td>\n",
       "    </tr>\n",
       "    <tr>\n",
       "      <th>1358149122264563712</th>\n",
       "      <td>our</td>\n",
       "    </tr>\n",
       "    <tr>\n",
       "      <th>1358149122264563712</th>\n",
       "      <td>country</td>\n",
       "    </tr>\n",
       "    <tr>\n",
       "      <th>1358149122264563712</th>\n",
       "      <td>has</td>\n",
       "    </tr>\n",
       "  </tbody>\n",
       "</table>\n",
       "</div>"
      ],
      "text/plain": [
       "                           word\n",
       "id                             \n",
       "1358149122264563712          rt\n",
       "1358149122264563712  repescobar\n",
       "1358149122264563712         our\n",
       "1358149122264563712     country\n",
       "1358149122264563712         has"
      ]
     },
     "execution_count": 206,
     "metadata": {},
     "output_type": "execute_result"
    }
   ],
   "source": [
    "# Run this cell to convert table into tidy format, no further action is needed.\n",
    "def to_tidy_format(df):\n",
    "    tidy = (\n",
    "        df[\"clean_text\"]\n",
    "        .str.split()\n",
    "        .explode()\n",
    "        .to_frame()\n",
    "        .rename(columns={\"clean_text\": \"word\"})\n",
    "    )\n",
    "    return tidy\n",
    "\n",
    "tidy_tweets = {handle: to_tidy_format(df) for handle, df in tweets.items()}\n",
    "tidy_tweets[\"AOC\"].head()"
   ]
  },
  {
   "cell_type": "markdown",
   "metadata": {
    "nbgrader": {
     "grade": false,
     "grade_id": "q6e-header",
     "locked": true,
     "schema_version": 2,
     "solution": false
    }
   },
   "source": [
    "### Adding in the Polarity Score\n",
    "\n",
    "Now that we have this table in a tidy format, it becomes much easier to find the sentiment of each tweet: we can join the table with the lexicon table. \n",
    "\n",
    "The following `add_polarity` function adds a new `polarity` column to the `df` table. The `polarity` column contains the sum of the sentiment polarity of each word in the text of the tweet.\n",
    "\n",
    "**Note**: Though there is no work needed on your part, it is important for you to go through how we set up this method and actually understand what each method is doing. In particular, see how we deal with missing data."
   ]
  },
  {
   "cell_type": "code",
   "execution_count": 207,
   "metadata": {
    "nbgrader": {
     "grade": false,
     "grade_id": "q6e",
     "locked": false,
     "schema_version": 2,
     "solution": true
    },
    "tags": [
     "student"
    ]
   },
   "outputs": [
    {
     "data": {
      "text/html": [
       "<div>\n",
       "<style scoped>\n",
       "    .dataframe tbody tr th:only-of-type {\n",
       "        vertical-align: middle;\n",
       "    }\n",
       "\n",
       "    .dataframe tbody tr th {\n",
       "        vertical-align: top;\n",
       "    }\n",
       "\n",
       "    .dataframe thead th {\n",
       "        text-align: right;\n",
       "    }\n",
       "</style>\n",
       "<table border=\"1\" class=\"dataframe\">\n",
       "  <thead>\n",
       "    <tr style=\"text-align: right;\">\n",
       "      <th></th>\n",
       "      <th>clean_text</th>\n",
       "      <th>polarity</th>\n",
       "    </tr>\n",
       "    <tr>\n",
       "      <th>id</th>\n",
       "      <th></th>\n",
       "      <th></th>\n",
       "    </tr>\n",
       "  </thead>\n",
       "  <tbody>\n",
       "    <tr>\n",
       "      <th>1358149122264563712</th>\n",
       "      <td>rt  repescobar  our country has the moral obligation and responsibility to reunite every single family separated at the southern border \\n\\nt</td>\n",
       "      <td>0.0</td>\n",
       "    </tr>\n",
       "    <tr>\n",
       "      <th>1358147616400408576</th>\n",
       "      <td>rt  rokhanna  what happens when we guarantee  15 hour \\n\\n  31  of black workers and 26  of latinx workers get raises \\n  a majority of essent</td>\n",
       "      <td>1.0</td>\n",
       "    </tr>\n",
       "    <tr>\n",
       "      <th>1358145332316667909</th>\n",
       "      <td>source  https   t co 3o5jer6zpd</td>\n",
       "      <td>0.0</td>\n",
       "    </tr>\n",
       "    <tr>\n",
       "      <th>1358145218407759875</th>\n",
       "      <td>joe cunningham pledged to never take corporate pac money  and he never did  mace said she ll cash every check she gets  yet another way this is a downgrade  https   t co dytsqxkxgu</td>\n",
       "      <td>0.0</td>\n",
       "    </tr>\n",
       "    <tr>\n",
       "      <th>1358144207333036040</th>\n",
       "      <td>what s even more gross is that mace takes corporate pac money \\n\\nshe s already funded by corporations  now she s choosing to swindle working people on top of it \\n\\npeak scam artistry  caps for cash   https   t co ccvxgdf6id</td>\n",
       "      <td>-6.4</td>\n",
       "    </tr>\n",
       "  </tbody>\n",
       "</table>\n",
       "</div>"
      ],
      "text/plain": [
       "                                                                                                                                                                                                                                            clean_text  \\\n",
       "id                                                                                                                                                                                                                                                       \n",
       "1358149122264563712                                                                                     rt  repescobar  our country has the moral obligation and responsibility to reunite every single family separated at the southern border \\n\\nt    \n",
       "1358147616400408576                                                                                    rt  rokhanna  what happens when we guarantee  15 hour \\n\\n  31  of black workers and 26  of latinx workers get raises \\n  a majority of essent    \n",
       "1358145332316667909                                                                                                                                                                                                   source  https   t co 3o5jer6zpd    \n",
       "1358145218407759875                                               joe cunningham pledged to never take corporate pac money  and he never did  mace said she ll cash every check she gets  yet another way this is a downgrade  https   t co dytsqxkxgu   \n",
       "1358144207333036040  what s even more gross is that mace takes corporate pac money \\n\\nshe s already funded by corporations  now she s choosing to swindle working people on top of it \\n\\npeak scam artistry  caps for cash   https   t co ccvxgdf6id   \n",
       "\n",
       "                     polarity  \n",
       "id                             \n",
       "1358149122264563712       0.0  \n",
       "1358147616400408576       1.0  \n",
       "1358145332316667909       0.0  \n",
       "1358145218407759875       0.0  \n",
       "1358144207333036040      -6.4  "
      ]
     },
     "execution_count": 207,
     "metadata": {},
     "output_type": "execute_result"
    }
   ],
   "source": [
    "# Just run this cell to add the \"polarity\" column.\n",
    "# No further code is needed, but verify your understanding of each chained method.\n",
    "def add_polarity(df, tidy_df):\n",
    "    df[\"polarity\"] = (\n",
    "        tidy_df\n",
    "        .merge(sent, how='left', left_on='word', right_index=True)\n",
    "        .reset_index()\n",
    "        .loc[:, ['id', 'polarity']]\n",
    "        .fillna(0)\n",
    "        .groupby('id')\n",
    "        .sum()\n",
    "    )\n",
    "    return df\n",
    "\n",
    "tweets = {handle: add_polarity(df, tidy_df) for (handle, df), tidy_df in \\\n",
    "          zip(tweets.items(), tidy_tweets.values())}\n",
    "tweets[\"AOC\"][[\"clean_text\", \"polarity\"]].head()"
   ]
  },
  {
   "cell_type": "markdown",
   "metadata": {},
   "source": [
    "Comment: In the demo cell above, `add_polarity()` is a very straightforward approach to sentiment analysis: define a tweet's sentiment as the **sum** of each word's sentiment as determined by a VADER lexicon. The VADER lexicon itself relies on crowdsourcing humans to stabilize its scoring. However, sentence structure and word phrasing heavily impact sentiment, but our current approach ignores these contexts, instead opting for approximate, naive sentiments to perform initial EDA. \n",
    "\n",
    "If we were to further explore this direction of the data, we would consider approaches for computing tweet sentiment that is modern, nuanced, and more accurate (for some definition of \"accurate\"). Such approaches often adapt deep natural language processing models to sentiment analysis tasks, meaning they directly address the sentiment of a body of text instead of individual words like VADER. However, these models still depend on a robust \"training dataset\" of tweet sentiments, which is often still generated through crowdsourced human work. If you're curious about this, explore Data C104: Human Contexts and Ethics and CS 288: Natural Language Processing!"
   ]
  },
  {
   "cell_type": "markdown",
   "metadata": {
    "deletable": false,
    "editable": false
   },
   "source": [
    "<br>\n",
    "\n",
    "---\n",
    "### Question 4f\n",
    "Finally, with our polarity column in place, we can explore how the sentiment of each tweet relates to the user(s) mentioned in it. \n",
    "\n",
    "Complete the following function `mention_polarity` that takes in the mentions `DataFrame`, `mention_df`, and the original tweets `DataFrame`, `df`, and returns a `Series` where the mentioned users are the index and the corresponding mean sentiment scores of the tweets mentioning them are the values.\n",
    "\n",
    "**Hint**: You should consider joining tables together in this question.\n"
   ]
  },
  {
   "cell_type": "code",
   "execution_count": 208,
   "metadata": {
    "tags": []
   },
   "outputs": [
    {
     "data": {
      "text/plain": [
       "twitter_handle\n",
       "booker4ky          15.4\n",
       "texasaflcio        12.8\n",
       "davidscottjaffe    12.6\n",
       "teamwarren         12.6\n",
       "padmalakshmi       12.3\n",
       "                   ... \n",
       "meggiebaer         -8.6\n",
       "manhattanda       -10.8\n",
       "scotthech         -10.8\n",
       "repmarktakano     -10.8\n",
       "repchuygarcia     -10.8\n",
       "Name: polarity, Length: 1182, dtype: float64"
      ]
     },
     "execution_count": 208,
     "metadata": {},
     "output_type": "execute_result"
    }
   ],
   "source": [
    "def mention_polarity(df, mention_df):\n",
    "    merged = mention_df.merge(right = df, left_on = 'id', right_on = 'id')\n",
    "    mean = merged.groupby(\"twitter_handle\")[\"polarity\"].mean()\n",
    "    series = pd.Series(mean)\n",
    "    return series\n",
    "\n",
    "aoc_mention_polarity = mention_polarity(tweets[\"AOC\"],mentions[\"AOC\"]).sort_values(ascending=False)\n",
    "aoc_mention_polarity"
   ]
  },
  {
   "cell_type": "code",
   "execution_count": 209,
   "metadata": {
    "deletable": false,
    "editable": false
   },
   "outputs": [
    {
     "data": {
      "text/html": [
       "<p><strong><pre style='display: inline;'>q4f</pre></strong> passed! 🙌</p>"
      ],
      "text/plain": [
       "q4f results: All test cases passed!"
      ]
     },
     "execution_count": 209,
     "metadata": {},
     "output_type": "execute_result"
    }
   ],
   "source": [
    "grader.check(\"q4f\")"
   ]
  },
  {
   "cell_type": "markdown",
   "metadata": {
    "deletable": false,
    "editable": false
   },
   "source": [
    "<!-- BEGIN QUESTION -->\n",
    "\n",
    "<br>\n",
    "\n",
    "---\n",
    "### Question 4g\n",
    "\n",
    "In `q4f` above, we aggregated the polarity of the tweets by computing the mean sentiment score of tweets mentioning each user. What are some drawbacks of the decision to use the mean as an aggregation function? What other aggregation function(s) might be more appropriate than the mean?\n"
   ]
  },
  {
   "cell_type": "markdown",
   "metadata": {},
   "source": [
    "_It's ignoring the context of the tweets because when we aggregate the tweets based on sentiment, we might get different contexts. I think when you compute the mean sentiment, you look at each individual word but you are ignoring the overall structure of the sentence. Sometimes, people may use things like sarcasm and say a negative statement but use positive language and an exclamation mark as a way to get their sarcastic point across. Also, the mean often ignores outliers that may be signifiers for the sentiment in the tweet._\n",
    "\n",
    "_Some other aggregation functions that may be more appropriate than the mean are the median, because it is less sensitive to outliers. It will give you the middle sentiment value for the tweets, which will be more advantageous for the user to understand what is being expressed. One could also use the mode to identify the most commonly ocurring sentiment score. This can really highlight the overall sentiment of the tweet from the most common sentiment score._"
   ]
  },
  {
   "cell_type": "markdown",
   "metadata": {
    "deletable": false,
    "editable": false,
    "nbgrader": {
     "grade": false,
     "grade_id": "q4a",
     "locked": true,
     "schema_version": 2,
     "solution": false
    }
   },
   "source": [
    "<!-- END QUESTION -->\n",
    "\n",
    "<br/>\n",
    "\n",
    "<hr style=\"border: 1px solid #fdb515;\" />\n",
    "\n",
    "\n",
    "## Question 5: You Do EDA!\n",
    "\n",
    "Congratulations! You have finished all of the preliminary analysis on AOC, Cristiano, and Elon Musk's recent tweets. \n",
    "\n",
    "As you might have recognized, there is still far more to explore within the data and build upon what we have uncovered so far. In this open-ended question, we want you to come up with a new perspective that can expand upon our analysis of the sentiment of each tweet. \n",
    "\n",
    "For this question, you will perform some text analysis on our `tweets` dataset. Your analysis should have two parts:\n",
    "\n",
    "1. A piece of code that manipulates `tweets` in some way and produces informative output (e.g., a `DataFrame`, `Series`, or plot)\n",
    "2. A short (4-5 sentence) description of the findings of your analysis: What were you looking for? What did you find? How did you go about answering your question?\n",
    "\n",
    "Your work should involve text analysis in some way, whether that's using regular expressions or some other form.\n",
    "\n",
    "To aid you in creating plots, we provide the plotting helper functions in the table below. These are some helpers we have used throughout this notebook, and all accept dictionaries with a similar structure to `tweets`. That being said, if you'd like to experiment with using Matplotlib and Seaborn to generate plots on your own, please do so!\n",
    "\n",
    "| Helper | Description |\n",
    "|--------|-------------|\n",
    "| `make_bar_plot` | Plot side-by-side bar plots of data like [`plt.bar`](https://matplotlib.org/3.1.1/api/_as_gen/matplotlib.pyplot.bar.html) |\n",
    "| `make_histogram` | Plot overlaid histograms of data like [`plt.hist`](https://matplotlib.org/api/_as_gen/matplotlib.pyplot.hist.html) |\n",
    "| `make_line_plot` | Plot overlaid line plots of data like [`plt.plot`](https://matplotlib.org/3.3.3/api/_as_gen/matplotlib.pyplot.plot.html) |\n",
    "| `make_scatter_plot` | Plot overlaid scatter plots of data like [`plt.scatter`](https://matplotlib.org/3.3.3/api/_as_gen/matplotlib.pyplot.scatter.html) |\n",
    "\n",
    "Each of the provided helpers is in `ds100_utils.py` and has a comprehensive docstring. You can read the docstring by calling `help` on the plotting function:"
   ]
  },
  {
   "cell_type": "code",
   "execution_count": 210,
   "metadata": {},
   "outputs": [
    {
     "name": "stdout",
     "output_type": "stream",
     "text": [
      "Help on function make_line_plot in module ds100_utils:\n",
      "\n",
      "make_line_plot(df_dict, x_col, y_col, include=None, title=None, xlabel=None, ylabel=None, legend=True)\n",
      "    Plot a line plot of two columns for each dataframe in `df_dict`.\n",
      "    \n",
      "    Uses `sns.lineplot` to plot a line plot of two columns for each\n",
      "    dataframe in `df_dict`. The keys of `df_dict` are used as entries in\n",
      "    the legend when `legend` is `True`.\n",
      "    \n",
      "    Parameters\n",
      "    ----------\n",
      "        df_dict: dict[str: pd.DataFrame]\n",
      "            a dictionary mapping handles to dataframes with the data to plot\n",
      "        x_col: str\n",
      "            the name of a column in each dataframe in `df_dict` to plot on\n",
      "            the x-axis\n",
      "        y_col: str\n",
      "            the name of a column in each dataframe in `df_dict` to plot on\n",
      "            the y-axis\n",
      "        include: list[str], optional\n",
      "            a list of handles to include in the plot; all keys in `df_dict` not \n",
      "            present in `include`, if specified, will *not* be included in the plot\n",
      "        title: str, optional\n",
      "            a title for the plot\n",
      "        xlabel: str, optional\n",
      "            a label for the x-axis; if unspecified, `x_col` is used\n",
      "        ylabel: str, optional\n",
      "            a label for the y-axis; if unspecified, `y_col` is used\n",
      "        legend: bool, optional\n",
      "            whether to include a legend with each key in `df_dict`\n",
      "\n"
     ]
    }
   ],
   "source": [
    "help(make_line_plot)"
   ]
  },
  {
   "cell_type": "markdown",
   "metadata": {},
   "source": [
    "To assist you in getting started, here are a few ideas you can analyze for this question:\n",
    "\n",
    "- Dig deeper into when devices were used.\n",
    "- How does sentiment vary with the time of the tweet?\n",
    "- Expand on RegExs from 4b to perform additional analysis (e.g., hashtags).\n",
    "- Examine the sentiment of tweets over time.\n",
    "\n",
    "In general, try to combine the analyses from earlier questions or create a new analysis based on the scaffolding we have provided.\n",
    "\n",
    "This question is worth 4 points and will be graded based on this rubric:\n",
    "\n",
    "| | 2 points | 1 point | 0 points |\n",
    "|-----|-----|-----|-----|\n",
    "| **Code** | Produces a mostly informative plot or `pandas` output that addresses the question posed in the student's description and uses at least one of the following `pandas` `DataFrame`/`Series` methods: `groupby`, `agg`, `merge`, `pivot_table`, `str`, `apply` | Attempts to produce a plot or manipulate data but the output is unrelated to the proposed question, or doesn't utilize at least one of the listed methods | No attempt at writing code |\n",
    "| **Description** | Describes the analysis question and procedure comprehensively and summarizes results correctly | Attempts to describe analysis and results, but the description of results is incorrect, or analysis of results is disconnected from the student’s original question | No attempt at writing a description |"
   ]
  },
  {
   "cell_type": "markdown",
   "metadata": {
    "deletable": false,
    "editable": false
   },
   "source": [
    "<!-- BEGIN QUESTION -->\n",
    "\n",
    "<br><br>\n",
    "\n",
    "---\n",
    "### Question 5a\n",
    "\n",
    "Use this space to put your EDA code.\n"
   ]
  },
  {
   "cell_type": "code",
   "execution_count": 211,
   "metadata": {
    "tags": []
   },
   "outputs": [
    {
     "data": {
      "image/png": "[encoded data removed]",
      "text/plain": [
       "<Figure size 1000x600 with 1 Axes>"
      ]
     },
     "metadata": {},
     "output_type": "display_data"
    },
    {
     "data": {
      "image/png": "[encoded data removed]",
      "text/plain": [
       "<Figure size 1000x600 with 1 Axes>"
      ]
     },
     "metadata": {},
     "output_type": "display_data"
    },
    {
     "data": {
      "image/png": "[encoded data removed]",
      "text/plain": [
       "<Figure size 1000x600 with 1 Axes>"
      ]
     },
     "metadata": {},
     "output_type": "display_data"
    }
   ],
   "source": [
    "# perform your text analysis here\n",
    "def lower_case_person(df, person):\n",
    "    return df[person][\"full_text\"].str.lower()\n",
    "\n",
    "def find_words(df, person):\n",
    "    return lower_case_person(df, person).apply(lambda x: re.findall(r'\\w+', x))\n",
    "\n",
    "def counting_function(df, person):\n",
    "    word_counts = {}\n",
    "    for words in find_words(df, person):\n",
    "        for word in words:\n",
    "            if word in word_counts:\n",
    "                word_counts[word] += 1\n",
    "            else:\n",
    "                word_counts[word] = 1\n",
    "    return word_counts\n",
    "\n",
    "def sort_list(df, person):\n",
    "    sorted_list = sorted(counting_function(df, person).items(), key = lambda x:x[1], reverse = True)[0:5]\n",
    "    return sorted_list\n",
    "\n",
    "def sort_df(df, person):\n",
    "    sorted_df = sort_list(df, person)\n",
    "    final_df = pd.DataFrame(sorted_df, columns = [\"Word\", \"Frequency\"])\n",
    "    sorted_final_df = final_df.sort_values(by = 'Frequency', ascending = False)\n",
    "    return sorted_final_df\n",
    "\n",
    "#sort_df(tweets, \"AOC\")\n",
    "\n",
    "def bar_plot(df, person):\n",
    "    plt.figure(figsize=(10, 6))\n",
    "    plt.bar(sort_df(df, person)['Word'], sort_df(df, person)['Frequency'])\n",
    "    plt.xlabel('Words')\n",
    "    plt.ylabel('Frequency')\n",
    "    plt.title('Word Frequency of'+ ' ' + person)\n",
    "    plt.xticks(rotation=45)\n",
    "    plt.tight_layout()\n",
    "    plt.show()\n",
    "\n",
    "bar_plot(tweets, \"AOC\")\n",
    "bar_plot(tweets, \"elonmusk\")\n",
    "bar_plot(tweets, \"Cristiano\")\n"
   ]
  },
  {
   "cell_type": "markdown",
   "metadata": {
    "deletable": false,
    "editable": false
   },
   "source": [
    "<!-- END QUESTION -->\n",
    "\n",
    "<!-- BEGIN QUESTION -->\n",
    "\n",
    "<br><br>\n",
    "\n",
    "---\n",
    "### Question 5b\n",
    "\n",
    "Use this space to put your EDA description.\n"
   ]
  },
  {
   "cell_type": "markdown",
   "metadata": {},
   "source": [
    "#most occurring words for each person\n",
    "A short (4-5 sentence) description of the findings of your analysis: What were you looking for? What did you find? How did you go about answering your question?\n",
    "_In the EDA above, I was trying to find the top five most ocurring words for each person in the tweets dataset. To do this, I created a bunch of functions that would allow me to extract the most common words for each person using the full text column, and then find the top 5 most freqeuntly used words. Then, I plotted each of these comparing them to all people across the board. I found that the word \"the\" is most frequently used for both Elon Musk and AOC, though nearly three times more frequently used for AOC. In contrast, the word \"the\" was less used for Cristiano. I also found that \"to\",\"is\", \"a\", \"of\" are more common for AOC and Elon Musk, but not so much for Cristiano.It seems like Cristiano had more information related to websites (co, http, https) so people were probably linking articles related to him or videos of him playing._\n"
   ]
  },
  {
   "cell_type": "markdown",
   "metadata": {
    "deletable": false,
    "editable": false
   },
   "source": [
    "<!-- END QUESTION -->\n",
    "\n",
    "<hr style=\"border: 5px solid #003262;\" />\n",
    "<hr style=\"border: 1px solid #fdb515;\" />\n",
    "\n",
    "## Congratulations! You have finished Homework 3!\n",
    "Below, you will see two cells. Running the first cell will automatically generate a PDF of all questions that need to be manually graded, and running the second cell will automatically generate a zip with your autograded answers. **You are responsible for both the coding portion (the zip from Homework 3) and the written portion (the PDF from Homework 3) to their respective Gradescope portals.** The coding proportion should be submitted to Homework 3 Coding as a single zip file, and the written portion should be submitted to Homework 3 Written as a single pdf file. When submitting the written portion, please ensure you select pages appropriately. \n",
    "\n",
    "If there are issues with automatically generating the PDF in the first cell, you can try downloading the notebook as a PDF by clicking on `File -> Save and Export Notebook As... -> PDF`. If that doesn't work either, you can manually take screenshots of your answers to the manually graded questions and submit those. Either way, **you are responsible for ensuring your submission follows our requirements, we will NOT be granting regrade requests for submissions that don't follow instructions.**"
   ]
  },
  {
   "cell_type": "markdown",
   "metadata": {
    "deletable": false,
    "editable": false
   },
   "source": [
    "## Submission\n",
    "\n",
    "Make sure you have run all cells in your notebook in order before running the cell below, so that all images/graphs appear in the output. The cell below will generate a zip file for you to submit. **Please save before exporting!**\n",
    "\n",
    "After you have run the cell below and generated the zip file, you can open the PDF <a href='hw03.pdf' download>here</a>."
   ]
  },
  {
   "cell_type": "code",
   "execution_count": 212,
   "metadata": {
    "deletable": false,
    "editable": false
   },
   "outputs": [
    {
     "name": "stdout",
     "output_type": "stream",
     "text": [
      "Running your submission against local test cases...\n",
      "\n",
      "\n",
      "\n",
      "Your submission received the following results when run against available test cases:\n",
      "\n",
      "    q1a results: All test cases passed!\n",
      "\n",
      "    q1b results: All test cases passed!\n",
      "\n",
      "    q1c results: All test cases passed!\n",
      "\n",
      "    q2a results: All test cases passed!\n",
      "\n",
      "    q2b results: All test cases passed!\n",
      "\n",
      "    q2c results: All test cases passed!\n",
      "\n",
      "    q2d results: All test cases passed!\n",
      "\n",
      "    q3a results: All test cases passed!\n",
      "\n",
      "    q3c results: All test cases passed!\n",
      "\n",
      "    q4b results: All test cases passed!\n",
      "\n",
      "    q4ci results: All test cases passed!\n",
      "\n",
      "    q4cii results: All test cases passed!\n",
      "\n",
      "    q4d results: All test cases passed!\n",
      "\n",
      "    q4e results: All test cases passed!\n",
      "\n",
      "    q4f results: All test cases passed!\n"
     ]
    },
    {
     "data": {
      "text/html": [
       "\n",
       "                    <p>\n",
       "                        Your submission has been exported. Click\n",
       "                        <a href=\"hw03_2023_09_19T23_40_36_064656.zip\" download=\"hw03_2023_09_19T23_40_36_064656.zip\" target=\"_blank\">here</a> to download\n",
       "                        the zip file.\n",
       "                    </p>\n",
       "                "
      ],
      "text/plain": [
       "<IPython.core.display.HTML object>"
      ]
     },
     "metadata": {},
     "output_type": "display_data"
    }
   ],
   "source": [
    "# Save your notebook first, then run this cell to export your submission.\n",
    "grader.export(run_tests=True)"
   ]
  },
  {
   "cell_type": "markdown",
   "metadata": {},
   "source": [
    " "
   ]
  }
 ],
 "metadata": {
  "kernelspec": {
   "display_name": "Python 3 (ipykernel)",
   "language": "python",
   "name": "python3"
  },
  "language_info": {
   "codemirror_mode": {
    "name": "ipython",
    "version": 3
   },
   "file_extension": ".py",
   "mimetype": "text/x-python",
   "name": "python",
   "nbconvert_exporter": "python",
   "pygments_lexer": "ipython3",
   "version": "3.11.0"
  },
  "otter": {
   "OK_FORMAT": true,
   "tests": {
    "q1a": {
     "name": "q1a",
     "points": 1,
     "suites": [
      {
       "cases": [
        {
         "code": ">>> len(q1a) == 1000\nTrue",
         "hidden": false,
         "locked": false
        },
        {
         "code": ">>> q1a.startswith(\"[{\\\"created_at\\\":\")\nTrue",
         "hidden": false,
         "locked": false
        },
        {
         "code": ">>> \"\\\"user\\\": {\\\"id\\\": 216776631\" in q1a\nTrue",
         "hidden": false,
         "locked": false
        }
       ],
       "scored": true,
       "setup": "",
       "teardown": "",
       "type": "doctest"
      }
     ]
    },
    "q1b": {
     "name": "q1b",
     "points": 1,
     "suites": [
      {
       "cases": [
        {
         "code": ">>> q1b.upper() in ['A', 'B', 'C', 'D']\nTrue",
         "hidden": false,
         "locked": false,
         "points": 0
        }
       ],
       "scored": true,
       "setup": "",
       "teardown": "",
       "type": "doctest"
      }
     ]
    },
    "q1c": {
     "name": "q1c",
     "points": 3,
     "suites": [
      {
       "cases": [
        {
         "code": ">>> assert set(tweets.keys()) == {\"AOC\", \"Cristiano\", \"elonmusk\"}\n>>> assert all(df.index.name == \"id\" for df in tweets.values())\n",
         "hidden": false,
         "locked": false
        },
        {
         "code": ">>> expected_cols = ['created_at', 'id_str', 'full_text', 'truncated', 'display_text_range',\n...        'entities', 'source', 'in_reply_to_status_id',\n...        'in_reply_to_status_id_str', 'in_reply_to_user_id',\n...        'in_reply_to_user_id_str', 'in_reply_to_screen_name', 'user', 'geo',\n...        'coordinates', 'place', 'contributors', 'retweeted_status',\n...        'is_quote_status', 'retweet_count', 'favorite_count', 'favorited',\n...        'retweeted', 'lang', 'possibly_sensitive', 'extended_entities',\n...        'quoted_status_id', 'quoted_status_id_str', 'quoted_status_permalink',\n...        'quoted_status']\n>>> all(col in df.columns for df in tweets.values() for col in expected_cols)\nTrue",
         "hidden": false,
         "locked": false
        },
        {
         "code": ">>> (tweets[\"AOC\"].shape[0] is not None) and (tweets[\"AOC\"].shape[0] >= 30)\nTrue",
         "hidden": false,
         "locked": false
        },
        {
         "code": ">>> (tweets[\"Cristiano\"].shape[0] is not None) and (tweets[\"Cristiano\"].shape[0] >= 30)\nTrue",
         "hidden": false,
         "locked": false
        },
        {
         "code": ">>> (tweets[\"elonmusk\"].shape[0] is not None) and (tweets[\"elonmusk\"].shape[0] >= 30)\nTrue",
         "hidden": false,
         "locked": false
        },
        {
         "code": ">>> np.random.seed(42)\n>>> exp = set([1333958991613923331,\n...  1312936075590074368,\n...  1248798917350883337,\n...  1204575943601328128,\n...  1346163629486387201,\n...  1246500923180036096,\n...  1315825309036564482,\n...  1255121845533229056,\n...  1352691282603364362,\n...  1243377508835381249])\n>>> set(np.random.choice(sorted(tweets[\"AOC\"].index), replace=False, size=10)) == exp\nTrue",
         "hidden": false,
         "locked": false
        },
        {
         "code": ">>> np.random.seed(42)\n>>> exp = set([880473340619759616,\n...  174892632500219905,\n...  284705925351239680,\n...  403528698936041473,\n...  476770924587667456,\n...  697801434755133440,\n...  1214232898917801984,\n...  741648660476383233,\n...  48000397721337856,\n...  95524319232409600])\n>>> set(np.random.choice(sorted(tweets[\"Cristiano\"].index), replace=False, size=10)) == exp\nTrue",
         "hidden": false,
         "locked": false
        },
        {
         "code": ">>> np.random.seed(42)\n>>> exp = set([1265750340613427200,\n...  1321275062998257665,\n...  1285430635088076800,\n...  1252987963329388544,\n...  1339567835840962560,\n...  1313512170336944128,\n...  1348823685445136385,\n...  1280090680430178305,\n...  1301647642846547971,\n...  1281695247626416129])\n>>> set(np.random.choice(sorted(tweets[\"elonmusk\"].index), replace=False, size=10)) == exp\nTrue",
         "hidden": false,
         "locked": false
        }
       ],
       "scored": true,
       "setup": "",
       "teardown": "",
       "type": "doctest"
      }
     ]
    },
    "q2a": {
     "name": "q2a",
     "points": 2,
     "suites": [
      {
       "cases": [
        {
         "code": ">>> re.sub(q2a_pattern, \"\", test_str) == 'Twitter for iPhone'\nTrue",
         "hidden": false,
         "locked": false
        },
        {
         "code": ">>> re.sub(q2a_pattern, \"\", \"<a bad='html'\") == \"<a bad='html'\"\nTrue",
         "hidden": false,
         "locked": false
        }
       ],
       "scored": true,
       "setup": "",
       "teardown": "",
       "type": "doctest"
      }
     ]
    },
    "q2b": {
     "name": "q2b",
     "points": 2,
     "suites": [
      {
       "cases": [
        {
         "code": ">>> re.findall(q2b_pattern, test_str) == ['Twitter for iPhone']\nTrue",
         "hidden": false,
         "locked": false
        },
        {
         "code": ">>> re.findall(q2b_pattern, \">findme<\") == ['findme']\nTrue",
         "hidden": false,
         "locked": false
        }
       ],
       "scored": true,
       "setup": "",
       "teardown": "",
       "type": "doctest"
      }
     ]
    },
    "q2c": {
     "name": "q2c",
     "points": 2,
     "suites": [
      {
       "cases": [
        {
         "code": ">>> set(tweets.keys()) == {\"AOC\", \"Cristiano\", 'elonmusk'}\nTrue",
         "hidden": false,
         "locked": false
        },
        {
         "code": ">>> all(\"device\" in df.columns for df in tweets.values())\nTrue",
         "hidden": false,
         "locked": false
        },
        {
         "code": ">>> counts = tweets[\"AOC\"][\"device\"].value_counts().to_dict()\n>>> (set(counts.keys()) == {'Twitter Media Studio', 'Twitter for iPhone'}) and (set(counts.values()) == {2, 3245})\nTrue",
         "hidden": false,
         "locked": false
        },
        {
         "code": ">>> np.random.seed(10202)\n>>> expected = ['Twitter for iPhone'] * 10\n>>> actual = []\n>>> for i in np.random.choice(sorted(tweets[\"AOC\"].index), replace=False, size=10):\n...     actual.append(tweets[\"AOC\"].loc[i, \"device\"])\n>>> actual == expected\nTrue",
         "hidden": false,
         "locked": false
        }
       ],
       "scored": true,
       "setup": "",
       "teardown": "",
       "type": "doctest"
      }
     ]
    },
    "q2d": {
     "name": "q2d",
     "points": 2,
     "suites": [
      {
       "cases": [
        {
         "code": ">>> most_freq(tweets[\"Cristiano\"]['device'])[\"Twitter for iPhone\"] == 1183\nTrue",
         "hidden": false,
         "locked": false
        },
        {
         "code": ">>> most_freq(tweets[\"AOC\"]['device'], k=1)[\"Twitter for iPhone\"] == 3245\nTrue",
         "hidden": false,
         "locked": false
        }
       ],
       "scored": true,
       "setup": "",
       "teardown": "",
       "type": "doctest"
      }
     ]
    },
    "q3a": {
     "name": "q3a",
     "points": 1,
     "suites": [
      {
       "cases": [
        {
         "code": ">>> all(\"hour\" in df.columns for df in tweets.values())\nTrue",
         "hidden": false,
         "locked": false
        },
        {
         "code": ">>> all(0 <= df[\"hour\"].min() and 24 >= df[\"hour\"].max() for df in tweets.values())\nTrue",
         "hidden": false,
         "locked": false
        }
       ],
       "scored": true,
       "setup": "",
       "teardown": "",
       "type": "doctest"
      }
     ]
    },
    "q3c": {
     "name": "q3c",
     "points": 1,
     "suites": [
      {
       "cases": [
        {
         "code": ">>> all(\"converted_time\" in df.columns for df in tweets.values())\nTrue",
         "hidden": false,
         "locked": false
        },
        {
         "code": ">>> all((df[\"converted_time\"] == df[\"created_at\"]).all() for df in tweets.values())\nTrue",
         "hidden": false,
         "locked": false
        },
        {
         "code": ">>> all(df[\"converted_time\"].dt.tz != df[\"created_at\"].dt.tz for df in tweets.values())\nTrue",
         "hidden": false,
         "locked": false
        }
       ],
       "scored": true,
       "setup": "",
       "teardown": "",
       "type": "doctest"
      }
     ]
    },
    "q4b": {
     "name": "q4b",
     "points": 1,
     "suites": [
      {
       "cases": [
        {
         "code": ">>> isinstance(sent, pd.DataFrame)\nTrue",
         "hidden": false,
         "locked": false
        },
        {
         "code": ">>> sent.shape == (7517, 1)\nTrue",
         "hidden": false,
         "locked": false
        },
        {
         "code": ">>> tuple(sent.columns)  == (\"polarity\", )\nTrue",
         "hidden": false,
         "locked": false
        },
        {
         "code": ">>> sent.index.name == \"token\"\nTrue",
         "hidden": false,
         "locked": false
        },
        {
         "code": ">>> list(sent.index[5000:5005]) == ['paranoids', 'pardon', 'pardoned', 'pardoning', 'pardons']\nTrue",
         "hidden": false,
         "locked": false
        },
        {
         "code": ">>> np.allclose(sent['polarity'].head(), [-1.5, -0.4, -1.5, -0.4, -0.7])\nTrue",
         "hidden": false,
         "locked": false
        }
       ],
       "scored": true,
       "setup": "",
       "teardown": "",
       "type": "doctest"
      }
     ]
    },
    "q4ci": {
     "name": "q4ci",
     "points": 1,
     "suites": [
      {
       "cases": [
        {
         "code": ">>> isinstance(punct_re, str)\nTrue",
         "hidden": false,
         "locked": false
        },
        {
         "code": ">>> re.sub(punct_re, \" \", \"a.b.c.1!2?3\") == 'a b c 1 2 3'\nTrue",
         "hidden": false,
         "locked": false
        },
        {
         "code": ">>> re.sub(punct_re, \" \", \"<a href='https://google.com'>Google</a>\") == ' a href  https   google com  Google  a '\nTrue",
         "hidden": false,
         "locked": false
        },
        {
         "code": ">>> re.sub(punct_re, \"!!\", \"some.weird!sentence--?()JDJGK#$&*^\") == 'some!!weird!!sentence!!!!!!!!!!JDJGK!!!!!!!!!!'\nTrue",
         "hidden": false,
         "locked": false
        },
        {
         "code": ">>> re.sub(punct_re, \" \", tweets[\"AOC\"].iloc[0][\"full_text\"]) == 'RT  RepEscobar  Our country has the moral obligation and responsibility to reunite every single family separated at the southern border \\n\\nT '\nTrue",
         "hidden": false,
         "locked": false
        }
       ],
       "scored": true,
       "setup": "",
       "teardown": "",
       "type": "doctest"
      }
     ]
    },
    "q4cii": {
     "name": "q4cii",
     "points": 1,
     "suites": [
      {
       "cases": [
        {
         "code": ">>> re.findall(mentions_re, \"@someone: this regex stuff is cool\") == ['someone']\nTrue",
         "hidden": false,
         "locked": false
        },
        {
         "code": ">>> re.findall(mentions_re, tweets[\"AOC\"].loc[1358149122264563712][\"full_text\"])[0] == \"RepEscobar\"\nTrue",
         "hidden": false,
         "locked": false
        },
        {
         "code": ">>> re.findall(mentions_re, \"an empty tweet\") == []\nTrue",
         "hidden": false,
         "locked": false
        },
        {
         "code": ">>> re.findall(mentions_re, tweets[\"AOC\"].loc[1181804625588051968][\"full_text\"]) == ['LeanInOrg', 'AOC']\nTrue",
         "hidden": false,
         "locked": false
        }
       ],
       "scored": true,
       "setup": "",
       "teardown": "",
       "type": "doctest"
      }
     ]
    },
    "q4d": {
     "name": "q4d",
     "points": 1,
     "suites": [
      {
       "cases": [
        {
         "code": ">>> df = pd.DataFrame({\"full_text\": [\"a clean tweet\", \"an UPPPERcAsE tweet\", \"a ! tweet!!with..(*UF)punctuation\"]})\n>>> df = sanitize_texts(df)\n>>> df[\"clean_text\"].tolist() == ['a clean tweet', 'an upppercase tweet', 'a   tweet  with    uf punctuation']\nTrue",
         "hidden": false,
         "locked": false
        },
        {
         "code": ">>> all(\"clean_text\" in df.columns for df in tweets.values())\nTrue",
         "hidden": false,
         "locked": false
        }
       ],
       "scored": true,
       "setup": "",
       "teardown": "",
       "type": "doctest"
      }
     ]
    },
    "q4e": {
     "name": "q4e",
     "points": 2,
     "suites": [
      {
       "cases": [
        {
         "code": ">>> assert all(not isinstance(df.index, pd.MultiIndex) for df in mentions.values())\n>>> assert all(set(df.columns) == {\"twitter_handle\"} for df in mentions.values())\n>>> assert all(not df.isnull().values.any() for df in mentions.values())\n>>> assert set(mentions.keys()) == {\"AOC\", \"Cristiano\", \"elonmusk\"}\n>>> assert all([mentions[handle].index.name == 'id' for handle in mentions.keys()])\n",
         "hidden": false,
         "locked": false
        },
        {
         "code": ">>> horiz_mentions = horiz_concat_df(mentions)\n>>> horiz_mentions.loc[0][\"AOC\"][\"twitter_handle\"] == 'repescobar'\nTrue",
         "hidden": false,
         "locked": false
        },
        {
         "code": ">>> horiz_mentions = horiz_concat_df(mentions)\n>>> list(sorted(horiz_mentions.columns)) == [('AOC', 'twitter_handle'), ('Cristiano', 'twitter_handle'), ('elonmusk', 'twitter_handle')]\nTrue",
         "hidden": false,
         "locked": false
        }
       ],
       "scored": true,
       "setup": "",
       "teardown": "",
       "type": "doctest"
      }
     ]
    },
    "q4f": {
     "name": "q4f",
     "points": 2,
     "suites": [
      {
       "cases": [
        {
         "code": ">>> set(aoc_mention_polarity.index) == set(mentions[\"AOC\"][\"twitter_handle\"])\nTrue",
         "hidden": false,
         "locked": false
        },
        {
         "code": ">>> 0 <= aoc_mention_polarity.mean() <= 1\nTrue",
         "hidden": false,
         "locked": false
        }
       ],
       "scored": true,
       "setup": "",
       "teardown": "",
       "type": "doctest"
      }
     ]
    }
   }
  }
 },
 "nbformat": 4,
 "nbformat_minor": 4
}
