{
 "cells": [
  {
   "cell_type": "code",
   "execution_count": 15,
   "id": "2c7fb3b2",
   "metadata": {
    "deletable": false,
    "editable": false
   },
   "outputs": [],
   "source": [
    "# Initialize Otter\n",
    "import otter\n",
    "grader = otter.Notebook(\"lab10.ipynb\")"
   ]
  },
  {
   "cell_type": "markdown",
   "id": "a2a26076",
   "metadata": {
    "nbgrader": {
     "grade": false,
     "grade_id": "title",
     "locked": true,
     "schema_version": 2,
     "solution": false
    }
   },
   "source": [
    "# Lab 10: SQL\n",
    "\n",
    "In this lab, we are going to practice viewing, sorting, grouping, and merging tables with SQL. We will explore two datasets:\n",
    "1. A \"minified\" version of the [Internet Movie Database](https://www.imdb.com/interfaces/) (IMDb). This SQLite database (~10MB) is a tiny sample of the much larger database (more than a few GBs). As a result, disclaimer that we may get wildly different results than if we use the whole database!\n",
    "\n",
    "1. The money donated during the 2016 election using the [Federal Election Commission (FEC)'s public records](https://www.fec.gov/data/). You will be connecting to a SQLite database containing the data. The data we will be working with in this lab is quite small (~16MB); however, it is a sample taken from a much larger database (more than a few GBs).\n",
    "\n",
    "\n",
    "The on-time deadline is **Tuesday, November 7th at 11:59 PM PT**. Please read the syllabus for the grace period policy. No late submissions beyond the grace period will be accepted."
   ]
  },
  {
   "cell_type": "markdown",
   "id": "35e6d18d-4a86-4ba2-93e6-44b102509927",
   "metadata": {},
   "source": [
    "### Lab Walk-Through\n",
    "In addition to the lab notebook, we have also released a prerecorded walk-through video of the lab. We encourage you to reference this video as you work through the lab. Run the cell below to display the video.\n",
    "\n",
    "**Note:** the walkthrough video is from Spring 2022, where the format of answers was different than it is this semester."
   ]
  },
  {
   "cell_type": "code",
   "execution_count": 16,
   "id": "2aea6b71-59f3-4f0a-9992-92ba8d7afc60",
   "metadata": {},
   "outputs": [
    {
     "data": {
      "image/jpeg": "[encoded data removed]",
      "text/html": [
       "\n",
       "        <iframe\n",
       "            width=\"400\"\n",
       "            height=\"300\"\n",
       "            src=\"https://www.youtube.com/embed/uQ3E4pejmD8?list=PLQCcNQgUcDfpdBnhS-lPq8LPas48tkMgp&listType=playlist\"\n",
       "            frameborder=\"0\"\n",
       "            allowfullscreen\n",
       "            \n",
       "        ></iframe>\n",
       "        "
      ],
      "text/plain": [
       "<IPython.lib.display.YouTubeVideo at 0x7f4a98604e90>"
      ]
     },
     "execution_count": 16,
     "metadata": {},
     "output_type": "execute_result"
    }
   ],
   "source": [
    "from IPython.display import YouTubeVideo\n",
    "YouTubeVideo(\"uQ3E4pejmD8\", list = 'PLQCcNQgUcDfpdBnhS-lPq8LPas48tkMgp', listType = 'playlist')"
   ]
  },
  {
   "cell_type": "markdown",
   "id": "94edd2bc",
   "metadata": {},
   "source": [
    "### Collaboration Policy\n",
    "Data science is a collaborative activity. While you may talk with others about this assignment, we ask that you **write your solutions individually**. If you discuss the assignment with others, please **include their names** in the cell below."
   ]
  },
  {
   "cell_type": "markdown",
   "id": "33f67b32",
   "metadata": {},
   "source": [
    "**Collaborators:** *list names here*"
   ]
  },
  {
   "cell_type": "code",
   "execution_count": 17,
   "id": "95184380",
   "metadata": {
    "nbgrader": {
     "grade": false,
     "grade_id": "setup",
     "locked": true,
     "schema_version": 2,
     "solution": false
    },
    "tags": []
   },
   "outputs": [],
   "source": [
    "# Run this cell and the next one to set up your notebook.\n",
    "import numpy as np\n",
    "import pandas as pd\n",
    "import matplotlib.pyplot as plt\n",
    "#import plotly.express as px\n",
    "import sqlalchemy\n",
    "from pathlib import Path\n",
    "from zipfile import ZipFile\n",
    "\n",
    "with ZipFile('data.zip', 'r') as zipObj:\n",
    "   # Extract all the contents of zip file in current directory\n",
    "   zipObj.extractall()"
   ]
  },
  {
   "cell_type": "code",
   "execution_count": 18,
   "id": "4cbe0c30-f1c0-4188-8983-f4a647d72df6",
   "metadata": {},
   "outputs": [
    {
     "name": "stdout",
     "output_type": "stream",
     "text": [
      "The sql extension is already loaded. To reload it, use:\n",
      "  %reload_ext sql\n"
     ]
    }
   ],
   "source": [
    "# Run this cell to set up SQL. You can ignore any \n",
    "# yellow messages that pop up when running this cell\n",
    "%load_ext sql"
   ]
  },
  {
   "cell_type": "code",
   "execution_count": 19,
   "id": "97dde932-7632-4b75-927f-e1270209ace7",
   "metadata": {},
   "outputs": [],
   "source": [
    "# Run this cell to set up the autograder\n",
    "from sql_utils import * \n",
    "from pathlib import Path\n",
    "Path(\"results\").mkdir(parents=True, exist_ok=True)"
   ]
  },
  {
   "cell_type": "markdown",
   "id": "c3c4e066",
   "metadata": {},
   "source": [
    "## SQL Query Syntax\n",
    "\n",
    "Throughout this lab, you will become familiar with the following syntax for the `SELECT` query:\n",
    "\n",
    "```\n",
    "SELECT <column list>\n",
    "FROM <table>\n",
    "[WHERE <predicate>]\n",
    "[GROUP BY <column list>]\n",
    "[HAVING <predicate>]\n",
    "[ORDER BY <column list>]\n",
    "[LIMIT <number of rows>]\n",
    "[OFFSET <number of rows>]\n",
    "```"
   ]
  },
  {
   "cell_type": "markdown",
   "id": "6b9fdc9f",
   "metadata": {},
   "source": [
    "<br/><br/>\n",
    "<hr style=\"border: 5px solid #003262;\" />\n",
    "<hr style=\"border: 1px solid #fdb515;\" />\n",
    "\n",
    "# Part 0 [Tutorial]: Writing SQL in Jupyter Notebooks"
   ]
  },
  {
   "cell_type": "markdown",
   "id": "8d10f866",
   "metadata": {},
   "source": [
    "### 1. `%%sql` cell magic\n",
    "\n",
    "In lecture, we used the `sqlalchemy` extension to use **`%%sql` cell magic**, which enables us to connect to SQL databases and issue SQL commands within Jupyter Notebooks.\n",
    "\n",
    "Run the below cell to connect to a mini IMDb database."
   ]
  },
  {
   "cell_type": "code",
   "execution_count": 20,
   "id": "b4f01bdf-8e6e-47f8-92c4-892e951085ad",
   "metadata": {},
   "outputs": [],
   "source": [
    "from pathlib import Path\n",
    "import shutil\n",
    "import pathlib\n",
    "\n",
    "# Do not modify following lines.\n",
    "\n",
    "# These lines specify the location of our database file\n",
    "imdbfile = 'imdbmini.db'\n",
    "tmpimdb = Path('.') / imdbfile\n",
    "\n",
    "# Specify the database connection path (in this case, a sqlite database in a file)\n",
    "imdb_sqlite_conn = 'sqlite:///' + str(tmpimdb)\n",
    "\n",
    "# Create an SQLAlchemy engine to connect to the database\n",
    "imdb_engine = sqlalchemy.create_engine(imdb_sqlite_conn)"
   ]
  },
  {
   "cell_type": "markdown",
   "id": "667d6da2",
   "metadata": {},
   "source": [
    "The above cell connects to the same database using the SQLAlchemy Python library, which can connect to several different database management systems, including sqlite3, MySQL, PostgreSQL, and Oracle. The library also supports an advanced feature for generating queries called an [object relational mapper](https://docs.sqlalchemy.org/en/latest/orm/tutorial.html) or ORM, which we won't discuss in this course but is quite useful for application development."
   ]
  },
  {
   "cell_type": "code",
   "execution_count": 21,
   "id": "4bebbcf7",
   "metadata": {},
   "outputs": [],
   "source": [
    "# Plug the SQLAlchemy engine into line magic to establish a connection\n",
    "%sql imdb_engine"
   ]
  },
  {
   "cell_type": "markdown",
   "id": "4539c47c",
   "metadata": {},
   "source": [
    "Above, prefixing our single-line command with `%sql` means that the entire line will be treated as a SQL command (this is called \"line magic\"). In this class we will most often write multi-line SQL, meaning we need \"cell magic\", where the first line has `%%sql` (note the double `%` operator).\n",
    "\n",
    "The database `imdbmini.db` includes several tables, one of which is `Name`. Running the below cell will return first 5 lines of that table. Note that `%%sql` is on its own line.\n",
    "\n",
    "We've also included syntax for single-line comments, which are surrounded by `--`, and multi-line comments, which are surrounded by `/*` and `*/`."
   ]
  },
  {
   "cell_type": "code",
   "execution_count": 22,
   "id": "022748d4",
   "metadata": {},
   "outputs": [
    {
     "data": {
      "text/html": [
       "<span style=\"None\">Running query in &#x27;sqlite:///imdbmini.db&#x27;</span>"
      ],
      "text/plain": [
       "Running query in 'sqlite:///imdbmini.db'"
      ]
     },
     "metadata": {},
     "output_type": "display_data"
    },
    {
     "data": {
      "text/html": [
       "<table>\n",
       "    <thead>\n",
       "        <tr>\n",
       "            <th>nconst</th>\n",
       "            <th>primaryName</th>\n",
       "            <th>birthYear</th>\n",
       "            <th>deathYear</th>\n",
       "            <th>primaryProfession</th>\n",
       "        </tr>\n",
       "    </thead>\n",
       "    <tbody>\n",
       "        <tr>\n",
       "            <td>1</td>\n",
       "            <td>Fred Astaire</td>\n",
       "            <td>1899</td>\n",
       "            <td>1987</td>\n",
       "            <td>soundtrack,actor,miscellaneous</td>\n",
       "        </tr>\n",
       "        <tr>\n",
       "            <td>2</td>\n",
       "            <td>Lauren Bacall</td>\n",
       "            <td>1924</td>\n",
       "            <td>2014</td>\n",
       "            <td>actress,soundtrack</td>\n",
       "        </tr>\n",
       "        <tr>\n",
       "            <td>3</td>\n",
       "            <td>Brigitte Bardot</td>\n",
       "            <td>1934</td>\n",
       "            <td>None</td>\n",
       "            <td>actress,soundtrack,music_department</td>\n",
       "        </tr>\n",
       "        <tr>\n",
       "            <td>4</td>\n",
       "            <td>John Belushi</td>\n",
       "            <td>1949</td>\n",
       "            <td>1982</td>\n",
       "            <td>actor,soundtrack,writer</td>\n",
       "        </tr>\n",
       "        <tr>\n",
       "            <td>5</td>\n",
       "            <td>Ingmar Bergman</td>\n",
       "            <td>1918</td>\n",
       "            <td>2007</td>\n",
       "            <td>writer,director,actor</td>\n",
       "        </tr>\n",
       "    </tbody>\n",
       "</table>\n",
       "<span style='font-style:italic;font-size:11px'><code>ResultSet</code> : to convert to pandas, call <a href='https://jupysql.ploomber.io/en/latest/integrations/pandas.html'><code>.DataFrame()</code></a> or to polars, call <a href='https://jupysql.ploomber.io/en/latest/integrations/polars.html'><code>.PolarsDataFrame()</code></a></span><br>"
      ],
      "text/plain": [
       "+--------+-----------------+-----------+-----------+-------------------------------------+\n",
       "| nconst |   primaryName   | birthYear | deathYear |          primaryProfession          |\n",
       "+--------+-----------------+-----------+-----------+-------------------------------------+\n",
       "|   1    |   Fred Astaire  |    1899   |    1987   |    soundtrack,actor,miscellaneous   |\n",
       "|   2    |  Lauren Bacall  |    1924   |    2014   |          actress,soundtrack         |\n",
       "|   3    | Brigitte Bardot |    1934   |    None   | actress,soundtrack,music_department |\n",
       "|   4    |   John Belushi  |    1949   |    1982   |       actor,soundtrack,writer       |\n",
       "|   5    |  Ingmar Bergman |    1918   |    2007   |        writer,director,actor        |\n",
       "+--------+-----------------+-----------+-----------+-------------------------------------+"
      ]
     },
     "execution_count": 22,
     "metadata": {},
     "output_type": "execute_result"
    }
   ],
   "source": [
    "%%sql\n",
    "/*\n",
    " * This is a\n",
    " * multi-line comment.\n",
    " */\n",
    "-- This is a single-line/inline comment. --\n",
    "SELECT *\n",
    "FROM Name\n",
    "LIMIT 5;"
   ]
  },
  {
   "cell_type": "markdown",
   "id": "5555e738",
   "metadata": {},
   "source": [
    "<br/>\n",
    "\n",
    "### 2. The `pandas` command `pd.read_sql`"
   ]
  },
  {
   "cell_type": "markdown",
   "id": "4a5399aa",
   "metadata": {},
   "source": [
    "This section describes how data scientists use SQL and `python` in practice, using the `pandas` command `pd.read_sql` ([documentation](https://pandas.pydata.org/docs/reference/api/pandas.read_sql.html)). **You will see both `%sql` magic and `pd.read_sql` in this course**."
   ]
  },
  {
   "cell_type": "markdown",
   "id": "b13ff03c",
   "metadata": {},
   "source": [
    "With the SQLAlchemy object `engine`, we can call `pd.read_sql` which takes in a `query` **string**. Note the `\"\"\"` to define our multi-line string, which allows us to have a query span multiple lines. The resulting `DataFrame` `df` stores the results of the same SQL query from the previous section."
   ]
  },
  {
   "cell_type": "code",
   "execution_count": 23,
   "id": "9afea90f-ef16-4531-b96f-0f81d961946f",
   "metadata": {},
   "outputs": [
    {
     "data": {
      "text/html": [
       "<div>\n",
       "<style scoped>\n",
       "    .dataframe tbody tr th:only-of-type {\n",
       "        vertical-align: middle;\n",
       "    }\n",
       "\n",
       "    .dataframe tbody tr th {\n",
       "        vertical-align: top;\n",
       "    }\n",
       "\n",
       "    .dataframe thead th {\n",
       "        text-align: right;\n",
       "    }\n",
       "</style>\n",
       "<table border=\"1\" class=\"dataframe\">\n",
       "  <thead>\n",
       "    <tr style=\"text-align: right;\">\n",
       "      <th></th>\n",
       "      <th>nconst</th>\n",
       "      <th>primaryName</th>\n",
       "      <th>birthYear</th>\n",
       "      <th>deathYear</th>\n",
       "      <th>primaryProfession</th>\n",
       "    </tr>\n",
       "  </thead>\n",
       "  <tbody>\n",
       "    <tr>\n",
       "      <th>0</th>\n",
       "      <td>1</td>\n",
       "      <td>Fred Astaire</td>\n",
       "      <td>1899</td>\n",
       "      <td>1987</td>\n",
       "      <td>soundtrack,actor,miscellaneous</td>\n",
       "    </tr>\n",
       "    <tr>\n",
       "      <th>1</th>\n",
       "      <td>2</td>\n",
       "      <td>Lauren Bacall</td>\n",
       "      <td>1924</td>\n",
       "      <td>2014</td>\n",
       "      <td>actress,soundtrack</td>\n",
       "    </tr>\n",
       "    <tr>\n",
       "      <th>2</th>\n",
       "      <td>3</td>\n",
       "      <td>Brigitte Bardot</td>\n",
       "      <td>1934</td>\n",
       "      <td>None</td>\n",
       "      <td>actress,soundtrack,music_department</td>\n",
       "    </tr>\n",
       "    <tr>\n",
       "      <th>3</th>\n",
       "      <td>4</td>\n",
       "      <td>John Belushi</td>\n",
       "      <td>1949</td>\n",
       "      <td>1982</td>\n",
       "      <td>actor,soundtrack,writer</td>\n",
       "    </tr>\n",
       "    <tr>\n",
       "      <th>4</th>\n",
       "      <td>5</td>\n",
       "      <td>Ingmar Bergman</td>\n",
       "      <td>1918</td>\n",
       "      <td>2007</td>\n",
       "      <td>writer,director,actor</td>\n",
       "    </tr>\n",
       "  </tbody>\n",
       "</table>\n",
       "</div>"
      ],
      "text/plain": [
       "   nconst      primaryName birthYear deathYear  \\\n",
       "0       1     Fred Astaire      1899      1987   \n",
       "1       2    Lauren Bacall      1924      2014   \n",
       "2       3  Brigitte Bardot      1934      None   \n",
       "3       4     John Belushi      1949      1982   \n",
       "4       5   Ingmar Bergman      1918      2007   \n",
       "\n",
       "                     primaryProfession  \n",
       "0       soundtrack,actor,miscellaneous  \n",
       "1                   actress,soundtrack  \n",
       "2  actress,soundtrack,music_department  \n",
       "3              actor,soundtrack,writer  \n",
       "4                writer,director,actor  "
      ]
     },
     "execution_count": 23,
     "metadata": {},
     "output_type": "execute_result"
    }
   ],
   "source": [
    "# Run this cell to see the demo.\n",
    "query = \"\"\"\n",
    "SELECT *\n",
    "FROM Name\n",
    "LIMIT 5;\n",
    "\"\"\"\n",
    "\n",
    "df = pd.read_sql(query, imdb_engine)\n",
    "df"
   ]
  },
  {
   "cell_type": "markdown",
   "id": "0b59afe5-3b7a-405d-abfc-91b68126d9e3",
   "metadata": {},
   "source": [
    "#### `pd.read_sql` vs. `%sql` magic error messages"
   ]
  },
  {
   "cell_type": "markdown",
   "id": "137b6768",
   "metadata": {},
   "source": [
    "`pd.read_sql` has **long error messages**: Given that the SQL query is now in the string, the errors become more unintelligible. Consider the below (incorrect) query.\n",
    "\n",
    "**Note**: Uncomment the below code and check out the error. You can uncomment/comment out multiple cells at the same time by selecting the lines and press ctrl+/ or command+/ "
   ]
  },
  {
   "cell_type": "code",
   "execution_count": 24,
   "id": "eaa676e4-f557-4a66-80d8-171c39d4e38d",
   "metadata": {},
   "outputs": [],
   "source": [
    "# Uncomment the below code and check out the error.\n",
    "# query = \"\"\"\n",
    "# SELECT *\n",
    "# FROM Title;\n",
    "# LIMIT 5\n",
    "# \"\"\"\n",
    "# pd.read_sql(query, imdb_engine)"
   ]
  },
  {
   "cell_type": "markdown",
   "id": "bc6be967-d995-4cc4-955b-cdbd42ebbd36",
   "metadata": {},
   "source": [
    "<br/>\n",
    "<details>\n",
    "<summary>Now that's an unruly error message! Can you see what's wrong in the cell above and correct the query? Toggle this cell to check your answer!</summary>\n",
    "It has a semicolon in the wrong place!\n",
    "</details>\n",
    "\n",
    "<br/>\n",
    "\n",
    "On the other hand, `%sql` magic gives more intelligible error messages, so we will use this format more often."
   ]
  },
  {
   "cell_type": "code",
   "execution_count": 25,
   "id": "853be81b",
   "metadata": {},
   "outputs": [],
   "source": [
    "# %%sql\n",
    "# -- Uncomment the code and check out the error. --\n",
    "# SELECT *\n",
    "# FROM Title;\n",
    "# LIMIT 5"
   ]
  },
  {
   "cell_type": "markdown",
   "id": "8f682833",
   "metadata": {
    "tags": []
   },
   "source": [
    "<br/>\n",
    "<!-- \n",
    "TODO\n",
    "\n",
    "### 3. A suggested workflow for writing SQL in Jupyter Notebooks\n",
    "\n",
    "Which approach is better, `%sql` magic or `pd.read_sql`?\n",
    "\n",
    "The SQL database generally contains much more data than what you would analyze in detail. As a `python`-fluent data scientist, you will often query SQL databases to perform initial exploratory data analysis, a subset of which you load into `python` for further processing.\n",
    "\n",
    "In practice, you would likely use a combination of the two approaches. First, you'd try out some SQL queries with `%sql` magic to get an interesting subset of data. Then, you'd copy over the query into a `pd.read_sql` command for visualization, modeling, and export with `pandas`, sklearn, and other `python` libraries.\n",
    "\n",
    "For SQL assignments in this course, to minimize unruly error messages while maximizing `python` compatibility, we suggest the following \"sandboxed\" workflow:\n",
    "1. Create a `%%sql` magic cell using the code below. \n",
    "\n",
    "    ```\n",
    "    %% sql\n",
    "    -- This is a comment. Put your code here... --\n",
    "    ```\n",
    "    \n",
    "<br/>\n",
    "\n",
    "2. Work on the SQL query in the `%%sql` cell; e.g., `SELECT ... ;`\n",
    "3. Then, once you're satisfied with your SQL query, copy it into the multi-string query in the answer cell (the one that contains the `pd.read_sql` call).\n",
    "\n",
    "You don't have to follow the above workflow to get full credit on assignments, but we suggest it to reduce debugging headaches. We've created the scratchwork `%%sql` cells for you in this assignment—but **if you add any cells, please delete them before submitting**. Newly added cells will cause errors when we run the autograder, and it will sometimes cause a failure to generate the PDF file. -->\n"
   ]
  },
  {
   "cell_type": "markdown",
   "id": "4149050c",
   "metadata": {},
   "source": [
    "<br/><br/>\n",
    "<hr style=\"border: 1px solid #fdb515;\" />\n",
    "\n",
    "# Part 1: The IMDb (mini) Dataset\n",
    "\n",
    "Let's explore a miniature version of the [IMDb Dataset](https://www.imdb.com/interfaces/). This is the same dataset that we will use for the upcoming homework. We'll load it in using cell magic."
   ]
  },
  {
   "cell_type": "code",
   "execution_count": 26,
   "id": "20eb22ff",
   "metadata": {},
   "outputs": [],
   "source": [
    "imdb_engine = sqlalchemy.create_engine(imdb_sqlite_conn)"
   ]
  },
  {
   "cell_type": "code",
   "execution_count": 27,
   "id": "1a30069e",
   "metadata": {},
   "outputs": [],
   "source": [
    "%sql imdb_engine"
   ]
  },
  {
   "cell_type": "code",
   "execution_count": 28,
   "id": "29611fa9",
   "metadata": {},
   "outputs": [
    {
     "data": {
      "text/html": [
       "<span style=\"None\">Running query in &#x27;sqlite:///imdbmini.db&#x27;</span>"
      ],
      "text/plain": [
       "Running query in 'sqlite:///imdbmini.db'"
      ]
     },
     "metadata": {},
     "output_type": "display_data"
    },
    {
     "data": {
      "text/html": [
       "<table>\n",
       "    <thead>\n",
       "        <tr>\n",
       "            <th>type</th>\n",
       "            <th>name</th>\n",
       "            <th>tbl_name</th>\n",
       "            <th>rootpage</th>\n",
       "            <th>sql</th>\n",
       "        </tr>\n",
       "    </thead>\n",
       "    <tbody>\n",
       "        <tr>\n",
       "            <td>table</td>\n",
       "            <td>Title</td>\n",
       "            <td>Title</td>\n",
       "            <td>2</td>\n",
       "            <td>CREATE TABLE \"Title\" (<br>\"tconst\" INTEGER,<br>  \"titleType\" TEXT,<br>  \"primaryTitle\" TEXT,<br>  \"originalTitle\" TEXT,<br>  \"isAdult\" TEXT,<br>  \"startYear\" TEXT,<br>  \"endYear\" TEXT,<br>  \"runtimeMinutes\" TEXT,<br>  \"genres\" TEXT<br>)</td>\n",
       "        </tr>\n",
       "        <tr>\n",
       "            <td>table</td>\n",
       "            <td>Name</td>\n",
       "            <td>Name</td>\n",
       "            <td>12</td>\n",
       "            <td>CREATE TABLE \"Name\" (<br>\"nconst\" INTEGER,<br>  \"primaryName\" TEXT,<br>  \"birthYear\" TEXT,<br>  \"deathYear\" TEXT,<br>  \"primaryProfession\" TEXT<br>)</td>\n",
       "        </tr>\n",
       "        <tr>\n",
       "            <td>table</td>\n",
       "            <td>Role</td>\n",
       "            <td>Role</td>\n",
       "            <td>70</td>\n",
       "            <td>CREATE TABLE \"Role\" (<br>tconst INTEGER,<br>ordering TEXT,<br>nconst INTEGER,<br>category TEXT,<br>job TEXT,<br>characters TEXT<br>)</td>\n",
       "        </tr>\n",
       "        <tr>\n",
       "            <td>table</td>\n",
       "            <td>Rating</td>\n",
       "            <td>Rating</td>\n",
       "            <td>41</td>\n",
       "            <td>CREATE TABLE \"Rating\" (<br>tconst INTEGER,<br>averageRating TEXT,<br>numVotes TEXT<br>)</td>\n",
       "        </tr>\n",
       "    </tbody>\n",
       "</table>\n",
       "<span style='font-style:italic;font-size:11px'><code>ResultSet</code> : to convert to pandas, call <a href='https://jupysql.ploomber.io/en/latest/integrations/pandas.html'><code>.DataFrame()</code></a> or to polars, call <a href='https://jupysql.ploomber.io/en/latest/integrations/polars.html'><code>.PolarsDataFrame()</code></a></span><br>"
      ],
      "text/plain": [
       "+-------+--------+----------+----------+----------------------------+\n",
       "|  type |  name  | tbl_name | rootpage |            sql             |\n",
       "+-------+--------+----------+----------+----------------------------+\n",
       "| table | Title  |  Title   |    2     |   CREATE TABLE \"Title\" (   |\n",
       "|       |        |          |          |     \"tconst\" INTEGER,      |\n",
       "|       |        |          |          |      \"titleType\" TEXT,     |\n",
       "|       |        |          |          |     \"primaryTitle\" TEXT,   |\n",
       "|       |        |          |          |    \"originalTitle\" TEXT,   |\n",
       "|       |        |          |          |       \"isAdult\" TEXT,      |\n",
       "|       |        |          |          |      \"startYear\" TEXT,     |\n",
       "|       |        |          |          |       \"endYear\" TEXT,      |\n",
       "|       |        |          |          |    \"runtimeMinutes\" TEXT,  |\n",
       "|       |        |          |          |        \"genres\" TEXT       |\n",
       "|       |        |          |          |             )              |\n",
       "| table |  Name  |   Name   |    12    |   CREATE TABLE \"Name\" (    |\n",
       "|       |        |          |          |     \"nconst\" INTEGER,      |\n",
       "|       |        |          |          |     \"primaryName\" TEXT,    |\n",
       "|       |        |          |          |      \"birthYear\" TEXT,     |\n",
       "|       |        |          |          |      \"deathYear\" TEXT,     |\n",
       "|       |        |          |          |   \"primaryProfession\" TEXT |\n",
       "|       |        |          |          |             )              |\n",
       "| table |  Role  |   Role   |    70    |   CREATE TABLE \"Role\" (    |\n",
       "|       |        |          |          |      tconst INTEGER,       |\n",
       "|       |        |          |          |       ordering TEXT,       |\n",
       "|       |        |          |          |      nconst INTEGER,       |\n",
       "|       |        |          |          |       category TEXT,       |\n",
       "|       |        |          |          |         job TEXT,          |\n",
       "|       |        |          |          |      characters TEXT       |\n",
       "|       |        |          |          |             )              |\n",
       "| table | Rating |  Rating  |    41    |  CREATE TABLE \"Rating\" (   |\n",
       "|       |        |          |          |      tconst INTEGER,       |\n",
       "|       |        |          |          |    averageRating TEXT,     |\n",
       "|       |        |          |          |       numVotes TEXT        |\n",
       "|       |        |          |          |             )              |\n",
       "+-------+--------+----------+----------+----------------------------+"
      ]
     },
     "execution_count": 28,
     "metadata": {},
     "output_type": "execute_result"
    }
   ],
   "source": [
    "%%sql\n",
    "SELECT * FROM sqlite_master WHERE type='table';"
   ]
  },
  {
   "cell_type": "markdown",
   "id": "0a0a2b0e",
   "metadata": {},
   "source": [
    "From running the above cell, we see the database has 4 tables: `Name`, `Role`, `Rating`, and `Title`.\n",
    "\n",
    "<details open>\n",
    "    <summary>[<b>Click to Expand</b>] See descriptions of each table's schema.</summary>\n",
    "    \n",
    "**`Name`** – Contains the following information for names of people.\n",
    "    \n",
    "- nconst (integer) - alphanumeric unique identifier of the name/person\n",
    "- primaryName (text)– name by which the person is most often credited\n",
    "- birthYear (text) – in YYYY format\n",
    "- deathYear (text) – in YYYY format\n",
    "    \n",
    "    \n",
    "**`Role`** – Contains the principal cast/crew for titles.\n",
    "    \n",
    "- tconst (integer) - alphanumeric unique identifier of the title\n",
    "- ordering (text) – a number to uniquely identify rows for a given tconst\n",
    "- nconst (integer) - alphanumeric unique identifier of the name/person\n",
    "- category (text) - the category of job that person was in\n",
    "- characters (text) - the name of the character played if applicable, else '\\\\N'\n",
    "    \n",
    "**`Rating`** – Contains the IMDb rating and votes information for titles.\n",
    "    \n",
    "- tconst (integer) - alphanumeric unique identifier of the title\n",
    "- averageRating (text) – weighted average of all the individual user ratings\n",
    "- numVotes (text) - number of votes (i.e., ratings) the title has received\n",
    "    \n",
    "**`Title`** - Contains the following information for titles.\n",
    "    \n",
    "- tconst (integer) - alphanumeric unique identifier of the title\n",
    "- titleType (text) -  the type/format of the title\n",
    "- primaryTitle (text) -  the more popular title / the title used by the filmmakers on promotional materials at the point of release\n",
    "- isAdult (text) - 0: non-adult title; 1: adult title\n",
    "- Year (text) – represents the release year of a title.\n",
    "- runtimeMinutes (text)  – primary runtime of the title, in minutes\n",
    "    \n",
    "</details>\n",
    "\n",
    "<br/><br/>\n",
    "\n",
    "From the above descriptions, we can conclude the following:\n",
    "* `Name.nconst` and `Title.tconst` are primary keys of the `Name` and `Title` tables, respectively.\n",
    "* that `Role.nconst` and `Role.tconst` are **foreign keys** that point to `Name.nconst` and `Title.tconst`, respectively."
   ]
  },
  {
   "cell_type": "markdown",
   "id": "52676840",
   "metadata": {},
   "source": [
    "<br/><br/>\n",
    "\n",
    "---\n",
    "\n",
    "## Question 1\n",
    "\n",
    "What are the different kinds of `titleType`s included in the `Title` table? Write a query to find out all the unique `titleType`s of films using the `DISTINCT` keyword.  (**You may not use `GROUP BY`.**)"
   ]
  },
  {
   "cell_type": "code",
   "execution_count": 29,
   "id": "b599b89a-5128-4d60-a0bd-d12a0e07cf88",
   "metadata": {},
   "outputs": [],
   "source": [
    "# run this cell to make sure we're using the IMDB dataset\n",
    "%sql imdb_engine "
   ]
  },
  {
   "cell_type": "code",
   "execution_count": 30,
   "id": "f200f309-b54a-4e07-95e1-79c489d0a21d",
   "metadata": {
    "tags": []
   },
   "outputs": [
    {
     "data": {
      "text/html": [
       "<span style=\"None\">Running query in &#x27;sqlite:///imdbmini.db&#x27;</span>"
      ],
      "text/plain": [
       "Running query in 'sqlite:///imdbmini.db'"
      ]
     },
     "metadata": {},
     "output_type": "display_data"
    }
   ],
   "source": [
    "%%sql --save query_1 result_1 <<\n",
    "SELECT DISTINCT titleType\n",
    "    FROM Title;"
   ]
  },
  {
   "cell_type": "code",
   "execution_count": 31,
   "id": "ab19cd49-dbd1-439a-a5cd-636a61ee082e",
   "metadata": {
    "deletable": false,
    "editable": false
   },
   "outputs": [
    {
     "data": {
      "text/html": [
       "<table>\n",
       "    <thead>\n",
       "        <tr>\n",
       "            <th>titleType</th>\n",
       "        </tr>\n",
       "    </thead>\n",
       "    <tbody>\n",
       "        <tr>\n",
       "            <td>short</td>\n",
       "        </tr>\n",
       "        <tr>\n",
       "            <td>movie</td>\n",
       "        </tr>\n",
       "        <tr>\n",
       "            <td>tvSeries</td>\n",
       "        </tr>\n",
       "        <tr>\n",
       "            <td>tvMovie</td>\n",
       "        </tr>\n",
       "        <tr>\n",
       "            <td>tvMiniSeries</td>\n",
       "        </tr>\n",
       "        <tr>\n",
       "            <td>video</td>\n",
       "        </tr>\n",
       "        <tr>\n",
       "            <td>videoGame</td>\n",
       "        </tr>\n",
       "        <tr>\n",
       "            <td>tvEpisode</td>\n",
       "        </tr>\n",
       "        <tr>\n",
       "            <td>tvSpecial</td>\n",
       "        </tr>\n",
       "    </tbody>\n",
       "</table>\n",
       "<span style='font-style:italic;font-size:11px'><code>ResultSet</code> : to convert to pandas, call <a href='https://jupysql.ploomber.io/en/latest/integrations/pandas.html'><code>.DataFrame()</code></a> or to polars, call <a href='https://jupysql.ploomber.io/en/latest/integrations/polars.html'><code>.PolarsDataFrame()</code></a></span><br>"
      ],
      "text/plain": [
       "+--------------+\n",
       "|  titleType   |\n",
       "+--------------+\n",
       "|    short     |\n",
       "|    movie     |\n",
       "|   tvSeries   |\n",
       "|   tvMovie    |\n",
       "| tvMiniSeries |\n",
       "|    video     |\n",
       "|  videoGame   |\n",
       "|  tvEpisode   |\n",
       "|  tvSpecial   |\n",
       "+--------------+"
      ]
     },
     "execution_count": 31,
     "metadata": {},
     "output_type": "execute_result"
    }
   ],
   "source": [
    "# Run this cell before running the autograder; no further action is needed\n",
    "query_1 = %sqlcmd snippets query_1\n",
    "save_results(\"result_1\", query_1, result_1)\n",
    "result_1"
   ]
  },
  {
   "cell_type": "code",
   "execution_count": 43,
   "id": "cc4354fe",
   "metadata": {
    "deletable": false,
    "editable": false
   },
   "outputs": [
    {
     "data": {
      "text/html": [
       "<p><strong><pre style='display: inline;'>q1</pre></strong> passed! 🍀</p>"
      ],
      "text/plain": [
       "q1 results: All test cases passed!"
      ]
     },
     "execution_count": 43,
     "metadata": {},
     "output_type": "execute_result"
    }
   ],
   "source": [
    "grader.check(\"q1\")"
   ]
  },
  {
   "cell_type": "markdown",
   "id": "7d6d7c4f",
   "metadata": {
    "tags": []
   },
   "source": [
    "<br><br>\n",
    "\n",
    "---\n",
    "\n",
    "## Question 2\n",
    "\n",
    "Before we proceed we want to get a better picture of the kinds of jobs that exist.  To do this examine the `Role` table by computing the number of records with each job `category`.  Present the results in descending order by the total counts.\n",
    "\n",
    "The top of your table should look like this (however, you should have more rows):\n",
    "\n",
    "| |category|total|\n",
    "|-----|-----|-----|\n",
    "|**0**|actor|21665|\n",
    "|**1**|writer|13830|\n",
    "|**2**|...|...|"
   ]
  },
  {
   "cell_type": "code",
   "execution_count": 33,
   "id": "2f649db9-87df-495c-9a7f-7c2ae5ba7a2f",
   "metadata": {},
   "outputs": [],
   "source": [
    "# run this cell to make sure we're using the IMDB dataset\n",
    "%sql imdb_engine "
   ]
  },
  {
   "cell_type": "code",
   "execution_count": 66,
   "id": "c5d6b476-22a0-4ef1-b6ab-ef8da5c29097",
   "metadata": {
    "tags": []
   },
   "outputs": [
    {
     "data": {
      "text/html": [
       "<span style=\"None\">Running query in &#x27;sqlite:///imdbmini.db&#x27;</span>"
      ],
      "text/plain": [
       "Running query in 'sqlite:///imdbmini.db'"
      ]
     },
     "metadata": {},
     "output_type": "display_data"
    }
   ],
   "source": [
    "%%sql --save query_2 result_2 <<\n",
    "SELECT category, COUNT(*) AS total\n",
    "FROM Role\n",
    "GROUP BY category\n",
    "ORDER BY total DESC;"
   ]
  },
  {
   "cell_type": "code",
   "execution_count": 67,
   "id": "f3211a58",
   "metadata": {
    "deletable": false,
    "editable": false
   },
   "outputs": [
    {
     "data": {
      "text/html": [
       "<table>\n",
       "    <thead>\n",
       "        <tr>\n",
       "            <th>category</th>\n",
       "            <th>total</th>\n",
       "        </tr>\n",
       "    </thead>\n",
       "    <tbody>\n",
       "        <tr>\n",
       "            <td>actor</td>\n",
       "            <td>21665</td>\n",
       "        </tr>\n",
       "        <tr>\n",
       "            <td>writer</td>\n",
       "            <td>13830</td>\n",
       "        </tr>\n",
       "        <tr>\n",
       "            <td>actress</td>\n",
       "            <td>12175</td>\n",
       "        </tr>\n",
       "        <tr>\n",
       "            <td>producer</td>\n",
       "            <td>11028</td>\n",
       "        </tr>\n",
       "        <tr>\n",
       "            <td>director</td>\n",
       "            <td>6995</td>\n",
       "        </tr>\n",
       "        <tr>\n",
       "            <td>composer</td>\n",
       "            <td>4123</td>\n",
       "        </tr>\n",
       "        <tr>\n",
       "            <td>cinematographer</td>\n",
       "            <td>2747</td>\n",
       "        </tr>\n",
       "        <tr>\n",
       "            <td>editor</td>\n",
       "            <td>1558</td>\n",
       "        </tr>\n",
       "        <tr>\n",
       "            <td>self</td>\n",
       "            <td>623</td>\n",
       "        </tr>\n",
       "        <tr>\n",
       "            <td>production_designer</td>\n",
       "            <td>410</td>\n",
       "        </tr>\n",
       "    </tbody>\n",
       "</table>\n",
       "<span style='font-style:italic;font-size:11px'><code>ResultSet</code> : to convert to pandas, call <a href='https://jupysql.ploomber.io/en/latest/integrations/pandas.html'><code>.DataFrame()</code></a> or to polars, call <a href='https://jupysql.ploomber.io/en/latest/integrations/polars.html'><code>.PolarsDataFrame()</code></a></span><br>"
      ],
      "text/plain": [
       "+---------------------+-------+\n",
       "|       category      | total |\n",
       "+---------------------+-------+\n",
       "|        actor        | 21665 |\n",
       "|        writer       | 13830 |\n",
       "|       actress       | 12175 |\n",
       "|       producer      | 11028 |\n",
       "|       director      |  6995 |\n",
       "|       composer      |  4123 |\n",
       "|   cinematographer   |  2747 |\n",
       "|        editor       |  1558 |\n",
       "|         self        |  623  |\n",
       "| production_designer |  410  |\n",
       "+---------------------+-------+"
      ]
     },
     "execution_count": 67,
     "metadata": {},
     "output_type": "execute_result"
    }
   ],
   "source": [
    "# Run this cell before running the autograder; no further action is needed\n",
    "query_2 = %sqlcmd snippets query_2\n",
    "save_results(\"result_2\", query_2, result_2)\n",
    "result_2"
   ]
  },
  {
   "cell_type": "code",
   "execution_count": 68,
   "id": "99a94815",
   "metadata": {
    "deletable": false,
    "editable": false
   },
   "outputs": [
    {
     "data": {
      "text/html": [
       "<p><strong><pre style='display: inline;'>q2</pre></strong> passed! 💯</p>"
      ],
      "text/plain": [
       "q2 results: All test cases passed!"
      ]
     },
     "execution_count": 68,
     "metadata": {},
     "output_type": "execute_result"
    }
   ],
   "source": [
    "grader.check(\"q2\")"
   ]
  },
  {
   "cell_type": "markdown",
   "id": "7dd50dc7",
   "metadata": {},
   "source": [
    "<br/>\n",
    "If we computed the results correctly we should see a nice horizontal bar chart of the counts per category below:"
   ]
  },
  {
   "cell_type": "code",
   "execution_count": 69,
   "id": "b440f225",
   "metadata": {},
   "outputs": [
    {
     "data": {
      "image/png": "[encoded data removed]",
      "text/plain": [
       "<Figure size 640x480 with 1 Axes>"
      ]
     },
     "metadata": {},
     "output_type": "display_data"
    }
   ],
   "source": [
    "# Run this cell to make a bar plot.\n",
    "res_q2 = result_2.DataFrame() # turn our SQL query to a DataFrame\n",
    "plt.barh(res_q2[\"category\"], res_q2[\"total\"])\n",
    "plt.xlabel(\"Counts\")\n",
    "plt.ylabel(\"Job Category\");"
   ]
  },
  {
   "cell_type": "markdown",
   "id": "9237fcdc",
   "metadata": {},
   "source": [
    "<br/><br/>\n",
    "\n",
    "---\n",
    "\n",
    "## Question 3\n",
    "\n",
    "Now that we have a better sense of the basics of our data, we can ask some more interesting questions.\n",
    "\n",
    "The `Rating` table has the `numVotes` and the `averageRating` for each title. Which 10 films have the most ratings?\n",
    "\n",
    "Write a SQL query that outputs three fields: the `title`, `numVotes`, and `averageRating` for the 10 films that have the highest number of ratings.  Sort the result in descending order by the number of votes.\n",
    "\n",
    "**Hint**: The `numVotes` in the `Rating` table is not an integer! Use `CAST(Rating.numVotes AS int) AS numVotes` to convert the attribute to an integer. Sometimes SQL will cast your data automatically when performing operation, but you should cast them explicitly for readability and reproducibility."
   ]
  },
  {
   "cell_type": "code",
   "execution_count": 77,
   "id": "bb633e2d-9ecb-4c31-bf8c-f6a4bef837ec",
   "metadata": {},
   "outputs": [],
   "source": [
    "# run this cell to make sure we're using the IMDB dataset\n",
    "%sql imdb_engine "
   ]
  },
  {
   "cell_type": "code",
   "execution_count": 84,
   "id": "2dee497d-49c8-453a-bf91-2503edafbe72",
   "metadata": {
    "tags": []
   },
   "outputs": [
    {
     "data": {
      "text/html": [
       "<span style=\"None\">Running query in &#x27;sqlite:///imdbmini.db&#x27;</span>"
      ],
      "text/plain": [
       "Running query in 'sqlite:///imdbmini.db'"
      ]
     },
     "metadata": {},
     "output_type": "display_data"
    }
   ],
   "source": [
    "%%sql --save query_3 result_3 <<\n",
    "SELECT primaryTitle AS title, CAST(Rating.numVotes AS int) AS numVotes, averageRating\n",
    "FROM Rating\n",
    "JOIN Title\n",
    "ON Rating.tconst = Title.tconst\n",
    "ORDER BY numVotes DESC\n",
    "LIMIT 10;"
   ]
  },
  {
   "cell_type": "code",
   "execution_count": 85,
   "id": "1f76bd27",
   "metadata": {
    "deletable": false,
    "editable": false
   },
   "outputs": [
    {
     "data": {
      "text/html": [
       "<table>\n",
       "    <thead>\n",
       "        <tr>\n",
       "            <th>title</th>\n",
       "            <th>numVotes</th>\n",
       "            <th>averageRating</th>\n",
       "        </tr>\n",
       "    </thead>\n",
       "    <tbody>\n",
       "        <tr>\n",
       "            <td>The Shawshank Redemption</td>\n",
       "            <td>2462686</td>\n",
       "            <td>9.3</td>\n",
       "        </tr>\n",
       "        <tr>\n",
       "            <td>The Dark Knight</td>\n",
       "            <td>2417875</td>\n",
       "            <td>9.0</td>\n",
       "        </tr>\n",
       "        <tr>\n",
       "            <td>Inception</td>\n",
       "            <td>2169255</td>\n",
       "            <td>8.8</td>\n",
       "        </tr>\n",
       "        <tr>\n",
       "            <td>Fight Club</td>\n",
       "            <td>1939312</td>\n",
       "            <td>8.8</td>\n",
       "        </tr>\n",
       "        <tr>\n",
       "            <td>Pulp Fiction</td>\n",
       "            <td>1907561</td>\n",
       "            <td>8.9</td>\n",
       "        </tr>\n",
       "        <tr>\n",
       "            <td>Forrest Gump</td>\n",
       "            <td>1903969</td>\n",
       "            <td>8.8</td>\n",
       "        </tr>\n",
       "        <tr>\n",
       "            <td>Game of Thrones</td>\n",
       "            <td>1874040</td>\n",
       "            <td>9.2</td>\n",
       "        </tr>\n",
       "        <tr>\n",
       "            <td>The Matrix</td>\n",
       "            <td>1756469</td>\n",
       "            <td>8.7</td>\n",
       "        </tr>\n",
       "        <tr>\n",
       "            <td>The Lord of the Rings: The Fellowship of the Ring</td>\n",
       "            <td>1730296</td>\n",
       "            <td>8.8</td>\n",
       "        </tr>\n",
       "        <tr>\n",
       "            <td>The Lord of the Rings: The Return of the King</td>\n",
       "            <td>1709023</td>\n",
       "            <td>8.9</td>\n",
       "        </tr>\n",
       "    </tbody>\n",
       "</table>\n",
       "<span style='font-style:italic;font-size:11px'><code>ResultSet</code> : to convert to pandas, call <a href='https://jupysql.ploomber.io/en/latest/integrations/pandas.html'><code>.DataFrame()</code></a> or to polars, call <a href='https://jupysql.ploomber.io/en/latest/integrations/polars.html'><code>.PolarsDataFrame()</code></a></span><br>"
      ],
      "text/plain": [
       "+---------------------------------------------------+----------+---------------+\n",
       "|                       title                       | numVotes | averageRating |\n",
       "+---------------------------------------------------+----------+---------------+\n",
       "|              The Shawshank Redemption             | 2462686  |      9.3      |\n",
       "|                  The Dark Knight                  | 2417875  |      9.0      |\n",
       "|                     Inception                     | 2169255  |      8.8      |\n",
       "|                     Fight Club                    | 1939312  |      8.8      |\n",
       "|                    Pulp Fiction                   | 1907561  |      8.9      |\n",
       "|                    Forrest Gump                   | 1903969  |      8.8      |\n",
       "|                  Game of Thrones                  | 1874040  |      9.2      |\n",
       "|                     The Matrix                    | 1756469  |      8.7      |\n",
       "| The Lord of the Rings: The Fellowship of the Ring | 1730296  |      8.8      |\n",
       "|   The Lord of the Rings: The Return of the King   | 1709023  |      8.9      |\n",
       "+---------------------------------------------------+----------+---------------+"
      ]
     },
     "execution_count": 85,
     "metadata": {},
     "output_type": "execute_result"
    }
   ],
   "source": [
    "# Run this cell before running the autograder; no further action is needed\n",
    "query_3 = %sqlcmd snippets query_3\n",
    "save_results(\"result_3\", query_3, result_3)\n",
    "result_3"
   ]
  },
  {
   "cell_type": "code",
   "execution_count": 86,
   "id": "9f1cf2bb",
   "metadata": {
    "deletable": false,
    "editable": false
   },
   "outputs": [
    {
     "data": {
      "text/html": [
       "<p><strong><pre style='display: inline;'>q3</pre></strong> passed! 🌈</p>"
      ],
      "text/plain": [
       "q3 results: All test cases passed!"
      ]
     },
     "execution_count": 86,
     "metadata": {},
     "output_type": "execute_result"
    }
   ],
   "source": [
    "grader.check(\"q3\")"
   ]
  },
  {
   "cell_type": "markdown",
   "id": "c8fc97ae",
   "metadata": {},
   "source": [
    "<br/><br/>\n",
    "<hr style=\"border: 1px solid #fdb515;\" />\n",
    "\n",
    "# Part 2: Election Donations in New York City\n",
    "\n",
    "Finally, let's analyze the Federal Election Commission (FEC)'s public records. We connect to the database using cell magic so that we can flexibly explore the database."
   ]
  },
  {
   "cell_type": "code",
   "execution_count": 87,
   "id": "af48cd57",
   "metadata": {},
   "outputs": [],
   "source": [
    "# These lines specify the location of our database file\n",
    "fec_dbfile = 'fec_nyc.db'\n",
    "fec_tmpdb = Path('.') / fec_dbfile\n",
    "\n",
    "# Specify SQLAlchemy Connection URL so line/cell magic can talk to database\n",
    "fec_sqlite_conn = 'sqlite:///' + str(fec_tmpdb)\n",
    "\n",
    "# Create a SQLAlchemy engine to connect to the database.\n",
    "fec_engine = sqlalchemy.create_engine(fec_sqlite_conn)\n",
    "\n",
    "# Plug connection url into line magic to establish connection\n",
    "%sql fec_engine"
   ]
  },
  {
   "cell_type": "markdown",
   "id": "213fa029",
   "metadata": {
    "tags": []
   },
   "source": [
    "### Table Descriptions\n",
    "\n",
    "Run the below cell to explore the **schemas** of all tables saved in the database.\n",
    "\n",
    "If you'd like, you can consult the below linked FEC pages for the descriptions of the tables themselves.\n",
    "\n",
    "* `cand` ([link](https://www.fec.gov/campaign-finance-data/candidate-summary-file-description/)): Candidates table. Contains names and party affiliation.\n",
    "* `comm` ([link](https://www.fec.gov/campaign-finance-data/committee-summary-file-description/)): Committees table. Contains committee names and types.\n",
    "* `indiv_sample_nyc` ([link](https://www.fec.gov/campaign-finance-data/contributions-individuals-file-description)): All individual contributions from New York City ."
   ]
  },
  {
   "cell_type": "code",
   "execution_count": 88,
   "id": "67949b59",
   "metadata": {},
   "outputs": [
    {
     "data": {
      "text/html": [
       "<span style=\"None\">Running query in &#x27;sqlite:///fec_nyc.db&#x27;</span>"
      ],
      "text/plain": [
       "Running query in 'sqlite:///fec_nyc.db'"
      ]
     },
     "metadata": {},
     "output_type": "display_data"
    },
    {
     "data": {
      "text/html": [
       "<table>\n",
       "    <thead>\n",
       "        <tr>\n",
       "            <th>sql</th>\n",
       "        </tr>\n",
       "    </thead>\n",
       "    <tbody>\n",
       "        <tr>\n",
       "            <td>CREATE TABLE \"cand\" (<br>    cand_id character varying(9),<br>    cand_name text,<br>    cand_pty_affiliation character varying(3),<br>    cand_election_yr integer,<br>    cand_office_st character varying(2),<br>    cand_office character(1),<br>    cand_office_district integer,<br>    cand_ici character(1),<br>    cand_status character(1),<br>    cand_pcc character varying(9),<br>    cand_st1 text,<br>    cand_st2 text,<br>    cand_city text,<br>    cand_st character varying(2),<br>    cand_zip character varying(10)<br>)</td>\n",
       "        </tr>\n",
       "        <tr>\n",
       "            <td>CREATE TABLE \"comm\"(<br>  \"cmte_id\" TEXT,<br>  \"cmte_nm\" TEXT,<br>  \"tres_nm\" TEXT,<br>  \"cmte_st1\" TEXT,<br>  \"cmte_st2\" TEXT,<br>  \"cmte_city\" TEXT,<br>  \"cmte_st\" TEXT,<br>  \"cmte_zip\" TEXT,<br>  \"cmte_dsgn\" TEXT,<br>  \"cmte_tp\" TEXT,<br>  \"cmte_pty_affiliation\" TEXT,<br>  \"cmte_filing_freq\" TEXT,<br>  \"org_tp\" TEXT,<br>  \"connected_org_nm\" TEXT,<br>  \"cand_id\" TEXT<br>)</td>\n",
       "        </tr>\n",
       "        <tr>\n",
       "            <td>CREATE TABLE indiv_sample_nyc (<br>    cmte_id character varying(9),<br>    amndt_ind character(1),<br>    rpt_tp character varying(3),<br>    transaction_pgi character(5),<br>    image_num bigint,<br>    transaction_tp character varying(3),<br>    entity_tp character varying(3),<br>    name text,<br>    city text,<br>    state character(2),<br>    zip_code character varying(12),<br>    employer text,<br>    occupation text,<br>    transaction_dt character varying(9),<br>    transaction_amt integer,<br>    other_id text,<br>    tran_id text,<br>    file_num bigint,<br>    memo_cd text,<br>    memo_text text,<br>    sub_id bigint<br>)</td>\n",
       "        </tr>\n",
       "    </tbody>\n",
       "</table>\n",
       "<span style='font-style:italic;font-size:11px'><code>ResultSet</code> : to convert to pandas, call <a href='https://jupysql.ploomber.io/en/latest/integrations/pandas.html'><code>.DataFrame()</code></a> or to polars, call <a href='https://jupysql.ploomber.io/en/latest/integrations/polars.html'><code>.PolarsDataFrame()</code></a></span><br>"
      ],
      "text/plain": [
       "+------------------------------------------------+\n",
       "|                      sql                       |\n",
       "+------------------------------------------------+\n",
       "|             CREATE TABLE \"cand\" (              |\n",
       "|           cand_id character varying(9),        |\n",
       "|                  cand_name text,               |\n",
       "|     cand_pty_affiliation character varying(3), |\n",
       "|             cand_election_yr integer,          |\n",
       "|        cand_office_st character varying(2),    |\n",
       "|             cand_office character(1),          |\n",
       "|           cand_office_district integer,        |\n",
       "|               cand_ici character(1),           |\n",
       "|             cand_status character(1),          |\n",
       "|           cand_pcc character varying(9),       |\n",
       "|                   cand_st1 text,               |\n",
       "|                   cand_st2 text,               |\n",
       "|                  cand_city text,               |\n",
       "|           cand_st character varying(2),        |\n",
       "|           cand_zip character varying(10)       |\n",
       "|                       )                        |\n",
       "|              CREATE TABLE \"comm\"(              |\n",
       "|                 \"cmte_id\" TEXT,                |\n",
       "|                 \"cmte_nm\" TEXT,                |\n",
       "|                 \"tres_nm\" TEXT,                |\n",
       "|                 \"cmte_st1\" TEXT,               |\n",
       "|                 \"cmte_st2\" TEXT,               |\n",
       "|                \"cmte_city\" TEXT,               |\n",
       "|                 \"cmte_st\" TEXT,                |\n",
       "|                 \"cmte_zip\" TEXT,               |\n",
       "|                \"cmte_dsgn\" TEXT,               |\n",
       "|                 \"cmte_tp\" TEXT,                |\n",
       "|           \"cmte_pty_affiliation\" TEXT,         |\n",
       "|             \"cmte_filing_freq\" TEXT,           |\n",
       "|                  \"org_tp\" TEXT,                |\n",
       "|             \"connected_org_nm\" TEXT,           |\n",
       "|                  \"cand_id\" TEXT                |\n",
       "|                       )                        |\n",
       "|        CREATE TABLE indiv_sample_nyc (         |\n",
       "|           cmte_id character varying(9),        |\n",
       "|              amndt_ind character(1),           |\n",
       "|            rpt_tp character varying(3),        |\n",
       "|           transaction_pgi character(5),        |\n",
       "|                 image_num bigint,              |\n",
       "|        transaction_tp character varying(3),    |\n",
       "|          entity_tp character varying(3),       |\n",
       "|                     name text,                 |\n",
       "|                     city text,                 |\n",
       "|                state character(2),             |\n",
       "|          zip_code character varying(12),       |\n",
       "|                   employer text,               |\n",
       "|                  occupation text,              |\n",
       "|        transaction_dt character varying(9),    |\n",
       "|              transaction_amt integer,          |\n",
       "|                   other_id text,               |\n",
       "|                   tran_id text,                |\n",
       "|                  file_num bigint,              |\n",
       "|                   memo_cd text,                |\n",
       "|                  memo_text text,               |\n",
       "|                   sub_id bigint                |\n",
       "|                       )                        |\n",
       "+------------------------------------------------+"
      ]
     },
     "execution_count": 88,
     "metadata": {},
     "output_type": "execute_result"
    }
   ],
   "source": [
    "%%sql\n",
    "/* just run this cell */\n",
    "SELECT sql FROM sqlite_master WHERE type='table';"
   ]
  },
  {
   "cell_type": "markdown",
   "id": "621d912e",
   "metadata": {},
   "source": [
    "<br/><br/>\n",
    "\n",
    "Let's look at the `indiv_sample_nyc` table. The below cell displays individual donations made by residents of the state of New York. We use `LIMIT 5` to avoid loading and displaying a huge table."
   ]
  },
  {
   "cell_type": "code",
   "execution_count": 89,
   "id": "a57da69f",
   "metadata": {},
   "outputs": [
    {
     "data": {
      "text/html": [
       "<span style=\"None\">Running query in &#x27;sqlite:///fec_nyc.db&#x27;</span>"
      ],
      "text/plain": [
       "Running query in 'sqlite:///fec_nyc.db'"
      ]
     },
     "metadata": {},
     "output_type": "display_data"
    },
    {
     "data": {
      "text/html": [
       "<table>\n",
       "    <thead>\n",
       "        <tr>\n",
       "            <th>cmte_id</th>\n",
       "            <th>amndt_ind</th>\n",
       "            <th>rpt_tp</th>\n",
       "            <th>transaction_pgi</th>\n",
       "            <th>image_num</th>\n",
       "            <th>transaction_tp</th>\n",
       "            <th>entity_tp</th>\n",
       "            <th>name</th>\n",
       "            <th>city</th>\n",
       "            <th>state</th>\n",
       "            <th>zip_code</th>\n",
       "            <th>employer</th>\n",
       "            <th>occupation</th>\n",
       "            <th>transaction_dt</th>\n",
       "            <th>transaction_amt</th>\n",
       "            <th>other_id</th>\n",
       "            <th>tran_id</th>\n",
       "            <th>file_num</th>\n",
       "            <th>memo_cd</th>\n",
       "            <th>memo_text</th>\n",
       "            <th>sub_id</th>\n",
       "        </tr>\n",
       "    </thead>\n",
       "    <tbody>\n",
       "        <tr>\n",
       "            <td>C00445015</td>\n",
       "            <td>N</td>\n",
       "            <td>Q1</td>\n",
       "            <td>P    </td>\n",
       "            <td>15951128130</td>\n",
       "            <td>15</td>\n",
       "            <td>IND</td>\n",
       "            <td>SINGER, TRIPP MR.</td>\n",
       "            <td>NEW YORK</td>\n",
       "            <td>NY</td>\n",
       "            <td>100214505</td>\n",
       "            <td>ATLANTIC MAILBOXES, INC.</td>\n",
       "            <td>OWNER</td>\n",
       "            <td>01302015</td>\n",
       "            <td>1000</td>\n",
       "            <td></td>\n",
       "            <td>A-CF13736</td>\n",
       "            <td>1002485</td>\n",
       "            <td></td>\n",
       "            <td></td>\n",
       "            <td>4041420151241812398</td>\n",
       "        </tr>\n",
       "        <tr>\n",
       "            <td>C00510461</td>\n",
       "            <td>N</td>\n",
       "            <td>Q1</td>\n",
       "            <td>P    </td>\n",
       "            <td>15951129284</td>\n",
       "            <td>15E</td>\n",
       "            <td>IND</td>\n",
       "            <td>SIMON, DANIEL A</td>\n",
       "            <td>NEW YORK</td>\n",
       "            <td>NY</td>\n",
       "            <td>100237940</td>\n",
       "            <td>N/A</td>\n",
       "            <td>RETIRED</td>\n",
       "            <td>03292015</td>\n",
       "            <td>400</td>\n",
       "            <td>C00401224</td>\n",
       "            <td>VN8JBDDJBA8</td>\n",
       "            <td>1002590</td>\n",
       "            <td></td>\n",
       "            <td>* EARMARKED CONTRIBUTION: SEE BELOW</td>\n",
       "            <td>4041420151241813640</td>\n",
       "        </tr>\n",
       "        <tr>\n",
       "            <td>C00422410</td>\n",
       "            <td>N</td>\n",
       "            <td>Q1</td>\n",
       "            <td>P    </td>\n",
       "            <td>15970352211</td>\n",
       "            <td>15</td>\n",
       "            <td>IND</td>\n",
       "            <td>ABDUL RAUF, FEISAL</td>\n",
       "            <td>NEW YORK</td>\n",
       "            <td>NY</td>\n",
       "            <td>101150010</td>\n",
       "            <td>THE CORDOBA INITIATIVE</td>\n",
       "            <td>CHAIRMAN</td>\n",
       "            <td>03042015</td>\n",
       "            <td>250</td>\n",
       "            <td></td>\n",
       "            <td>VN8A3DBSYG6</td>\n",
       "            <td>1003643</td>\n",
       "            <td></td>\n",
       "            <td></td>\n",
       "            <td>4041620151241914560</td>\n",
       "        </tr>\n",
       "        <tr>\n",
       "            <td>C00510461</td>\n",
       "            <td>N</td>\n",
       "            <td>Q1</td>\n",
       "            <td>P    </td>\n",
       "            <td>15951129280</td>\n",
       "            <td>15</td>\n",
       "            <td>IND</td>\n",
       "            <td>SCHWARZER, FRANK</td>\n",
       "            <td>NEW YORK</td>\n",
       "            <td>NY</td>\n",
       "            <td>100145135</td>\n",
       "            <td>METRO HYDRAULIC JACK CO</td>\n",
       "            <td>SALES</td>\n",
       "            <td>01162015</td>\n",
       "            <td>100</td>\n",
       "            <td></td>\n",
       "            <td>VN8JBDAP4C4</td>\n",
       "            <td>1002590</td>\n",
       "            <td></td>\n",
       "            <td>* EARMARKED CONTRIBUTION: SEE BELOW</td>\n",
       "            <td>4041420151241813630</td>\n",
       "        </tr>\n",
       "        <tr>\n",
       "            <td>C00510461</td>\n",
       "            <td>N</td>\n",
       "            <td>Q1</td>\n",
       "            <td>P    </td>\n",
       "            <td>15951129281</td>\n",
       "            <td>15</td>\n",
       "            <td>IND</td>\n",
       "            <td>SCHWARZER, FRANK</td>\n",
       "            <td>NEW YORK</td>\n",
       "            <td>NY</td>\n",
       "            <td>100145135</td>\n",
       "            <td>METRO HYDRAULIC JACK CO</td>\n",
       "            <td>SALES</td>\n",
       "            <td>02162015</td>\n",
       "            <td>100</td>\n",
       "            <td></td>\n",
       "            <td>VN8JBDBRDG3</td>\n",
       "            <td>1002590</td>\n",
       "            <td></td>\n",
       "            <td>* EARMARKED CONTRIBUTION: SEE BELOW</td>\n",
       "            <td>4041420151241813632</td>\n",
       "        </tr>\n",
       "    </tbody>\n",
       "</table>\n",
       "<span style='font-style:italic;font-size:11px'><code>ResultSet</code> : to convert to pandas, call <a href='https://jupysql.ploomber.io/en/latest/integrations/pandas.html'><code>.DataFrame()</code></a> or to polars, call <a href='https://jupysql.ploomber.io/en/latest/integrations/polars.html'><code>.PolarsDataFrame()</code></a></span><br>"
      ],
      "text/plain": [
       "+-----------+-----------+--------+-----------------+-------------+----------------+-----------+--------------------+----------+-------+-----------+--------------------------+------------+----------------+-----------------+-----------+-------------+----------+---------+-------------------------------------+---------------------+\n",
       "|  cmte_id  | amndt_ind | rpt_tp | transaction_pgi |  image_num  | transaction_tp | entity_tp |        name        |   city   | state |  zip_code |         employer         | occupation | transaction_dt | transaction_amt |  other_id |   tran_id   | file_num | memo_cd |              memo_text              |        sub_id       |\n",
       "+-----------+-----------+--------+-----------------+-------------+----------------+-----------+--------------------+----------+-------+-----------+--------------------------+------------+----------------+-----------------+-----------+-------------+----------+---------+-------------------------------------+---------------------+\n",
       "| C00445015 |     N     |   Q1   |      P          | 15951128130 |       15       |    IND    | SINGER, TRIPP MR.  | NEW YORK |   NY  | 100214505 | ATLANTIC MAILBOXES, INC. |   OWNER    |    01302015    |       1000      |           |  A-CF13736  | 1002485  |         |                                     | 4041420151241812398 |\n",
       "| C00510461 |     N     |   Q1   |      P          | 15951129284 |      15E       |    IND    |  SIMON, DANIEL A   | NEW YORK |   NY  | 100237940 |           N/A            |  RETIRED   |    03292015    |       400       | C00401224 | VN8JBDDJBA8 | 1002590  |         | * EARMARKED CONTRIBUTION: SEE BELOW | 4041420151241813640 |\n",
       "| C00422410 |     N     |   Q1   |      P          | 15970352211 |       15       |    IND    | ABDUL RAUF, FEISAL | NEW YORK |   NY  | 101150010 |  THE CORDOBA INITIATIVE  |  CHAIRMAN  |    03042015    |       250       |           | VN8A3DBSYG6 | 1003643  |         |                                     | 4041620151241914560 |\n",
       "| C00510461 |     N     |   Q1   |      P          | 15951129280 |       15       |    IND    |  SCHWARZER, FRANK  | NEW YORK |   NY  | 100145135 | METRO HYDRAULIC JACK CO  |   SALES    |    01162015    |       100       |           | VN8JBDAP4C4 | 1002590  |         | * EARMARKED CONTRIBUTION: SEE BELOW | 4041420151241813630 |\n",
       "| C00510461 |     N     |   Q1   |      P          | 15951129281 |       15       |    IND    |  SCHWARZER, FRANK  | NEW YORK |   NY  | 100145135 | METRO HYDRAULIC JACK CO  |   SALES    |    02162015    |       100       |           | VN8JBDBRDG3 | 1002590  |         | * EARMARKED CONTRIBUTION: SEE BELOW | 4041420151241813632 |\n",
       "+-----------+-----------+--------+-----------------+-------------+----------------+-----------+--------------------+----------+-------+-----------+--------------------------+------------+----------------+-----------------+-----------+-------------+----------+---------+-------------------------------------+---------------------+"
      ]
     },
     "execution_count": 89,
     "metadata": {},
     "output_type": "execute_result"
    }
   ],
   "source": [
    "%%sql\n",
    "/* just run this cell */\n",
    "SELECT *\n",
    "FROM indiv_sample_nyc\n",
    "LIMIT 5;"
   ]
  },
  {
   "cell_type": "markdown",
   "id": "ca62c429",
   "metadata": {},
   "source": [
    "You can write a SQL query to return the id and name of the first five candidates from the Democratic party, as below:"
   ]
  },
  {
   "cell_type": "code",
   "execution_count": 90,
   "id": "e351e3a2",
   "metadata": {},
   "outputs": [
    {
     "data": {
      "text/html": [
       "<span style=\"None\">Running query in &#x27;sqlite:///fec_nyc.db&#x27;</span>"
      ],
      "text/plain": [
       "Running query in 'sqlite:///fec_nyc.db'"
      ]
     },
     "metadata": {},
     "output_type": "display_data"
    },
    {
     "data": {
      "text/html": [
       "<table>\n",
       "    <thead>\n",
       "        <tr>\n",
       "            <th>cand_id</th>\n",
       "            <th>cand_name</th>\n",
       "        </tr>\n",
       "    </thead>\n",
       "    <tbody>\n",
       "        <tr>\n",
       "            <td>H0AL05049</td>\n",
       "            <td>CRAMER, ROBERT E \"BUD\" JR</td>\n",
       "        </tr>\n",
       "        <tr>\n",
       "            <td>H0AL07086</td>\n",
       "            <td>SEWELL, TERRYCINA ANDREA</td>\n",
       "        </tr>\n",
       "        <tr>\n",
       "            <td>H0AL07094</td>\n",
       "            <td>HILLIARD, EARL FREDERICK JR</td>\n",
       "        </tr>\n",
       "        <tr>\n",
       "            <td>H0AR01091</td>\n",
       "            <td>GREGORY, JAMES CHRISTOPHER</td>\n",
       "        </tr>\n",
       "        <tr>\n",
       "            <td>H0AR01109</td>\n",
       "            <td>CAUSEY, CHAD</td>\n",
       "        </tr>\n",
       "    </tbody>\n",
       "</table>\n",
       "<span style='font-style:italic;font-size:11px'><code>ResultSet</code> : to convert to pandas, call <a href='https://jupysql.ploomber.io/en/latest/integrations/pandas.html'><code>.DataFrame()</code></a> or to polars, call <a href='https://jupysql.ploomber.io/en/latest/integrations/polars.html'><code>.PolarsDataFrame()</code></a></span><br>"
      ],
      "text/plain": [
       "+-----------+-----------------------------+\n",
       "|  cand_id  |          cand_name          |\n",
       "+-----------+-----------------------------+\n",
       "| H0AL05049 |  CRAMER, ROBERT E \"BUD\" JR  |\n",
       "| H0AL07086 |   SEWELL, TERRYCINA ANDREA  |\n",
       "| H0AL07094 | HILLIARD, EARL FREDERICK JR |\n",
       "| H0AR01091 |  GREGORY, JAMES CHRISTOPHER |\n",
       "| H0AR01109 |         CAUSEY, CHAD        |\n",
       "+-----------+-----------------------------+"
      ]
     },
     "execution_count": 90,
     "metadata": {},
     "output_type": "execute_result"
    }
   ],
   "source": [
    "%%sql\n",
    "/* just run this cell */\n",
    "SELECT cand_id, cand_name\n",
    "FROM cand\n",
    "WHERE cand_pty_affiliation = 'DEM'\n",
    "LIMIT 5;"
   ]
  },
  {
   "cell_type": "markdown",
   "id": "eeadbf0d",
   "metadata": {},
   "source": [
    "<br/><br/>\n",
    "<hr style=\"border: 1px solid #fdb515;\" />\n",
    "\n",
    "## [Tutorial] Matching Text with `LIKE`"
   ]
  },
  {
   "cell_type": "markdown",
   "id": "33f5accf",
   "metadata": {},
   "source": [
    "First, let's look at 2016 election contributions made by Donald Trump, who was a New York (NY) resident during that year. The following SQL query returns the `cmte_id`, `transaction_amt`, and `name` for every contribution made by any donor with \"DONALD\" and \"TRUMP\" in their name in the `indiv_sample_nyc` table.\n",
    "\n",
    "**Notes:**\n",
    "* We use the `WHERE ... LIKE '...'` to match fields with text patterns. The `%` wildcard represents at least zero characters. Compare this to what you know from regex!\n",
    "* We use `pd.read_sql` syntax here because we will do some EDA on the result `res`."
   ]
  },
  {
   "cell_type": "code",
   "execution_count": 91,
   "id": "5efe3ce0",
   "metadata": {},
   "outputs": [
    {
     "data": {
      "text/html": [
       "<div>\n",
       "<style scoped>\n",
       "    .dataframe tbody tr th:only-of-type {\n",
       "        vertical-align: middle;\n",
       "    }\n",
       "\n",
       "    .dataframe tbody tr th {\n",
       "        vertical-align: top;\n",
       "    }\n",
       "\n",
       "    .dataframe thead th {\n",
       "        text-align: right;\n",
       "    }\n",
       "</style>\n",
       "<table border=\"1\" class=\"dataframe\">\n",
       "  <thead>\n",
       "    <tr style=\"text-align: right;\">\n",
       "      <th></th>\n",
       "      <th>cmte_id</th>\n",
       "      <th>transaction_amt</th>\n",
       "      <th>name</th>\n",
       "    </tr>\n",
       "  </thead>\n",
       "  <tbody>\n",
       "    <tr>\n",
       "      <th>0</th>\n",
       "      <td>C00230482</td>\n",
       "      <td>2600</td>\n",
       "      <td>DONALD, TRUMP</td>\n",
       "    </tr>\n",
       "    <tr>\n",
       "      <th>1</th>\n",
       "      <td>C00230482</td>\n",
       "      <td>2600</td>\n",
       "      <td>DONALD, TRUMP</td>\n",
       "    </tr>\n",
       "    <tr>\n",
       "      <th>2</th>\n",
       "      <td>C00014498</td>\n",
       "      <td>9000</td>\n",
       "      <td>TRUMP, DONALD</td>\n",
       "    </tr>\n",
       "    <tr>\n",
       "      <th>3</th>\n",
       "      <td>C00494229</td>\n",
       "      <td>2000</td>\n",
       "      <td>TRUMP, DONALD MR</td>\n",
       "    </tr>\n",
       "    <tr>\n",
       "      <th>4</th>\n",
       "      <td>C00571869</td>\n",
       "      <td>2700</td>\n",
       "      <td>TRUMP, DONALD J.</td>\n",
       "    </tr>\n",
       "    <tr>\n",
       "      <th>...</th>\n",
       "      <td>...</td>\n",
       "      <td>...</td>\n",
       "      <td>...</td>\n",
       "    </tr>\n",
       "    <tr>\n",
       "      <th>152</th>\n",
       "      <td>C00608489</td>\n",
       "      <td>5</td>\n",
       "      <td>DONALD J TRUMP FOR PRESIDENT INC</td>\n",
       "    </tr>\n",
       "    <tr>\n",
       "      <th>153</th>\n",
       "      <td>C00608489</td>\n",
       "      <td>5</td>\n",
       "      <td>DONALD J TRUMP FOR PRESIDENT INC</td>\n",
       "    </tr>\n",
       "    <tr>\n",
       "      <th>154</th>\n",
       "      <td>C00608489</td>\n",
       "      <td>5</td>\n",
       "      <td>DONALD J TRUMP FOR PRESIDENT INC</td>\n",
       "    </tr>\n",
       "    <tr>\n",
       "      <th>155</th>\n",
       "      <td>C00608489</td>\n",
       "      <td>5</td>\n",
       "      <td>DONALD J TRUMP FOR PRESIDENT INC</td>\n",
       "    </tr>\n",
       "    <tr>\n",
       "      <th>156</th>\n",
       "      <td>C00608489</td>\n",
       "      <td>5</td>\n",
       "      <td>DONALD J TRUMP FOR PRESIDENT INC</td>\n",
       "    </tr>\n",
       "  </tbody>\n",
       "</table>\n",
       "<p>157 rows × 3 columns</p>\n",
       "</div>"
      ],
      "text/plain": [
       "       cmte_id  transaction_amt                              name\n",
       "0    C00230482             2600                     DONALD, TRUMP\n",
       "1    C00230482             2600                     DONALD, TRUMP\n",
       "2    C00014498             9000                     TRUMP, DONALD\n",
       "3    C00494229             2000                  TRUMP, DONALD MR\n",
       "4    C00571869             2700                  TRUMP, DONALD J.\n",
       "..         ...              ...                               ...\n",
       "152  C00608489                5  DONALD J TRUMP FOR PRESIDENT INC\n",
       "153  C00608489                5  DONALD J TRUMP FOR PRESIDENT INC\n",
       "154  C00608489                5  DONALD J TRUMP FOR PRESIDENT INC\n",
       "155  C00608489                5  DONALD J TRUMP FOR PRESIDENT INC\n",
       "156  C00608489                5  DONALD J TRUMP FOR PRESIDENT INC\n",
       "\n",
       "[157 rows x 3 columns]"
      ]
     },
     "execution_count": 91,
     "metadata": {},
     "output_type": "execute_result"
    }
   ],
   "source": [
    "# Run this cell to see an example of LIKE.\n",
    "example_query = \"\"\"\n",
    "SELECT \n",
    "    cmte_id,\n",
    "    transaction_amt,\n",
    "    name\n",
    "FROM indiv_sample_nyc\n",
    "WHERE name LIKE '%TRUMP%' AND name LIKE '%DONALD%';\n",
    "\"\"\"\n",
    "\n",
    "example_res = pd.read_sql(example_query, fec_engine)\n",
    "example_res"
   ]
  },
  {
   "cell_type": "markdown",
   "id": "8df58345",
   "metadata": {},
   "source": [
    "If we look at the list above, it appears that some donations were not by Donald Trump himself, but instead by an entity called \"DONALD J TRUMP FOR PRESIDENT INC\". Fortunately, we see that our query only seems to have picked up one such anomalous name."
   ]
  },
  {
   "cell_type": "code",
   "execution_count": 92,
   "id": "86fe74ad",
   "metadata": {
    "tags": []
   },
   "outputs": [
    {
     "data": {
      "text/plain": [
       "name\n",
       "TRUMP, DONALD J.                    133\n",
       "DONALD J TRUMP FOR PRESIDENT INC     15\n",
       "TRUMP, DONALD                         4\n",
       "DONALD, TRUMP                         2\n",
       "TRUMP, DONALD MR                      1\n",
       "TRUMP, DONALD J MR.                   1\n",
       "TRUMP, DONALD J MR                    1\n",
       "Name: count, dtype: int64"
      ]
     },
     "execution_count": 92,
     "metadata": {},
     "output_type": "execute_result"
    }
   ],
   "source": [
    "# Run this cell to see the value counts for each candidate.\n",
    "example_res['name'].value_counts()"
   ]
  },
  {
   "cell_type": "markdown",
   "id": "40efee1c",
   "metadata": {},
   "source": [
    "<br/><br/>\n",
    "\n",
    "---\n",
    "\n",
    "## Question 4\n",
    "\n",
    "\n",
    "\n",
    "In the cell below, revise the above query so that the 15 anomalous donations made by \"DONALD J TRUMP FOR PRESIDENT INC\" do not appear. Your resulting table should have 142 rows. \n",
    "\n",
    "**Hints:**\n",
    "* Consider using the above query as a starting point, or checking out the SQL query skeleton at the top of this lab. \n",
    "* The `NOT` keyword may also be useful here.\n"
   ]
  },
  {
   "cell_type": "code",
   "execution_count": 107,
   "id": "6cad3cd6-3b9d-4b3c-8a16-bbb02ee68cb2",
   "metadata": {},
   "outputs": [],
   "source": [
    "# run this cell to make sure we're using the FEC dataset\n",
    "%sql fec_engine "
   ]
  },
  {
   "cell_type": "code",
   "execution_count": 108,
   "id": "ab64b3a2",
   "metadata": {
    "deletable": false,
    "editable": false
   },
   "outputs": [
    {
     "data": {
      "text/html": [
       "<table>\n",
       "    <thead>\n",
       "        <tr>\n",
       "            <th>cmte_id</th>\n",
       "            <th>transaction_amt</th>\n",
       "            <th>name</th>\n",
       "        </tr>\n",
       "    </thead>\n",
       "    <tbody>\n",
       "        <tr>\n",
       "            <td>C00230482</td>\n",
       "            <td>2600</td>\n",
       "            <td>DONALD, TRUMP</td>\n",
       "        </tr>\n",
       "        <tr>\n",
       "            <td>C00230482</td>\n",
       "            <td>2600</td>\n",
       "            <td>DONALD, TRUMP</td>\n",
       "        </tr>\n",
       "        <tr>\n",
       "            <td>C00014498</td>\n",
       "            <td>9000</td>\n",
       "            <td>TRUMP, DONALD</td>\n",
       "        </tr>\n",
       "        <tr>\n",
       "            <td>C00494229</td>\n",
       "            <td>2000</td>\n",
       "            <td>TRUMP, DONALD MR</td>\n",
       "        </tr>\n",
       "        <tr>\n",
       "            <td>C00571869</td>\n",
       "            <td>2700</td>\n",
       "            <td>TRUMP, DONALD J.</td>\n",
       "        </tr>\n",
       "        <tr>\n",
       "            <td>C00571869</td>\n",
       "            <td>2700</td>\n",
       "            <td>TRUMP, DONALD J.</td>\n",
       "        </tr>\n",
       "        <tr>\n",
       "            <td>C00136457</td>\n",
       "            <td>5000</td>\n",
       "            <td>TRUMP, DONALD</td>\n",
       "        </tr>\n",
       "        <tr>\n",
       "            <td>C00034033</td>\n",
       "            <td>5000</td>\n",
       "            <td>TRUMP, DONALD</td>\n",
       "        </tr>\n",
       "        <tr>\n",
       "            <td>C00580100</td>\n",
       "            <td>4049</td>\n",
       "            <td>TRUMP, DONALD J.</td>\n",
       "        </tr>\n",
       "        <tr>\n",
       "            <td>C00554949</td>\n",
       "            <td>2600</td>\n",
       "            <td>TRUMP, DONALD J MR.</td>\n",
       "        </tr>\n",
       "    </tbody>\n",
       "</table>\n",
       "<span style='font-style:italic;font-size:11px'><code>ResultSet</code> : to convert to pandas, call <a href='https://jupysql.ploomber.io/en/latest/integrations/pandas.html'><code>.DataFrame()</code></a> or to polars, call <a href='https://jupysql.ploomber.io/en/latest/integrations/polars.html'><code>.PolarsDataFrame()</code></a></span><br>"
      ],
      "text/plain": [
       "+-----------+-----------------+---------------------+\n",
       "|  cmte_id  | transaction_amt |         name        |\n",
       "+-----------+-----------------+---------------------+\n",
       "| C00230482 |       2600      |    DONALD, TRUMP    |\n",
       "| C00230482 |       2600      |    DONALD, TRUMP    |\n",
       "| C00014498 |       9000      |    TRUMP, DONALD    |\n",
       "| C00494229 |       2000      |   TRUMP, DONALD MR  |\n",
       "| C00571869 |       2700      |   TRUMP, DONALD J.  |\n",
       "| C00571869 |       2700      |   TRUMP, DONALD J.  |\n",
       "| C00136457 |       5000      |    TRUMP, DONALD    |\n",
       "| C00034033 |       5000      |    TRUMP, DONALD    |\n",
       "| C00580100 |       4049      |   TRUMP, DONALD J.  |\n",
       "| C00554949 |       2600      | TRUMP, DONALD J MR. |\n",
       "+-----------+-----------------+---------------------+"
      ]
     },
     "execution_count": 108,
     "metadata": {},
     "output_type": "execute_result"
    }
   ],
   "source": [
    "# Run this cell before running the autograder; no further action is needed\n",
    "query_4 = %sqlcmd snippets query_4\n",
    "save_results(\"result_4\", query_4, result_4)\n",
    "result_4"
   ]
  },
  {
   "cell_type": "code",
   "execution_count": 109,
   "id": "1789d87c-3182-4a9f-888f-6c750e1c4355",
   "metadata": {
    "tags": []
   },
   "outputs": [
    {
     "data": {
      "text/html": [
       "<span style=\"None\">Running query in &#x27;sqlite:///fec_nyc.db&#x27;</span>"
      ],
      "text/plain": [
       "Running query in 'sqlite:///fec_nyc.db'"
      ]
     },
     "metadata": {},
     "output_type": "display_data"
    }
   ],
   "source": [
    "%%sql --save query_4 result_4 <<\n",
    "SELECT cmte_id, transaction_amt, name\n",
    "FROM indiv_sample_nyc\n",
    "WHERE name LIKE '%TRUMP%'\n",
    "  AND name LIKE '%DONALD%'\n",
    "  AND name NOT LIKE '%INC%';"
   ]
  },
  {
   "cell_type": "code",
   "execution_count": 110,
   "id": "d2cfec96-3a96-4754-bc56-daafebe9e12e",
   "metadata": {
    "deletable": false,
    "editable": false
   },
   "outputs": [
    {
     "data": {
      "text/plain": [
       "142"
      ]
     },
     "execution_count": 110,
     "metadata": {},
     "output_type": "execute_result"
    }
   ],
   "source": [
    "# Print the number of rows in your query\n",
    "# Double check that this equals 142 \n",
    "result_4.DataFrame().shape[0]"
   ]
  },
  {
   "cell_type": "code",
   "execution_count": 111,
   "id": "7644eea0",
   "metadata": {
    "deletable": false,
    "editable": false
   },
   "outputs": [
    {
     "data": {
      "text/html": [
       "<p><strong><pre style='display: inline;'>q4</pre></strong> passed! 🚀</p>"
      ],
      "text/plain": [
       "q4 results: All test cases passed!"
      ]
     },
     "execution_count": 111,
     "metadata": {},
     "output_type": "execute_result"
    }
   ],
   "source": [
    "grader.check(\"q4\")"
   ]
  },
  {
   "cell_type": "markdown",
   "id": "4daeebb9",
   "metadata": {},
   "source": [
    "<br/><br/>\n",
    "\n",
    "---\n",
    "\n",
    "## Question 5: `JOIN`ing Tables\n",
    "\n",
    "Let's explore the other two tables in our database: `cand` and `comm`.\n",
    "\n",
    "The `cand` table contains summary financial information about each candidate registered with the FEC or appearing on an official state ballot for House, Senate or President."
   ]
  },
  {
   "cell_type": "code",
   "execution_count": 112,
   "id": "0f61a18b",
   "metadata": {},
   "outputs": [
    {
     "data": {
      "text/html": [
       "<span style=\"None\">Running query in &#x27;sqlite:///fec_nyc.db&#x27;</span>"
      ],
      "text/plain": [
       "Running query in 'sqlite:///fec_nyc.db'"
      ]
     },
     "metadata": {},
     "output_type": "display_data"
    },
    {
     "data": {
      "text/html": [
       "<table>\n",
       "    <thead>\n",
       "        <tr>\n",
       "            <th>cand_id</th>\n",
       "            <th>cand_name</th>\n",
       "            <th>cand_pty_affiliation</th>\n",
       "            <th>cand_election_yr</th>\n",
       "            <th>cand_office_st</th>\n",
       "            <th>cand_office</th>\n",
       "            <th>cand_office_district</th>\n",
       "            <th>cand_ici</th>\n",
       "            <th>cand_status</th>\n",
       "            <th>cand_pcc</th>\n",
       "            <th>cand_st1</th>\n",
       "            <th>cand_st2</th>\n",
       "            <th>cand_city</th>\n",
       "            <th>cand_st</th>\n",
       "            <th>cand_zip</th>\n",
       "        </tr>\n",
       "    </thead>\n",
       "    <tbody>\n",
       "        <tr>\n",
       "            <td>H0AK00097</td>\n",
       "            <td>COX, JOHN R.</td>\n",
       "            <td>REP</td>\n",
       "            <td>2014</td>\n",
       "            <td>AK</td>\n",
       "            <td>H</td>\n",
       "            <td>0</td>\n",
       "            <td>C</td>\n",
       "            <td>N</td>\n",
       "            <td>C00525261</td>\n",
       "            <td>P.O. BOX 1092 </td>\n",
       "            <td></td>\n",
       "            <td>ANCHOR POINT</td>\n",
       "            <td>AK</td>\n",
       "            <td>99556</td>\n",
       "        </tr>\n",
       "        <tr>\n",
       "            <td>H0AL02087</td>\n",
       "            <td>ROBY, MARTHA</td>\n",
       "            <td>REP</td>\n",
       "            <td>2016</td>\n",
       "            <td>AL</td>\n",
       "            <td>H</td>\n",
       "            <td>2</td>\n",
       "            <td>I</td>\n",
       "            <td>C</td>\n",
       "            <td>C00462143</td>\n",
       "            <td>PO BOX 195</td>\n",
       "            <td></td>\n",
       "            <td>MONTGOMERY</td>\n",
       "            <td>AL</td>\n",
       "            <td>36101</td>\n",
       "        </tr>\n",
       "        <tr>\n",
       "            <td>H0AL02095</td>\n",
       "            <td>JOHN, ROBERT E JR</td>\n",
       "            <td>IND</td>\n",
       "            <td>2016</td>\n",
       "            <td>AL</td>\n",
       "            <td>H</td>\n",
       "            <td>2</td>\n",
       "            <td>C</td>\n",
       "            <td>N</td>\n",
       "            <td></td>\n",
       "            <td>1465 W OVERBROOK RD</td>\n",
       "            <td></td>\n",
       "            <td>MILLBROOK</td>\n",
       "            <td>AL</td>\n",
       "            <td>36054</td>\n",
       "        </tr>\n",
       "        <tr>\n",
       "            <td>H0AL05049</td>\n",
       "            <td>CRAMER, ROBERT E \"BUD\" JR</td>\n",
       "            <td>DEM</td>\n",
       "            <td>2008</td>\n",
       "            <td>AL</td>\n",
       "            <td>H</td>\n",
       "            <td>5</td>\n",
       "            <td></td>\n",
       "            <td>P</td>\n",
       "            <td>C00239038</td>\n",
       "            <td>PO BOX 2621</td>\n",
       "            <td></td>\n",
       "            <td>HUNTSVILLE</td>\n",
       "            <td>AL</td>\n",
       "            <td>35804</td>\n",
       "        </tr>\n",
       "        <tr>\n",
       "            <td>H0AL05163</td>\n",
       "            <td>BROOKS, MO</td>\n",
       "            <td>REP</td>\n",
       "            <td>2016</td>\n",
       "            <td>AL</td>\n",
       "            <td>H</td>\n",
       "            <td>5</td>\n",
       "            <td>I</td>\n",
       "            <td>C</td>\n",
       "            <td>C00464149</td>\n",
       "            <td>7610 FOXFIRE DRIVE</td>\n",
       "            <td></td>\n",
       "            <td>HUNTSVILLE</td>\n",
       "            <td>AL</td>\n",
       "            <td>35802</td>\n",
       "        </tr>\n",
       "    </tbody>\n",
       "</table>\n",
       "<span style='font-style:italic;font-size:11px'><code>ResultSet</code> : to convert to pandas, call <a href='https://jupysql.ploomber.io/en/latest/integrations/pandas.html'><code>.DataFrame()</code></a> or to polars, call <a href='https://jupysql.ploomber.io/en/latest/integrations/polars.html'><code>.PolarsDataFrame()</code></a></span><br>"
      ],
      "text/plain": [
       "+-----------+---------------------------+----------------------+------------------+----------------+-------------+----------------------+----------+-------------+-----------+---------------------+----------+--------------+---------+----------+\n",
       "|  cand_id  |         cand_name         | cand_pty_affiliation | cand_election_yr | cand_office_st | cand_office | cand_office_district | cand_ici | cand_status |  cand_pcc |       cand_st1      | cand_st2 |  cand_city   | cand_st | cand_zip |\n",
       "+-----------+---------------------------+----------------------+------------------+----------------+-------------+----------------------+----------+-------------+-----------+---------------------+----------+--------------+---------+----------+\n",
       "| H0AK00097 |        COX, JOHN R.       |         REP          |       2014       |       AK       |      H      |          0           |    C     |      N      | C00525261 |    P.O. BOX 1092    |          | ANCHOR POINT |    AK   |  99556   |\n",
       "| H0AL02087 |        ROBY, MARTHA       |         REP          |       2016       |       AL       |      H      |          2           |    I     |      C      | C00462143 |      PO BOX 195     |          |  MONTGOMERY  |    AL   |  36101   |\n",
       "| H0AL02095 |     JOHN, ROBERT E JR     |         IND          |       2016       |       AL       |      H      |          2           |    C     |      N      |           | 1465 W OVERBROOK RD |          |  MILLBROOK   |    AL   |  36054   |\n",
       "| H0AL05049 | CRAMER, ROBERT E \"BUD\" JR |         DEM          |       2008       |       AL       |      H      |          5           |          |      P      | C00239038 |     PO BOX 2621     |          |  HUNTSVILLE  |    AL   |  35804   |\n",
       "| H0AL05163 |         BROOKS, MO        |         REP          |       2016       |       AL       |      H      |          5           |    I     |      C      | C00464149 |  7610 FOXFIRE DRIVE |          |  HUNTSVILLE  |    AL   |  35802   |\n",
       "+-----------+---------------------------+----------------------+------------------+----------------+-------------+----------------------+----------+-------------+-----------+---------------------+----------+--------------+---------+----------+"
      ]
     },
     "execution_count": 112,
     "metadata": {},
     "output_type": "execute_result"
    }
   ],
   "source": [
    "%%sql\n",
    "/* just run this cell */\n",
    "SELECT *\n",
    "FROM cand\n",
    "LIMIT 5;"
   ]
  },
  {
   "cell_type": "markdown",
   "id": "ea38844b",
   "metadata": {},
   "source": [
    "The `comm` table contains summary financial information about each committee registered with the FEC. Committees are organizations that spend money for political action or parties, or spend money for or against political candidates."
   ]
  },
  {
   "cell_type": "code",
   "execution_count": 113,
   "id": "d8906810",
   "metadata": {},
   "outputs": [
    {
     "data": {
      "text/html": [
       "<span style=\"None\">Running query in &#x27;sqlite:///fec_nyc.db&#x27;</span>"
      ],
      "text/plain": [
       "Running query in 'sqlite:///fec_nyc.db'"
      ]
     },
     "metadata": {},
     "output_type": "display_data"
    },
    {
     "data": {
      "text/html": [
       "<table>\n",
       "    <thead>\n",
       "        <tr>\n",
       "            <th>cmte_id</th>\n",
       "            <th>cmte_nm</th>\n",
       "            <th>tres_nm</th>\n",
       "            <th>cmte_st1</th>\n",
       "            <th>cmte_st2</th>\n",
       "            <th>cmte_city</th>\n",
       "            <th>cmte_st</th>\n",
       "            <th>cmte_zip</th>\n",
       "            <th>cmte_dsgn</th>\n",
       "            <th>cmte_tp</th>\n",
       "            <th>cmte_pty_affiliation</th>\n",
       "            <th>cmte_filing_freq</th>\n",
       "            <th>org_tp</th>\n",
       "            <th>connected_org_nm</th>\n",
       "            <th>cand_id</th>\n",
       "        </tr>\n",
       "    </thead>\n",
       "    <tbody>\n",
       "        <tr>\n",
       "            <td>C00000059</td>\n",
       "            <td>HALLMARK CARDS PAC</td>\n",
       "            <td>ERIN BROWER</td>\n",
       "            <td>2501 MCGEE</td>\n",
       "            <td>MD#288</td>\n",
       "            <td>KANSAS CITY</td>\n",
       "            <td>MO</td>\n",
       "            <td>64108</td>\n",
       "            <td>U</td>\n",
       "            <td>Q</td>\n",
       "            <td>UNK</td>\n",
       "            <td>M</td>\n",
       "            <td>C</td>\n",
       "            <td></td>\n",
       "            <td></td>\n",
       "        </tr>\n",
       "        <tr>\n",
       "            <td>C00000422</td>\n",
       "            <td>AMERICAN MEDICAL ASSOCIATION POLITICAL ACTION COMMITTEE</td>\n",
       "            <td>WALKER, KEVIN</td>\n",
       "            <td>25 MASSACHUSETTS AVE, NW</td>\n",
       "            <td>SUITE 600</td>\n",
       "            <td>WASHINGTON</td>\n",
       "            <td>DC</td>\n",
       "            <td>20001</td>\n",
       "            <td>B</td>\n",
       "            <td>Q</td>\n",
       "            <td></td>\n",
       "            <td>M</td>\n",
       "            <td>M</td>\n",
       "            <td>AMERICAN MEDICAL ASSOCIATION</td>\n",
       "            <td></td>\n",
       "        </tr>\n",
       "        <tr>\n",
       "            <td>C00000489</td>\n",
       "            <td>D R I V E POLITICAL FUND CHAPTER 886</td>\n",
       "            <td>TOM RITTER</td>\n",
       "            <td>3528 W RENO</td>\n",
       "            <td></td>\n",
       "            <td>OKLAHOMA CITY</td>\n",
       "            <td>OK</td>\n",
       "            <td>73107</td>\n",
       "            <td>U</td>\n",
       "            <td>N</td>\n",
       "            <td></td>\n",
       "            <td>Q</td>\n",
       "            <td>L</td>\n",
       "            <td>TEAMSTERS LOCAL UNION 886</td>\n",
       "            <td></td>\n",
       "        </tr>\n",
       "        <tr>\n",
       "            <td>C00000547</td>\n",
       "            <td>KANSAS MEDICAL SOCIETY POLITICAL ACTION COMMITTEE</td>\n",
       "            <td>C. RICHARD BONEBRAKE, M.D.</td>\n",
       "            <td>623 SW 10TH AVE</td>\n",
       "            <td></td>\n",
       "            <td>TOPEKA</td>\n",
       "            <td>KS</td>\n",
       "            <td>66612</td>\n",
       "            <td>U</td>\n",
       "            <td>Q</td>\n",
       "            <td>UNK</td>\n",
       "            <td>Q</td>\n",
       "            <td>T</td>\n",
       "            <td></td>\n",
       "            <td></td>\n",
       "        </tr>\n",
       "        <tr>\n",
       "            <td>C00000638</td>\n",
       "            <td>INDIANA STATE MEDICAL ASSOCIATION POLITICAL ACTION COMMITTEE</td>\n",
       "            <td>VIDYA KORA, M.D.</td>\n",
       "            <td>322 CANAL WALK, CANAL LEVEL</td>\n",
       "            <td></td>\n",
       "            <td>INDIANAPOLIS</td>\n",
       "            <td>IN</td>\n",
       "            <td>46202</td>\n",
       "            <td>U</td>\n",
       "            <td>Q</td>\n",
       "            <td></td>\n",
       "            <td>Q</td>\n",
       "            <td>M</td>\n",
       "            <td></td>\n",
       "            <td></td>\n",
       "        </tr>\n",
       "    </tbody>\n",
       "</table>\n",
       "<span style='font-style:italic;font-size:11px'><code>ResultSet</code> : to convert to pandas, call <a href='https://jupysql.ploomber.io/en/latest/integrations/pandas.html'><code>.DataFrame()</code></a> or to polars, call <a href='https://jupysql.ploomber.io/en/latest/integrations/polars.html'><code>.PolarsDataFrame()</code></a></span><br>"
      ],
      "text/plain": [
       "+-----------+--------------------------------------------------------------+----------------------------+-----------------------------+-----------+---------------+---------+----------+-----------+---------+----------------------+------------------+--------+------------------------------+---------+\n",
       "|  cmte_id  |                           cmte_nm                            |          tres_nm           |           cmte_st1          |  cmte_st2 |   cmte_city   | cmte_st | cmte_zip | cmte_dsgn | cmte_tp | cmte_pty_affiliation | cmte_filing_freq | org_tp |       connected_org_nm       | cand_id |\n",
       "+-----------+--------------------------------------------------------------+----------------------------+-----------------------------+-----------+---------------+---------+----------+-----------+---------+----------------------+------------------+--------+------------------------------+---------+\n",
       "| C00000059 |                      HALLMARK CARDS PAC                      |        ERIN BROWER         |          2501 MCGEE         |   MD#288  |  KANSAS CITY  |    MO   |  64108   |     U     |    Q    |         UNK          |        M         |   C    |                              |         |\n",
       "| C00000422 |   AMERICAN MEDICAL ASSOCIATION POLITICAL ACTION COMMITTEE    |       WALKER, KEVIN        |   25 MASSACHUSETTS AVE, NW  | SUITE 600 |   WASHINGTON  |    DC   |  20001   |     B     |    Q    |                      |        M         |   M    | AMERICAN MEDICAL ASSOCIATION |         |\n",
       "| C00000489 |             D R I V E POLITICAL FUND CHAPTER 886             |         TOM RITTER         |         3528 W RENO         |           | OKLAHOMA CITY |    OK   |  73107   |     U     |    N    |                      |        Q         |   L    |  TEAMSTERS LOCAL UNION 886   |         |\n",
       "| C00000547 |      KANSAS MEDICAL SOCIETY POLITICAL ACTION COMMITTEE       | C. RICHARD BONEBRAKE, M.D. |       623 SW 10TH AVE       |           |     TOPEKA    |    KS   |  66612   |     U     |    Q    |         UNK          |        Q         |   T    |                              |         |\n",
       "| C00000638 | INDIANA STATE MEDICAL ASSOCIATION POLITICAL ACTION COMMITTEE |      VIDYA KORA, M.D.      | 322 CANAL WALK, CANAL LEVEL |           |  INDIANAPOLIS |    IN   |  46202   |     U     |    Q    |                      |        Q         |   M    |                              |         |\n",
       "+-----------+--------------------------------------------------------------+----------------------------+-----------------------------+-----------+---------------+---------+----------+-----------+---------+----------------------+------------------+--------+------------------------------+---------+"
      ]
     },
     "execution_count": 113,
     "metadata": {},
     "output_type": "execute_result"
    }
   ],
   "source": [
    "%%sql\n",
    "/* just run this cell */\n",
    "SELECT *\n",
    "FROM comm\n",
    "LIMIT 5;"
   ]
  },
  {
   "cell_type": "markdown",
   "id": "ce21e7ce",
   "metadata": {
    "tags": []
   },
   "source": [
    "<br><br>\n",
    "\n",
    "---\n",
    "\n",
    "### Question 5a\n",
    "\n",
    "Notice that both the `cand` and `comm` tables have a `cand_id` column. Let's try joining these two tables on this column to print out committee information for candidates.\n",
    "\n",
    "List the first 5 candidate names (`cand_name`) in reverse lexicographic order (i.e reverse alphabetical order) by `cand_name`, along with their corresponding committee names. **Only select rows that have a matching `cand_id` in both tables.**\n",
    "\n",
    "Your output should look similar to the following:\n",
    "\n",
    "|cand_name|cmte_nm|\n",
    "|----|----|\n",
    "|ZUTLER, DANIEL PAUL MR|CITIZENS TO ELECT DANIEL P ZUTLER FOR PRESIDENT|\n",
    "|ZUMWALT, JAMES|ZUMWALT FOR CONGRESS|\n",
    "|...|...|\n",
    "\n",
    "Consider starting from the following query skeleton, which uses the `AS` keyword to rename the `cand` and `comm` tables to `c1` and `c2`, respectively.\n",
    "Which join is most appropriate?\n",
    "\n",
    "    SELECT ...\n",
    "    FROM cand AS c1\n",
    "        [INNER | {LEFT |RIGHT | FULL } {OUTER}] JOIN comm AS c2\n",
    "        ON ...\n",
    "    ...\n",
    "    ...;\n"
   ]
  },
  {
   "cell_type": "code",
   "execution_count": 118,
   "id": "714849cc-dd93-423a-b6b0-ff7a0aa5547e",
   "metadata": {},
   "outputs": [],
   "source": [
    "# run this cell to make sure we're using the FEC dataset\n",
    "%sql fec_engine "
   ]
  },
  {
   "cell_type": "code",
   "execution_count": 122,
   "id": "4ad09cb9-3aec-4012-945a-b3a3747d0106",
   "metadata": {
    "tags": []
   },
   "outputs": [
    {
     "data": {
      "text/html": [
       "<span style=\"None\">Running query in &#x27;sqlite:///fec_nyc.db&#x27;</span>"
      ],
      "text/plain": [
       "Running query in 'sqlite:///fec_nyc.db'"
      ]
     },
     "metadata": {},
     "output_type": "display_data"
    }
   ],
   "source": [
    "%%sql --save query_5a result_5a <<\n",
    "SELECT cand_name, cmte_nm\n",
    "FROM cand AS c1\n",
    "JOIN comm AS c2\n",
    "ON c1.cand_id = c2.cand_id\n",
    "ORDER BY cand_name DESC\n",
    "LIMIT 5;"
   ]
  },
  {
   "cell_type": "code",
   "execution_count": 123,
   "id": "d53a973d",
   "metadata": {
    "deletable": false,
    "editable": false
   },
   "outputs": [
    {
     "data": {
      "text/html": [
       "<table>\n",
       "    <thead>\n",
       "        <tr>\n",
       "            <th>cand_name</th>\n",
       "            <th>cmte_nm</th>\n",
       "        </tr>\n",
       "    </thead>\n",
       "    <tbody>\n",
       "        <tr>\n",
       "            <td>ZUTLER, DANIEL PAUL MR</td>\n",
       "            <td>CITIZENS TO ELECT DANIEL P ZUTLER FOR PRESIDENT</td>\n",
       "        </tr>\n",
       "        <tr>\n",
       "            <td>ZUMWALT, JAMES</td>\n",
       "            <td>ZUMWALT FOR CONGRESS</td>\n",
       "        </tr>\n",
       "        <tr>\n",
       "            <td>ZUKOWSKI, ANDREW GEORGE</td>\n",
       "            <td>ZUKOWSKI FOR CONGRESS</td>\n",
       "        </tr>\n",
       "        <tr>\n",
       "            <td>ZUCCOLO, JOE</td>\n",
       "            <td>JOE ZUCCOLO FOR CONGRESS</td>\n",
       "        </tr>\n",
       "        <tr>\n",
       "            <td>ZORN, ROBERT ERWIN</td>\n",
       "            <td>CONSTITUTIONAL COMMITTEE</td>\n",
       "        </tr>\n",
       "    </tbody>\n",
       "</table>\n",
       "<span style='font-style:italic;font-size:11px'><code>ResultSet</code> : to convert to pandas, call <a href='https://jupysql.ploomber.io/en/latest/integrations/pandas.html'><code>.DataFrame()</code></a> or to polars, call <a href='https://jupysql.ploomber.io/en/latest/integrations/polars.html'><code>.PolarsDataFrame()</code></a></span><br>"
      ],
      "text/plain": [
       "+-------------------------+-------------------------------------------------+\n",
       "|        cand_name        |                     cmte_nm                     |\n",
       "+-------------------------+-------------------------------------------------+\n",
       "|  ZUTLER, DANIEL PAUL MR | CITIZENS TO ELECT DANIEL P ZUTLER FOR PRESIDENT |\n",
       "|      ZUMWALT, JAMES     |               ZUMWALT FOR CONGRESS              |\n",
       "| ZUKOWSKI, ANDREW GEORGE |              ZUKOWSKI FOR CONGRESS              |\n",
       "|       ZUCCOLO, JOE      |             JOE ZUCCOLO FOR CONGRESS            |\n",
       "|    ZORN, ROBERT ERWIN   |             CONSTITUTIONAL COMMITTEE            |\n",
       "+-------------------------+-------------------------------------------------+"
      ]
     },
     "execution_count": 123,
     "metadata": {},
     "output_type": "execute_result"
    }
   ],
   "source": [
    "# Run this cell before running the autograder; no further action is needed\n",
    "query_5a = %sqlcmd snippets query_5a\n",
    "save_results(\"result_5a\", query_5a, result_5a)\n",
    "result_5a"
   ]
  },
  {
   "cell_type": "code",
   "execution_count": 124,
   "id": "01030c59",
   "metadata": {
    "deletable": false,
    "editable": false
   },
   "outputs": [
    {
     "data": {
      "text/html": [
       "<p><strong><pre style='display: inline;'>q5a</pre></strong> passed! 🌈</p>"
      ],
      "text/plain": [
       "q5a results: All test cases passed!"
      ]
     },
     "execution_count": 124,
     "metadata": {},
     "output_type": "execute_result"
    }
   ],
   "source": [
    "grader.check(\"q5a\")"
   ]
  },
  {
   "cell_type": "markdown",
   "id": "37333332",
   "metadata": {
    "tags": []
   },
   "source": [
    "<br/><br/>\n",
    "\n",
    "---\n",
    "\n",
    "### Question 5b\n",
    "\n",
    "Suppose we modify the query from the previous part to include *all* candidates, **including those that don't have a committee.**\n",
    "\n",
    "\n",
    "List the first 5 candidate names (`cand_name`) in reverse lexicographic order by `cand_name`, along with their corresponding committee names. If the candidate has no committee in the `comm` table, then `cmte_nm` should be NULL (or `None` in the `python` representation).\n",
    "\n",
    "Your output should look similar to the following:\n",
    "\n",
    "|cand_name|cmte_nm|\n",
    "|----|----|\n",
    "|ZUTLER, DANIEL PAUL MR|CITIZENS TO ELECT DANIEL P ZUTLER FOR PRESIDENT|\n",
    "|...|...|\n",
    "|ZORNOW, TODD MR|None|\n",
    "\n",
    "**Hint**: Start from the same query skeleton as the previous part. \n",
    "Which join is most appropriate?"
   ]
  },
  {
   "cell_type": "code",
   "execution_count": 125,
   "id": "674db5bb-f632-42ac-aae7-f2948a2fc402",
   "metadata": {},
   "outputs": [],
   "source": [
    "# run this cell to make sure we're using the FEC dataset\n",
    "%sql fec_engine "
   ]
  },
  {
   "cell_type": "code",
   "execution_count": 127,
   "id": "aac01aca",
   "metadata": {
    "tags": []
   },
   "outputs": [
    {
     "data": {
      "text/html": [
       "<span style=\"None\">Running query in &#x27;sqlite:///fec_nyc.db&#x27;</span>"
      ],
      "text/plain": [
       "Running query in 'sqlite:///fec_nyc.db'"
      ]
     },
     "metadata": {},
     "output_type": "display_data"
    }
   ],
   "source": [
    "%%sql --save query_5b result_5b <<\n",
    "SELECT cand_name, cmte_nm\n",
    "FROM cand AS c1\n",
    "LEFT JOIN comm AS c2\n",
    "ON c1.cand_id = c2.cand_id\n",
    "ORDER BY cand_name DESC\n",
    "LIMIT 5;"
   ]
  },
  {
   "cell_type": "code",
   "execution_count": 128,
   "id": "404ccd53",
   "metadata": {
    "deletable": false,
    "editable": false
   },
   "outputs": [
    {
     "data": {
      "text/html": [
       "<table>\n",
       "    <thead>\n",
       "        <tr>\n",
       "            <th>cand_name</th>\n",
       "            <th>cmte_nm</th>\n",
       "        </tr>\n",
       "    </thead>\n",
       "    <tbody>\n",
       "        <tr>\n",
       "            <td>ZUTLER, DANIEL PAUL MR</td>\n",
       "            <td>CITIZENS TO ELECT DANIEL P ZUTLER FOR PRESIDENT</td>\n",
       "        </tr>\n",
       "        <tr>\n",
       "            <td>ZUMWALT, JAMES</td>\n",
       "            <td>ZUMWALT FOR CONGRESS</td>\n",
       "        </tr>\n",
       "        <tr>\n",
       "            <td>ZUKOWSKI, ANDREW GEORGE</td>\n",
       "            <td>ZUKOWSKI FOR CONGRESS</td>\n",
       "        </tr>\n",
       "        <tr>\n",
       "            <td>ZUCCOLO, JOE</td>\n",
       "            <td>JOE ZUCCOLO FOR CONGRESS</td>\n",
       "        </tr>\n",
       "        <tr>\n",
       "            <td>ZORNOW, TODD MR</td>\n",
       "            <td>None</td>\n",
       "        </tr>\n",
       "    </tbody>\n",
       "</table>\n",
       "<span style='font-style:italic;font-size:11px'><code>ResultSet</code> : to convert to pandas, call <a href='https://jupysql.ploomber.io/en/latest/integrations/pandas.html'><code>.DataFrame()</code></a> or to polars, call <a href='https://jupysql.ploomber.io/en/latest/integrations/polars.html'><code>.PolarsDataFrame()</code></a></span><br>"
      ],
      "text/plain": [
       "+-------------------------+-------------------------------------------------+\n",
       "|        cand_name        |                     cmte_nm                     |\n",
       "+-------------------------+-------------------------------------------------+\n",
       "|  ZUTLER, DANIEL PAUL MR | CITIZENS TO ELECT DANIEL P ZUTLER FOR PRESIDENT |\n",
       "|      ZUMWALT, JAMES     |               ZUMWALT FOR CONGRESS              |\n",
       "| ZUKOWSKI, ANDREW GEORGE |              ZUKOWSKI FOR CONGRESS              |\n",
       "|       ZUCCOLO, JOE      |             JOE ZUCCOLO FOR CONGRESS            |\n",
       "|     ZORNOW, TODD MR     |                       None                      |\n",
       "+-------------------------+-------------------------------------------------+"
      ]
     },
     "execution_count": 128,
     "metadata": {},
     "output_type": "execute_result"
    }
   ],
   "source": [
    "# Run this cell before running the autograder; no further action is needed\n",
    "query_5b = %sqlcmd snippets query_5b\n",
    "save_results(\"result_5b\", query_5b, result_5b)\n",
    "result_5b"
   ]
  },
  {
   "cell_type": "code",
   "execution_count": 129,
   "id": "e1db7244",
   "metadata": {
    "deletable": false,
    "editable": false
   },
   "outputs": [
    {
     "data": {
      "text/html": [
       "<p><strong><pre style='display: inline;'>q5b</pre></strong> passed! 🍀</p>"
      ],
      "text/plain": [
       "q5b results: All test cases passed!"
      ]
     },
     "execution_count": 129,
     "metadata": {},
     "output_type": "execute_result"
    }
   ],
   "source": [
    "grader.check(\"q5b\")"
   ]
  },
  {
   "cell_type": "markdown",
   "id": "42407eaf",
   "metadata": {},
   "source": [
    "<br/><br/>\n",
    "\n",
    "---\n",
    "\n",
    "## Question 6: Subqueries and Grouping\n",
    "\n",
    "If we return to our results from Question 4, we see that many of the contributions were to the same committee:"
   ]
  },
  {
   "cell_type": "code",
   "execution_count": 130,
   "id": "98dced2b",
   "metadata": {},
   "outputs": [
    {
     "data": {
      "text/plain": [
       "cmte_id\n",
       "C00580100    131\n",
       "C00230482      2\n",
       "C00571869      2\n",
       "C00014498      1\n",
       "C00494229      1\n",
       "C00136457      1\n",
       "C00034033      1\n",
       "C00554949      1\n",
       "C00369033      1\n",
       "C00055582      1\n",
       "Name: count, dtype: int64"
      ]
     },
     "execution_count": 130,
     "metadata": {},
     "output_type": "execute_result"
    }
   ],
   "source": [
    "# Your SQL query result from Question 4\n",
    "# Reprinted for your convenience\n",
    "result_4.DataFrame()['cmte_id'].value_counts()"
   ]
  },
  {
   "cell_type": "markdown",
   "id": "def42719",
   "metadata": {},
   "source": [
    "<br><br>\n",
    "\n",
    "For this question, create a new SQL query that returns the total amount that Donald Trump contributed to each committee.\n",
    "\n",
    "Your table should have four columns: `cmte_id`, `total_amount` (total amount contributed to that committee), `num_donations` (total number of donations), and `cmte_nm` (name of the committee). Your table should be sorted in **decreasing order** of `total_amount`.\n",
    "\n",
    "Your output should look similar to the following:\n",
    "\n",
    "|cmte_id|total_amount|num_donations|cmte_nm|\n",
    "|----|----|----|----|\n",
    "|C00580100|18633157|131|DONALD J. TRUMP FOR PRESIDENT, INC.|\n",
    "|C00055582|10000|1|NY REPUBLICAN FEDERAL CAMPAIGN COMMITTEE\n",
    "|...|...|...|\n",
    "\n",
    "**This is a hard question!** Don't be afraid to reference the lecture slides, or the overall SQL query skeleton at the top of this lab.\n",
    "\n",
    "**Hint**:\n",
    "\n",
    "* Note that committee names are not available in `indiv_sample_nyc`, so you will have to obtain information somehow from the `comm` table (perhaps a `JOIN` would be useful).\n",
    "* Remember that you can compute summary statistics after grouping by using aggregates like `COUNT(*)`, `SUM()` as output fields.\n",
    "* A **subquery** may be useful to break your question down into subparts. Consider the following query skeleton, which uses the `WITH` operator to store a subquery's results in a temporary table named `donations`.\n",
    "\n",
    "        WITH donations AS (\n",
    "            SELECT ...\n",
    "            FROM ...\n",
    "            ... JOIN ...\n",
    "                ON ...\n",
    "            WHERE ...\n",
    "        )\n",
    "        SELECT ...\n",
    "        FROM donations\n",
    "        GROUP BY ...\n",
    "        ORDER BY ...;"
   ]
  },
  {
   "cell_type": "code",
   "execution_count": 137,
   "id": "65e29bce-9c47-476b-be22-9a9d5358aa8b",
   "metadata": {},
   "outputs": [],
   "source": [
    "# run this cell to make sure we're using the FEC dataset\n",
    "%sql fec_engine "
   ]
  },
  {
   "cell_type": "code",
   "execution_count": 155,
   "id": "8e8c7594",
   "metadata": {
    "tags": []
   },
   "outputs": [
    {
     "data": {
      "text/html": [
       "<span style=\"None\">Running query in &#x27;sqlite:///fec_nyc.db&#x27;</span>"
      ],
      "text/plain": [
       "Running query in 'sqlite:///fec_nyc.db'"
      ]
     },
     "metadata": {},
     "output_type": "display_data"
    }
   ],
   "source": [
    "%%sql --save query_6 result_6 <<\n",
    "WITH donations AS (\n",
    "      SELECT comm.cmte_id, cmte_nm, transaction_amt\n",
    "      FROM indiv_sample_nyc\n",
    "      JOIN comm\n",
    "      ON indiv_sample_nyc.cmte_id = comm.cmte_id\n",
    "      WHERE name LIKE '%TRUMP%'\n",
    "          AND name LIKE '%DONALD%'\n",
    "          AND name NOT LIKE '%INC%')\n",
    "  \n",
    "  SELECT cmte_id, SUM(transaction_amt) AS total_amount, COUNT(*) AS num_donations, cmte_nm\n",
    "  FROM donations\n",
    "  GROUP BY cmte_id\n",
    "  ORDER BY total_amount DESC;"
   ]
  },
  {
   "cell_type": "code",
   "execution_count": 156,
   "id": "20babf35",
   "metadata": {
    "deletable": false,
    "editable": false
   },
   "outputs": [
    {
     "data": {
      "text/html": [
       "<table>\n",
       "    <thead>\n",
       "        <tr>\n",
       "            <th>cmte_id</th>\n",
       "            <th>total_amount</th>\n",
       "            <th>num_donations</th>\n",
       "            <th>cmte_nm</th>\n",
       "        </tr>\n",
       "    </thead>\n",
       "    <tbody>\n",
       "        <tr>\n",
       "            <td>C00580100</td>\n",
       "            <td>18633157</td>\n",
       "            <td>131</td>\n",
       "            <td>DONALD J. TRUMP FOR PRESIDENT, INC.</td>\n",
       "        </tr>\n",
       "        <tr>\n",
       "            <td>C00055582</td>\n",
       "            <td>10000</td>\n",
       "            <td>1</td>\n",
       "            <td>NY REPUBLICAN FEDERAL CAMPAIGN COMMITTEE</td>\n",
       "        </tr>\n",
       "        <tr>\n",
       "            <td>C00014498</td>\n",
       "            <td>9000</td>\n",
       "            <td>1</td>\n",
       "            <td>REPUBLICAN PARTY OF IOWA</td>\n",
       "        </tr>\n",
       "        <tr>\n",
       "            <td>C00571869</td>\n",
       "            <td>5400</td>\n",
       "            <td>2</td>\n",
       "            <td>DONOVAN FOR CONGRESS</td>\n",
       "        </tr>\n",
       "        <tr>\n",
       "            <td>C00230482</td>\n",
       "            <td>5200</td>\n",
       "            <td>2</td>\n",
       "            <td>GRASSLEY COMMITTEE INC</td>\n",
       "        </tr>\n",
       "        <tr>\n",
       "            <td>C00136457</td>\n",
       "            <td>5000</td>\n",
       "            <td>1</td>\n",
       "            <td>NEW HAMPSHIRE REPUBLICAN STATE COMMITTEE</td>\n",
       "        </tr>\n",
       "        <tr>\n",
       "            <td>C00034033</td>\n",
       "            <td>5000</td>\n",
       "            <td>1</td>\n",
       "            <td>SOUTH CAROLINA REPUBLICAN PARTY</td>\n",
       "        </tr>\n",
       "        <tr>\n",
       "            <td>C00554949</td>\n",
       "            <td>2600</td>\n",
       "            <td>1</td>\n",
       "            <td>FRIENDS OF DAVE BRAT INC.</td>\n",
       "        </tr>\n",
       "        <tr>\n",
       "            <td>C00494229</td>\n",
       "            <td>2000</td>\n",
       "            <td>1</td>\n",
       "            <td>HELLER FOR SENATE</td>\n",
       "        </tr>\n",
       "        <tr>\n",
       "            <td>C00369033</td>\n",
       "            <td>1000</td>\n",
       "            <td>1</td>\n",
       "            <td>TEXANS FOR SENATOR JOHN CORNYN INC</td>\n",
       "        </tr>\n",
       "    </tbody>\n",
       "</table>\n",
       "<span style='font-style:italic;font-size:11px'><code>ResultSet</code> : to convert to pandas, call <a href='https://jupysql.ploomber.io/en/latest/integrations/pandas.html'><code>.DataFrame()</code></a> or to polars, call <a href='https://jupysql.ploomber.io/en/latest/integrations/polars.html'><code>.PolarsDataFrame()</code></a></span><br>"
      ],
      "text/plain": [
       "+-----------+--------------+---------------+------------------------------------------+\n",
       "|  cmte_id  | total_amount | num_donations |                 cmte_nm                  |\n",
       "+-----------+--------------+---------------+------------------------------------------+\n",
       "| C00580100 |   18633157   |      131      |   DONALD J. TRUMP FOR PRESIDENT, INC.    |\n",
       "| C00055582 |    10000     |       1       | NY REPUBLICAN FEDERAL CAMPAIGN COMMITTEE |\n",
       "| C00014498 |     9000     |       1       |         REPUBLICAN PARTY OF IOWA         |\n",
       "| C00571869 |     5400     |       2       |           DONOVAN FOR CONGRESS           |\n",
       "| C00230482 |     5200     |       2       |          GRASSLEY COMMITTEE INC          |\n",
       "| C00136457 |     5000     |       1       | NEW HAMPSHIRE REPUBLICAN STATE COMMITTEE |\n",
       "| C00034033 |     5000     |       1       |     SOUTH CAROLINA REPUBLICAN PARTY      |\n",
       "| C00554949 |     2600     |       1       |        FRIENDS OF DAVE BRAT INC.         |\n",
       "| C00494229 |     2000     |       1       |            HELLER FOR SENATE             |\n",
       "| C00369033 |     1000     |       1       |    TEXANS FOR SENATOR JOHN CORNYN INC    |\n",
       "+-----------+--------------+---------------+------------------------------------------+"
      ]
     },
     "execution_count": 156,
     "metadata": {},
     "output_type": "execute_result"
    }
   ],
   "source": [
    "# Run this cell before running the autograder; no further action is needed\n",
    "query_6 = %sqlcmd snippets query_6\n",
    "save_results(\"result_6\", query_6, result_6)\n",
    "result_6"
   ]
  },
  {
   "cell_type": "code",
   "execution_count": 157,
   "id": "6aff95e7",
   "metadata": {
    "deletable": false,
    "editable": false
   },
   "outputs": [
    {
     "data": {
      "text/html": [
       "<p><strong><pre style='display: inline;'>q6</pre></strong> passed! 🌟</p>"
      ],
      "text/plain": [
       "q6 results: All test cases passed!"
      ]
     },
     "execution_count": 157,
     "metadata": {},
     "output_type": "execute_result"
    }
   ],
   "source": [
    "grader.check(\"q6\")"
   ]
  },
  {
   "cell_type": "markdown",
   "id": "384de3b5",
   "metadata": {},
   "source": [
    "<br/><br/>\n",
    "<hr style=\"border: 5px solid #003262;\" />\n",
    "<hr style=\"border: 1px solid #fdb515;\" />\n",
    "\n",
    "## Appa (left) and Momo (right) congratulate you for finishing Lab 10!\n",
    "\n",
    "![](appa_momo.jpg) "
   ]
  },
  {
   "cell_type": "markdown",
   "id": "ed4e0443",
   "metadata": {
    "deletable": false,
    "editable": false
   },
   "source": [
    "## Submission\n",
    "\n",
    "Make sure you have run all cells in your notebook in order before running the cell below, so that all images/graphs appear in the output. The cell below will generate a zip file for you to submit. **Please save before exporting!**"
   ]
  },
  {
   "cell_type": "code",
   "execution_count": null,
   "id": "89510955",
   "metadata": {
    "deletable": false,
    "editable": false
   },
   "outputs": [],
   "source": [
    "# Save your notebook first, then run this cell to export your submission.\n",
    "grader.export(pdf=False, run_tests=True, files=['results'])"
   ]
  },
  {
   "cell_type": "markdown",
   "id": "e7781c7a",
   "metadata": {},
   "source": [
    " "
   ]
  }
 ],
 "metadata": {
  "kernelspec": {
   "display_name": "Python 3 (ipykernel)",
   "language": "python",
   "name": "python3"
  },
  "language_info": {
   "codemirror_mode": {
    "name": "ipython",
    "version": 3
   },
   "file_extension": ".py",
   "mimetype": "text/x-python",
   "name": "python",
   "nbconvert_exporter": "python",
   "pygments_lexer": "ipython3",
   "version": "3.11.0"
  },
  "otter": {
   "OK_FORMAT": true,
   "tests": {
    "q1": {
     "name": "q1",
     "points": null,
     "suites": [
      {
       "cases": [
        {
         "code": ">>> query_q1, res_q1 = load_results('result_1') \n>>> res_q1\n      titleType\n0         short\n1         movie\n2      tvSeries\n3       tvMovie\n4  tvMiniSeries\n5         video\n6     videoGame\n7     tvEpisode\n8     tvSpecial",
         "hidden": false,
         "locked": false
        },
        {
         "code": ">>> query_q1, res_q1 = load_results('result_1') \n>>> res_q1.shape == (9, 1)\nTrue",
         "hidden": false,
         "locked": false
        },
        {
         "code": ">>> query_q1, res_q1 = load_results('result_1') \n>>> \"group by\" not in query_q1.lower()\nTrue",
         "hidden": false,
         "locked": false
        },
        {
         "code": ">>> query_q1, res_q1 = load_results('result_1') \n>>> sorted(list(res_q1.iloc[:,0])) == ['movie', 'short', 'tvEpisode', 'tvMiniSeries', 'tvMovie', 'tvSeries', 'tvSpecial', 'video', 'videoGame']\nTrue",
         "hidden": false,
         "locked": false
        }
       ],
       "scored": true,
       "setup": "",
       "teardown": "",
       "type": "doctest"
      }
     ]
    },
    "q2": {
     "name": "q2",
     "points": null,
     "suites": [
      {
       "cases": [
        {
         "code": ">>> query_q2, res_q2 = load_results('result_2') \n>>> res_q2.shape == (12, 2)\nTrue",
         "hidden": false,
         "locked": false
        },
        {
         "code": ">>> query_q2, res_q2 = load_results('result_2') \n>>> list(res_q2['total']) == [21665, 13830, 12175, 11028, 6995, 4123, 2747, 1558, 623, 410, 66, 6]\nTrue",
         "hidden": false,
         "locked": false
        },
        {
         "code": ">>> query_q2, res_q2 = load_results('result_2') \n>>> list(res_q2['category']) == ['actor',\n...  'writer',\n...  'actress',\n...  'producer',\n...  'director',\n...  'composer',\n...  'cinematographer',\n...  'editor',\n...  'self',\n...  'production_designer',\n...  'archive_footage',\n...  'archive_sound']\nTrue",
         "hidden": false,
         "locked": false
        }
       ],
       "scored": true,
       "setup": "",
       "teardown": "",
       "type": "doctest"
      }
     ]
    },
    "q3": {
     "name": "q3",
     "points": null,
     "suites": [
      {
       "cases": [
        {
         "code": ">>> query_q3, res_q3 = load_results('result_3') \n>>> res_q3.shape == (10, 3)\nTrue",
         "hidden": false,
         "locked": false
        },
        {
         "code": ">>> query_q3, res_q3 = load_results('result_3') \n>>> set(res_q3.columns) == set(['title', 'numVotes', 'averageRating'])\nTrue",
         "hidden": false,
         "locked": false
        },
        {
         "code": ">>> query_q3, res_q3 = load_results('result_3') \n>>> np.sum(res_q3['numVotes'].astype(int)) == 19870486\nTrue",
         "hidden": false,
         "locked": false
        },
        {
         "code": ">>> query_q3, res_q3 = load_results('result_3') \n>>> list(res_q3['title']) == ['The Shawshank Redemption',\n...  'The Dark Knight',\n...  'Inception',\n...  'Fight Club',\n...  'Pulp Fiction',\n...  'Forrest Gump',\n...  'Game of Thrones',\n...  'The Matrix',\n...  'The Lord of the Rings: The Fellowship of the Ring',\n...  'The Lord of the Rings: The Return of the King']\nTrue",
         "hidden": false,
         "locked": false
        }
       ],
       "scored": true,
       "setup": "",
       "teardown": "",
       "type": "doctest"
      }
     ]
    },
    "q4": {
     "name": "q4",
     "points": null,
     "suites": [
      {
       "cases": [
        {
         "code": ">>> query_q4, res_q4 = load_results('result_4') \n>>> res_q4.shape == (142, 3)\nTrue",
         "hidden": false,
         "locked": false
        },
        {
         "code": ">>> query_q4, res_q4 = load_results('result_4') \n>>> sorted(res_q4['transaction_amt'].unique()) \\\n... == [224, 514, 1000, 1029, 1216, 1713, 2000, 2426, 2460, \\\n...     2529, 2531, 2536, 2544, 2574, 2587, 2600, 2620, 2679, \\\n...     2692, 2693, 2700, 2991, 3063, 3347, 3360, 3371, 3499, \\\n...     3548, 3706, 3954, 4049, 4127, 4164, 4591, 4931, 4958, \\\n...     5000, 5297, 5574, 6197, 6250, 6990, 7401, 7519, 7990, \\\n...     8735, 8896, 9000, 9013, 9106, 9651, 9752, 10000, 10418, \\\n...     11023, 15000, 23775, 2000000, 10000000]\nTrue",
         "hidden": false,
         "locked": false
        }
       ],
       "scored": true,
       "setup": "",
       "teardown": "",
       "type": "doctest"
      }
     ]
    },
    "q5a": {
     "name": "q5a",
     "points": null,
     "suites": [
      {
       "cases": [
        {
         "code": ">>> query_q5a, res_q5a = load_results('result_5a') \n>>> res_q5a.shape == (5, 2)\nTrue",
         "hidden": false,
         "locked": false
        },
        {
         "code": ">>> query_q5a, res_q5a = load_results('result_5a') \n>>> all(res_q5a == res_q5a.sort_values('cand_name', ascending=False))\nTrue",
         "hidden": false,
         "locked": false
        },
        {
         "code": ">>> query_q5a, res_q5a = load_results('result_5a') \n>>> sorted(res_q5a['cmte_nm'].unique()) == [\n...     'CITIZENS TO ELECT DANIEL P ZUTLER FOR PRESIDENT',\n...      'CONSTITUTIONAL COMMITTEE',\n...      'JOE ZUCCOLO FOR CONGRESS',\n...      'ZUKOWSKI FOR CONGRESS',\n...      'ZUMWALT FOR CONGRESS']\nTrue",
         "hidden": false,
         "locked": false
        }
       ],
       "scored": true,
       "setup": "",
       "teardown": "",
       "type": "doctest"
      }
     ]
    },
    "q5b": {
     "name": "q5b",
     "points": null,
     "suites": [
      {
       "cases": [
        {
         "code": ">>> query_q5b, res_q5b = load_results('result_5b') \n>>> res_q5b.shape == (5, 2)\nTrue",
         "hidden": false,
         "locked": false
        },
        {
         "code": ">>> query_q5b, res_q5b = load_results('result_5b') \n>>> all(res_q5b == res_q5b.sort_values('cand_name', ascending=False))\nTrue",
         "hidden": false,
         "locked": false
        },
        {
         "code": ">>> query_q5b, res_q5b = load_results('result_5b') \n>>> set(res_q5b['cand_name']) == set([\n...     'ZUTLER, DANIEL PAUL MR', \n...     'ZUMWALT, JAMES',\n...     'ZUKOWSKI, ANDREW GEORGE',\n...     'ZUCCOLO, JOE',\n...     'ZORNOW, TODD MR']) \nTrue",
         "hidden": false,
         "locked": false
        },
        {
         "code": ">>> query_q5b, res_q5b = load_results('result_5b') \n>>> sorted(map(str, res_q5b['cmte_nm'].unique())) == [\n...     'CITIZENS TO ELECT DANIEL P ZUTLER FOR PRESIDENT',\n...     'JOE ZUCCOLO FOR CONGRESS',\n...     'None',\n...     'ZUKOWSKI FOR CONGRESS',\n...     'ZUMWALT FOR CONGRESS']\nTrue",
         "hidden": false,
         "locked": false
        },
        {
         "code": ">>> query_q5b, res_q5b = load_results('result_5b') \n>>> res_q5b['cmte_nm'][4] == None\nTrue",
         "hidden": false,
         "locked": false
        }
       ],
       "scored": true,
       "setup": "",
       "teardown": "",
       "type": "doctest"
      }
     ]
    },
    "q6": {
     "name": "q6",
     "points": null,
     "suites": [
      {
       "cases": [
        {
         "code": ">>> query_q6, res_q6 = load_results('result_6') \n>>> res_q6.shape == (10, 4)\nTrue",
         "hidden": false,
         "locked": false
        },
        {
         "code": ">>> query_q6, res_q6 = load_results('result_6') \n>>> sorted(res_q6['total_amount']) == [1000, 2000, 2600, 5000, 5000, 5200, 5400, 9000, 10000, 18633157]\nTrue",
         "hidden": false,
         "locked": false
        },
        {
         "code": ">>> query_q6, res_q6 = load_results('result_6') \n>>> sorted(res_q6['num_donations']) == [1, 1, 1, 1, 1, 1, 1, 2, 2, 131]\nTrue",
         "hidden": false,
         "locked": false
        },
        {
         "code": ">>> query_q6, res_q6 = load_results('result_6') \n>>> sorted(res_q6['cmte_nm']) == [\n...     'DONALD J. TRUMP FOR PRESIDENT, INC.',\n...     'DONOVAN FOR CONGRESS',\n...     'FRIENDS OF DAVE BRAT INC.',\n...     'GRASSLEY COMMITTEE INC',\n...     'HELLER FOR SENATE',\n...     'NEW HAMPSHIRE REPUBLICAN STATE COMMITTEE',\n...     'NY REPUBLICAN FEDERAL CAMPAIGN COMMITTEE',\n...     'REPUBLICAN PARTY OF IOWA',\n...     'SOUTH CAROLINA REPUBLICAN PARTY',\n...     'TEXANS FOR SENATOR JOHN CORNYN INC']\nTrue",
         "hidden": false,
         "locked": false
        }
       ],
       "scored": true,
       "setup": "",
       "teardown": "",
       "type": "doctest"
      }
     ]
    }
   }
  }
 },
 "nbformat": 4,
 "nbformat_minor": 5
}
